{
 "cells": [
  {
   "cell_type": "markdown",
   "metadata": {},
   "source": [
    "# Swarm Simulator for Outer Space\n",
    "\n",
    "This swarm simulator will explore different swarm algorithms for an application in outer space. This approach will divide a plot into grid squares, which can then be analysed to determine and control the behaviour of each individual agent in the swarm."
   ]
  },
  {
   "cell_type": "code",
   "execution_count": 1,
   "metadata": {},
   "outputs": [],
   "source": [
    "#imports\n",
    "import sympy as sym\n",
    "import plotly as py\n",
    "import plotly.tools as tls\n",
    "from plotly import graph_objs as go\n",
    "import plotly.express as px\n",
    "from plotly.subplots import make_subplots\n",
    "from IPython.display import Image\n",
    "\n",
    "import dash\n",
    "from dash.dependencies import Output, Input\n",
    "import dash_core_components as dcc\n",
    "import dash_html_components as html\n",
    "\n",
    "import numpy as np\n",
    "import pandas as pd\n",
    "import ipywidgets as widgets\n",
    "import time\n",
    "import math\n",
    "\n",
    "from scipy import special\n",
    "from plotly.offline import download_plotlyjs, init_notebook_mode, plot, iplot\n",
    "from collections import deque\n",
    "from scipy.spatial.distance import cdist, pdist, euclidean\n",
    "from sympy import sin, cos, symbols, lambdify\n",
    "\n",
    "from robot import Robot\n",
    "from dust_devil import DustDevil\n",
    "from live_functions_tracking import initialise,random_position, grid_center,positions,bounce,magnitude,unit,division_check,physics_walk,dust_check,update_timestep,cluster_function,G_transition,dist,random_walk,dust,trajectory_dust,update_dust,load_positions,pre_initialise\n",
    "\n",
    "import random\n",
    "import datetime\n",
    "import os\n",
    "import math\n",
    "import sys\n",
    "\n",
    "import Processing_Functions_Tracking\n",
    "\n",
    "\n",
    "import dash\n",
    "from dash.dependencies import Output, Input\n",
    "import dash_core_components as dcc\n",
    "import dash_html_components as html\n",
    "\n",
    "import json\n",
    "import pickle\n",
    "\n",
    "from ast import literal_eval\n",
    "\n",
    "app = dash.Dash(__name__)"
   ]
  },
  {
   "cell_type": "code",
   "execution_count": 2,
   "metadata": {},
   "outputs": [
    {
     "data": {
      "text/html": [
       "        <script type=\"text/javascript\">\n",
       "        window.PlotlyConfig = {MathJaxConfig: 'local'};\n",
       "        if (window.MathJax) {MathJax.Hub.Config({SVG: {font: \"STIX-Web\"}});}\n",
       "        if (typeof require !== 'undefined') {\n",
       "        require.undef(\"plotly\");\n",
       "        requirejs.config({\n",
       "            paths: {\n",
       "                'plotly': ['https://cdn.plot.ly/plotly-latest.min']\n",
       "            }\n",
       "        });\n",
       "        require(['plotly'], function(Plotly) {\n",
       "            window._Plotly = Plotly;\n",
       "        });\n",
       "        }\n",
       "        </script>\n",
       "        "
      ]
     },
     "metadata": {},
     "output_type": "display_data"
    }
   ],
   "source": [
    "#Plotly offline mode\n",
    "init_notebook_mode(connected=True)"
   ]
  },
  {
   "cell_type": "code",
   "execution_count": 3,
   "metadata": {},
   "outputs": [],
   "source": [
    "def directory_load(path):\n",
    "    store_robots = np.load(path + \"Robots.npy\")\n",
    "    with open(path + \"dust.txt\", \"r\") as f:\n",
    "        store_dust = json.load(f)\n",
    "\n",
    "\n",
    "    constants = pd.read_excel(path + \"Constants.xlsx\", index_col=0)\n",
    "    min_neighbours = np.load(path + 'Minimum Distance to Neighbours.npy')\n",
    "    cluster_average = np.load(path + 'Cluster Average.npy')\n",
    "    total_collision = np.load(path + 'Measurement Events Count.npy')\n",
    "    total_detection = np.load(path + 'Number of Dust Devils Detected.npy')\n",
    "    total_dust = np.load(path + 'Number of Dust Devils Generated.npy')\n",
    "    #setting the start paths for the graphs and the tables\n",
    "    return constants,min_neighbours,cluster_average,total_collision,total_detection,total_dust\n",
    "    "
   ]
  },
  {
   "cell_type": "code",
   "execution_count": 4,
   "metadata": {},
   "outputs": [],
   "source": [
    "def d_array(values,index):\n",
    "    temp_list = []\n",
    "    for value in values:\n",
    "        temp_list.append(value[index])\n",
    "    return np.array(temp_list)"
   ]
  },
  {
   "cell_type": "code",
   "execution_count": 5,
   "metadata": {},
   "outputs": [],
   "source": [
    "#function to calculate area coverage using grid metric\n",
    "def grid_coverage(grid,positions,length):\n",
    "    #creating the grid bins for area coverage\n",
    "    x_bins = np.linspace(grid[0],grid[1],length+1)\n",
    "    y_bins = np.linspace(grid[0],grid[1],length+1)\n",
    "    \n",
    "    x_positions = positions[0]\n",
    "    y_positions = positions[1]\n",
    "    #initialising empty coordinates array for use in the grid metric\n",
    "    coordinates = []\n",
    "    for i in range(len(x_positions)):\n",
    "        #setting current position\n",
    "        x_current = x_positions[i]\n",
    "        y_current = y_positions[i]\n",
    "        if(grid[0]<=x_current<=grid[1] and grid[0]<=y_current<=grid[1]):\n",
    "            #searching for the x anf y coordinates using the numpy search sorted function combined with the previously defined bins\n",
    "            x = np.searchsorted(x_bins, x_current, side ='left')\n",
    "            y = np.searchsorted(y_bins, y_current, side ='left')\n",
    "            coordinates.append((x,y))\n",
    "\n",
    "            print(coordinates)\n",
    "\n",
    "\n",
    "    rm_duplicates = list(set(coordinates)) #set is used to remove duplicates, as sets require distinct elements\n",
    "    area_coverage = len(rm_duplicates) #converting it to a percentage\n",
    "    total = length*length\n",
    "    return area_coverage"
   ]
  },
  {
   "cell_type": "code",
   "execution_count": 6,
   "metadata": {},
   "outputs": [],
   "source": [
    "\n",
    "\n",
    "\n",
    "\n",
    "def final_processing(data,x_title,y_title,code,y_tick,name):\n",
    "    x_fitness = []\n",
    "    y_fitness = []\n",
    "    y_error = []\n",
    "    for item in data:\n",
    "        #print(item)\n",
    "        x_fitness.append(item[0])\n",
    "        y_fitness.append(item[1])\n",
    "        y_error.append(item[2])\n",
    "        figure = Processing_Functions_Tracking.graph_figure_fitness_error(x_fitness,y_fitness,y_error,x_title,y_title,code,y_tick,name)\n",
    "    return figure\n"
   ]
  },
  {
   "cell_type": "code",
   "execution_count": 7,
   "metadata": {},
   "outputs": [],
   "source": [
    "def final_processing_max(data,x_title,y_title,code,y_tick,name,maximum):\n",
    "    x_fitness = []\n",
    "    y_fitness = []\n",
    "    y_error = []\n",
    "    for item in data:\n",
    "        #print(item)\n",
    "        x_fitness.append(item[0])\n",
    "        y_fitness.append(item[1])\n",
    "        y_error.append(item[2])\n",
    "        figure = Processing_Functions_Tracking.graph_figure_fitness_error_max(x_fitness,y_fitness,y_error,x_title,y_title,code,y_tick,name,maximum)\n",
    "    return figure"
   ]
  },
  {
   "cell_type": "code",
   "execution_count": 8,
   "metadata": {},
   "outputs": [],
   "source": [
    "\n",
    "def processing_data(data):\n",
    "    x_fitness = []\n",
    "    y_fitness = []\n",
    "    y_error = []\n",
    "    for item in data:\n",
    "        #print(item)\n",
    "        x_fitness.append(item[0])\n",
    "        y_fitness.append(item[1])\n",
    "        y_error.append(item[2])\n",
    "    return x_fitness,y_fitness,y_error"
   ]
  },
  {
   "cell_type": "code",
   "execution_count": 9,
   "metadata": {},
   "outputs": [
    {
     "data": {
      "text/plain": [
       "'directory_load = \"../Blue Pebble/Files/Full Day Static 10-50/10 Robots/\"\\nnp.load(directory_load + \"Area Coverage Result.npy\")'"
      ]
     },
     "execution_count": 9,
     "metadata": {},
     "output_type": "execute_result"
    }
   ],
   "source": [
    "\"\"\"directory_load = \"../Blue Pebble/Files/Full Day Static 10-50/10 Robots/\"\n",
    "np.load(directory_load + \"Area Coverage Result.npy\")\"\"\""
   ]
  },
  {
   "cell_type": "code",
   "execution_count": null,
   "metadata": {},
   "outputs": [],
   "source": []
  },
  {
   "cell_type": "markdown",
   "metadata": {},
   "source": [
    "import numpy as np\n",
    "import os\n",
    "word = \"Robots\"\n",
    "word_run = \"Run_\"\n",
    "array = [10,20,30,40,50,60,70,80,90,100]\n",
    "runs = range(0,10)#1\n",
    "max_force_array = [25]\n",
    "static = \"Full Day Static 10-50/\"\n",
    "tracking = \"Tracking_Day_Long/\"\n",
    "tracking_no_G = \"Tracking_Day_No_G_Broadcast/\"\n",
    "base = \"../Blue Pebble/Files/\"\n",
    "tracking_increased_decay = \"Tracking_Day_Increased_Decay/\"\n",
    "directory_unique = base + tracking_increased_decay  #\"../Blue Pebble/Files/Full Day Static 10-50/\"\n",
    "\n",
    "bound = 500\n",
    "frequency = 1\n",
    "final = []\n",
    "results_overall = []\n",
    "time = 86400#5000\n",
    "R_array = [220.97977053140096,\n",
    "               168.6150512214342, \n",
    "               121.75360082304526,\n",
    "               122.83730158730158,\n",
    "               119.0753690753691,\n",
    "               117.63988808952837,\n",
    "               119.46217494089835,\n",
    "               81.81289123630673,\n",
    "               80.28360528360528,\n",
    "               81.1255787037037\n",
    "                ]\n",
    "count = 0\n",
    "grid = np.array([-bound,bound])\n",
    "\n",
    "grid_length = 10\n",
    "\n",
    "final_generated = []\n",
    "final_detected = []\n",
    "final_measurement = []\n",
    "\n",
    "for i in (array):\n",
    "    calculating_average = []\n",
    "    optimised_area_results = []\n",
    "    calculating_area_coverage = []\n",
    "    count_generated_dust_array = []\n",
    "    count_detected_dust_array = []\n",
    "    count_measurements_dust_array = []\n",
    "    grid_metric_array = []\n",
    "    grid_metric_run_array = []\n",
    "    outer_path = directory_unique + str(i) + \" \" + word + \"/\"\n",
    "    image = outer_path + \"Images/\"\n",
    "    try:\n",
    "        os.mkdir(image)\n",
    "    except OSError:\n",
    "        print (\"Failure: Directory creation of %s failed\" % image)\n",
    "    else:\n",
    "        print (\"Success: Directory creation of %s succeeded\" % image)\n",
    "\n",
    "    robot_number = i\n",
    "    for j in runs:\n",
    "        path = outer_path + word_run + str(j) + \"/\"\n",
    "        code = word_run + str(j)\n",
    "        store_robots = np.load(path + \"Robots.npy\")\n",
    "\n",
    "        with open(path + \"dust.txt\", \"r\") as f:\n",
    "             store_dust = json.load(f)\n",
    "\n",
    "        constants = pd.read_excel(path + \"Constants.xlsx\", index_col=0)\n",
    "        R =  R_array[count]\n",
    "        \n",
    "        min_neighbours = np.load(path + \"Minimum Distance to Neighbours.npy\")\n",
    "        cluster_average = np.load(path + \"Cluster Average.npy\")\n",
    "        total_collision = np.load(path + \"Measurement Events Count.npy\")\n",
    "        total_detection = np.load(path + \"Number of Dust Devils Detected.npy\")\n",
    "        total_dust = np.load(path + \"Number of Dust Devils Generated.npy\")\n",
    "        types = np.load(path + \"Robot Types.npy\")\n",
    "        grid_metric = np.load(path + \"Run_\"+ str(j) + \" Grid Performance Metric.npy\")\n",
    "        print(path+\"Run_\"+ str(j) + \" Grid Performance Metric.npy\")\n",
    "        print(grid_metric)\n",
    "        \n",
    "        print(types)\n",
    "       \n",
    "        conditional_0 = np.where(types == 0)\n",
    "        conditional_1 = np.where(types == 1)\n",
    "\n",
    "        robot_final = store_robots[:,:,time-1]\n",
    "        x_robot = robot_final[0]\n",
    "        y_robot = robot_final[1]\n",
    "        x_0 = x_robot[conditional_0]\n",
    "        y_0 = y_robot[conditional_0]\n",
    "        x_1 = x_robot[conditional_1]\n",
    "        y_1 = y_robot[conditional_1]\n",
    "\n",
    "        current_grid_metric = grid_coverage(grid,robot_final,grid_length)\n",
    "        print(current_grid_metric)\n",
    "        print(grid_metric)\n",
    "        np.save(path + \"Run_\"+ str(j) + \" Grid Performance Metric.npy\", current_grid_metric)\n",
    "        final = store_robots\n",
    "        #setting the end paths for the graphs and the tables\n",
    "        graph_end_path = image + code + \" - Graph_End.png\"\n",
    "        table_end_path =image + code + \" - Table_End.png\"\n",
    "\n",
    "        #using the processing functions to create plotly graphs and tables for the figures in the last timestep\n",
    "        graph_end = Processing_Functions_Tracking.graph_figure(store_robots,time-1,frequency,code)\n",
    "        graph_end.write_image(image + code + \" - Graph_End.png\")\n",
    "        table_end = Processing_Functions_Tracking.table_figure(store_robots,time-1,frequency,constants,min_neighbours,cluster_average,total_collision,total_detection,total_dust)\n",
    "        table_end.write_image(image + code + \" - Table_End.png\")\n",
    "\n",
    "        #combining the tables and the graphs using pillow\n",
    "        Processing_Functions_Tracking.combine_tracking(graph_end_path,table_end_path)\n",
    "\n",
    "        #using the processing functions to create plotly graphs and tables for the figures in the last timestep\n",
    "        graph_end_types = Processing_Functions_Tracking.graph_types(x_0,y_0,x_1,y_1,bound,10,\"Deployed Swarm Formation \", \" <b>Timestep = \" + str(time) + \" s<br>R = \" + str(round(R,2)) + \"</b> <br> \")\n",
    "        graph_end_types.write_image(image + code + \" - Graph_End_Types.png\")\n",
    "\n",
    "\n",
    "\n",
    "        #using the processing functions to create plotly graphs and tables for the figures in the last timestep\n",
    "        graph_end_area_coverage = Processing_Functions_Tracking.graph_area_coverage(x_0,y_0,x_1,y_1,bound,10, \"Area Coverage Over a Grid for a Deployed Swarm Formation\",\" <b>Timestep = \" + str(time) + \" s<br>R = \" + str(round(R,2)) + \"<br>Area Coverage = \" + str(current_grid_metric) + \"%</b><br> \")\n",
    "        graph_end_area_coverage.write_image(image + code + \" - Graph_End_Area_Coverage.png\")\n",
    "\n",
    "        \n",
    "        x_title_neighbour = \"Time (s)\"\n",
    "        y_title_neighbour = \"Average of the Minimum Neighbour Distance (m)\"\n",
    "        code_neighbour = \"\"#\"for Run \" + str(j) + \" with \" + str(i) + \" Robots\" \n",
    "        code_measurements = code_neighbour\n",
    "        code_cluster = code_neighbour\n",
    "        \n",
    "        x_title_detection = \"Time (s)\"\n",
    "        y_title_detection = \"Number of Dust Devils Detected\"\n",
    "\n",
    "\n",
    "        x_title_measurements = \"Time (s)\"\n",
    "        y_title_measurements = \"Number of Dust Devil Measurements\"\n",
    "   \n",
    "        x_title_cluster = \"Time (s)\"\n",
    "        y_title_cluster = \"Average Number of Clusters in the Swarm\"\n",
    "  \n",
    "\n",
    "\n",
    "        #plotting performance of the average of minimum neighbouring distance metric\n",
    "        performance = Processing_Functions_Tracking.graph_figure_fitness(np.linspace(0,len(min_neighbours),len(min_neighbours),endpoint = False),min_neighbours,x_title_neighbour,y_title_neighbour,code_neighbour,10)\n",
    "        performance.write_image(image + code + \" - Minimum Neighbour Average.png\")\n",
    "\n",
    "        #plotting performance of the dust devil measurement metric\n",
    "        performance_measurement = Processing_Functions_Tracking.graph_figure_fitness(np.linspace(0,len(min_neighbours),len(min_neighbours),endpoint = False),total_collision,x_title_measurements,y_title_measurements,code_measurements,10)\n",
    "        performance_measurement.write_image(image + code + \" - Count of Measurements in Dust Devil.png\")\n",
    "\n",
    "        detection_code = code_measurements + \" and \" + str(total_dust[time*frequency-1]) +\" Dust Devils\"\n",
    "        #plotting performance of the dust devil detection metric\n",
    "        performance_detection = Processing_Functions_Tracking.graph_figure_fitness(np.linspace(0,len(total_detection),len(total_detection),endpoint = False),total_detection,x_title_detection,y_title_detection,detection_code,10)\n",
    "        performance_detection.write_image(image + code + \" - Number of Dust Devils Detected.png\")\n",
    "\n",
    "        #plotting performance of the cluster average of the swarm\n",
    "        #cluster = Processing_Functions_Tracking.graph_figure_fitness(np.linspace(0,len(cluster_average),len(cluster_average)*frequency,endpoint = False),cluster_average,x_title_cluster,y_title_cluster,code_cluster,10)\n",
    "        #cluster.write_image(image + code +  \" - Average Cluster Size.png\")\n",
    "        print(np.load(path + \"Run_\"+ str(j) + \" Grid Performance Metric.npy\"))\n",
    "        count_generated_dust_array.append(total_dust[-1])\n",
    "        print(\"Comparing. Dust Measurement Total 1: \", total_collision[-1])\n",
    "        print(\"Comparing. Dust Measurement Total 2: \", total_collision[time-1])\n",
    "        count_detected_dust_array.append(total_detection[-1])\n",
    "        count_measurements_dust_array.append(total_collision[-1])\n",
    "        grid_metric_array.append(current_grid_metric)\n",
    "        grid_metric_run_array.append([j,current_grid_metric])\n",
    "        \n",
    "        \n",
    "    count = count+1\n",
    "    average_array = np.array(calculating_average)\n",
    "\n",
    "    generated_np = np.array(count_generated_dust_array)\n",
    "    detected_np = np.array(count_detected_dust_array)\n",
    "    measurement_np = np.array(count_measurements_dust_array)\n",
    "    np.save(outer_path+\"Array of Final Number of Generated Dust Devils.npy\", generated_np)\n",
    "    np.save(outer_path + \"Array of Final Number of Detected Dust Devils.npy\", detected_np)\n",
    "    np.save(outer_path + \"Array of Final Count of Dust Devil Measurements\", measurement_np)\n",
    "    np.savetxt(outer_path+\"Array of Final Number of Generated Dust Devils.txt\", generated_np)\n",
    "    np.savetxt(outer_path + \"Array of Final Number of Detected Dust Devils.txt\", detected_np)\n",
    "    np.savetxt(outer_path + \"Array of Final Count of Dust Devil Measurements.txt\", measurement_np)\n",
    "    print(generated_np)\n",
    "    average_generated = np.mean(generated_np)\n",
    "    average_detected = np.mean(detected_np)\n",
    "    average_measurement = np.mean(measurement_np)\n",
    "\n",
    "    std_generated = np.std(generated_np)\n",
    "    std_detected = np.std(detected_np)\n",
    "    std_measurement = np.std(measurement_np)\n",
    "\n",
    "    result_generated = np.array([average_generated, std_generated])\n",
    "    result_detected = np.array([average_detected, std_detected])\n",
    "    result_measurement = np.array([average_measurement, std_measurement])\n",
    "\n",
    "    np.savetxt(outer_path + str(robot_number) + ' Robots - Number of Dust Devils Generated.txt', result_generated)\n",
    "    np.savetxt(outer_path + str(robot_number) + ' Robots - Number of Dust Devils Detected.txt', result_detected)\n",
    "    np.savetxt(outer_path + str(robot_number) + ' Robots - Count of Measurements Taken Within Dust Devils.txt', result_measurement)\n",
    "    file_generated = open(directory_unique + 'Number of Dust Devils Generated vs Number of Robots.txt', 'a')\n",
    "    file_detected = open(directory_unique + 'Dust Detection Metric vs Number of Robots.txt', 'a')\n",
    "    file_measurement = open(directory_unique + 'Dust Measurement Metric vs Number of Robots.txt', 'a')\n",
    "    \n",
    "    \n",
    "    file_generated.write(str([robot_number,result_generated]))\n",
    "    file_detected.write(str([robot_number,result_detected]))\n",
    "    file_measurement.write(str([robot_number,result_measurement]))\n",
    "        \n",
    "    final_generated.append([robot_number,average_generated,std_generated])    \n",
    "    final_detected.append([robot_number,average_detected,std_detected])\n",
    "    final_measurement.append([robot_number,average_measurement,std_measurement])\n",
    "    file_generated.close()\n",
    "    file_detected.close()\n",
    "    file_measurement.close()\n",
    "\n",
    "    #Grid Coverage Results\n",
    "    np.save(outer_path+\"Area Coverage Result.npy\",np.array(grid_metric_run_array))\n",
    "    average_array = np.array(grid_metric_array)\n",
    "    average_area_coverage = np.mean(np.array(calculating_area_coverage))\n",
    "    std_area = np.std(np.array(calculating_area_coverage))\n",
    "    area_results = np.array([average_area_coverage,std_area])\n",
    "\n",
    "    np.savetxt(outer_path + str(robot_number) + ' Robots % Coverage Average Result.txt', area_results)\n",
    "\n",
    "np.save(directory_unique + 'Number of Dust Devils Generated vs Number of Robots', final_generated)\n",
    "data_detection = final_detected\n",
    "np.save(directory_unique + 'Dust Detection Metric vs Number of Robots', final_detected)\n",
    "data_metric = final_measurement\n",
    "np.save(directory_unique +  'Dust Measurement Metric vs Number of Robots', final_measurement)\n",
    "\n",
    "x_title_detection = \"Number of Robots\"\n",
    "y_title_detection = \"Number of Dust Devils Detected\"\n",
    "\n",
    "x_title_measurement = \"Number of Robots\"\n",
    "y_title_measurement = \"Number of Dust Devil Measurements\"\n",
    "\n",
    "code = \"\"\n",
    "\"\"\"detected_figure = final_processing(final_detected,x_title_detection,y_title_detection,code,10,)\n",
    "detected_figure.write_image(directory_unique + 'Graph - Dust Detection Metric vs Number of Robots.png')\n",
    "generated_figure = final_processing(final_measurement,x_title_measurement,y_title_measurement,code,2000)\n",
    "generated_figure.write_image(directory_unique + 'Graph - Dust Measurement Metric Detection Metric vs Number of Robots.png')\n",
    "\"\"\"\n"
   ]
  },
  {
   "cell_type": "markdown",
   "metadata": {},
   "source": [
    "detected_figure = final_processing(final_detected,x_title_detection,y_title_detection,code,10,\"Tracking Algorithm with Increased Decay Time\")\n",
    "detected_figure.write_image(directory_unique + 'Graph - Dust Detection Metric vs Number of Robots.png')\n",
    "generated_figure = final_processing(final_measurement,x_title_measurement,y_title_measurement,code,2000,\"Tracking Algorithm with Increased Decay Time\")\n",
    "generated_figure.write_image(directory_unique + 'Graph - Dust Measurement Metric Detection Metric vs Number of Robots.png')\n"
   ]
  },
  {
   "cell_type": "markdown",
   "metadata": {},
   "source": [
    "#generating dust devil ground truth count graph\n",
    "static = \"Full Day Static 10-50/\"\n",
    "tracking = \"Tracking_Day_Long/\"\n",
    "tracking_no_G = \"Tracking_Day_No_G_Broadcast/\"\n",
    "base = \"../Blue Pebble/Files/\"\n",
    "\n",
    "tracking_increased_decay = \"Tracking_Day_Increased_Decay/\"\n",
    "path =  base+tracking_increased_decay\n",
    "\n",
    "\n",
    "x_title_generated = \"Number of Robots\" \n",
    "y_title_generated = \"Ground Truth Count of Dust Devils\"\n",
    "\n",
    "code = \"\"\n",
    "final_generated = np.load(path + 'Number of Dust Devils Generated vs Number of Robots.npy')\n",
    "\n",
    "\n",
    "generated_figure = final_processing(final_generated,x_title_generated,y_title_generated,code,10,\"Static Deployment\")\n",
    "generated_figure.write_image(path + 'Graph - Ground Truth Dust Devil Count vs Number of Robots.png')\n",
    "\n",
    "x,y,y_error = processing_data(final_generated)\n",
    "y_average = np.mean(np.array(y))\n",
    "propogated_uncertainty = np.mean(np.array(y_error))\n",
    "\n",
    "calculation_result = [y_average,propogated_uncertainty]\n",
    "np.savetxt(path+ \"Average Number of Dust Devils Generated with the Propogated Uncertainty.txt\",calculation_result)\n",
    "\n"
   ]
  },
  {
   "cell_type": "markdown",
   "metadata": {},
   "source": [
    "from uncertainties import unumpy\n",
    "\n",
    "robot_array = [10,20,30,40,50,60,70,80,90,100]\n",
    "\n",
    "##### paths to 3 different datasets\n",
    "static = \"Full Day Static 10-50/\"\n",
    "tracking = \"Tracking_Day_Long/\"\n",
    "tracking_no_G = \"Tracking_Day_No_G_Broadcast/\"\n",
    "base = \"../Blue Pebble/Files/\"\n",
    "tracking_increased_decay = \"Tracking_Day_Increased_Decay/\"\n",
    "\n",
    "#dust detection figure\n",
    "code = \"\"\n",
    "x_title_detection = \"Number of Robots\" \n",
    "y_title_detection = \"Number of Dust Devils Detected\"\n",
    "\n",
    "\n",
    "x_title_measurement = \"Number of Robots\" \n",
    "y_title_measurement = \"Number of Dust Devil Measurements\"\n",
    "static_name= \"Static Method\"\n",
    "#first making static figure\n",
    "chosen_path = tracking_increased_decay\n",
    "current_path = base+chosen_path\n",
    "final_detected = np.load(current_path + 'Dust Detection Metric vs Number of Robots.npy')\n",
    "\n",
    "final_measurement = np.load(current_path + 'Dust Measurement Metric vs Number of Robots.npy')\n",
    "\n",
    "\n",
    "detected_figure = final_processing(final_detected,x_title_detection,y_title_detection,code,10,static_name)\n",
    "measured_figure = final_processing(final_measurement,x_title_measurement,y_title_measurement,code,2000,static_name)\n",
    "measured_figure.show()\n",
    "\n",
    "\n",
    "#generated figure\n",
    "x_title_generated = \"Number of Robots\" \n",
    "y_title_generated = \"Ground Truth Count of Dust Devils\"\n",
    "\n",
    "code = \"\"\n",
    "final_generated = np.load(current_path + 'Number of Dust Devils Generated vs Number of Robots.npy')\n",
    "\n",
    "\n",
    "generated_figure = final_processing(final_generated,x_title_generated,y_title_generated,code,10,\"Static Deployment\")\n",
    "generated_figure.write_image(current_path + 'Graph - Ground Truth Dust Devil Count vs Number of Robots.png')\n",
    "\n",
    "x_generated,y_generated,y_error_generated = processing_data(final_generated)\n",
    "\n",
    "y_average = np.mean(np.array(y_generated))\n",
    "propogated_uncertainty = np.mean(np.array(y_error_generated))\n",
    "\n",
    "calculation_result = [y_average,propogated_uncertainty]\n",
    "np.savetxt(current_path+ \"Average Number of Dust Devils Generated with the Propogated Uncertainty.txt\",calculation_result)\n",
    "\n",
    "\n",
    "#Working out percentage array and figure\n",
    "\n",
    "\n",
    "#defining detected array\n",
    "x_detected,y_detected,y_error_detected = processing_data(final_detected)\n",
    "print(\"Final Detected: \",y_detected)\n",
    "print(\"Final generated: \", y_generated)\n",
    "print(\"Final Detected Error:\", y_error_detected)\n",
    "print(\"Final Generated Error: \", y_error_generated)\n",
    "divided_resultant = np.array(y_detected)/np.array(y_generated)\n",
    "\n",
    "#detected array with uncertainty\n",
    "detected_uncertainty = unumpy.uarray(y_detected, y_error_detected)\n",
    "\n",
    "print(\"Detected array with uncertainty: \", detected_uncertainty)\n",
    "\n",
    "#generated array with uncertainty\n",
    "generated_uncertainty = unumpy.uarray(y_generated, y_error_generated)\n",
    "print(\"Generated array with uncertainty: \", generated_uncertainty)\n",
    "\n",
    "percentage_uncertainty = detected_uncertainty/generated_uncertainty\n",
    "print(\"Percentage of dust devils detected: \", percentage_uncertainty)\n",
    "\n",
    "percentage_values = unumpy.nominal_values(percentage_uncertainty)*100\n",
    "print(\"Values of Result: \",percentage_values)\n",
    "print(type(percentage_values))\n",
    "\n",
    "percentage_errors = unumpy.std_devs(percentage_uncertainty)*100\n",
    "print(\"Uncertainties of Result: \",percentage_errors)\n",
    "print(type(percentage_errors))\n",
    "\n",
    "code_percentage = \"\"\n",
    "x_title_percentage = \"Number of Robots\" \n",
    "y_title_percentage = \"Percentage of Dust Devils Detected\"\n",
    "y_tick_percentage = 10\n",
    "name_percentage = chosen_path\n",
    "figure_percentage = Processing_Functions_Tracking.graph_figure_fitness_error(robot_array,percentage_values,percentage_errors,x_title_percentage,y_title_percentage,code_percentage,y_tick_percentage,name_percentage)\n",
    "print(current_path + y_title_percentage + \" vs \" + x_title_percentage + \".png\")\n",
    "figure_percentage.write_image(current_path + \"Graph - \" + y_title_percentage + \" vs \" + x_title_percentage + \".png\")\n",
    "\n",
    "figure_percentage.show()\n",
    "#Working out normalised dust devil measurements\n",
    "print(\"Final Measurement: \", final_measurement)\n",
    "x_measurement,y_measurement,y_error_measurement = processing_data(final_measurement)\n",
    "print(\"Y Measurement: \",y_measurement)                                                                                                                                                                                                                                                                                                                                                                                                                                                                                                                                                                                                                                   \n",
    "print(\"Y Measurement Error: \",y_error_measurement)\n",
    "#measuremnt array with uncertainty\n",
    "measurement_uncertainty = unumpy.uarray(y_measurement, y_error_measurement)\n",
    "print(\"Measured Uncertainty Array: \",measurement_uncertainty)\n",
    "print(\"Percentage Uncertainty Array: \", percentage_uncertainty)\n",
    "normalised_measurement = measurement_uncertainty*percentage_uncertainty\n",
    "print(\"Normalised Measurement Array: \",normalised_measurement)\n",
    "\n",
    "nmeasurement_values = unumpy.nominal_values(normalised_measurement)\n",
    "print(\"Values of Nmeasurements: \",nmeasurement_values)\n",
    "print(type(nmeasurement_values))\n",
    "\n",
    "nmeasurement_errors = unumpy.std_devs(normalised_measurement)\n",
    "print(\"Uncertainties of NMeasurements: \",nmeasurement_errors)\n",
    "print(type(percentage_errors))\n",
    "\n",
    "\n",
    "code_nmeasurement = \"\"\n",
    "x_title_nmeasurement = \"Number of Robots\" \n",
    "y_title_nmeasurement = \"Normalised Measurement Count\"\n",
    "y_tick_nmeasurement = 1000\n",
    "name_nmeasurement = chosen_path\n",
    "\n",
    "figure_nmeasurement = Processing_Functions_Tracking.graph_figure_fitness_error(robot_array,nmeasurement_values,nmeasurement_errors,x_title_nmeasurement,y_title_nmeasurement,code_nmeasurement,y_tick_nmeasurement,name_nmeasurement)\n",
    "figure_nmeasurement.show()\n",
    "\n",
    "\n",
    "figure_nmeasurement_report = Processing_Functions_Tracking.graph_figure_fitness_error(robot_array,nmeasurement_values,nmeasurement_errors,x_title_nmeasurement,y_title_nmeasurement,code_nmeasurement,2000,name_nmeasurement)\n",
    "figure_nmeasurement_report.show()\n",
    "figure_nmeasurement_report.write_image(current_path + \"Graph - \" + y_title_nmeasurement + \" vs \" + x_title_nmeasurement + \".png\")\n",
    "\n",
    "#saving arrays\n",
    "np.save(current_path + y_title_percentage + \" vs \" + x_title_percentage + \".npy\",percentage_uncertainty)\n",
    "np.save(current_path + y_title_nmeasurement + \" vs \" + x_title_nmeasurement + \".npy\",measurement_uncertainty)\n"
   ]
  },
  {
   "cell_type": "code",
   "execution_count": 10,
   "metadata": {},
   "outputs": [
    {
     "data": {
      "application/vnd.plotly.v1+json": {
       "config": {
        "plotlyServerURL": "https://plot.ly"
       },
       "data": [
        {
         "error_y": {
          "array": [
           496.54616099613537,
           652.0182206043017,
           684.8270146540657,
           1632.5126308852866,
           1158.0141147671732,
           2363.0239715246225,
           2134.9806579920114,
           2441.348528989665,
           2207.432818909785,
           4237.744623027678
          ],
          "type": "data",
          "visible": true
         },
         "marker": {
          "color": "blue",
          "line": {
           "color": "Blue",
           "width": 2
          },
          "size": 8,
          "symbol": "x-thin"
         },
         "mode": "markers",
         "showlegend": false,
         "type": "scatter",
         "x": [
          10,
          20,
          30,
          40,
          50,
          60,
          70,
          80,
          90,
          100
         ],
         "y": [
          2688.9,
          5641.2,
          9426.6,
          11158.9,
          13470.9,
          15222.1,
          17752.7,
          22063.6,
          25656.5,
          26765.9
         ]
        },
        {
         "fill": "tonexty",
         "fillcolor": "rgba(0,0,255,0.4)",
         "line": {
          "width": 0
         },
         "marker": {
          "color": "#444"
         },
         "mode": "lines",
         "name": "Upper Bound",
         "opacity": 0.5,
         "showlegend": false,
         "type": "scatter",
         "x": [
          10,
          20,
          30,
          40,
          50,
          60,
          70,
          80,
          90,
          100
         ],
         "y": [
          3185.4461609961354,
          6293.218220604302,
          10111.427014654066,
          12791.412630885286,
          14628.914114767173,
          17585.123971524623,
          19887.680657992012,
          24504.948528989662,
          27863.932818909787,
          31003.644623027678
         ]
        },
        {
         "fill": "tonexty",
         "fillcolor": "rgba(0,0,255,0.3)",
         "line": {
          "width": 0
         },
         "marker": {
          "color": "#444"
         },
         "mode": "lines",
         "name": "Lower Bound",
         "opacity": 0.5,
         "showlegend": false,
         "type": "scatter",
         "x": [
          10,
          20,
          30,
          40,
          50,
          60,
          70,
          80,
          90,
          100
         ],
         "y": [
          2192.353839003865,
          4989.181779395698,
          8741.772985345935,
          9526.387369114713,
          12312.885885232827,
          12859.076028475378,
          15617.71934200799,
          19622.251471010335,
          23449.067181090213,
          22528.155376972325
         ]
        },
        {
         "error_y": {
          "array": [
           496.54616099613537,
           652.0182206043017,
           684.8270146540657,
           1632.5126308852866,
           1158.0141147671732,
           2363.0239715246225,
           2134.9806579920114,
           2441.348528989665,
           2207.432818909785,
           4237.744623027678
          ],
          "type": "data",
          "visible": true
         },
         "marker": {
          "color": "blue",
          "line": {
           "color": "Blue",
           "width": 2
          },
          "size": 8,
          "symbol": "x-thin"
         },
         "mode": "markers",
         "name": "Static Method",
         "showlegend": true,
         "type": "scatter",
         "x": [
          10,
          20,
          30,
          40,
          50,
          60,
          70,
          80,
          90,
          100
         ],
         "y": [
          2688.9,
          5641.2,
          9426.6,
          11158.9,
          13470.9,
          15222.1,
          17752.7,
          22063.6,
          25656.5,
          26765.9
         ]
        }
       ],
       "layout": {
        "margin": {
         "l": 10,
         "r": 10,
         "t": 50
        },
        "plot_bgcolor": "rgba(0,0,0,0)",
        "template": {
         "data": {
          "bar": [
           {
            "error_x": {
             "color": "#2a3f5f"
            },
            "error_y": {
             "color": "#2a3f5f"
            },
            "marker": {
             "line": {
              "color": "#E5ECF6",
              "width": 0.5
             }
            },
            "type": "bar"
           }
          ],
          "barpolar": [
           {
            "marker": {
             "line": {
              "color": "#E5ECF6",
              "width": 0.5
             }
            },
            "type": "barpolar"
           }
          ],
          "carpet": [
           {
            "aaxis": {
             "endlinecolor": "#2a3f5f",
             "gridcolor": "white",
             "linecolor": "white",
             "minorgridcolor": "white",
             "startlinecolor": "#2a3f5f"
            },
            "baxis": {
             "endlinecolor": "#2a3f5f",
             "gridcolor": "white",
             "linecolor": "white",
             "minorgridcolor": "white",
             "startlinecolor": "#2a3f5f"
            },
            "type": "carpet"
           }
          ],
          "choropleth": [
           {
            "colorbar": {
             "outlinewidth": 0,
             "ticks": ""
            },
            "type": "choropleth"
           }
          ],
          "contour": [
           {
            "colorbar": {
             "outlinewidth": 0,
             "ticks": ""
            },
            "colorscale": [
             [
              0,
              "#0d0887"
             ],
             [
              0.1111111111111111,
              "#46039f"
             ],
             [
              0.2222222222222222,
              "#7201a8"
             ],
             [
              0.3333333333333333,
              "#9c179e"
             ],
             [
              0.4444444444444444,
              "#bd3786"
             ],
             [
              0.5555555555555556,
              "#d8576b"
             ],
             [
              0.6666666666666666,
              "#ed7953"
             ],
             [
              0.7777777777777778,
              "#fb9f3a"
             ],
             [
              0.8888888888888888,
              "#fdca26"
             ],
             [
              1,
              "#f0f921"
             ]
            ],
            "type": "contour"
           }
          ],
          "contourcarpet": [
           {
            "colorbar": {
             "outlinewidth": 0,
             "ticks": ""
            },
            "type": "contourcarpet"
           }
          ],
          "heatmap": [
           {
            "colorbar": {
             "outlinewidth": 0,
             "ticks": ""
            },
            "colorscale": [
             [
              0,
              "#0d0887"
             ],
             [
              0.1111111111111111,
              "#46039f"
             ],
             [
              0.2222222222222222,
              "#7201a8"
             ],
             [
              0.3333333333333333,
              "#9c179e"
             ],
             [
              0.4444444444444444,
              "#bd3786"
             ],
             [
              0.5555555555555556,
              "#d8576b"
             ],
             [
              0.6666666666666666,
              "#ed7953"
             ],
             [
              0.7777777777777778,
              "#fb9f3a"
             ],
             [
              0.8888888888888888,
              "#fdca26"
             ],
             [
              1,
              "#f0f921"
             ]
            ],
            "type": "heatmap"
           }
          ],
          "heatmapgl": [
           {
            "colorbar": {
             "outlinewidth": 0,
             "ticks": ""
            },
            "colorscale": [
             [
              0,
              "#0d0887"
             ],
             [
              0.1111111111111111,
              "#46039f"
             ],
             [
              0.2222222222222222,
              "#7201a8"
             ],
             [
              0.3333333333333333,
              "#9c179e"
             ],
             [
              0.4444444444444444,
              "#bd3786"
             ],
             [
              0.5555555555555556,
              "#d8576b"
             ],
             [
              0.6666666666666666,
              "#ed7953"
             ],
             [
              0.7777777777777778,
              "#fb9f3a"
             ],
             [
              0.8888888888888888,
              "#fdca26"
             ],
             [
              1,
              "#f0f921"
             ]
            ],
            "type": "heatmapgl"
           }
          ],
          "histogram": [
           {
            "marker": {
             "colorbar": {
              "outlinewidth": 0,
              "ticks": ""
             }
            },
            "type": "histogram"
           }
          ],
          "histogram2d": [
           {
            "colorbar": {
             "outlinewidth": 0,
             "ticks": ""
            },
            "colorscale": [
             [
              0,
              "#0d0887"
             ],
             [
              0.1111111111111111,
              "#46039f"
             ],
             [
              0.2222222222222222,
              "#7201a8"
             ],
             [
              0.3333333333333333,
              "#9c179e"
             ],
             [
              0.4444444444444444,
              "#bd3786"
             ],
             [
              0.5555555555555556,
              "#d8576b"
             ],
             [
              0.6666666666666666,
              "#ed7953"
             ],
             [
              0.7777777777777778,
              "#fb9f3a"
             ],
             [
              0.8888888888888888,
              "#fdca26"
             ],
             [
              1,
              "#f0f921"
             ]
            ],
            "type": "histogram2d"
           }
          ],
          "histogram2dcontour": [
           {
            "colorbar": {
             "outlinewidth": 0,
             "ticks": ""
            },
            "colorscale": [
             [
              0,
              "#0d0887"
             ],
             [
              0.1111111111111111,
              "#46039f"
             ],
             [
              0.2222222222222222,
              "#7201a8"
             ],
             [
              0.3333333333333333,
              "#9c179e"
             ],
             [
              0.4444444444444444,
              "#bd3786"
             ],
             [
              0.5555555555555556,
              "#d8576b"
             ],
             [
              0.6666666666666666,
              "#ed7953"
             ],
             [
              0.7777777777777778,
              "#fb9f3a"
             ],
             [
              0.8888888888888888,
              "#fdca26"
             ],
             [
              1,
              "#f0f921"
             ]
            ],
            "type": "histogram2dcontour"
           }
          ],
          "mesh3d": [
           {
            "colorbar": {
             "outlinewidth": 0,
             "ticks": ""
            },
            "type": "mesh3d"
           }
          ],
          "parcoords": [
           {
            "line": {
             "colorbar": {
              "outlinewidth": 0,
              "ticks": ""
             }
            },
            "type": "parcoords"
           }
          ],
          "pie": [
           {
            "automargin": true,
            "type": "pie"
           }
          ],
          "scatter": [
           {
            "marker": {
             "colorbar": {
              "outlinewidth": 0,
              "ticks": ""
             }
            },
            "type": "scatter"
           }
          ],
          "scatter3d": [
           {
            "line": {
             "colorbar": {
              "outlinewidth": 0,
              "ticks": ""
             }
            },
            "marker": {
             "colorbar": {
              "outlinewidth": 0,
              "ticks": ""
             }
            },
            "type": "scatter3d"
           }
          ],
          "scattercarpet": [
           {
            "marker": {
             "colorbar": {
              "outlinewidth": 0,
              "ticks": ""
             }
            },
            "type": "scattercarpet"
           }
          ],
          "scattergeo": [
           {
            "marker": {
             "colorbar": {
              "outlinewidth": 0,
              "ticks": ""
             }
            },
            "type": "scattergeo"
           }
          ],
          "scattergl": [
           {
            "marker": {
             "colorbar": {
              "outlinewidth": 0,
              "ticks": ""
             }
            },
            "type": "scattergl"
           }
          ],
          "scattermapbox": [
           {
            "marker": {
             "colorbar": {
              "outlinewidth": 0,
              "ticks": ""
             }
            },
            "type": "scattermapbox"
           }
          ],
          "scatterpolar": [
           {
            "marker": {
             "colorbar": {
              "outlinewidth": 0,
              "ticks": ""
             }
            },
            "type": "scatterpolar"
           }
          ],
          "scatterpolargl": [
           {
            "marker": {
             "colorbar": {
              "outlinewidth": 0,
              "ticks": ""
             }
            },
            "type": "scatterpolargl"
           }
          ],
          "scatterternary": [
           {
            "marker": {
             "colorbar": {
              "outlinewidth": 0,
              "ticks": ""
             }
            },
            "type": "scatterternary"
           }
          ],
          "surface": [
           {
            "colorbar": {
             "outlinewidth": 0,
             "ticks": ""
            },
            "colorscale": [
             [
              0,
              "#0d0887"
             ],
             [
              0.1111111111111111,
              "#46039f"
             ],
             [
              0.2222222222222222,
              "#7201a8"
             ],
             [
              0.3333333333333333,
              "#9c179e"
             ],
             [
              0.4444444444444444,
              "#bd3786"
             ],
             [
              0.5555555555555556,
              "#d8576b"
             ],
             [
              0.6666666666666666,
              "#ed7953"
             ],
             [
              0.7777777777777778,
              "#fb9f3a"
             ],
             [
              0.8888888888888888,
              "#fdca26"
             ],
             [
              1,
              "#f0f921"
             ]
            ],
            "type": "surface"
           }
          ],
          "table": [
           {
            "cells": {
             "fill": {
              "color": "#EBF0F8"
             },
             "line": {
              "color": "white"
             }
            },
            "header": {
             "fill": {
              "color": "#C8D4E3"
             },
             "line": {
              "color": "white"
             }
            },
            "type": "table"
           }
          ]
         },
         "layout": {
          "annotationdefaults": {
           "arrowcolor": "#2a3f5f",
           "arrowhead": 0,
           "arrowwidth": 1
          },
          "coloraxis": {
           "colorbar": {
            "outlinewidth": 0,
            "ticks": ""
           }
          },
          "colorscale": {
           "diverging": [
            [
             0,
             "#8e0152"
            ],
            [
             0.1,
             "#c51b7d"
            ],
            [
             0.2,
             "#de77ae"
            ],
            [
             0.3,
             "#f1b6da"
            ],
            [
             0.4,
             "#fde0ef"
            ],
            [
             0.5,
             "#f7f7f7"
            ],
            [
             0.6,
             "#e6f5d0"
            ],
            [
             0.7,
             "#b8e186"
            ],
            [
             0.8,
             "#7fbc41"
            ],
            [
             0.9,
             "#4d9221"
            ],
            [
             1,
             "#276419"
            ]
           ],
           "sequential": [
            [
             0,
             "#0d0887"
            ],
            [
             0.1111111111111111,
             "#46039f"
            ],
            [
             0.2222222222222222,
             "#7201a8"
            ],
            [
             0.3333333333333333,
             "#9c179e"
            ],
            [
             0.4444444444444444,
             "#bd3786"
            ],
            [
             0.5555555555555556,
             "#d8576b"
            ],
            [
             0.6666666666666666,
             "#ed7953"
            ],
            [
             0.7777777777777778,
             "#fb9f3a"
            ],
            [
             0.8888888888888888,
             "#fdca26"
            ],
            [
             1,
             "#f0f921"
            ]
           ],
           "sequentialminus": [
            [
             0,
             "#0d0887"
            ],
            [
             0.1111111111111111,
             "#46039f"
            ],
            [
             0.2222222222222222,
             "#7201a8"
            ],
            [
             0.3333333333333333,
             "#9c179e"
            ],
            [
             0.4444444444444444,
             "#bd3786"
            ],
            [
             0.5555555555555556,
             "#d8576b"
            ],
            [
             0.6666666666666666,
             "#ed7953"
            ],
            [
             0.7777777777777778,
             "#fb9f3a"
            ],
            [
             0.8888888888888888,
             "#fdca26"
            ],
            [
             1,
             "#f0f921"
            ]
           ]
          },
          "colorway": [
           "#636efa",
           "#EF553B",
           "#00cc96",
           "#ab63fa",
           "#FFA15A",
           "#19d3f3",
           "#FF6692",
           "#B6E880",
           "#FF97FF",
           "#FECB52"
          ],
          "font": {
           "color": "#2a3f5f"
          },
          "geo": {
           "bgcolor": "white",
           "lakecolor": "white",
           "landcolor": "#E5ECF6",
           "showlakes": true,
           "showland": true,
           "subunitcolor": "white"
          },
          "hoverlabel": {
           "align": "left"
          },
          "hovermode": "closest",
          "mapbox": {
           "style": "light"
          },
          "paper_bgcolor": "white",
          "plot_bgcolor": "#E5ECF6",
          "polar": {
           "angularaxis": {
            "gridcolor": "white",
            "linecolor": "white",
            "ticks": ""
           },
           "bgcolor": "#E5ECF6",
           "radialaxis": {
            "gridcolor": "white",
            "linecolor": "white",
            "ticks": ""
           }
          },
          "scene": {
           "xaxis": {
            "backgroundcolor": "#E5ECF6",
            "gridcolor": "white",
            "gridwidth": 2,
            "linecolor": "white",
            "showbackground": true,
            "ticks": "",
            "zerolinecolor": "white"
           },
           "yaxis": {
            "backgroundcolor": "#E5ECF6",
            "gridcolor": "white",
            "gridwidth": 2,
            "linecolor": "white",
            "showbackground": true,
            "ticks": "",
            "zerolinecolor": "white"
           },
           "zaxis": {
            "backgroundcolor": "#E5ECF6",
            "gridcolor": "white",
            "gridwidth": 2,
            "linecolor": "white",
            "showbackground": true,
            "ticks": "",
            "zerolinecolor": "white"
           }
          },
          "shapedefaults": {
           "line": {
            "color": "#2a3f5f"
           }
          },
          "ternary": {
           "aaxis": {
            "gridcolor": "white",
            "linecolor": "white",
            "ticks": ""
           },
           "baxis": {
            "gridcolor": "white",
            "linecolor": "white",
            "ticks": ""
           },
           "bgcolor": "#E5ECF6",
           "caxis": {
            "gridcolor": "white",
            "linecolor": "white",
            "ticks": ""
           }
          },
          "title": {
           "x": 0.05
          },
          "xaxis": {
           "automargin": true,
           "gridcolor": "white",
           "linecolor": "white",
           "ticks": "",
           "title": {
            "standoff": 15
           },
           "zerolinecolor": "white",
           "zerolinewidth": 2
          },
          "yaxis": {
           "automargin": true,
           "gridcolor": "white",
           "linecolor": "white",
           "ticks": "",
           "title": {
            "standoff": 15
           },
           "zerolinecolor": "white",
           "zerolinewidth": 2
          }
         }
        },
        "title": {
         "text": "<b>Number of Dust Devil Measurements versus Number of Robots</b>",
         "x": 0.5
        },
        "xaxis": {
         "linecolor": "black",
         "linewidth": 1,
         "range": [
          0,
          105
         ],
         "showgrid": false,
         "showline": true,
         "ticks": "outside",
         "tickvals": [
          0,
          10,
          20,
          30,
          40,
          50,
          60,
          70,
          80,
          90,
          100
         ],
         "title": {
          "text": "Number of Robots"
         }
        },
        "yaxis": {
         "dtick": 2000,
         "linecolor": "black",
         "linewidth": 1,
         "range": [
          0,
          40000
         ],
         "showgrid": false,
         "showline": true,
         "tick0": 0,
         "tickmode": "linear",
         "ticks": "outside",
         "title": {
          "text": "Number of Dust Devil Measurements"
         }
        }
       }
      },
      "text/html": [
       "<div>                            <div id=\"fd4cd42c-41e2-43d3-905b-f8abbe0a78d3\" class=\"plotly-graph-div\" style=\"height:525px; width:100%;\"></div>            <script type=\"text/javascript\">                require([\"plotly\"], function(Plotly) {                    window.PLOTLYENV=window.PLOTLYENV || {};                                    if (document.getElementById(\"fd4cd42c-41e2-43d3-905b-f8abbe0a78d3\")) {                    Plotly.newPlot(                        \"fd4cd42c-41e2-43d3-905b-f8abbe0a78d3\",                        [{\"error_y\": {\"array\": [496.54616099613537, 652.0182206043017, 684.8270146540657, 1632.5126308852866, 1158.0141147671732, 2363.0239715246225, 2134.9806579920114, 2441.348528989665, 2207.432818909785, 4237.744623027678], \"type\": \"data\", \"visible\": true}, \"marker\": {\"color\": \"blue\", \"line\": {\"color\": \"Blue\", \"width\": 2}, \"size\": 8, \"symbol\": \"x-thin\"}, \"mode\": \"markers\", \"showlegend\": false, \"type\": \"scatter\", \"x\": [10.0, 20.0, 30.0, 40.0, 50.0, 60.0, 70.0, 80.0, 90.0, 100.0], \"y\": [2688.9, 5641.2, 9426.6, 11158.9, 13470.9, 15222.1, 17752.7, 22063.6, 25656.5, 26765.9]}, {\"fill\": \"tonexty\", \"fillcolor\": \"rgba(0,0,255,0.4)\", \"line\": {\"width\": 0}, \"marker\": {\"color\": \"#444\"}, \"mode\": \"lines\", \"name\": \"Upper Bound\", \"opacity\": 0.5, \"showlegend\": false, \"type\": \"scatter\", \"x\": [10.0, 20.0, 30.0, 40.0, 50.0, 60.0, 70.0, 80.0, 90.0, 100.0], \"y\": [3185.4461609961354, 6293.218220604302, 10111.427014654066, 12791.412630885286, 14628.914114767173, 17585.123971524623, 19887.680657992012, 24504.948528989662, 27863.932818909787, 31003.644623027678]}, {\"fill\": \"tonexty\", \"fillcolor\": \"rgba(0,0,255,0.3)\", \"line\": {\"width\": 0}, \"marker\": {\"color\": \"#444\"}, \"mode\": \"lines\", \"name\": \"Lower Bound\", \"opacity\": 0.5, \"showlegend\": false, \"type\": \"scatter\", \"x\": [10.0, 20.0, 30.0, 40.0, 50.0, 60.0, 70.0, 80.0, 90.0, 100.0], \"y\": [2192.353839003865, 4989.181779395698, 8741.772985345935, 9526.387369114713, 12312.885885232827, 12859.076028475378, 15617.71934200799, 19622.251471010335, 23449.067181090213, 22528.155376972325]}, {\"error_y\": {\"array\": [496.54616099613537, 652.0182206043017, 684.8270146540657, 1632.5126308852866, 1158.0141147671732, 2363.0239715246225, 2134.9806579920114, 2441.348528989665, 2207.432818909785, 4237.744623027678], \"type\": \"data\", \"visible\": true}, \"marker\": {\"color\": \"blue\", \"line\": {\"color\": \"Blue\", \"width\": 2}, \"size\": 8, \"symbol\": \"x-thin\"}, \"mode\": \"markers\", \"name\": \"Static Method\", \"showlegend\": true, \"type\": \"scatter\", \"x\": [10.0, 20.0, 30.0, 40.0, 50.0, 60.0, 70.0, 80.0, 90.0, 100.0], \"y\": [2688.9, 5641.2, 9426.6, 11158.9, 13470.9, 15222.1, 17752.7, 22063.6, 25656.5, 26765.9]}],                        {\"margin\": {\"l\": 10, \"r\": 10, \"t\": 50}, \"plot_bgcolor\": \"rgba(0,0,0,0)\", \"template\": {\"data\": {\"bar\": [{\"error_x\": {\"color\": \"#2a3f5f\"}, \"error_y\": {\"color\": \"#2a3f5f\"}, \"marker\": {\"line\": {\"color\": \"#E5ECF6\", \"width\": 0.5}}, \"type\": \"bar\"}], \"barpolar\": [{\"marker\": {\"line\": {\"color\": \"#E5ECF6\", \"width\": 0.5}}, \"type\": \"barpolar\"}], \"carpet\": [{\"aaxis\": {\"endlinecolor\": \"#2a3f5f\", \"gridcolor\": \"white\", \"linecolor\": \"white\", \"minorgridcolor\": \"white\", \"startlinecolor\": \"#2a3f5f\"}, \"baxis\": {\"endlinecolor\": \"#2a3f5f\", \"gridcolor\": \"white\", \"linecolor\": \"white\", \"minorgridcolor\": \"white\", \"startlinecolor\": \"#2a3f5f\"}, \"type\": \"carpet\"}], \"choropleth\": [{\"colorbar\": {\"outlinewidth\": 0, \"ticks\": \"\"}, \"type\": \"choropleth\"}], \"contour\": [{\"colorbar\": {\"outlinewidth\": 0, \"ticks\": \"\"}, \"colorscale\": [[0.0, \"#0d0887\"], [0.1111111111111111, \"#46039f\"], [0.2222222222222222, \"#7201a8\"], [0.3333333333333333, \"#9c179e\"], [0.4444444444444444, \"#bd3786\"], [0.5555555555555556, \"#d8576b\"], [0.6666666666666666, \"#ed7953\"], [0.7777777777777778, \"#fb9f3a\"], [0.8888888888888888, \"#fdca26\"], [1.0, \"#f0f921\"]], \"type\": \"contour\"}], \"contourcarpet\": [{\"colorbar\": {\"outlinewidth\": 0, \"ticks\": \"\"}, \"type\": \"contourcarpet\"}], \"heatmap\": [{\"colorbar\": {\"outlinewidth\": 0, \"ticks\": \"\"}, \"colorscale\": [[0.0, \"#0d0887\"], [0.1111111111111111, \"#46039f\"], [0.2222222222222222, \"#7201a8\"], [0.3333333333333333, \"#9c179e\"], [0.4444444444444444, \"#bd3786\"], [0.5555555555555556, \"#d8576b\"], [0.6666666666666666, \"#ed7953\"], [0.7777777777777778, \"#fb9f3a\"], [0.8888888888888888, \"#fdca26\"], [1.0, \"#f0f921\"]], \"type\": \"heatmap\"}], \"heatmapgl\": [{\"colorbar\": {\"outlinewidth\": 0, \"ticks\": \"\"}, \"colorscale\": [[0.0, \"#0d0887\"], [0.1111111111111111, \"#46039f\"], [0.2222222222222222, \"#7201a8\"], [0.3333333333333333, \"#9c179e\"], [0.4444444444444444, \"#bd3786\"], [0.5555555555555556, \"#d8576b\"], [0.6666666666666666, \"#ed7953\"], [0.7777777777777778, \"#fb9f3a\"], [0.8888888888888888, \"#fdca26\"], [1.0, \"#f0f921\"]], \"type\": \"heatmapgl\"}], \"histogram\": [{\"marker\": {\"colorbar\": {\"outlinewidth\": 0, \"ticks\": \"\"}}, \"type\": \"histogram\"}], \"histogram2d\": [{\"colorbar\": {\"outlinewidth\": 0, \"ticks\": \"\"}, \"colorscale\": [[0.0, \"#0d0887\"], [0.1111111111111111, \"#46039f\"], [0.2222222222222222, \"#7201a8\"], [0.3333333333333333, \"#9c179e\"], [0.4444444444444444, \"#bd3786\"], [0.5555555555555556, \"#d8576b\"], [0.6666666666666666, \"#ed7953\"], [0.7777777777777778, \"#fb9f3a\"], [0.8888888888888888, \"#fdca26\"], [1.0, \"#f0f921\"]], \"type\": \"histogram2d\"}], \"histogram2dcontour\": [{\"colorbar\": {\"outlinewidth\": 0, \"ticks\": \"\"}, \"colorscale\": [[0.0, \"#0d0887\"], [0.1111111111111111, \"#46039f\"], [0.2222222222222222, \"#7201a8\"], [0.3333333333333333, \"#9c179e\"], [0.4444444444444444, \"#bd3786\"], [0.5555555555555556, \"#d8576b\"], [0.6666666666666666, \"#ed7953\"], [0.7777777777777778, \"#fb9f3a\"], [0.8888888888888888, \"#fdca26\"], [1.0, \"#f0f921\"]], \"type\": \"histogram2dcontour\"}], \"mesh3d\": [{\"colorbar\": {\"outlinewidth\": 0, \"ticks\": \"\"}, \"type\": \"mesh3d\"}], \"parcoords\": [{\"line\": {\"colorbar\": {\"outlinewidth\": 0, \"ticks\": \"\"}}, \"type\": \"parcoords\"}], \"pie\": [{\"automargin\": true, \"type\": \"pie\"}], \"scatter\": [{\"marker\": {\"colorbar\": {\"outlinewidth\": 0, \"ticks\": \"\"}}, \"type\": \"scatter\"}], \"scatter3d\": [{\"line\": {\"colorbar\": {\"outlinewidth\": 0, \"ticks\": \"\"}}, \"marker\": {\"colorbar\": {\"outlinewidth\": 0, \"ticks\": \"\"}}, \"type\": \"scatter3d\"}], \"scattercarpet\": [{\"marker\": {\"colorbar\": {\"outlinewidth\": 0, \"ticks\": \"\"}}, \"type\": \"scattercarpet\"}], \"scattergeo\": [{\"marker\": {\"colorbar\": {\"outlinewidth\": 0, \"ticks\": \"\"}}, \"type\": \"scattergeo\"}], \"scattergl\": [{\"marker\": {\"colorbar\": {\"outlinewidth\": 0, \"ticks\": \"\"}}, \"type\": \"scattergl\"}], \"scattermapbox\": [{\"marker\": {\"colorbar\": {\"outlinewidth\": 0, \"ticks\": \"\"}}, \"type\": \"scattermapbox\"}], \"scatterpolar\": [{\"marker\": {\"colorbar\": {\"outlinewidth\": 0, \"ticks\": \"\"}}, \"type\": \"scatterpolar\"}], \"scatterpolargl\": [{\"marker\": {\"colorbar\": {\"outlinewidth\": 0, \"ticks\": \"\"}}, \"type\": \"scatterpolargl\"}], \"scatterternary\": [{\"marker\": {\"colorbar\": {\"outlinewidth\": 0, \"ticks\": \"\"}}, \"type\": \"scatterternary\"}], \"surface\": [{\"colorbar\": {\"outlinewidth\": 0, \"ticks\": \"\"}, \"colorscale\": [[0.0, \"#0d0887\"], [0.1111111111111111, \"#46039f\"], [0.2222222222222222, \"#7201a8\"], [0.3333333333333333, \"#9c179e\"], [0.4444444444444444, \"#bd3786\"], [0.5555555555555556, \"#d8576b\"], [0.6666666666666666, \"#ed7953\"], [0.7777777777777778, \"#fb9f3a\"], [0.8888888888888888, \"#fdca26\"], [1.0, \"#f0f921\"]], \"type\": \"surface\"}], \"table\": [{\"cells\": {\"fill\": {\"color\": \"#EBF0F8\"}, \"line\": {\"color\": \"white\"}}, \"header\": {\"fill\": {\"color\": \"#C8D4E3\"}, \"line\": {\"color\": \"white\"}}, \"type\": \"table\"}]}, \"layout\": {\"annotationdefaults\": {\"arrowcolor\": \"#2a3f5f\", \"arrowhead\": 0, \"arrowwidth\": 1}, \"coloraxis\": {\"colorbar\": {\"outlinewidth\": 0, \"ticks\": \"\"}}, \"colorscale\": {\"diverging\": [[0, \"#8e0152\"], [0.1, \"#c51b7d\"], [0.2, \"#de77ae\"], [0.3, \"#f1b6da\"], [0.4, \"#fde0ef\"], [0.5, \"#f7f7f7\"], [0.6, \"#e6f5d0\"], [0.7, \"#b8e186\"], [0.8, \"#7fbc41\"], [0.9, \"#4d9221\"], [1, \"#276419\"]], \"sequential\": [[0.0, \"#0d0887\"], [0.1111111111111111, \"#46039f\"], [0.2222222222222222, \"#7201a8\"], [0.3333333333333333, \"#9c179e\"], [0.4444444444444444, \"#bd3786\"], [0.5555555555555556, \"#d8576b\"], [0.6666666666666666, \"#ed7953\"], [0.7777777777777778, \"#fb9f3a\"], [0.8888888888888888, \"#fdca26\"], [1.0, \"#f0f921\"]], \"sequentialminus\": [[0.0, \"#0d0887\"], [0.1111111111111111, \"#46039f\"], [0.2222222222222222, \"#7201a8\"], [0.3333333333333333, \"#9c179e\"], [0.4444444444444444, \"#bd3786\"], [0.5555555555555556, \"#d8576b\"], [0.6666666666666666, \"#ed7953\"], [0.7777777777777778, \"#fb9f3a\"], [0.8888888888888888, \"#fdca26\"], [1.0, \"#f0f921\"]]}, \"colorway\": [\"#636efa\", \"#EF553B\", \"#00cc96\", \"#ab63fa\", \"#FFA15A\", \"#19d3f3\", \"#FF6692\", \"#B6E880\", \"#FF97FF\", \"#FECB52\"], \"font\": {\"color\": \"#2a3f5f\"}, \"geo\": {\"bgcolor\": \"white\", \"lakecolor\": \"white\", \"landcolor\": \"#E5ECF6\", \"showlakes\": true, \"showland\": true, \"subunitcolor\": \"white\"}, \"hoverlabel\": {\"align\": \"left\"}, \"hovermode\": \"closest\", \"mapbox\": {\"style\": \"light\"}, \"paper_bgcolor\": \"white\", \"plot_bgcolor\": \"#E5ECF6\", \"polar\": {\"angularaxis\": {\"gridcolor\": \"white\", \"linecolor\": \"white\", \"ticks\": \"\"}, \"bgcolor\": \"#E5ECF6\", \"radialaxis\": {\"gridcolor\": \"white\", \"linecolor\": \"white\", \"ticks\": \"\"}}, \"scene\": {\"xaxis\": {\"backgroundcolor\": \"#E5ECF6\", \"gridcolor\": \"white\", \"gridwidth\": 2, \"linecolor\": \"white\", \"showbackground\": true, \"ticks\": \"\", \"zerolinecolor\": \"white\"}, \"yaxis\": {\"backgroundcolor\": \"#E5ECF6\", \"gridcolor\": \"white\", \"gridwidth\": 2, \"linecolor\": \"white\", \"showbackground\": true, \"ticks\": \"\", \"zerolinecolor\": \"white\"}, \"zaxis\": {\"backgroundcolor\": \"#E5ECF6\", \"gridcolor\": \"white\", \"gridwidth\": 2, \"linecolor\": \"white\", \"showbackground\": true, \"ticks\": \"\", \"zerolinecolor\": \"white\"}}, \"shapedefaults\": {\"line\": {\"color\": \"#2a3f5f\"}}, \"ternary\": {\"aaxis\": {\"gridcolor\": \"white\", \"linecolor\": \"white\", \"ticks\": \"\"}, \"baxis\": {\"gridcolor\": \"white\", \"linecolor\": \"white\", \"ticks\": \"\"}, \"bgcolor\": \"#E5ECF6\", \"caxis\": {\"gridcolor\": \"white\", \"linecolor\": \"white\", \"ticks\": \"\"}}, \"title\": {\"x\": 0.05}, \"xaxis\": {\"automargin\": true, \"gridcolor\": \"white\", \"linecolor\": \"white\", \"ticks\": \"\", \"title\": {\"standoff\": 15}, \"zerolinecolor\": \"white\", \"zerolinewidth\": 2}, \"yaxis\": {\"automargin\": true, \"gridcolor\": \"white\", \"linecolor\": \"white\", \"ticks\": \"\", \"title\": {\"standoff\": 15}, \"zerolinecolor\": \"white\", \"zerolinewidth\": 2}}}, \"title\": {\"text\": \"<b>Number of Dust Devil Measurements versus Number of Robots</b>\", \"x\": 0.5}, \"xaxis\": {\"linecolor\": \"black\", \"linewidth\": 1, \"range\": [0, 105.0], \"showgrid\": false, \"showline\": true, \"ticks\": \"outside\", \"tickvals\": [0, 10, 20, 30, 40, 50, 60, 70, 80, 90, 100], \"title\": {\"text\": \"Number of Robots\"}}, \"yaxis\": {\"dtick\": 2000, \"linecolor\": \"black\", \"linewidth\": 1, \"range\": [0, 40000], \"showgrid\": false, \"showline\": true, \"tick0\": 0, \"tickmode\": \"linear\", \"ticks\": \"outside\", \"title\": {\"text\": \"Number of Dust Devil Measurements\"}}},                        {\"responsive\": true}                    ).then(function(){\n",
       "                            \n",
       "var gd = document.getElementById('fd4cd42c-41e2-43d3-905b-f8abbe0a78d3');\n",
       "var x = new MutationObserver(function (mutations, observer) {{\n",
       "        var display = window.getComputedStyle(gd).display;\n",
       "        if (!display || display === 'none') {{\n",
       "            console.log([gd, 'removed!']);\n",
       "            Plotly.purge(gd);\n",
       "            observer.disconnect();\n",
       "        }}\n",
       "}});\n",
       "\n",
       "// Listen for the removal of the full notebook cells\n",
       "var notebookContainer = gd.closest('#notebook-container');\n",
       "if (notebookContainer) {{\n",
       "    x.observe(notebookContainer, {childList: true});\n",
       "}}\n",
       "\n",
       "// Listen for the clearing of the current output cell\n",
       "var outputEl = gd.closest('.output');\n",
       "if (outputEl) {{\n",
       "    x.observe(outputEl, {childList: true});\n",
       "}}\n",
       "\n",
       "                        })                };                });            </script>        </div>"
      ]
     },
     "metadata": {},
     "output_type": "display_data"
    },
    {
     "data": {
      "application/vnd.plotly.v1+json": {
       "config": {
        "plotlyServerURL": "https://plot.ly"
       },
       "data": [
        {
         "error_y": {
          "array": [
           7.389181280764467,
           8.98276126811795,
           4.770744176750625,
           7.405403432629448,
           6.726068688320095,
           11.84736257569591,
           10.054352291420866,
           9.919677414109795,
           7.269800547470337,
           7.227724399837061
          ],
          "type": "data",
          "visible": true
         },
         "mode": "markers",
         "name": "Static Method",
         "type": "scatter",
         "x": [
          10,
          20,
          30,
          40,
          50,
          60,
          70,
          80,
          90,
          100
         ],
         "y": [
          61,
          77.1,
          76.2,
          83.6,
          88.6,
          94.2,
          97.9,
          85,
          89.5,
          89.4
         ]
        }
       ],
       "layout": {
        "margin": {
         "l": 10,
         "r": 10,
         "t": 50
        },
        "plot_bgcolor": "rgba(0,0,0,0)",
        "template": {
         "data": {
          "bar": [
           {
            "error_x": {
             "color": "#2a3f5f"
            },
            "error_y": {
             "color": "#2a3f5f"
            },
            "marker": {
             "line": {
              "color": "#E5ECF6",
              "width": 0.5
             }
            },
            "type": "bar"
           }
          ],
          "barpolar": [
           {
            "marker": {
             "line": {
              "color": "#E5ECF6",
              "width": 0.5
             }
            },
            "type": "barpolar"
           }
          ],
          "carpet": [
           {
            "aaxis": {
             "endlinecolor": "#2a3f5f",
             "gridcolor": "white",
             "linecolor": "white",
             "minorgridcolor": "white",
             "startlinecolor": "#2a3f5f"
            },
            "baxis": {
             "endlinecolor": "#2a3f5f",
             "gridcolor": "white",
             "linecolor": "white",
             "minorgridcolor": "white",
             "startlinecolor": "#2a3f5f"
            },
            "type": "carpet"
           }
          ],
          "choropleth": [
           {
            "colorbar": {
             "outlinewidth": 0,
             "ticks": ""
            },
            "type": "choropleth"
           }
          ],
          "contour": [
           {
            "colorbar": {
             "outlinewidth": 0,
             "ticks": ""
            },
            "colorscale": [
             [
              0,
              "#0d0887"
             ],
             [
              0.1111111111111111,
              "#46039f"
             ],
             [
              0.2222222222222222,
              "#7201a8"
             ],
             [
              0.3333333333333333,
              "#9c179e"
             ],
             [
              0.4444444444444444,
              "#bd3786"
             ],
             [
              0.5555555555555556,
              "#d8576b"
             ],
             [
              0.6666666666666666,
              "#ed7953"
             ],
             [
              0.7777777777777778,
              "#fb9f3a"
             ],
             [
              0.8888888888888888,
              "#fdca26"
             ],
             [
              1,
              "#f0f921"
             ]
            ],
            "type": "contour"
           }
          ],
          "contourcarpet": [
           {
            "colorbar": {
             "outlinewidth": 0,
             "ticks": ""
            },
            "type": "contourcarpet"
           }
          ],
          "heatmap": [
           {
            "colorbar": {
             "outlinewidth": 0,
             "ticks": ""
            },
            "colorscale": [
             [
              0,
              "#0d0887"
             ],
             [
              0.1111111111111111,
              "#46039f"
             ],
             [
              0.2222222222222222,
              "#7201a8"
             ],
             [
              0.3333333333333333,
              "#9c179e"
             ],
             [
              0.4444444444444444,
              "#bd3786"
             ],
             [
              0.5555555555555556,
              "#d8576b"
             ],
             [
              0.6666666666666666,
              "#ed7953"
             ],
             [
              0.7777777777777778,
              "#fb9f3a"
             ],
             [
              0.8888888888888888,
              "#fdca26"
             ],
             [
              1,
              "#f0f921"
             ]
            ],
            "type": "heatmap"
           }
          ],
          "heatmapgl": [
           {
            "colorbar": {
             "outlinewidth": 0,
             "ticks": ""
            },
            "colorscale": [
             [
              0,
              "#0d0887"
             ],
             [
              0.1111111111111111,
              "#46039f"
             ],
             [
              0.2222222222222222,
              "#7201a8"
             ],
             [
              0.3333333333333333,
              "#9c179e"
             ],
             [
              0.4444444444444444,
              "#bd3786"
             ],
             [
              0.5555555555555556,
              "#d8576b"
             ],
             [
              0.6666666666666666,
              "#ed7953"
             ],
             [
              0.7777777777777778,
              "#fb9f3a"
             ],
             [
              0.8888888888888888,
              "#fdca26"
             ],
             [
              1,
              "#f0f921"
             ]
            ],
            "type": "heatmapgl"
           }
          ],
          "histogram": [
           {
            "marker": {
             "colorbar": {
              "outlinewidth": 0,
              "ticks": ""
             }
            },
            "type": "histogram"
           }
          ],
          "histogram2d": [
           {
            "colorbar": {
             "outlinewidth": 0,
             "ticks": ""
            },
            "colorscale": [
             [
              0,
              "#0d0887"
             ],
             [
              0.1111111111111111,
              "#46039f"
             ],
             [
              0.2222222222222222,
              "#7201a8"
             ],
             [
              0.3333333333333333,
              "#9c179e"
             ],
             [
              0.4444444444444444,
              "#bd3786"
             ],
             [
              0.5555555555555556,
              "#d8576b"
             ],
             [
              0.6666666666666666,
              "#ed7953"
             ],
             [
              0.7777777777777778,
              "#fb9f3a"
             ],
             [
              0.8888888888888888,
              "#fdca26"
             ],
             [
              1,
              "#f0f921"
             ]
            ],
            "type": "histogram2d"
           }
          ],
          "histogram2dcontour": [
           {
            "colorbar": {
             "outlinewidth": 0,
             "ticks": ""
            },
            "colorscale": [
             [
              0,
              "#0d0887"
             ],
             [
              0.1111111111111111,
              "#46039f"
             ],
             [
              0.2222222222222222,
              "#7201a8"
             ],
             [
              0.3333333333333333,
              "#9c179e"
             ],
             [
              0.4444444444444444,
              "#bd3786"
             ],
             [
              0.5555555555555556,
              "#d8576b"
             ],
             [
              0.6666666666666666,
              "#ed7953"
             ],
             [
              0.7777777777777778,
              "#fb9f3a"
             ],
             [
              0.8888888888888888,
              "#fdca26"
             ],
             [
              1,
              "#f0f921"
             ]
            ],
            "type": "histogram2dcontour"
           }
          ],
          "mesh3d": [
           {
            "colorbar": {
             "outlinewidth": 0,
             "ticks": ""
            },
            "type": "mesh3d"
           }
          ],
          "parcoords": [
           {
            "line": {
             "colorbar": {
              "outlinewidth": 0,
              "ticks": ""
             }
            },
            "type": "parcoords"
           }
          ],
          "pie": [
           {
            "automargin": true,
            "type": "pie"
           }
          ],
          "scatter": [
           {
            "marker": {
             "colorbar": {
              "outlinewidth": 0,
              "ticks": ""
             }
            },
            "type": "scatter"
           }
          ],
          "scatter3d": [
           {
            "line": {
             "colorbar": {
              "outlinewidth": 0,
              "ticks": ""
             }
            },
            "marker": {
             "colorbar": {
              "outlinewidth": 0,
              "ticks": ""
             }
            },
            "type": "scatter3d"
           }
          ],
          "scattercarpet": [
           {
            "marker": {
             "colorbar": {
              "outlinewidth": 0,
              "ticks": ""
             }
            },
            "type": "scattercarpet"
           }
          ],
          "scattergeo": [
           {
            "marker": {
             "colorbar": {
              "outlinewidth": 0,
              "ticks": ""
             }
            },
            "type": "scattergeo"
           }
          ],
          "scattergl": [
           {
            "marker": {
             "colorbar": {
              "outlinewidth": 0,
              "ticks": ""
             }
            },
            "type": "scattergl"
           }
          ],
          "scattermapbox": [
           {
            "marker": {
             "colorbar": {
              "outlinewidth": 0,
              "ticks": ""
             }
            },
            "type": "scattermapbox"
           }
          ],
          "scatterpolar": [
           {
            "marker": {
             "colorbar": {
              "outlinewidth": 0,
              "ticks": ""
             }
            },
            "type": "scatterpolar"
           }
          ],
          "scatterpolargl": [
           {
            "marker": {
             "colorbar": {
              "outlinewidth": 0,
              "ticks": ""
             }
            },
            "type": "scatterpolargl"
           }
          ],
          "scatterternary": [
           {
            "marker": {
             "colorbar": {
              "outlinewidth": 0,
              "ticks": ""
             }
            },
            "type": "scatterternary"
           }
          ],
          "surface": [
           {
            "colorbar": {
             "outlinewidth": 0,
             "ticks": ""
            },
            "colorscale": [
             [
              0,
              "#0d0887"
             ],
             [
              0.1111111111111111,
              "#46039f"
             ],
             [
              0.2222222222222222,
              "#7201a8"
             ],
             [
              0.3333333333333333,
              "#9c179e"
             ],
             [
              0.4444444444444444,
              "#bd3786"
             ],
             [
              0.5555555555555556,
              "#d8576b"
             ],
             [
              0.6666666666666666,
              "#ed7953"
             ],
             [
              0.7777777777777778,
              "#fb9f3a"
             ],
             [
              0.8888888888888888,
              "#fdca26"
             ],
             [
              1,
              "#f0f921"
             ]
            ],
            "type": "surface"
           }
          ],
          "table": [
           {
            "cells": {
             "fill": {
              "color": "#EBF0F8"
             },
             "line": {
              "color": "white"
             }
            },
            "header": {
             "fill": {
              "color": "#C8D4E3"
             },
             "line": {
              "color": "white"
             }
            },
            "type": "table"
           }
          ]
         },
         "layout": {
          "annotationdefaults": {
           "arrowcolor": "#2a3f5f",
           "arrowhead": 0,
           "arrowwidth": 1
          },
          "coloraxis": {
           "colorbar": {
            "outlinewidth": 0,
            "ticks": ""
           }
          },
          "colorscale": {
           "diverging": [
            [
             0,
             "#8e0152"
            ],
            [
             0.1,
             "#c51b7d"
            ],
            [
             0.2,
             "#de77ae"
            ],
            [
             0.3,
             "#f1b6da"
            ],
            [
             0.4,
             "#fde0ef"
            ],
            [
             0.5,
             "#f7f7f7"
            ],
            [
             0.6,
             "#e6f5d0"
            ],
            [
             0.7,
             "#b8e186"
            ],
            [
             0.8,
             "#7fbc41"
            ],
            [
             0.9,
             "#4d9221"
            ],
            [
             1,
             "#276419"
            ]
           ],
           "sequential": [
            [
             0,
             "#0d0887"
            ],
            [
             0.1111111111111111,
             "#46039f"
            ],
            [
             0.2222222222222222,
             "#7201a8"
            ],
            [
             0.3333333333333333,
             "#9c179e"
            ],
            [
             0.4444444444444444,
             "#bd3786"
            ],
            [
             0.5555555555555556,
             "#d8576b"
            ],
            [
             0.6666666666666666,
             "#ed7953"
            ],
            [
             0.7777777777777778,
             "#fb9f3a"
            ],
            [
             0.8888888888888888,
             "#fdca26"
            ],
            [
             1,
             "#f0f921"
            ]
           ],
           "sequentialminus": [
            [
             0,
             "#0d0887"
            ],
            [
             0.1111111111111111,
             "#46039f"
            ],
            [
             0.2222222222222222,
             "#7201a8"
            ],
            [
             0.3333333333333333,
             "#9c179e"
            ],
            [
             0.4444444444444444,
             "#bd3786"
            ],
            [
             0.5555555555555556,
             "#d8576b"
            ],
            [
             0.6666666666666666,
             "#ed7953"
            ],
            [
             0.7777777777777778,
             "#fb9f3a"
            ],
            [
             0.8888888888888888,
             "#fdca26"
            ],
            [
             1,
             "#f0f921"
            ]
           ]
          },
          "colorway": [
           "#636efa",
           "#EF553B",
           "#00cc96",
           "#ab63fa",
           "#FFA15A",
           "#19d3f3",
           "#FF6692",
           "#B6E880",
           "#FF97FF",
           "#FECB52"
          ],
          "font": {
           "color": "#2a3f5f"
          },
          "geo": {
           "bgcolor": "white",
           "lakecolor": "white",
           "landcolor": "#E5ECF6",
           "showlakes": true,
           "showland": true,
           "subunitcolor": "white"
          },
          "hoverlabel": {
           "align": "left"
          },
          "hovermode": "closest",
          "mapbox": {
           "style": "light"
          },
          "paper_bgcolor": "white",
          "plot_bgcolor": "#E5ECF6",
          "polar": {
           "angularaxis": {
            "gridcolor": "white",
            "linecolor": "white",
            "ticks": ""
           },
           "bgcolor": "#E5ECF6",
           "radialaxis": {
            "gridcolor": "white",
            "linecolor": "white",
            "ticks": ""
           }
          },
          "scene": {
           "xaxis": {
            "backgroundcolor": "#E5ECF6",
            "gridcolor": "white",
            "gridwidth": 2,
            "linecolor": "white",
            "showbackground": true,
            "ticks": "",
            "zerolinecolor": "white"
           },
           "yaxis": {
            "backgroundcolor": "#E5ECF6",
            "gridcolor": "white",
            "gridwidth": 2,
            "linecolor": "white",
            "showbackground": true,
            "ticks": "",
            "zerolinecolor": "white"
           },
           "zaxis": {
            "backgroundcolor": "#E5ECF6",
            "gridcolor": "white",
            "gridwidth": 2,
            "linecolor": "white",
            "showbackground": true,
            "ticks": "",
            "zerolinecolor": "white"
           }
          },
          "shapedefaults": {
           "line": {
            "color": "#2a3f5f"
           }
          },
          "ternary": {
           "aaxis": {
            "gridcolor": "white",
            "linecolor": "white",
            "ticks": ""
           },
           "baxis": {
            "gridcolor": "white",
            "linecolor": "white",
            "ticks": ""
           },
           "bgcolor": "#E5ECF6",
           "caxis": {
            "gridcolor": "white",
            "linecolor": "white",
            "ticks": ""
           }
          },
          "title": {
           "x": 0.05
          },
          "xaxis": {
           "automargin": true,
           "gridcolor": "white",
           "linecolor": "white",
           "ticks": "",
           "title": {
            "standoff": 15
           },
           "zerolinecolor": "white",
           "zerolinewidth": 2
          },
          "yaxis": {
           "automargin": true,
           "gridcolor": "white",
           "linecolor": "white",
           "ticks": "",
           "title": {
            "standoff": 15
           },
           "zerolinecolor": "white",
           "zerolinewidth": 2
          }
         }
        },
        "title": {
         "text": "<b>Number of Dust Devils Detected versus Number of Robots</b>",
         "x": 0.5
        },
        "xaxis": {
         "linecolor": "black",
         "linewidth": 1,
         "range": [
          0,
          105
         ],
         "showgrid": false,
         "showline": true,
         "ticks": "outside",
         "tickvals": [
          0,
          10,
          20,
          30,
          40,
          50,
          60,
          70,
          80,
          90,
          100
         ],
         "title": {
          "text": "Number of Robots"
         }
        },
        "yaxis": {
         "dtick": 10,
         "linecolor": "black",
         "linewidth": 1,
         "range": [
          0,
          110.00000000000001
         ],
         "showgrid": false,
         "showline": true,
         "tick0": 0,
         "tickmode": "linear",
         "ticks": "outside",
         "title": {
          "text": "Number of Dust Devils Detected"
         }
        }
       }
      },
      "text/html": [
       "<div>                            <div id=\"5d9a8254-d47c-4f39-9e5b-9ec44674aac9\" class=\"plotly-graph-div\" style=\"height:525px; width:100%;\"></div>            <script type=\"text/javascript\">                require([\"plotly\"], function(Plotly) {                    window.PLOTLYENV=window.PLOTLYENV || {};                                    if (document.getElementById(\"5d9a8254-d47c-4f39-9e5b-9ec44674aac9\")) {                    Plotly.newPlot(                        \"5d9a8254-d47c-4f39-9e5b-9ec44674aac9\",                        [{\"error_y\": {\"array\": [7.389181280764467, 8.98276126811795, 4.770744176750625, 7.405403432629448, 6.726068688320095, 11.84736257569591, 10.054352291420866, 9.919677414109795, 7.269800547470337, 7.227724399837061], \"type\": \"data\", \"visible\": true}, \"mode\": \"markers\", \"name\": \"Static Method\", \"type\": \"scatter\", \"x\": [10.0, 20.0, 30.0, 40.0, 50.0, 60.0, 70.0, 80.0, 90.0, 100.0], \"y\": [61.0, 77.1, 76.2, 83.6, 88.6, 94.2, 97.9, 85.0, 89.5, 89.4]}],                        {\"margin\": {\"l\": 10, \"r\": 10, \"t\": 50}, \"plot_bgcolor\": \"rgba(0,0,0,0)\", \"template\": {\"data\": {\"bar\": [{\"error_x\": {\"color\": \"#2a3f5f\"}, \"error_y\": {\"color\": \"#2a3f5f\"}, \"marker\": {\"line\": {\"color\": \"#E5ECF6\", \"width\": 0.5}}, \"type\": \"bar\"}], \"barpolar\": [{\"marker\": {\"line\": {\"color\": \"#E5ECF6\", \"width\": 0.5}}, \"type\": \"barpolar\"}], \"carpet\": [{\"aaxis\": {\"endlinecolor\": \"#2a3f5f\", \"gridcolor\": \"white\", \"linecolor\": \"white\", \"minorgridcolor\": \"white\", \"startlinecolor\": \"#2a3f5f\"}, \"baxis\": {\"endlinecolor\": \"#2a3f5f\", \"gridcolor\": \"white\", \"linecolor\": \"white\", \"minorgridcolor\": \"white\", \"startlinecolor\": \"#2a3f5f\"}, \"type\": \"carpet\"}], \"choropleth\": [{\"colorbar\": {\"outlinewidth\": 0, \"ticks\": \"\"}, \"type\": \"choropleth\"}], \"contour\": [{\"colorbar\": {\"outlinewidth\": 0, \"ticks\": \"\"}, \"colorscale\": [[0.0, \"#0d0887\"], [0.1111111111111111, \"#46039f\"], [0.2222222222222222, \"#7201a8\"], [0.3333333333333333, \"#9c179e\"], [0.4444444444444444, \"#bd3786\"], [0.5555555555555556, \"#d8576b\"], [0.6666666666666666, \"#ed7953\"], [0.7777777777777778, \"#fb9f3a\"], [0.8888888888888888, \"#fdca26\"], [1.0, \"#f0f921\"]], \"type\": \"contour\"}], \"contourcarpet\": [{\"colorbar\": {\"outlinewidth\": 0, \"ticks\": \"\"}, \"type\": \"contourcarpet\"}], \"heatmap\": [{\"colorbar\": {\"outlinewidth\": 0, \"ticks\": \"\"}, \"colorscale\": [[0.0, \"#0d0887\"], [0.1111111111111111, \"#46039f\"], [0.2222222222222222, \"#7201a8\"], [0.3333333333333333, \"#9c179e\"], [0.4444444444444444, \"#bd3786\"], [0.5555555555555556, \"#d8576b\"], [0.6666666666666666, \"#ed7953\"], [0.7777777777777778, \"#fb9f3a\"], [0.8888888888888888, \"#fdca26\"], [1.0, \"#f0f921\"]], \"type\": \"heatmap\"}], \"heatmapgl\": [{\"colorbar\": {\"outlinewidth\": 0, \"ticks\": \"\"}, \"colorscale\": [[0.0, \"#0d0887\"], [0.1111111111111111, \"#46039f\"], [0.2222222222222222, \"#7201a8\"], [0.3333333333333333, \"#9c179e\"], [0.4444444444444444, \"#bd3786\"], [0.5555555555555556, \"#d8576b\"], [0.6666666666666666, \"#ed7953\"], [0.7777777777777778, \"#fb9f3a\"], [0.8888888888888888, \"#fdca26\"], [1.0, \"#f0f921\"]], \"type\": \"heatmapgl\"}], \"histogram\": [{\"marker\": {\"colorbar\": {\"outlinewidth\": 0, \"ticks\": \"\"}}, \"type\": \"histogram\"}], \"histogram2d\": [{\"colorbar\": {\"outlinewidth\": 0, \"ticks\": \"\"}, \"colorscale\": [[0.0, \"#0d0887\"], [0.1111111111111111, \"#46039f\"], [0.2222222222222222, \"#7201a8\"], [0.3333333333333333, \"#9c179e\"], [0.4444444444444444, \"#bd3786\"], [0.5555555555555556, \"#d8576b\"], [0.6666666666666666, \"#ed7953\"], [0.7777777777777778, \"#fb9f3a\"], [0.8888888888888888, \"#fdca26\"], [1.0, \"#f0f921\"]], \"type\": \"histogram2d\"}], \"histogram2dcontour\": [{\"colorbar\": {\"outlinewidth\": 0, \"ticks\": \"\"}, \"colorscale\": [[0.0, \"#0d0887\"], [0.1111111111111111, \"#46039f\"], [0.2222222222222222, \"#7201a8\"], [0.3333333333333333, \"#9c179e\"], [0.4444444444444444, \"#bd3786\"], [0.5555555555555556, \"#d8576b\"], [0.6666666666666666, \"#ed7953\"], [0.7777777777777778, \"#fb9f3a\"], [0.8888888888888888, \"#fdca26\"], [1.0, \"#f0f921\"]], \"type\": \"histogram2dcontour\"}], \"mesh3d\": [{\"colorbar\": {\"outlinewidth\": 0, \"ticks\": \"\"}, \"type\": \"mesh3d\"}], \"parcoords\": [{\"line\": {\"colorbar\": {\"outlinewidth\": 0, \"ticks\": \"\"}}, \"type\": \"parcoords\"}], \"pie\": [{\"automargin\": true, \"type\": \"pie\"}], \"scatter\": [{\"marker\": {\"colorbar\": {\"outlinewidth\": 0, \"ticks\": \"\"}}, \"type\": \"scatter\"}], \"scatter3d\": [{\"line\": {\"colorbar\": {\"outlinewidth\": 0, \"ticks\": \"\"}}, \"marker\": {\"colorbar\": {\"outlinewidth\": 0, \"ticks\": \"\"}}, \"type\": \"scatter3d\"}], \"scattercarpet\": [{\"marker\": {\"colorbar\": {\"outlinewidth\": 0, \"ticks\": \"\"}}, \"type\": \"scattercarpet\"}], \"scattergeo\": [{\"marker\": {\"colorbar\": {\"outlinewidth\": 0, \"ticks\": \"\"}}, \"type\": \"scattergeo\"}], \"scattergl\": [{\"marker\": {\"colorbar\": {\"outlinewidth\": 0, \"ticks\": \"\"}}, \"type\": \"scattergl\"}], \"scattermapbox\": [{\"marker\": {\"colorbar\": {\"outlinewidth\": 0, \"ticks\": \"\"}}, \"type\": \"scattermapbox\"}], \"scatterpolar\": [{\"marker\": {\"colorbar\": {\"outlinewidth\": 0, \"ticks\": \"\"}}, \"type\": \"scatterpolar\"}], \"scatterpolargl\": [{\"marker\": {\"colorbar\": {\"outlinewidth\": 0, \"ticks\": \"\"}}, \"type\": \"scatterpolargl\"}], \"scatterternary\": [{\"marker\": {\"colorbar\": {\"outlinewidth\": 0, \"ticks\": \"\"}}, \"type\": \"scatterternary\"}], \"surface\": [{\"colorbar\": {\"outlinewidth\": 0, \"ticks\": \"\"}, \"colorscale\": [[0.0, \"#0d0887\"], [0.1111111111111111, \"#46039f\"], [0.2222222222222222, \"#7201a8\"], [0.3333333333333333, \"#9c179e\"], [0.4444444444444444, \"#bd3786\"], [0.5555555555555556, \"#d8576b\"], [0.6666666666666666, \"#ed7953\"], [0.7777777777777778, \"#fb9f3a\"], [0.8888888888888888, \"#fdca26\"], [1.0, \"#f0f921\"]], \"type\": \"surface\"}], \"table\": [{\"cells\": {\"fill\": {\"color\": \"#EBF0F8\"}, \"line\": {\"color\": \"white\"}}, \"header\": {\"fill\": {\"color\": \"#C8D4E3\"}, \"line\": {\"color\": \"white\"}}, \"type\": \"table\"}]}, \"layout\": {\"annotationdefaults\": {\"arrowcolor\": \"#2a3f5f\", \"arrowhead\": 0, \"arrowwidth\": 1}, \"coloraxis\": {\"colorbar\": {\"outlinewidth\": 0, \"ticks\": \"\"}}, \"colorscale\": {\"diverging\": [[0, \"#8e0152\"], [0.1, \"#c51b7d\"], [0.2, \"#de77ae\"], [0.3, \"#f1b6da\"], [0.4, \"#fde0ef\"], [0.5, \"#f7f7f7\"], [0.6, \"#e6f5d0\"], [0.7, \"#b8e186\"], [0.8, \"#7fbc41\"], [0.9, \"#4d9221\"], [1, \"#276419\"]], \"sequential\": [[0.0, \"#0d0887\"], [0.1111111111111111, \"#46039f\"], [0.2222222222222222, \"#7201a8\"], [0.3333333333333333, \"#9c179e\"], [0.4444444444444444, \"#bd3786\"], [0.5555555555555556, \"#d8576b\"], [0.6666666666666666, \"#ed7953\"], [0.7777777777777778, \"#fb9f3a\"], [0.8888888888888888, \"#fdca26\"], [1.0, \"#f0f921\"]], \"sequentialminus\": [[0.0, \"#0d0887\"], [0.1111111111111111, \"#46039f\"], [0.2222222222222222, \"#7201a8\"], [0.3333333333333333, \"#9c179e\"], [0.4444444444444444, \"#bd3786\"], [0.5555555555555556, \"#d8576b\"], [0.6666666666666666, \"#ed7953\"], [0.7777777777777778, \"#fb9f3a\"], [0.8888888888888888, \"#fdca26\"], [1.0, \"#f0f921\"]]}, \"colorway\": [\"#636efa\", \"#EF553B\", \"#00cc96\", \"#ab63fa\", \"#FFA15A\", \"#19d3f3\", \"#FF6692\", \"#B6E880\", \"#FF97FF\", \"#FECB52\"], \"font\": {\"color\": \"#2a3f5f\"}, \"geo\": {\"bgcolor\": \"white\", \"lakecolor\": \"white\", \"landcolor\": \"#E5ECF6\", \"showlakes\": true, \"showland\": true, \"subunitcolor\": \"white\"}, \"hoverlabel\": {\"align\": \"left\"}, \"hovermode\": \"closest\", \"mapbox\": {\"style\": \"light\"}, \"paper_bgcolor\": \"white\", \"plot_bgcolor\": \"#E5ECF6\", \"polar\": {\"angularaxis\": {\"gridcolor\": \"white\", \"linecolor\": \"white\", \"ticks\": \"\"}, \"bgcolor\": \"#E5ECF6\", \"radialaxis\": {\"gridcolor\": \"white\", \"linecolor\": \"white\", \"ticks\": \"\"}}, \"scene\": {\"xaxis\": {\"backgroundcolor\": \"#E5ECF6\", \"gridcolor\": \"white\", \"gridwidth\": 2, \"linecolor\": \"white\", \"showbackground\": true, \"ticks\": \"\", \"zerolinecolor\": \"white\"}, \"yaxis\": {\"backgroundcolor\": \"#E5ECF6\", \"gridcolor\": \"white\", \"gridwidth\": 2, \"linecolor\": \"white\", \"showbackground\": true, \"ticks\": \"\", \"zerolinecolor\": \"white\"}, \"zaxis\": {\"backgroundcolor\": \"#E5ECF6\", \"gridcolor\": \"white\", \"gridwidth\": 2, \"linecolor\": \"white\", \"showbackground\": true, \"ticks\": \"\", \"zerolinecolor\": \"white\"}}, \"shapedefaults\": {\"line\": {\"color\": \"#2a3f5f\"}}, \"ternary\": {\"aaxis\": {\"gridcolor\": \"white\", \"linecolor\": \"white\", \"ticks\": \"\"}, \"baxis\": {\"gridcolor\": \"white\", \"linecolor\": \"white\", \"ticks\": \"\"}, \"bgcolor\": \"#E5ECF6\", \"caxis\": {\"gridcolor\": \"white\", \"linecolor\": \"white\", \"ticks\": \"\"}}, \"title\": {\"x\": 0.05}, \"xaxis\": {\"automargin\": true, \"gridcolor\": \"white\", \"linecolor\": \"white\", \"ticks\": \"\", \"title\": {\"standoff\": 15}, \"zerolinecolor\": \"white\", \"zerolinewidth\": 2}, \"yaxis\": {\"automargin\": true, \"gridcolor\": \"white\", \"linecolor\": \"white\", \"ticks\": \"\", \"title\": {\"standoff\": 15}, \"zerolinecolor\": \"white\", \"zerolinewidth\": 2}}}, \"title\": {\"text\": \"<b>Number of Dust Devils Detected versus Number of Robots</b>\", \"x\": 0.5}, \"xaxis\": {\"linecolor\": \"black\", \"linewidth\": 1, \"range\": [0, 105.0], \"showgrid\": false, \"showline\": true, \"ticks\": \"outside\", \"tickvals\": [0, 10, 20, 30, 40, 50, 60, 70, 80, 90, 100], \"title\": {\"text\": \"Number of Robots\"}}, \"yaxis\": {\"dtick\": 10, \"linecolor\": \"black\", \"linewidth\": 1, \"range\": [0, 110.00000000000001], \"showgrid\": false, \"showline\": true, \"tick0\": 0, \"tickmode\": \"linear\", \"ticks\": \"outside\", \"title\": {\"text\": \"Number of Dust Devils Detected\"}}},                        {\"responsive\": true}                    ).then(function(){\n",
       "                            \n",
       "var gd = document.getElementById('5d9a8254-d47c-4f39-9e5b-9ec44674aac9');\n",
       "var x = new MutationObserver(function (mutations, observer) {{\n",
       "        var display = window.getComputedStyle(gd).display;\n",
       "        if (!display || display === 'none') {{\n",
       "            console.log([gd, 'removed!']);\n",
       "            Plotly.purge(gd);\n",
       "            observer.disconnect();\n",
       "        }}\n",
       "}});\n",
       "\n",
       "// Listen for the removal of the full notebook cells\n",
       "var notebookContainer = gd.closest('#notebook-container');\n",
       "if (notebookContainer) {{\n",
       "    x.observe(notebookContainer, {childList: true});\n",
       "}}\n",
       "\n",
       "// Listen for the clearing of the current output cell\n",
       "var outputEl = gd.closest('.output');\n",
       "if (outputEl) {{\n",
       "    x.observe(outputEl, {childList: true});\n",
       "}}\n",
       "\n",
       "                        })                };                });            </script>        </div>"
      ]
     },
     "metadata": {},
     "output_type": "display_data"
    },
    {
     "name": "stdout",
     "output_type": "stream",
     "text": [
      "Full Day Static 10-50/: 26765.9±4237.74\n",
      "Final Detected:  [61.0, 77.1, 76.2, 83.6, 88.6, 94.2, 97.9, 85.0, 89.5, 89.4]\n",
      "Final generated:  [99.5, 97.9, 101.3, 98.8, 96.1, 96.6, 99.3, 97.1, 99.5, 94.6]\n",
      "Final Detected Error: [7.389181280764467, 8.98276126811795, 4.770744176750625, 7.405403432629448, 6.726068688320095, 11.84736257569591, 10.054352291420866, 9.919677414109795, 7.269800547470337, 7.227724399837061]\n",
      "Final Generated Error:  [6.18465843842649, 8.2516664983505, 9.044888059008802, 7.2636079189339515, 7.6870020163910455, 11.49086593777858, 10.040418317978588, 11.545128842936315, 6.5612498809297, 7.310266752998827]\n",
      "Detected array with uncertainty:  [61.0+/-7.389181280764467 77.1+/-8.98276126811795 76.2+/-4.770744176750625\n",
      " 83.6+/-7.405403432629448 88.6+/-6.726068688320095\n",
      " 94.2+/-11.84736257569591 97.9+/-10.054352291420866\n",
      " 85.0+/-9.919677414109795 89.5+/-7.269800547470337\n",
      " 89.4+/-7.227724399837061]\n",
      "Generated array with uncertainty:  [99.5+/-6.18465843842649 97.9+/-8.2516664983505 101.3+/-9.044888059008802\n",
      " 98.8+/-7.2636079189339515 96.1+/-7.6870020163910455\n",
      " 96.6+/-11.49086593777858 99.3+/-10.040418317978588\n",
      " 97.1+/-11.545128842936315 99.5+/-6.5612498809297 94.6+/-7.310266752998827]\n",
      "Percentage of dust devils detected:  [0.6130653266331658+/-0.08346927463074054\n",
      " 0.7875383043922368+/-0.11324774167057006\n",
      " 0.7522211253701876+/-0.0820305902392596\n",
      " 0.8461538461538461+/-0.09740550736529194\n",
      " 0.9219562955254943+/-0.10167228196959195\n",
      " 0.9751552795031057+/-0.16881024122768404\n",
      " 0.9859013091641491+/-0.14208943825740777\n",
      " 0.8753861997940269+/-0.1458416459496866\n",
      " 0.8994974874371859+/-0.0941089831623165\n",
      " 0.9450317124735731+/-0.1056905159890892]\n",
      "Values of Result:  [61.30653266 78.75383044 75.22211254 84.61538462 92.19562955 97.51552795\n",
      " 98.59013092 87.53861998 89.94974874 94.50317125]\n",
      "<class 'numpy.ndarray'>\n",
      "Uncertainties of Result:  [ 8.34692746 11.32477417  8.20305902  9.74055074 10.1672282  16.88102412\n",
      " 14.20894383 14.58416459  9.41089832 10.5690516 ]\n",
      "<class 'numpy.ndarray'>\n",
      "../Blue Pebble/Files/Full Day Static 10-50/Percentage of Dust Devils Detected vs Number of Robots.png\n"
     ]
    },
    {
     "data": {
      "application/vnd.plotly.v1+json": {
       "config": {
        "plotlyServerURL": "https://plot.ly"
       },
       "data": [
        {
         "error_y": {
          "array": [
           8.346927463074055,
           11.324774167057006,
           8.20305902392596,
           9.740550736529194,
           10.167228196959195,
           16.881024122768405,
           14.208943825740777,
           14.58416459496866,
           9.41089831623165,
           10.56905159890892
          ],
          "type": "data",
          "visible": true
         },
         "mode": "markers",
         "name": "Static Method",
         "type": "scatter",
         "x": [
          10,
          20,
          30,
          40,
          50,
          60,
          70,
          80,
          90,
          100
         ],
         "y": [
          61.30653266331658,
          78.75383043922368,
          75.22211253701876,
          84.61538461538461,
          92.19562955254943,
          97.51552795031057,
          98.5901309164149,
          87.53861997940268,
          89.9497487437186,
          94.50317124735732
         ]
        }
       ],
       "layout": {
        "margin": {
         "l": 10,
         "r": 10,
         "t": 50
        },
        "plot_bgcolor": "rgba(0,0,0,0)",
        "template": {
         "data": {
          "bar": [
           {
            "error_x": {
             "color": "#2a3f5f"
            },
            "error_y": {
             "color": "#2a3f5f"
            },
            "marker": {
             "line": {
              "color": "#E5ECF6",
              "width": 0.5
             }
            },
            "type": "bar"
           }
          ],
          "barpolar": [
           {
            "marker": {
             "line": {
              "color": "#E5ECF6",
              "width": 0.5
             }
            },
            "type": "barpolar"
           }
          ],
          "carpet": [
           {
            "aaxis": {
             "endlinecolor": "#2a3f5f",
             "gridcolor": "white",
             "linecolor": "white",
             "minorgridcolor": "white",
             "startlinecolor": "#2a3f5f"
            },
            "baxis": {
             "endlinecolor": "#2a3f5f",
             "gridcolor": "white",
             "linecolor": "white",
             "minorgridcolor": "white",
             "startlinecolor": "#2a3f5f"
            },
            "type": "carpet"
           }
          ],
          "choropleth": [
           {
            "colorbar": {
             "outlinewidth": 0,
             "ticks": ""
            },
            "type": "choropleth"
           }
          ],
          "contour": [
           {
            "colorbar": {
             "outlinewidth": 0,
             "ticks": ""
            },
            "colorscale": [
             [
              0,
              "#0d0887"
             ],
             [
              0.1111111111111111,
              "#46039f"
             ],
             [
              0.2222222222222222,
              "#7201a8"
             ],
             [
              0.3333333333333333,
              "#9c179e"
             ],
             [
              0.4444444444444444,
              "#bd3786"
             ],
             [
              0.5555555555555556,
              "#d8576b"
             ],
             [
              0.6666666666666666,
              "#ed7953"
             ],
             [
              0.7777777777777778,
              "#fb9f3a"
             ],
             [
              0.8888888888888888,
              "#fdca26"
             ],
             [
              1,
              "#f0f921"
             ]
            ],
            "type": "contour"
           }
          ],
          "contourcarpet": [
           {
            "colorbar": {
             "outlinewidth": 0,
             "ticks": ""
            },
            "type": "contourcarpet"
           }
          ],
          "heatmap": [
           {
            "colorbar": {
             "outlinewidth": 0,
             "ticks": ""
            },
            "colorscale": [
             [
              0,
              "#0d0887"
             ],
             [
              0.1111111111111111,
              "#46039f"
             ],
             [
              0.2222222222222222,
              "#7201a8"
             ],
             [
              0.3333333333333333,
              "#9c179e"
             ],
             [
              0.4444444444444444,
              "#bd3786"
             ],
             [
              0.5555555555555556,
              "#d8576b"
             ],
             [
              0.6666666666666666,
              "#ed7953"
             ],
             [
              0.7777777777777778,
              "#fb9f3a"
             ],
             [
              0.8888888888888888,
              "#fdca26"
             ],
             [
              1,
              "#f0f921"
             ]
            ],
            "type": "heatmap"
           }
          ],
          "heatmapgl": [
           {
            "colorbar": {
             "outlinewidth": 0,
             "ticks": ""
            },
            "colorscale": [
             [
              0,
              "#0d0887"
             ],
             [
              0.1111111111111111,
              "#46039f"
             ],
             [
              0.2222222222222222,
              "#7201a8"
             ],
             [
              0.3333333333333333,
              "#9c179e"
             ],
             [
              0.4444444444444444,
              "#bd3786"
             ],
             [
              0.5555555555555556,
              "#d8576b"
             ],
             [
              0.6666666666666666,
              "#ed7953"
             ],
             [
              0.7777777777777778,
              "#fb9f3a"
             ],
             [
              0.8888888888888888,
              "#fdca26"
             ],
             [
              1,
              "#f0f921"
             ]
            ],
            "type": "heatmapgl"
           }
          ],
          "histogram": [
           {
            "marker": {
             "colorbar": {
              "outlinewidth": 0,
              "ticks": ""
             }
            },
            "type": "histogram"
           }
          ],
          "histogram2d": [
           {
            "colorbar": {
             "outlinewidth": 0,
             "ticks": ""
            },
            "colorscale": [
             [
              0,
              "#0d0887"
             ],
             [
              0.1111111111111111,
              "#46039f"
             ],
             [
              0.2222222222222222,
              "#7201a8"
             ],
             [
              0.3333333333333333,
              "#9c179e"
             ],
             [
              0.4444444444444444,
              "#bd3786"
             ],
             [
              0.5555555555555556,
              "#d8576b"
             ],
             [
              0.6666666666666666,
              "#ed7953"
             ],
             [
              0.7777777777777778,
              "#fb9f3a"
             ],
             [
              0.8888888888888888,
              "#fdca26"
             ],
             [
              1,
              "#f0f921"
             ]
            ],
            "type": "histogram2d"
           }
          ],
          "histogram2dcontour": [
           {
            "colorbar": {
             "outlinewidth": 0,
             "ticks": ""
            },
            "colorscale": [
             [
              0,
              "#0d0887"
             ],
             [
              0.1111111111111111,
              "#46039f"
             ],
             [
              0.2222222222222222,
              "#7201a8"
             ],
             [
              0.3333333333333333,
              "#9c179e"
             ],
             [
              0.4444444444444444,
              "#bd3786"
             ],
             [
              0.5555555555555556,
              "#d8576b"
             ],
             [
              0.6666666666666666,
              "#ed7953"
             ],
             [
              0.7777777777777778,
              "#fb9f3a"
             ],
             [
              0.8888888888888888,
              "#fdca26"
             ],
             [
              1,
              "#f0f921"
             ]
            ],
            "type": "histogram2dcontour"
           }
          ],
          "mesh3d": [
           {
            "colorbar": {
             "outlinewidth": 0,
             "ticks": ""
            },
            "type": "mesh3d"
           }
          ],
          "parcoords": [
           {
            "line": {
             "colorbar": {
              "outlinewidth": 0,
              "ticks": ""
             }
            },
            "type": "parcoords"
           }
          ],
          "pie": [
           {
            "automargin": true,
            "type": "pie"
           }
          ],
          "scatter": [
           {
            "marker": {
             "colorbar": {
              "outlinewidth": 0,
              "ticks": ""
             }
            },
            "type": "scatter"
           }
          ],
          "scatter3d": [
           {
            "line": {
             "colorbar": {
              "outlinewidth": 0,
              "ticks": ""
             }
            },
            "marker": {
             "colorbar": {
              "outlinewidth": 0,
              "ticks": ""
             }
            },
            "type": "scatter3d"
           }
          ],
          "scattercarpet": [
           {
            "marker": {
             "colorbar": {
              "outlinewidth": 0,
              "ticks": ""
             }
            },
            "type": "scattercarpet"
           }
          ],
          "scattergeo": [
           {
            "marker": {
             "colorbar": {
              "outlinewidth": 0,
              "ticks": ""
             }
            },
            "type": "scattergeo"
           }
          ],
          "scattergl": [
           {
            "marker": {
             "colorbar": {
              "outlinewidth": 0,
              "ticks": ""
             }
            },
            "type": "scattergl"
           }
          ],
          "scattermapbox": [
           {
            "marker": {
             "colorbar": {
              "outlinewidth": 0,
              "ticks": ""
             }
            },
            "type": "scattermapbox"
           }
          ],
          "scatterpolar": [
           {
            "marker": {
             "colorbar": {
              "outlinewidth": 0,
              "ticks": ""
             }
            },
            "type": "scatterpolar"
           }
          ],
          "scatterpolargl": [
           {
            "marker": {
             "colorbar": {
              "outlinewidth": 0,
              "ticks": ""
             }
            },
            "type": "scatterpolargl"
           }
          ],
          "scatterternary": [
           {
            "marker": {
             "colorbar": {
              "outlinewidth": 0,
              "ticks": ""
             }
            },
            "type": "scatterternary"
           }
          ],
          "surface": [
           {
            "colorbar": {
             "outlinewidth": 0,
             "ticks": ""
            },
            "colorscale": [
             [
              0,
              "#0d0887"
             ],
             [
              0.1111111111111111,
              "#46039f"
             ],
             [
              0.2222222222222222,
              "#7201a8"
             ],
             [
              0.3333333333333333,
              "#9c179e"
             ],
             [
              0.4444444444444444,
              "#bd3786"
             ],
             [
              0.5555555555555556,
              "#d8576b"
             ],
             [
              0.6666666666666666,
              "#ed7953"
             ],
             [
              0.7777777777777778,
              "#fb9f3a"
             ],
             [
              0.8888888888888888,
              "#fdca26"
             ],
             [
              1,
              "#f0f921"
             ]
            ],
            "type": "surface"
           }
          ],
          "table": [
           {
            "cells": {
             "fill": {
              "color": "#EBF0F8"
             },
             "line": {
              "color": "white"
             }
            },
            "header": {
             "fill": {
              "color": "#C8D4E3"
             },
             "line": {
              "color": "white"
             }
            },
            "type": "table"
           }
          ]
         },
         "layout": {
          "annotationdefaults": {
           "arrowcolor": "#2a3f5f",
           "arrowhead": 0,
           "arrowwidth": 1
          },
          "coloraxis": {
           "colorbar": {
            "outlinewidth": 0,
            "ticks": ""
           }
          },
          "colorscale": {
           "diverging": [
            [
             0,
             "#8e0152"
            ],
            [
             0.1,
             "#c51b7d"
            ],
            [
             0.2,
             "#de77ae"
            ],
            [
             0.3,
             "#f1b6da"
            ],
            [
             0.4,
             "#fde0ef"
            ],
            [
             0.5,
             "#f7f7f7"
            ],
            [
             0.6,
             "#e6f5d0"
            ],
            [
             0.7,
             "#b8e186"
            ],
            [
             0.8,
             "#7fbc41"
            ],
            [
             0.9,
             "#4d9221"
            ],
            [
             1,
             "#276419"
            ]
           ],
           "sequential": [
            [
             0,
             "#0d0887"
            ],
            [
             0.1111111111111111,
             "#46039f"
            ],
            [
             0.2222222222222222,
             "#7201a8"
            ],
            [
             0.3333333333333333,
             "#9c179e"
            ],
            [
             0.4444444444444444,
             "#bd3786"
            ],
            [
             0.5555555555555556,
             "#d8576b"
            ],
            [
             0.6666666666666666,
             "#ed7953"
            ],
            [
             0.7777777777777778,
             "#fb9f3a"
            ],
            [
             0.8888888888888888,
             "#fdca26"
            ],
            [
             1,
             "#f0f921"
            ]
           ],
           "sequentialminus": [
            [
             0,
             "#0d0887"
            ],
            [
             0.1111111111111111,
             "#46039f"
            ],
            [
             0.2222222222222222,
             "#7201a8"
            ],
            [
             0.3333333333333333,
             "#9c179e"
            ],
            [
             0.4444444444444444,
             "#bd3786"
            ],
            [
             0.5555555555555556,
             "#d8576b"
            ],
            [
             0.6666666666666666,
             "#ed7953"
            ],
            [
             0.7777777777777778,
             "#fb9f3a"
            ],
            [
             0.8888888888888888,
             "#fdca26"
            ],
            [
             1,
             "#f0f921"
            ]
           ]
          },
          "colorway": [
           "#636efa",
           "#EF553B",
           "#00cc96",
           "#ab63fa",
           "#FFA15A",
           "#19d3f3",
           "#FF6692",
           "#B6E880",
           "#FF97FF",
           "#FECB52"
          ],
          "font": {
           "color": "#2a3f5f"
          },
          "geo": {
           "bgcolor": "white",
           "lakecolor": "white",
           "landcolor": "#E5ECF6",
           "showlakes": true,
           "showland": true,
           "subunitcolor": "white"
          },
          "hoverlabel": {
           "align": "left"
          },
          "hovermode": "closest",
          "mapbox": {
           "style": "light"
          },
          "paper_bgcolor": "white",
          "plot_bgcolor": "#E5ECF6",
          "polar": {
           "angularaxis": {
            "gridcolor": "white",
            "linecolor": "white",
            "ticks": ""
           },
           "bgcolor": "#E5ECF6",
           "radialaxis": {
            "gridcolor": "white",
            "linecolor": "white",
            "ticks": ""
           }
          },
          "scene": {
           "xaxis": {
            "backgroundcolor": "#E5ECF6",
            "gridcolor": "white",
            "gridwidth": 2,
            "linecolor": "white",
            "showbackground": true,
            "ticks": "",
            "zerolinecolor": "white"
           },
           "yaxis": {
            "backgroundcolor": "#E5ECF6",
            "gridcolor": "white",
            "gridwidth": 2,
            "linecolor": "white",
            "showbackground": true,
            "ticks": "",
            "zerolinecolor": "white"
           },
           "zaxis": {
            "backgroundcolor": "#E5ECF6",
            "gridcolor": "white",
            "gridwidth": 2,
            "linecolor": "white",
            "showbackground": true,
            "ticks": "",
            "zerolinecolor": "white"
           }
          },
          "shapedefaults": {
           "line": {
            "color": "#2a3f5f"
           }
          },
          "ternary": {
           "aaxis": {
            "gridcolor": "white",
            "linecolor": "white",
            "ticks": ""
           },
           "baxis": {
            "gridcolor": "white",
            "linecolor": "white",
            "ticks": ""
           },
           "bgcolor": "#E5ECF6",
           "caxis": {
            "gridcolor": "white",
            "linecolor": "white",
            "ticks": ""
           }
          },
          "title": {
           "x": 0.05
          },
          "xaxis": {
           "automargin": true,
           "gridcolor": "white",
           "linecolor": "white",
           "ticks": "",
           "title": {
            "standoff": 15
           },
           "zerolinecolor": "white",
           "zerolinewidth": 2
          },
          "yaxis": {
           "automargin": true,
           "gridcolor": "white",
           "linecolor": "white",
           "ticks": "",
           "title": {
            "standoff": 15
           },
           "zerolinecolor": "white",
           "zerolinewidth": 2
          }
         }
        },
        "title": {
         "text": "<b>Percentage of Dust Devils Detected versus Number of Robots</b>",
         "x": 0.5
        },
        "xaxis": {
         "linecolor": "black",
         "linewidth": 1,
         "range": [
          0,
          105
         ],
         "showgrid": false,
         "showline": true,
         "ticks": "outside",
         "tickvals": [
          0,
          10,
          20,
          30,
          40,
          50,
          60,
          70,
          80,
          90,
          100
         ],
         "title": {
          "text": "Number of Robots"
         }
        },
        "yaxis": {
         "dtick": 10,
         "linecolor": "black",
         "linewidth": 1,
         "range": [
          0,
          115.99999999999999
         ],
         "showgrid": false,
         "showline": true,
         "tick0": 0,
         "tickmode": "linear",
         "ticks": "outside",
         "title": {
          "text": "Percentage of Dust Devils Detected"
         }
        }
       }
      },
      "text/html": [
       "<div>                            <div id=\"67ba470d-e638-4f3f-a0d6-817b4ee0bcf2\" class=\"plotly-graph-div\" style=\"height:525px; width:100%;\"></div>            <script type=\"text/javascript\">                require([\"plotly\"], function(Plotly) {                    window.PLOTLYENV=window.PLOTLYENV || {};                                    if (document.getElementById(\"67ba470d-e638-4f3f-a0d6-817b4ee0bcf2\")) {                    Plotly.newPlot(                        \"67ba470d-e638-4f3f-a0d6-817b4ee0bcf2\",                        [{\"error_y\": {\"array\": [8.346927463074055, 11.324774167057006, 8.20305902392596, 9.740550736529194, 10.167228196959195, 16.881024122768405, 14.208943825740777, 14.58416459496866, 9.41089831623165, 10.56905159890892], \"type\": \"data\", \"visible\": true}, \"mode\": \"markers\", \"name\": \"Static Method\", \"type\": \"scatter\", \"x\": [10, 20, 30, 40, 50, 60, 70, 80, 90, 100], \"y\": [61.30653266331658, 78.75383043922368, 75.22211253701876, 84.61538461538461, 92.19562955254943, 97.51552795031057, 98.5901309164149, 87.53861997940268, 89.9497487437186, 94.50317124735732]}],                        {\"margin\": {\"l\": 10, \"r\": 10, \"t\": 50}, \"plot_bgcolor\": \"rgba(0,0,0,0)\", \"template\": {\"data\": {\"bar\": [{\"error_x\": {\"color\": \"#2a3f5f\"}, \"error_y\": {\"color\": \"#2a3f5f\"}, \"marker\": {\"line\": {\"color\": \"#E5ECF6\", \"width\": 0.5}}, \"type\": \"bar\"}], \"barpolar\": [{\"marker\": {\"line\": {\"color\": \"#E5ECF6\", \"width\": 0.5}}, \"type\": \"barpolar\"}], \"carpet\": [{\"aaxis\": {\"endlinecolor\": \"#2a3f5f\", \"gridcolor\": \"white\", \"linecolor\": \"white\", \"minorgridcolor\": \"white\", \"startlinecolor\": \"#2a3f5f\"}, \"baxis\": {\"endlinecolor\": \"#2a3f5f\", \"gridcolor\": \"white\", \"linecolor\": \"white\", \"minorgridcolor\": \"white\", \"startlinecolor\": \"#2a3f5f\"}, \"type\": \"carpet\"}], \"choropleth\": [{\"colorbar\": {\"outlinewidth\": 0, \"ticks\": \"\"}, \"type\": \"choropleth\"}], \"contour\": [{\"colorbar\": {\"outlinewidth\": 0, \"ticks\": \"\"}, \"colorscale\": [[0.0, \"#0d0887\"], [0.1111111111111111, \"#46039f\"], [0.2222222222222222, \"#7201a8\"], [0.3333333333333333, \"#9c179e\"], [0.4444444444444444, \"#bd3786\"], [0.5555555555555556, \"#d8576b\"], [0.6666666666666666, \"#ed7953\"], [0.7777777777777778, \"#fb9f3a\"], [0.8888888888888888, \"#fdca26\"], [1.0, \"#f0f921\"]], \"type\": \"contour\"}], \"contourcarpet\": [{\"colorbar\": {\"outlinewidth\": 0, \"ticks\": \"\"}, \"type\": \"contourcarpet\"}], \"heatmap\": [{\"colorbar\": {\"outlinewidth\": 0, \"ticks\": \"\"}, \"colorscale\": [[0.0, \"#0d0887\"], [0.1111111111111111, \"#46039f\"], [0.2222222222222222, \"#7201a8\"], [0.3333333333333333, \"#9c179e\"], [0.4444444444444444, \"#bd3786\"], [0.5555555555555556, \"#d8576b\"], [0.6666666666666666, \"#ed7953\"], [0.7777777777777778, \"#fb9f3a\"], [0.8888888888888888, \"#fdca26\"], [1.0, \"#f0f921\"]], \"type\": \"heatmap\"}], \"heatmapgl\": [{\"colorbar\": {\"outlinewidth\": 0, \"ticks\": \"\"}, \"colorscale\": [[0.0, \"#0d0887\"], [0.1111111111111111, \"#46039f\"], [0.2222222222222222, \"#7201a8\"], [0.3333333333333333, \"#9c179e\"], [0.4444444444444444, \"#bd3786\"], [0.5555555555555556, \"#d8576b\"], [0.6666666666666666, \"#ed7953\"], [0.7777777777777778, \"#fb9f3a\"], [0.8888888888888888, \"#fdca26\"], [1.0, \"#f0f921\"]], \"type\": \"heatmapgl\"}], \"histogram\": [{\"marker\": {\"colorbar\": {\"outlinewidth\": 0, \"ticks\": \"\"}}, \"type\": \"histogram\"}], \"histogram2d\": [{\"colorbar\": {\"outlinewidth\": 0, \"ticks\": \"\"}, \"colorscale\": [[0.0, \"#0d0887\"], [0.1111111111111111, \"#46039f\"], [0.2222222222222222, \"#7201a8\"], [0.3333333333333333, \"#9c179e\"], [0.4444444444444444, \"#bd3786\"], [0.5555555555555556, \"#d8576b\"], [0.6666666666666666, \"#ed7953\"], [0.7777777777777778, \"#fb9f3a\"], [0.8888888888888888, \"#fdca26\"], [1.0, \"#f0f921\"]], \"type\": \"histogram2d\"}], \"histogram2dcontour\": [{\"colorbar\": {\"outlinewidth\": 0, \"ticks\": \"\"}, \"colorscale\": [[0.0, \"#0d0887\"], [0.1111111111111111, \"#46039f\"], [0.2222222222222222, \"#7201a8\"], [0.3333333333333333, \"#9c179e\"], [0.4444444444444444, \"#bd3786\"], [0.5555555555555556, \"#d8576b\"], [0.6666666666666666, \"#ed7953\"], [0.7777777777777778, \"#fb9f3a\"], [0.8888888888888888, \"#fdca26\"], [1.0, \"#f0f921\"]], \"type\": \"histogram2dcontour\"}], \"mesh3d\": [{\"colorbar\": {\"outlinewidth\": 0, \"ticks\": \"\"}, \"type\": \"mesh3d\"}], \"parcoords\": [{\"line\": {\"colorbar\": {\"outlinewidth\": 0, \"ticks\": \"\"}}, \"type\": \"parcoords\"}], \"pie\": [{\"automargin\": true, \"type\": \"pie\"}], \"scatter\": [{\"marker\": {\"colorbar\": {\"outlinewidth\": 0, \"ticks\": \"\"}}, \"type\": \"scatter\"}], \"scatter3d\": [{\"line\": {\"colorbar\": {\"outlinewidth\": 0, \"ticks\": \"\"}}, \"marker\": {\"colorbar\": {\"outlinewidth\": 0, \"ticks\": \"\"}}, \"type\": \"scatter3d\"}], \"scattercarpet\": [{\"marker\": {\"colorbar\": {\"outlinewidth\": 0, \"ticks\": \"\"}}, \"type\": \"scattercarpet\"}], \"scattergeo\": [{\"marker\": {\"colorbar\": {\"outlinewidth\": 0, \"ticks\": \"\"}}, \"type\": \"scattergeo\"}], \"scattergl\": [{\"marker\": {\"colorbar\": {\"outlinewidth\": 0, \"ticks\": \"\"}}, \"type\": \"scattergl\"}], \"scattermapbox\": [{\"marker\": {\"colorbar\": {\"outlinewidth\": 0, \"ticks\": \"\"}}, \"type\": \"scattermapbox\"}], \"scatterpolar\": [{\"marker\": {\"colorbar\": {\"outlinewidth\": 0, \"ticks\": \"\"}}, \"type\": \"scatterpolar\"}], \"scatterpolargl\": [{\"marker\": {\"colorbar\": {\"outlinewidth\": 0, \"ticks\": \"\"}}, \"type\": \"scatterpolargl\"}], \"scatterternary\": [{\"marker\": {\"colorbar\": {\"outlinewidth\": 0, \"ticks\": \"\"}}, \"type\": \"scatterternary\"}], \"surface\": [{\"colorbar\": {\"outlinewidth\": 0, \"ticks\": \"\"}, \"colorscale\": [[0.0, \"#0d0887\"], [0.1111111111111111, \"#46039f\"], [0.2222222222222222, \"#7201a8\"], [0.3333333333333333, \"#9c179e\"], [0.4444444444444444, \"#bd3786\"], [0.5555555555555556, \"#d8576b\"], [0.6666666666666666, \"#ed7953\"], [0.7777777777777778, \"#fb9f3a\"], [0.8888888888888888, \"#fdca26\"], [1.0, \"#f0f921\"]], \"type\": \"surface\"}], \"table\": [{\"cells\": {\"fill\": {\"color\": \"#EBF0F8\"}, \"line\": {\"color\": \"white\"}}, \"header\": {\"fill\": {\"color\": \"#C8D4E3\"}, \"line\": {\"color\": \"white\"}}, \"type\": \"table\"}]}, \"layout\": {\"annotationdefaults\": {\"arrowcolor\": \"#2a3f5f\", \"arrowhead\": 0, \"arrowwidth\": 1}, \"coloraxis\": {\"colorbar\": {\"outlinewidth\": 0, \"ticks\": \"\"}}, \"colorscale\": {\"diverging\": [[0, \"#8e0152\"], [0.1, \"#c51b7d\"], [0.2, \"#de77ae\"], [0.3, \"#f1b6da\"], [0.4, \"#fde0ef\"], [0.5, \"#f7f7f7\"], [0.6, \"#e6f5d0\"], [0.7, \"#b8e186\"], [0.8, \"#7fbc41\"], [0.9, \"#4d9221\"], [1, \"#276419\"]], \"sequential\": [[0.0, \"#0d0887\"], [0.1111111111111111, \"#46039f\"], [0.2222222222222222, \"#7201a8\"], [0.3333333333333333, \"#9c179e\"], [0.4444444444444444, \"#bd3786\"], [0.5555555555555556, \"#d8576b\"], [0.6666666666666666, \"#ed7953\"], [0.7777777777777778, \"#fb9f3a\"], [0.8888888888888888, \"#fdca26\"], [1.0, \"#f0f921\"]], \"sequentialminus\": [[0.0, \"#0d0887\"], [0.1111111111111111, \"#46039f\"], [0.2222222222222222, \"#7201a8\"], [0.3333333333333333, \"#9c179e\"], [0.4444444444444444, \"#bd3786\"], [0.5555555555555556, \"#d8576b\"], [0.6666666666666666, \"#ed7953\"], [0.7777777777777778, \"#fb9f3a\"], [0.8888888888888888, \"#fdca26\"], [1.0, \"#f0f921\"]]}, \"colorway\": [\"#636efa\", \"#EF553B\", \"#00cc96\", \"#ab63fa\", \"#FFA15A\", \"#19d3f3\", \"#FF6692\", \"#B6E880\", \"#FF97FF\", \"#FECB52\"], \"font\": {\"color\": \"#2a3f5f\"}, \"geo\": {\"bgcolor\": \"white\", \"lakecolor\": \"white\", \"landcolor\": \"#E5ECF6\", \"showlakes\": true, \"showland\": true, \"subunitcolor\": \"white\"}, \"hoverlabel\": {\"align\": \"left\"}, \"hovermode\": \"closest\", \"mapbox\": {\"style\": \"light\"}, \"paper_bgcolor\": \"white\", \"plot_bgcolor\": \"#E5ECF6\", \"polar\": {\"angularaxis\": {\"gridcolor\": \"white\", \"linecolor\": \"white\", \"ticks\": \"\"}, \"bgcolor\": \"#E5ECF6\", \"radialaxis\": {\"gridcolor\": \"white\", \"linecolor\": \"white\", \"ticks\": \"\"}}, \"scene\": {\"xaxis\": {\"backgroundcolor\": \"#E5ECF6\", \"gridcolor\": \"white\", \"gridwidth\": 2, \"linecolor\": \"white\", \"showbackground\": true, \"ticks\": \"\", \"zerolinecolor\": \"white\"}, \"yaxis\": {\"backgroundcolor\": \"#E5ECF6\", \"gridcolor\": \"white\", \"gridwidth\": 2, \"linecolor\": \"white\", \"showbackground\": true, \"ticks\": \"\", \"zerolinecolor\": \"white\"}, \"zaxis\": {\"backgroundcolor\": \"#E5ECF6\", \"gridcolor\": \"white\", \"gridwidth\": 2, \"linecolor\": \"white\", \"showbackground\": true, \"ticks\": \"\", \"zerolinecolor\": \"white\"}}, \"shapedefaults\": {\"line\": {\"color\": \"#2a3f5f\"}}, \"ternary\": {\"aaxis\": {\"gridcolor\": \"white\", \"linecolor\": \"white\", \"ticks\": \"\"}, \"baxis\": {\"gridcolor\": \"white\", \"linecolor\": \"white\", \"ticks\": \"\"}, \"bgcolor\": \"#E5ECF6\", \"caxis\": {\"gridcolor\": \"white\", \"linecolor\": \"white\", \"ticks\": \"\"}}, \"title\": {\"x\": 0.05}, \"xaxis\": {\"automargin\": true, \"gridcolor\": \"white\", \"linecolor\": \"white\", \"ticks\": \"\", \"title\": {\"standoff\": 15}, \"zerolinecolor\": \"white\", \"zerolinewidth\": 2}, \"yaxis\": {\"automargin\": true, \"gridcolor\": \"white\", \"linecolor\": \"white\", \"ticks\": \"\", \"title\": {\"standoff\": 15}, \"zerolinecolor\": \"white\", \"zerolinewidth\": 2}}}, \"title\": {\"text\": \"<b>Percentage of Dust Devils Detected versus Number of Robots</b>\", \"x\": 0.5}, \"xaxis\": {\"linecolor\": \"black\", \"linewidth\": 1, \"range\": [0, 105.0], \"showgrid\": false, \"showline\": true, \"ticks\": \"outside\", \"tickvals\": [0, 10, 20, 30, 40, 50, 60, 70, 80, 90, 100], \"title\": {\"text\": \"Number of Robots\"}}, \"yaxis\": {\"dtick\": 10, \"linecolor\": \"black\", \"linewidth\": 1, \"range\": [0, 115.99999999999999], \"showgrid\": false, \"showline\": true, \"tick0\": 0, \"tickmode\": \"linear\", \"ticks\": \"outside\", \"title\": {\"text\": \"Percentage of Dust Devils Detected\"}}},                        {\"responsive\": true}                    ).then(function(){\n",
       "                            \n",
       "var gd = document.getElementById('67ba470d-e638-4f3f-a0d6-817b4ee0bcf2');\n",
       "var x = new MutationObserver(function (mutations, observer) {{\n",
       "        var display = window.getComputedStyle(gd).display;\n",
       "        if (!display || display === 'none') {{\n",
       "            console.log([gd, 'removed!']);\n",
       "            Plotly.purge(gd);\n",
       "            observer.disconnect();\n",
       "        }}\n",
       "}});\n",
       "\n",
       "// Listen for the removal of the full notebook cells\n",
       "var notebookContainer = gd.closest('#notebook-container');\n",
       "if (notebookContainer) {{\n",
       "    x.observe(notebookContainer, {childList: true});\n",
       "}}\n",
       "\n",
       "// Listen for the clearing of the current output cell\n",
       "var outputEl = gd.closest('.output');\n",
       "if (outputEl) {{\n",
       "    x.observe(outputEl, {childList: true});\n",
       "}}\n",
       "\n",
       "                        })                };                });            </script>        </div>"
      ]
     },
     "metadata": {},
     "output_type": "display_data"
    },
    {
     "name": "stdout",
     "output_type": "stream",
     "text": [
      "Final Measurement:  [[1.00000000e+01 2.68890000e+03 4.96546161e+02]\n",
      " [2.00000000e+01 5.64120000e+03 6.52018221e+02]\n",
      " [3.00000000e+01 9.42660000e+03 6.84827015e+02]\n",
      " [4.00000000e+01 1.11589000e+04 1.63251263e+03]\n",
      " [5.00000000e+01 1.34709000e+04 1.15801411e+03]\n",
      " [6.00000000e+01 1.52221000e+04 2.36302397e+03]\n",
      " [7.00000000e+01 1.77527000e+04 2.13498066e+03]\n",
      " [8.00000000e+01 2.20636000e+04 2.44134853e+03]\n",
      " [9.00000000e+01 2.56565000e+04 2.20743282e+03]\n",
      " [1.00000000e+02 2.67659000e+04 4.23774462e+03]]\n",
      "Y Measurement:  [2688.9, 5641.2, 9426.6, 11158.9, 13470.9, 15222.1, 17752.7, 22063.6, 25656.5, 26765.9]\n",
      "Y Measurement Error:  [496.54616099613537, 652.0182206043017, 684.8270146540657, 1632.5126308852866, 1158.0141147671732, 2363.0239715246225, 2134.9806579920114, 2441.348528989665, 2207.432818909785, 4237.744623027678]\n",
      "Measured Uncertainty Array:  [2688.9+/-496.54616099613537 5641.2+/-652.0182206043017\n",
      " 9426.6+/-684.8270146540657 11158.9+/-1632.5126308852866\n",
      " 13470.9+/-1158.0141147671732 15222.1+/-2363.0239715246225\n",
      " 17752.7+/-2134.9806579920114 22063.6+/-2441.348528989665\n",
      " 25656.5+/-2207.432818909785 26765.9+/-4237.744623027678]\n",
      "Percentage Uncertainty Array:  [0.6130653266331658+/-0.08346927463074054\n",
      " 0.7875383043922368+/-0.11324774167057006\n",
      " 0.7522211253701876+/-0.0820305902392596\n",
      " 0.8461538461538461+/-0.09740550736529194\n",
      " 0.9219562955254943+/-0.10167228196959195\n",
      " 0.9751552795031057+/-0.16881024122768404\n",
      " 0.9859013091641491+/-0.14208943825740777\n",
      " 0.8753861997940269+/-0.1458416459496866\n",
      " 0.8994974874371859+/-0.0941089831623165\n",
      " 0.9450317124735731+/-0.1056905159890892]\n",
      "Normalised Measurement Array:  [1648.4713567839196+/-378.20918494365276\n",
      " 4442.661082737486+/-819.6368989907384\n",
      " 7090.887660414611+/-929.148224716045\n",
      " 9442.146153846154+/-1757.720576968816\n",
      " 12419.581061394381+/-1736.5779220509332\n",
      " 14843.911180124225+/-3451.514376416571\n",
      " 17502.41017119839+/-3285.3282288136074\n",
      " 19314.170957775492+/-3862.832845112787\n",
      " 23077.95728643216+/-3126.079603850613\n",
      " 25294.624312896412+/-4903.175789840548]\n",
      "Values of Nmeasurements:  [ 1648.47135678  4442.66108274  7090.88766041  9442.14615385\n",
      " 12419.58106139 14843.91118012 17502.4101712  19314.17095778\n",
      " 23077.95728643 25294.6243129 ]\n",
      "<class 'numpy.ndarray'>\n",
      "Uncertainties of NMeasurements:  [ 378.20918494  819.63689899  929.14822472 1757.72057697 1736.57792205\n",
      " 3451.51437642 3285.32822881 3862.83284511 3126.07960385 4903.17578984]\n",
      "<class 'numpy.ndarray'>\n"
     ]
    },
    {
     "data": {
      "application/vnd.plotly.v1+json": {
       "config": {
        "plotlyServerURL": "https://plot.ly"
       },
       "data": [
        {
         "error_y": {
          "array": [
           378.20918494365276,
           819.6368989907384,
           929.148224716045,
           1757.720576968816,
           1736.5779220509332,
           3451.514376416571,
           3285.3282288136074,
           3862.832845112787,
           3126.079603850613,
           4903.175789840548
          ],
          "type": "data",
          "visible": true
         },
         "marker": {
          "color": "blue",
          "line": {
           "color": "Blue",
           "width": 2
          },
          "size": 8,
          "symbol": "x-thin"
         },
         "mode": "markers",
         "showlegend": false,
         "type": "scatter",
         "x": [
          10,
          20,
          30,
          40,
          50,
          60,
          70,
          80,
          90,
          100
         ],
         "y": [
          1648.4713567839196,
          4442.661082737486,
          7090.887660414611,
          9442.146153846154,
          12419.581061394381,
          14843.911180124225,
          17502.41017119839,
          19314.170957775492,
          23077.95728643216,
          25294.624312896412
         ]
        },
        {
         "fill": "tonexty",
         "fillcolor": "rgba(0,0,255,0.4)",
         "line": {
          "width": 0
         },
         "marker": {
          "color": "#444"
         },
         "mode": "lines",
         "name": "Upper Bound",
         "opacity": 0.5,
         "showlegend": false,
         "type": "scatter",
         "x": [
          10,
          20,
          30,
          40,
          50,
          60,
          70,
          80,
          90,
          100
         ],
         "y": [
          2026.6805417275723,
          5262.297981728225,
          8020.0358851306555,
          11199.866730814969,
          14156.158983445315,
          18295.425556540795,
          20787.738400011996,
          23177.003802888277,
          26204.036890282772,
          30197.80010273696
         ]
        },
        {
         "fill": "tonexty",
         "fillcolor": "rgba(0,0,255,0.3)",
         "line": {
          "width": 0
         },
         "marker": {
          "color": "#444"
         },
         "mode": "lines",
         "name": "Lower Bound",
         "opacity": 0.5,
         "showlegend": false,
         "type": "scatter",
         "x": [
          10,
          20,
          30,
          40,
          50,
          60,
          70,
          80,
          90,
          100
         ],
         "y": [
          1270.262171840267,
          3623.024183746748,
          6161.739435698566,
          7684.425576877337,
          10683.003139343447,
          11392.396803707654,
          14217.081942384782,
          15451.338112662705,
          19951.877682581548,
          20391.448523055864
         ]
        },
        {
         "error_y": {
          "array": [
           378.20918494365276,
           819.6368989907384,
           929.148224716045,
           1757.720576968816,
           1736.5779220509332,
           3451.514376416571,
           3285.3282288136074,
           3862.832845112787,
           3126.079603850613,
           4903.175789840548
          ],
          "type": "data",
          "visible": true
         },
         "marker": {
          "color": "blue",
          "line": {
           "color": "Blue",
           "width": 2
          },
          "size": 8,
          "symbol": "x-thin"
         },
         "mode": "markers",
         "name": "Static Method",
         "showlegend": true,
         "type": "scatter",
         "x": [
          10,
          20,
          30,
          40,
          50,
          60,
          70,
          80,
          90,
          100
         ],
         "y": [
          1648.4713567839196,
          4442.661082737486,
          7090.887660414611,
          9442.146153846154,
          12419.581061394381,
          14843.911180124225,
          17502.41017119839,
          19314.170957775492,
          23077.95728643216,
          25294.624312896412
         ]
        }
       ],
       "layout": {
        "margin": {
         "l": 10,
         "r": 10,
         "t": 50
        },
        "plot_bgcolor": "rgba(0,0,0,0)",
        "template": {
         "data": {
          "bar": [
           {
            "error_x": {
             "color": "#2a3f5f"
            },
            "error_y": {
             "color": "#2a3f5f"
            },
            "marker": {
             "line": {
              "color": "#E5ECF6",
              "width": 0.5
             }
            },
            "type": "bar"
           }
          ],
          "barpolar": [
           {
            "marker": {
             "line": {
              "color": "#E5ECF6",
              "width": 0.5
             }
            },
            "type": "barpolar"
           }
          ],
          "carpet": [
           {
            "aaxis": {
             "endlinecolor": "#2a3f5f",
             "gridcolor": "white",
             "linecolor": "white",
             "minorgridcolor": "white",
             "startlinecolor": "#2a3f5f"
            },
            "baxis": {
             "endlinecolor": "#2a3f5f",
             "gridcolor": "white",
             "linecolor": "white",
             "minorgridcolor": "white",
             "startlinecolor": "#2a3f5f"
            },
            "type": "carpet"
           }
          ],
          "choropleth": [
           {
            "colorbar": {
             "outlinewidth": 0,
             "ticks": ""
            },
            "type": "choropleth"
           }
          ],
          "contour": [
           {
            "colorbar": {
             "outlinewidth": 0,
             "ticks": ""
            },
            "colorscale": [
             [
              0,
              "#0d0887"
             ],
             [
              0.1111111111111111,
              "#46039f"
             ],
             [
              0.2222222222222222,
              "#7201a8"
             ],
             [
              0.3333333333333333,
              "#9c179e"
             ],
             [
              0.4444444444444444,
              "#bd3786"
             ],
             [
              0.5555555555555556,
              "#d8576b"
             ],
             [
              0.6666666666666666,
              "#ed7953"
             ],
             [
              0.7777777777777778,
              "#fb9f3a"
             ],
             [
              0.8888888888888888,
              "#fdca26"
             ],
             [
              1,
              "#f0f921"
             ]
            ],
            "type": "contour"
           }
          ],
          "contourcarpet": [
           {
            "colorbar": {
             "outlinewidth": 0,
             "ticks": ""
            },
            "type": "contourcarpet"
           }
          ],
          "heatmap": [
           {
            "colorbar": {
             "outlinewidth": 0,
             "ticks": ""
            },
            "colorscale": [
             [
              0,
              "#0d0887"
             ],
             [
              0.1111111111111111,
              "#46039f"
             ],
             [
              0.2222222222222222,
              "#7201a8"
             ],
             [
              0.3333333333333333,
              "#9c179e"
             ],
             [
              0.4444444444444444,
              "#bd3786"
             ],
             [
              0.5555555555555556,
              "#d8576b"
             ],
             [
              0.6666666666666666,
              "#ed7953"
             ],
             [
              0.7777777777777778,
              "#fb9f3a"
             ],
             [
              0.8888888888888888,
              "#fdca26"
             ],
             [
              1,
              "#f0f921"
             ]
            ],
            "type": "heatmap"
           }
          ],
          "heatmapgl": [
           {
            "colorbar": {
             "outlinewidth": 0,
             "ticks": ""
            },
            "colorscale": [
             [
              0,
              "#0d0887"
             ],
             [
              0.1111111111111111,
              "#46039f"
             ],
             [
              0.2222222222222222,
              "#7201a8"
             ],
             [
              0.3333333333333333,
              "#9c179e"
             ],
             [
              0.4444444444444444,
              "#bd3786"
             ],
             [
              0.5555555555555556,
              "#d8576b"
             ],
             [
              0.6666666666666666,
              "#ed7953"
             ],
             [
              0.7777777777777778,
              "#fb9f3a"
             ],
             [
              0.8888888888888888,
              "#fdca26"
             ],
             [
              1,
              "#f0f921"
             ]
            ],
            "type": "heatmapgl"
           }
          ],
          "histogram": [
           {
            "marker": {
             "colorbar": {
              "outlinewidth": 0,
              "ticks": ""
             }
            },
            "type": "histogram"
           }
          ],
          "histogram2d": [
           {
            "colorbar": {
             "outlinewidth": 0,
             "ticks": ""
            },
            "colorscale": [
             [
              0,
              "#0d0887"
             ],
             [
              0.1111111111111111,
              "#46039f"
             ],
             [
              0.2222222222222222,
              "#7201a8"
             ],
             [
              0.3333333333333333,
              "#9c179e"
             ],
             [
              0.4444444444444444,
              "#bd3786"
             ],
             [
              0.5555555555555556,
              "#d8576b"
             ],
             [
              0.6666666666666666,
              "#ed7953"
             ],
             [
              0.7777777777777778,
              "#fb9f3a"
             ],
             [
              0.8888888888888888,
              "#fdca26"
             ],
             [
              1,
              "#f0f921"
             ]
            ],
            "type": "histogram2d"
           }
          ],
          "histogram2dcontour": [
           {
            "colorbar": {
             "outlinewidth": 0,
             "ticks": ""
            },
            "colorscale": [
             [
              0,
              "#0d0887"
             ],
             [
              0.1111111111111111,
              "#46039f"
             ],
             [
              0.2222222222222222,
              "#7201a8"
             ],
             [
              0.3333333333333333,
              "#9c179e"
             ],
             [
              0.4444444444444444,
              "#bd3786"
             ],
             [
              0.5555555555555556,
              "#d8576b"
             ],
             [
              0.6666666666666666,
              "#ed7953"
             ],
             [
              0.7777777777777778,
              "#fb9f3a"
             ],
             [
              0.8888888888888888,
              "#fdca26"
             ],
             [
              1,
              "#f0f921"
             ]
            ],
            "type": "histogram2dcontour"
           }
          ],
          "mesh3d": [
           {
            "colorbar": {
             "outlinewidth": 0,
             "ticks": ""
            },
            "type": "mesh3d"
           }
          ],
          "parcoords": [
           {
            "line": {
             "colorbar": {
              "outlinewidth": 0,
              "ticks": ""
             }
            },
            "type": "parcoords"
           }
          ],
          "pie": [
           {
            "automargin": true,
            "type": "pie"
           }
          ],
          "scatter": [
           {
            "marker": {
             "colorbar": {
              "outlinewidth": 0,
              "ticks": ""
             }
            },
            "type": "scatter"
           }
          ],
          "scatter3d": [
           {
            "line": {
             "colorbar": {
              "outlinewidth": 0,
              "ticks": ""
             }
            },
            "marker": {
             "colorbar": {
              "outlinewidth": 0,
              "ticks": ""
             }
            },
            "type": "scatter3d"
           }
          ],
          "scattercarpet": [
           {
            "marker": {
             "colorbar": {
              "outlinewidth": 0,
              "ticks": ""
             }
            },
            "type": "scattercarpet"
           }
          ],
          "scattergeo": [
           {
            "marker": {
             "colorbar": {
              "outlinewidth": 0,
              "ticks": ""
             }
            },
            "type": "scattergeo"
           }
          ],
          "scattergl": [
           {
            "marker": {
             "colorbar": {
              "outlinewidth": 0,
              "ticks": ""
             }
            },
            "type": "scattergl"
           }
          ],
          "scattermapbox": [
           {
            "marker": {
             "colorbar": {
              "outlinewidth": 0,
              "ticks": ""
             }
            },
            "type": "scattermapbox"
           }
          ],
          "scatterpolar": [
           {
            "marker": {
             "colorbar": {
              "outlinewidth": 0,
              "ticks": ""
             }
            },
            "type": "scatterpolar"
           }
          ],
          "scatterpolargl": [
           {
            "marker": {
             "colorbar": {
              "outlinewidth": 0,
              "ticks": ""
             }
            },
            "type": "scatterpolargl"
           }
          ],
          "scatterternary": [
           {
            "marker": {
             "colorbar": {
              "outlinewidth": 0,
              "ticks": ""
             }
            },
            "type": "scatterternary"
           }
          ],
          "surface": [
           {
            "colorbar": {
             "outlinewidth": 0,
             "ticks": ""
            },
            "colorscale": [
             [
              0,
              "#0d0887"
             ],
             [
              0.1111111111111111,
              "#46039f"
             ],
             [
              0.2222222222222222,
              "#7201a8"
             ],
             [
              0.3333333333333333,
              "#9c179e"
             ],
             [
              0.4444444444444444,
              "#bd3786"
             ],
             [
              0.5555555555555556,
              "#d8576b"
             ],
             [
              0.6666666666666666,
              "#ed7953"
             ],
             [
              0.7777777777777778,
              "#fb9f3a"
             ],
             [
              0.8888888888888888,
              "#fdca26"
             ],
             [
              1,
              "#f0f921"
             ]
            ],
            "type": "surface"
           }
          ],
          "table": [
           {
            "cells": {
             "fill": {
              "color": "#EBF0F8"
             },
             "line": {
              "color": "white"
             }
            },
            "header": {
             "fill": {
              "color": "#C8D4E3"
             },
             "line": {
              "color": "white"
             }
            },
            "type": "table"
           }
          ]
         },
         "layout": {
          "annotationdefaults": {
           "arrowcolor": "#2a3f5f",
           "arrowhead": 0,
           "arrowwidth": 1
          },
          "coloraxis": {
           "colorbar": {
            "outlinewidth": 0,
            "ticks": ""
           }
          },
          "colorscale": {
           "diverging": [
            [
             0,
             "#8e0152"
            ],
            [
             0.1,
             "#c51b7d"
            ],
            [
             0.2,
             "#de77ae"
            ],
            [
             0.3,
             "#f1b6da"
            ],
            [
             0.4,
             "#fde0ef"
            ],
            [
             0.5,
             "#f7f7f7"
            ],
            [
             0.6,
             "#e6f5d0"
            ],
            [
             0.7,
             "#b8e186"
            ],
            [
             0.8,
             "#7fbc41"
            ],
            [
             0.9,
             "#4d9221"
            ],
            [
             1,
             "#276419"
            ]
           ],
           "sequential": [
            [
             0,
             "#0d0887"
            ],
            [
             0.1111111111111111,
             "#46039f"
            ],
            [
             0.2222222222222222,
             "#7201a8"
            ],
            [
             0.3333333333333333,
             "#9c179e"
            ],
            [
             0.4444444444444444,
             "#bd3786"
            ],
            [
             0.5555555555555556,
             "#d8576b"
            ],
            [
             0.6666666666666666,
             "#ed7953"
            ],
            [
             0.7777777777777778,
             "#fb9f3a"
            ],
            [
             0.8888888888888888,
             "#fdca26"
            ],
            [
             1,
             "#f0f921"
            ]
           ],
           "sequentialminus": [
            [
             0,
             "#0d0887"
            ],
            [
             0.1111111111111111,
             "#46039f"
            ],
            [
             0.2222222222222222,
             "#7201a8"
            ],
            [
             0.3333333333333333,
             "#9c179e"
            ],
            [
             0.4444444444444444,
             "#bd3786"
            ],
            [
             0.5555555555555556,
             "#d8576b"
            ],
            [
             0.6666666666666666,
             "#ed7953"
            ],
            [
             0.7777777777777778,
             "#fb9f3a"
            ],
            [
             0.8888888888888888,
             "#fdca26"
            ],
            [
             1,
             "#f0f921"
            ]
           ]
          },
          "colorway": [
           "#636efa",
           "#EF553B",
           "#00cc96",
           "#ab63fa",
           "#FFA15A",
           "#19d3f3",
           "#FF6692",
           "#B6E880",
           "#FF97FF",
           "#FECB52"
          ],
          "font": {
           "color": "#2a3f5f"
          },
          "geo": {
           "bgcolor": "white",
           "lakecolor": "white",
           "landcolor": "#E5ECF6",
           "showlakes": true,
           "showland": true,
           "subunitcolor": "white"
          },
          "hoverlabel": {
           "align": "left"
          },
          "hovermode": "closest",
          "mapbox": {
           "style": "light"
          },
          "paper_bgcolor": "white",
          "plot_bgcolor": "#E5ECF6",
          "polar": {
           "angularaxis": {
            "gridcolor": "white",
            "linecolor": "white",
            "ticks": ""
           },
           "bgcolor": "#E5ECF6",
           "radialaxis": {
            "gridcolor": "white",
            "linecolor": "white",
            "ticks": ""
           }
          },
          "scene": {
           "xaxis": {
            "backgroundcolor": "#E5ECF6",
            "gridcolor": "white",
            "gridwidth": 2,
            "linecolor": "white",
            "showbackground": true,
            "ticks": "",
            "zerolinecolor": "white"
           },
           "yaxis": {
            "backgroundcolor": "#E5ECF6",
            "gridcolor": "white",
            "gridwidth": 2,
            "linecolor": "white",
            "showbackground": true,
            "ticks": "",
            "zerolinecolor": "white"
           },
           "zaxis": {
            "backgroundcolor": "#E5ECF6",
            "gridcolor": "white",
            "gridwidth": 2,
            "linecolor": "white",
            "showbackground": true,
            "ticks": "",
            "zerolinecolor": "white"
           }
          },
          "shapedefaults": {
           "line": {
            "color": "#2a3f5f"
           }
          },
          "ternary": {
           "aaxis": {
            "gridcolor": "white",
            "linecolor": "white",
            "ticks": ""
           },
           "baxis": {
            "gridcolor": "white",
            "linecolor": "white",
            "ticks": ""
           },
           "bgcolor": "#E5ECF6",
           "caxis": {
            "gridcolor": "white",
            "linecolor": "white",
            "ticks": ""
           }
          },
          "title": {
           "x": 0.05
          },
          "xaxis": {
           "automargin": true,
           "gridcolor": "white",
           "linecolor": "white",
           "ticks": "",
           "title": {
            "standoff": 15
           },
           "zerolinecolor": "white",
           "zerolinewidth": 2
          },
          "yaxis": {
           "automargin": true,
           "gridcolor": "white",
           "linecolor": "white",
           "ticks": "",
           "title": {
            "standoff": 15
           },
           "zerolinecolor": "white",
           "zerolinewidth": 2
          }
         }
        },
        "title": {
         "text": "<b>Normalised Number of Dust Devil Measurements versus Number of Robots</b>",
         "x": 0.5
        },
        "xaxis": {
         "linecolor": "black",
         "linewidth": 1,
         "range": [
          0,
          105
         ],
         "showgrid": false,
         "showline": true,
         "ticks": "outside",
         "tickvals": [
          0,
          10,
          20,
          30,
          40,
          50,
          60,
          70,
          80,
          90,
          100
         ],
         "title": {
          "text": "Number of Robots"
         }
        },
        "yaxis": {
         "dtick": 2000,
         "linecolor": "black",
         "linewidth": 1,
         "range": [
          0,
          40000
         ],
         "showgrid": false,
         "showline": true,
         "tick0": 0,
         "tickmode": "linear",
         "ticks": "outside",
         "title": {
          "text": "Normalised Number of Dust Devil Measurements"
         }
        }
       }
      },
      "text/html": [
       "<div>                            <div id=\"4228ff29-8515-4842-baeb-989e70bd979b\" class=\"plotly-graph-div\" style=\"height:525px; width:100%;\"></div>            <script type=\"text/javascript\">                require([\"plotly\"], function(Plotly) {                    window.PLOTLYENV=window.PLOTLYENV || {};                                    if (document.getElementById(\"4228ff29-8515-4842-baeb-989e70bd979b\")) {                    Plotly.newPlot(                        \"4228ff29-8515-4842-baeb-989e70bd979b\",                        [{\"error_y\": {\"array\": [378.20918494365276, 819.6368989907384, 929.148224716045, 1757.720576968816, 1736.5779220509332, 3451.514376416571, 3285.3282288136074, 3862.832845112787, 3126.079603850613, 4903.175789840548], \"type\": \"data\", \"visible\": true}, \"marker\": {\"color\": \"blue\", \"line\": {\"color\": \"Blue\", \"width\": 2}, \"size\": 8, \"symbol\": \"x-thin\"}, \"mode\": \"markers\", \"showlegend\": false, \"type\": \"scatter\", \"x\": [10, 20, 30, 40, 50, 60, 70, 80, 90, 100], \"y\": [1648.4713567839196, 4442.661082737486, 7090.887660414611, 9442.146153846154, 12419.581061394381, 14843.911180124225, 17502.41017119839, 19314.170957775492, 23077.95728643216, 25294.624312896412]}, {\"fill\": \"tonexty\", \"fillcolor\": \"rgba(0,0,255,0.4)\", \"line\": {\"width\": 0}, \"marker\": {\"color\": \"#444\"}, \"mode\": \"lines\", \"name\": \"Upper Bound\", \"opacity\": 0.5, \"showlegend\": false, \"type\": \"scatter\", \"x\": [10, 20, 30, 40, 50, 60, 70, 80, 90, 100], \"y\": [2026.6805417275723, 5262.297981728225, 8020.0358851306555, 11199.866730814969, 14156.158983445315, 18295.425556540795, 20787.738400011996, 23177.003802888277, 26204.036890282772, 30197.80010273696]}, {\"fill\": \"tonexty\", \"fillcolor\": \"rgba(0,0,255,0.3)\", \"line\": {\"width\": 0}, \"marker\": {\"color\": \"#444\"}, \"mode\": \"lines\", \"name\": \"Lower Bound\", \"opacity\": 0.5, \"showlegend\": false, \"type\": \"scatter\", \"x\": [10, 20, 30, 40, 50, 60, 70, 80, 90, 100], \"y\": [1270.262171840267, 3623.024183746748, 6161.739435698566, 7684.425576877337, 10683.003139343447, 11392.396803707654, 14217.081942384782, 15451.338112662705, 19951.877682581548, 20391.448523055864]}, {\"error_y\": {\"array\": [378.20918494365276, 819.6368989907384, 929.148224716045, 1757.720576968816, 1736.5779220509332, 3451.514376416571, 3285.3282288136074, 3862.832845112787, 3126.079603850613, 4903.175789840548], \"type\": \"data\", \"visible\": true}, \"marker\": {\"color\": \"blue\", \"line\": {\"color\": \"Blue\", \"width\": 2}, \"size\": 8, \"symbol\": \"x-thin\"}, \"mode\": \"markers\", \"name\": \"Static Method\", \"showlegend\": true, \"type\": \"scatter\", \"x\": [10, 20, 30, 40, 50, 60, 70, 80, 90, 100], \"y\": [1648.4713567839196, 4442.661082737486, 7090.887660414611, 9442.146153846154, 12419.581061394381, 14843.911180124225, 17502.41017119839, 19314.170957775492, 23077.95728643216, 25294.624312896412]}],                        {\"margin\": {\"l\": 10, \"r\": 10, \"t\": 50}, \"plot_bgcolor\": \"rgba(0,0,0,0)\", \"template\": {\"data\": {\"bar\": [{\"error_x\": {\"color\": \"#2a3f5f\"}, \"error_y\": {\"color\": \"#2a3f5f\"}, \"marker\": {\"line\": {\"color\": \"#E5ECF6\", \"width\": 0.5}}, \"type\": \"bar\"}], \"barpolar\": [{\"marker\": {\"line\": {\"color\": \"#E5ECF6\", \"width\": 0.5}}, \"type\": \"barpolar\"}], \"carpet\": [{\"aaxis\": {\"endlinecolor\": \"#2a3f5f\", \"gridcolor\": \"white\", \"linecolor\": \"white\", \"minorgridcolor\": \"white\", \"startlinecolor\": \"#2a3f5f\"}, \"baxis\": {\"endlinecolor\": \"#2a3f5f\", \"gridcolor\": \"white\", \"linecolor\": \"white\", \"minorgridcolor\": \"white\", \"startlinecolor\": \"#2a3f5f\"}, \"type\": \"carpet\"}], \"choropleth\": [{\"colorbar\": {\"outlinewidth\": 0, \"ticks\": \"\"}, \"type\": \"choropleth\"}], \"contour\": [{\"colorbar\": {\"outlinewidth\": 0, \"ticks\": \"\"}, \"colorscale\": [[0.0, \"#0d0887\"], [0.1111111111111111, \"#46039f\"], [0.2222222222222222, \"#7201a8\"], [0.3333333333333333, \"#9c179e\"], [0.4444444444444444, \"#bd3786\"], [0.5555555555555556, \"#d8576b\"], [0.6666666666666666, \"#ed7953\"], [0.7777777777777778, \"#fb9f3a\"], [0.8888888888888888, \"#fdca26\"], [1.0, \"#f0f921\"]], \"type\": \"contour\"}], \"contourcarpet\": [{\"colorbar\": {\"outlinewidth\": 0, \"ticks\": \"\"}, \"type\": \"contourcarpet\"}], \"heatmap\": [{\"colorbar\": {\"outlinewidth\": 0, \"ticks\": \"\"}, \"colorscale\": [[0.0, \"#0d0887\"], [0.1111111111111111, \"#46039f\"], [0.2222222222222222, \"#7201a8\"], [0.3333333333333333, \"#9c179e\"], [0.4444444444444444, \"#bd3786\"], [0.5555555555555556, \"#d8576b\"], [0.6666666666666666, \"#ed7953\"], [0.7777777777777778, \"#fb9f3a\"], [0.8888888888888888, \"#fdca26\"], [1.0, \"#f0f921\"]], \"type\": \"heatmap\"}], \"heatmapgl\": [{\"colorbar\": {\"outlinewidth\": 0, \"ticks\": \"\"}, \"colorscale\": [[0.0, \"#0d0887\"], [0.1111111111111111, \"#46039f\"], [0.2222222222222222, \"#7201a8\"], [0.3333333333333333, \"#9c179e\"], [0.4444444444444444, \"#bd3786\"], [0.5555555555555556, \"#d8576b\"], [0.6666666666666666, \"#ed7953\"], [0.7777777777777778, \"#fb9f3a\"], [0.8888888888888888, \"#fdca26\"], [1.0, \"#f0f921\"]], \"type\": \"heatmapgl\"}], \"histogram\": [{\"marker\": {\"colorbar\": {\"outlinewidth\": 0, \"ticks\": \"\"}}, \"type\": \"histogram\"}], \"histogram2d\": [{\"colorbar\": {\"outlinewidth\": 0, \"ticks\": \"\"}, \"colorscale\": [[0.0, \"#0d0887\"], [0.1111111111111111, \"#46039f\"], [0.2222222222222222, \"#7201a8\"], [0.3333333333333333, \"#9c179e\"], [0.4444444444444444, \"#bd3786\"], [0.5555555555555556, \"#d8576b\"], [0.6666666666666666, \"#ed7953\"], [0.7777777777777778, \"#fb9f3a\"], [0.8888888888888888, \"#fdca26\"], [1.0, \"#f0f921\"]], \"type\": \"histogram2d\"}], \"histogram2dcontour\": [{\"colorbar\": {\"outlinewidth\": 0, \"ticks\": \"\"}, \"colorscale\": [[0.0, \"#0d0887\"], [0.1111111111111111, \"#46039f\"], [0.2222222222222222, \"#7201a8\"], [0.3333333333333333, \"#9c179e\"], [0.4444444444444444, \"#bd3786\"], [0.5555555555555556, \"#d8576b\"], [0.6666666666666666, \"#ed7953\"], [0.7777777777777778, \"#fb9f3a\"], [0.8888888888888888, \"#fdca26\"], [1.0, \"#f0f921\"]], \"type\": \"histogram2dcontour\"}], \"mesh3d\": [{\"colorbar\": {\"outlinewidth\": 0, \"ticks\": \"\"}, \"type\": \"mesh3d\"}], \"parcoords\": [{\"line\": {\"colorbar\": {\"outlinewidth\": 0, \"ticks\": \"\"}}, \"type\": \"parcoords\"}], \"pie\": [{\"automargin\": true, \"type\": \"pie\"}], \"scatter\": [{\"marker\": {\"colorbar\": {\"outlinewidth\": 0, \"ticks\": \"\"}}, \"type\": \"scatter\"}], \"scatter3d\": [{\"line\": {\"colorbar\": {\"outlinewidth\": 0, \"ticks\": \"\"}}, \"marker\": {\"colorbar\": {\"outlinewidth\": 0, \"ticks\": \"\"}}, \"type\": \"scatter3d\"}], \"scattercarpet\": [{\"marker\": {\"colorbar\": {\"outlinewidth\": 0, \"ticks\": \"\"}}, \"type\": \"scattercarpet\"}], \"scattergeo\": [{\"marker\": {\"colorbar\": {\"outlinewidth\": 0, \"ticks\": \"\"}}, \"type\": \"scattergeo\"}], \"scattergl\": [{\"marker\": {\"colorbar\": {\"outlinewidth\": 0, \"ticks\": \"\"}}, \"type\": \"scattergl\"}], \"scattermapbox\": [{\"marker\": {\"colorbar\": {\"outlinewidth\": 0, \"ticks\": \"\"}}, \"type\": \"scattermapbox\"}], \"scatterpolar\": [{\"marker\": {\"colorbar\": {\"outlinewidth\": 0, \"ticks\": \"\"}}, \"type\": \"scatterpolar\"}], \"scatterpolargl\": [{\"marker\": {\"colorbar\": {\"outlinewidth\": 0, \"ticks\": \"\"}}, \"type\": \"scatterpolargl\"}], \"scatterternary\": [{\"marker\": {\"colorbar\": {\"outlinewidth\": 0, \"ticks\": \"\"}}, \"type\": \"scatterternary\"}], \"surface\": [{\"colorbar\": {\"outlinewidth\": 0, \"ticks\": \"\"}, \"colorscale\": [[0.0, \"#0d0887\"], [0.1111111111111111, \"#46039f\"], [0.2222222222222222, \"#7201a8\"], [0.3333333333333333, \"#9c179e\"], [0.4444444444444444, \"#bd3786\"], [0.5555555555555556, \"#d8576b\"], [0.6666666666666666, \"#ed7953\"], [0.7777777777777778, \"#fb9f3a\"], [0.8888888888888888, \"#fdca26\"], [1.0, \"#f0f921\"]], \"type\": \"surface\"}], \"table\": [{\"cells\": {\"fill\": {\"color\": \"#EBF0F8\"}, \"line\": {\"color\": \"white\"}}, \"header\": {\"fill\": {\"color\": \"#C8D4E3\"}, \"line\": {\"color\": \"white\"}}, \"type\": \"table\"}]}, \"layout\": {\"annotationdefaults\": {\"arrowcolor\": \"#2a3f5f\", \"arrowhead\": 0, \"arrowwidth\": 1}, \"coloraxis\": {\"colorbar\": {\"outlinewidth\": 0, \"ticks\": \"\"}}, \"colorscale\": {\"diverging\": [[0, \"#8e0152\"], [0.1, \"#c51b7d\"], [0.2, \"#de77ae\"], [0.3, \"#f1b6da\"], [0.4, \"#fde0ef\"], [0.5, \"#f7f7f7\"], [0.6, \"#e6f5d0\"], [0.7, \"#b8e186\"], [0.8, \"#7fbc41\"], [0.9, \"#4d9221\"], [1, \"#276419\"]], \"sequential\": [[0.0, \"#0d0887\"], [0.1111111111111111, \"#46039f\"], [0.2222222222222222, \"#7201a8\"], [0.3333333333333333, \"#9c179e\"], [0.4444444444444444, \"#bd3786\"], [0.5555555555555556, \"#d8576b\"], [0.6666666666666666, \"#ed7953\"], [0.7777777777777778, \"#fb9f3a\"], [0.8888888888888888, \"#fdca26\"], [1.0, \"#f0f921\"]], \"sequentialminus\": [[0.0, \"#0d0887\"], [0.1111111111111111, \"#46039f\"], [0.2222222222222222, \"#7201a8\"], [0.3333333333333333, \"#9c179e\"], [0.4444444444444444, \"#bd3786\"], [0.5555555555555556, \"#d8576b\"], [0.6666666666666666, \"#ed7953\"], [0.7777777777777778, \"#fb9f3a\"], [0.8888888888888888, \"#fdca26\"], [1.0, \"#f0f921\"]]}, \"colorway\": [\"#636efa\", \"#EF553B\", \"#00cc96\", \"#ab63fa\", \"#FFA15A\", \"#19d3f3\", \"#FF6692\", \"#B6E880\", \"#FF97FF\", \"#FECB52\"], \"font\": {\"color\": \"#2a3f5f\"}, \"geo\": {\"bgcolor\": \"white\", \"lakecolor\": \"white\", \"landcolor\": \"#E5ECF6\", \"showlakes\": true, \"showland\": true, \"subunitcolor\": \"white\"}, \"hoverlabel\": {\"align\": \"left\"}, \"hovermode\": \"closest\", \"mapbox\": {\"style\": \"light\"}, \"paper_bgcolor\": \"white\", \"plot_bgcolor\": \"#E5ECF6\", \"polar\": {\"angularaxis\": {\"gridcolor\": \"white\", \"linecolor\": \"white\", \"ticks\": \"\"}, \"bgcolor\": \"#E5ECF6\", \"radialaxis\": {\"gridcolor\": \"white\", \"linecolor\": \"white\", \"ticks\": \"\"}}, \"scene\": {\"xaxis\": {\"backgroundcolor\": \"#E5ECF6\", \"gridcolor\": \"white\", \"gridwidth\": 2, \"linecolor\": \"white\", \"showbackground\": true, \"ticks\": \"\", \"zerolinecolor\": \"white\"}, \"yaxis\": {\"backgroundcolor\": \"#E5ECF6\", \"gridcolor\": \"white\", \"gridwidth\": 2, \"linecolor\": \"white\", \"showbackground\": true, \"ticks\": \"\", \"zerolinecolor\": \"white\"}, \"zaxis\": {\"backgroundcolor\": \"#E5ECF6\", \"gridcolor\": \"white\", \"gridwidth\": 2, \"linecolor\": \"white\", \"showbackground\": true, \"ticks\": \"\", \"zerolinecolor\": \"white\"}}, \"shapedefaults\": {\"line\": {\"color\": \"#2a3f5f\"}}, \"ternary\": {\"aaxis\": {\"gridcolor\": \"white\", \"linecolor\": \"white\", \"ticks\": \"\"}, \"baxis\": {\"gridcolor\": \"white\", \"linecolor\": \"white\", \"ticks\": \"\"}, \"bgcolor\": \"#E5ECF6\", \"caxis\": {\"gridcolor\": \"white\", \"linecolor\": \"white\", \"ticks\": \"\"}}, \"title\": {\"x\": 0.05}, \"xaxis\": {\"automargin\": true, \"gridcolor\": \"white\", \"linecolor\": \"white\", \"ticks\": \"\", \"title\": {\"standoff\": 15}, \"zerolinecolor\": \"white\", \"zerolinewidth\": 2}, \"yaxis\": {\"automargin\": true, \"gridcolor\": \"white\", \"linecolor\": \"white\", \"ticks\": \"\", \"title\": {\"standoff\": 15}, \"zerolinecolor\": \"white\", \"zerolinewidth\": 2}}}, \"title\": {\"text\": \"<b>Normalised Number of Dust Devil Measurements versus Number of Robots</b>\", \"x\": 0.5}, \"xaxis\": {\"linecolor\": \"black\", \"linewidth\": 1, \"range\": [0, 105.0], \"showgrid\": false, \"showline\": true, \"ticks\": \"outside\", \"tickvals\": [0, 10, 20, 30, 40, 50, 60, 70, 80, 90, 100], \"title\": {\"text\": \"Number of Robots\"}}, \"yaxis\": {\"dtick\": 2000, \"linecolor\": \"black\", \"linewidth\": 1, \"range\": [0, 40000], \"showgrid\": false, \"showline\": true, \"tick0\": 0, \"tickmode\": \"linear\", \"ticks\": \"outside\", \"title\": {\"text\": \"Normalised Number of Dust Devil Measurements\"}}},                        {\"responsive\": true}                    ).then(function(){\n",
       "                            \n",
       "var gd = document.getElementById('4228ff29-8515-4842-baeb-989e70bd979b');\n",
       "var x = new MutationObserver(function (mutations, observer) {{\n",
       "        var display = window.getComputedStyle(gd).display;\n",
       "        if (!display || display === 'none') {{\n",
       "            console.log([gd, 'removed!']);\n",
       "            Plotly.purge(gd);\n",
       "            observer.disconnect();\n",
       "        }}\n",
       "}});\n",
       "\n",
       "// Listen for the removal of the full notebook cells\n",
       "var notebookContainer = gd.closest('#notebook-container');\n",
       "if (notebookContainer) {{\n",
       "    x.observe(notebookContainer, {childList: true});\n",
       "}}\n",
       "\n",
       "// Listen for the clearing of the current output cell\n",
       "var outputEl = gd.closest('.output');\n",
       "if (outputEl) {{\n",
       "    x.observe(outputEl, {childList: true});\n",
       "}}\n",
       "\n",
       "                        })                };                });            </script>        </div>"
      ]
     },
     "metadata": {},
     "output_type": "display_data"
    }
   ],
   "source": [
    "from uncertainties import unumpy\n",
    "\n",
    "robot_array = [10,20,30,40,50,60,70,80,90,100]\n",
    "\n",
    "##### paths to 3 different datasets\n",
    "static = \"Full Day Static 10-50/\"\n",
    "tracking = \"Tracking_Day_Long/\"\n",
    "tracking_no_G = \"Tracking_Day_No_G_Broadcast/\"\n",
    "base = \"../Blue Pebble/Files/\"\n",
    "tracking_increased_decay = \"Tracking_Day_Increased_Decay/\"\n",
    "\n",
    "#dust detection figure\n",
    "code = \"\"\n",
    "x_title_detection = \"Number of Robots\" \n",
    "y_title_detection = \"Number of Dust Devils Detected\"\n",
    "\n",
    "\n",
    "x_title_measurement = \"Number of Robots\" \n",
    "y_title_measurement = \"Number of Dust Devil Measurements\"\n",
    "static_name= \"Static Method\"\n",
    "#first making static figure\n",
    "chosen_path = static\n",
    "current_path = base+chosen_path\n",
    "final_detected = np.load(current_path + 'Dust Detection Metric vs Number of Robots.npy')\n",
    "\n",
    "final_measurement = np.load(current_path + 'Dust Measurement Metric vs Number of Robots.npy')\n",
    "\n",
    "\n",
    "detected_figure = final_processing(final_detected,x_title_detection,y_title_detection,code,10,static_name)\n",
    "measured_figure = final_processing_max(final_measurement,x_title_measurement,y_title_measurement,code,2000,static_name,40000)\n",
    "measured_figure.show()\n",
    "detected_figure.show()\n",
    "\n",
    "measured_figure.write_image(current_path+\"Graph - Dust Detection Metric vs Number of Robots.png\")\n",
    "x_check,y_check,y_error_check =processing_data(final_measurement) \n",
    "print(chosen_path + \": \" + str(round(y_check[-1],2)) + \"±\" + str(round(y_error_check[-1],2)))\n",
    "detected_figure.write_image(current_path+\"Graph - Dust Measurement Metric Detection Metric vs Number of Robots.png\")\n",
    "\n",
    "\n",
    "#generated figure\n",
    "x_title_generated = \"Number of Robots\" \n",
    "y_title_generated = \"Ground Truth Count of Dust Devils\"\n",
    "\n",
    "code = \"\"\n",
    "final_generated = np.load(current_path + 'Number of Dust Devils Generated vs Number of Robots.npy')\n",
    "\n",
    "\n",
    "generated_figure = final_processing(final_generated,x_title_generated,y_title_generated,code,10,\"Static Deployment\")\n",
    "generated_figure.write_image(current_path + 'Graph - Ground Truth Dust Devil Count vs Number of Robots.png')\n",
    "x_generated,y_generated,y_error_generated = processing_data(final_generated)\n",
    "\n",
    "y_average = np.mean(np.array(y_generated))\n",
    "propogated_uncertainty = np.mean(np.array(y_error_generated))\n",
    "\n",
    "calculation_result = [y_average,propogated_uncertainty]\n",
    "np.savetxt(current_path+ \"Average Number of Dust Devils Generated with the Propogated Uncertainty.txt\",calculation_result)\n",
    "\n",
    "\n",
    "#Working out percentage array and figure\n",
    "\n",
    "\n",
    "#defining detected array\n",
    "x_detected,y_detected,y_error_detected = processing_data(final_detected)\n",
    "print(\"Final Detected: \",y_detected)\n",
    "print(\"Final generated: \", y_generated)\n",
    "print(\"Final Detected Error:\", y_error_detected)\n",
    "print(\"Final Generated Error: \", y_error_generated)\n",
    "divided_resultant = np.array(y_detected)/np.array(y_generated)\n",
    "\n",
    "#detected array with uncertainty\n",
    "detected_uncertainty = unumpy.uarray(y_detected, y_error_detected)\n",
    "\n",
    "print(\"Detected array with uncertainty: \", detected_uncertainty)\n",
    "\n",
    "#generated array with uncertainty\n",
    "generated_uncertainty = unumpy.uarray(y_generated, y_error_generated)\n",
    "print(\"Generated array with uncertainty: \", generated_uncertainty)\n",
    "\n",
    "percentage_uncertainty = detected_uncertainty/generated_uncertainty\n",
    "print(\"Percentage of dust devils detected: \", percentage_uncertainty)\n",
    "\n",
    "percentage_values = unumpy.nominal_values(percentage_uncertainty)*100\n",
    "print(\"Values of Result: \",percentage_values)\n",
    "print(type(percentage_values))\n",
    "\n",
    "percentage_errors = unumpy.std_devs(percentage_uncertainty)*100\n",
    "print(\"Uncertainties of Result: \",percentage_errors)\n",
    "print(type(percentage_errors))\n",
    "\n",
    "code_percentage = \"\"\n",
    "x_title_percentage = \"Number of Robots\" \n",
    "y_title_percentage = \"Percentage of Dust Devils Detected\"\n",
    "y_tick_percentage = 10\n",
    "\n",
    "name_percentage = \"Static Method\"\n",
    "figure_percentage = Processing_Functions_Tracking.graph_figure_fitness_error(robot_array,percentage_values,percentage_errors,x_title_percentage,y_title_percentage,code_percentage,y_tick_percentage,name_percentage)\n",
    "print(current_path + y_title_percentage + \" vs \" + x_title_percentage + \".png\")\n",
    "figure_percentage.write_image(current_path + \"Graph - \" + y_title_percentage + \" vs \" + x_title_percentage + \".png\")\n",
    "\n",
    "figure_percentage.show()\n",
    "#Working out normalised dust devil measurements\n",
    "print(\"Final Measurement: \", final_measurement)\n",
    "x_measurement,y_measurement,y_error_measurement = processing_data(final_measurement)\n",
    "print(\"Y Measurement: \",y_measurement)                                                                                                                                                                                                                                                                                                                                                                                                                                                                                                                                                                                                                                   \n",
    "print(\"Y Measurement Error: \",y_error_measurement)\n",
    "#measuremnt array with uncertainty\n",
    "measurement_uncertainty = unumpy.uarray(y_measurement, y_error_measurement)\n",
    "print(\"Measured Uncertainty Array: \",measurement_uncertainty)\n",
    "print(\"Percentage Uncertainty Array: \", percentage_uncertainty)\n",
    "normalised_measurement = measurement_uncertainty*percentage_uncertainty\n",
    "print(\"Normalised Measurement Array: \",normalised_measurement)\n",
    "\n",
    "nmeasurement_values = unumpy.nominal_values(normalised_measurement)\n",
    "print(\"Values of Nmeasurements: \",nmeasurement_values)\n",
    "print(type(nmeasurement_values))\n",
    "\n",
    "nmeasurement_errors = unumpy.std_devs(normalised_measurement)\n",
    "print(\"Uncertainties of NMeasurements: \",nmeasurement_errors)\n",
    "print(type(percentage_errors))\n",
    "\n",
    "\n",
    "\n",
    "code_nmeasurement = \"\"\n",
    "x_title_nmeasurement = \"Number of Robots\" \n",
    "y_title_nmeasurement = \"Normalised Number of Dust Devil Measurements\"\n",
    "y_tick_nmeasurement = 1000\n",
    "name_nmeasurement = \"Static Method\"\n",
    "\n",
    "figure_nmeasurement = Processing_Functions_Tracking.graph_figure_fitness_error_max(robot_array,nmeasurement_values,nmeasurement_errors,x_title_nmeasurement,y_title_nmeasurement,code_nmeasurement,2000,name_nmeasurement,40000)\n",
    "figure_nmeasurement.show()\n",
    "\n",
    "\n",
    "figure_nmeasurement_report = Processing_Functions_Tracking.graph_figure_fitness_error(robot_array,nmeasurement_values,nmeasurement_errors,x_title_nmeasurement,y_title_nmeasurement,code_nmeasurement,2000,name_nmeasurement)\n",
    "#figure_nmeasurement_report.show()\n",
    "figure_nmeasurement.write_image(current_path + \"Graph with Fill - \" + y_title_nmeasurement + \" vs \" + x_title_nmeasurement + \".png\")\n",
    "\n",
    "#saving arrays\n",
    "np.save(current_path + y_title_percentage + \" vs \" + x_title_percentage + \".npy\",percentage_uncertainty)\n",
    "np.save(current_path + y_title_nmeasurement + \" vs \" + x_title_nmeasurement + \".npy\",normalised_measurement)\n",
    "#np.savetxt(current_path + y_title_percentage + \" vs \" + x_title_percentage + \".npy\",percentage_uncertainty)\n",
    "#np.savetxt(current_path + y_title_nmeasurement + \" vs \" + x_title_nmeasurement + \".npy\",measurement_uncertainty)\n",
    "\n"
   ]
  },
  {
   "cell_type": "code",
   "execution_count": 11,
   "metadata": {
    "scrolled": false
   },
   "outputs": [
    {
     "data": {
      "application/vnd.plotly.v1+json": {
       "config": {
        "plotlyServerURL": "https://plot.ly"
       },
       "data": [
        {
         "error_y": {
          "array": [
           8.346927463074055,
           11.324774167057006,
           8.20305902392596,
           9.740550736529194,
           10.167228196959195,
           16.881024122768405,
           14.208943825740777,
           14.58416459496866,
           9.41089831623165,
           10.56905159890892
          ],
          "type": "data",
          "visible": true
         },
         "mode": "markers",
         "name": "Static Method",
         "type": "scatter",
         "x": [
          10,
          20,
          30,
          40,
          50,
          60,
          70,
          80,
          90,
          100
         ],
         "y": [
          61.30653266331658,
          78.75383043922368,
          75.22211253701876,
          84.61538461538461,
          92.19562955254943,
          97.51552795031057,
          98.5901309164149,
          87.53861997940268,
          89.9497487437186,
          94.50317124735732
         ]
        }
       ],
       "layout": {
        "margin": {
         "l": 10,
         "r": 10,
         "t": 50
        },
        "plot_bgcolor": "rgba(0,0,0,0)",
        "template": {
         "data": {
          "bar": [
           {
            "error_x": {
             "color": "#2a3f5f"
            },
            "error_y": {
             "color": "#2a3f5f"
            },
            "marker": {
             "line": {
              "color": "#E5ECF6",
              "width": 0.5
             }
            },
            "type": "bar"
           }
          ],
          "barpolar": [
           {
            "marker": {
             "line": {
              "color": "#E5ECF6",
              "width": 0.5
             }
            },
            "type": "barpolar"
           }
          ],
          "carpet": [
           {
            "aaxis": {
             "endlinecolor": "#2a3f5f",
             "gridcolor": "white",
             "linecolor": "white",
             "minorgridcolor": "white",
             "startlinecolor": "#2a3f5f"
            },
            "baxis": {
             "endlinecolor": "#2a3f5f",
             "gridcolor": "white",
             "linecolor": "white",
             "minorgridcolor": "white",
             "startlinecolor": "#2a3f5f"
            },
            "type": "carpet"
           }
          ],
          "choropleth": [
           {
            "colorbar": {
             "outlinewidth": 0,
             "ticks": ""
            },
            "type": "choropleth"
           }
          ],
          "contour": [
           {
            "colorbar": {
             "outlinewidth": 0,
             "ticks": ""
            },
            "colorscale": [
             [
              0,
              "#0d0887"
             ],
             [
              0.1111111111111111,
              "#46039f"
             ],
             [
              0.2222222222222222,
              "#7201a8"
             ],
             [
              0.3333333333333333,
              "#9c179e"
             ],
             [
              0.4444444444444444,
              "#bd3786"
             ],
             [
              0.5555555555555556,
              "#d8576b"
             ],
             [
              0.6666666666666666,
              "#ed7953"
             ],
             [
              0.7777777777777778,
              "#fb9f3a"
             ],
             [
              0.8888888888888888,
              "#fdca26"
             ],
             [
              1,
              "#f0f921"
             ]
            ],
            "type": "contour"
           }
          ],
          "contourcarpet": [
           {
            "colorbar": {
             "outlinewidth": 0,
             "ticks": ""
            },
            "type": "contourcarpet"
           }
          ],
          "heatmap": [
           {
            "colorbar": {
             "outlinewidth": 0,
             "ticks": ""
            },
            "colorscale": [
             [
              0,
              "#0d0887"
             ],
             [
              0.1111111111111111,
              "#46039f"
             ],
             [
              0.2222222222222222,
              "#7201a8"
             ],
             [
              0.3333333333333333,
              "#9c179e"
             ],
             [
              0.4444444444444444,
              "#bd3786"
             ],
             [
              0.5555555555555556,
              "#d8576b"
             ],
             [
              0.6666666666666666,
              "#ed7953"
             ],
             [
              0.7777777777777778,
              "#fb9f3a"
             ],
             [
              0.8888888888888888,
              "#fdca26"
             ],
             [
              1,
              "#f0f921"
             ]
            ],
            "type": "heatmap"
           }
          ],
          "heatmapgl": [
           {
            "colorbar": {
             "outlinewidth": 0,
             "ticks": ""
            },
            "colorscale": [
             [
              0,
              "#0d0887"
             ],
             [
              0.1111111111111111,
              "#46039f"
             ],
             [
              0.2222222222222222,
              "#7201a8"
             ],
             [
              0.3333333333333333,
              "#9c179e"
             ],
             [
              0.4444444444444444,
              "#bd3786"
             ],
             [
              0.5555555555555556,
              "#d8576b"
             ],
             [
              0.6666666666666666,
              "#ed7953"
             ],
             [
              0.7777777777777778,
              "#fb9f3a"
             ],
             [
              0.8888888888888888,
              "#fdca26"
             ],
             [
              1,
              "#f0f921"
             ]
            ],
            "type": "heatmapgl"
           }
          ],
          "histogram": [
           {
            "marker": {
             "colorbar": {
              "outlinewidth": 0,
              "ticks": ""
             }
            },
            "type": "histogram"
           }
          ],
          "histogram2d": [
           {
            "colorbar": {
             "outlinewidth": 0,
             "ticks": ""
            },
            "colorscale": [
             [
              0,
              "#0d0887"
             ],
             [
              0.1111111111111111,
              "#46039f"
             ],
             [
              0.2222222222222222,
              "#7201a8"
             ],
             [
              0.3333333333333333,
              "#9c179e"
             ],
             [
              0.4444444444444444,
              "#bd3786"
             ],
             [
              0.5555555555555556,
              "#d8576b"
             ],
             [
              0.6666666666666666,
              "#ed7953"
             ],
             [
              0.7777777777777778,
              "#fb9f3a"
             ],
             [
              0.8888888888888888,
              "#fdca26"
             ],
             [
              1,
              "#f0f921"
             ]
            ],
            "type": "histogram2d"
           }
          ],
          "histogram2dcontour": [
           {
            "colorbar": {
             "outlinewidth": 0,
             "ticks": ""
            },
            "colorscale": [
             [
              0,
              "#0d0887"
             ],
             [
              0.1111111111111111,
              "#46039f"
             ],
             [
              0.2222222222222222,
              "#7201a8"
             ],
             [
              0.3333333333333333,
              "#9c179e"
             ],
             [
              0.4444444444444444,
              "#bd3786"
             ],
             [
              0.5555555555555556,
              "#d8576b"
             ],
             [
              0.6666666666666666,
              "#ed7953"
             ],
             [
              0.7777777777777778,
              "#fb9f3a"
             ],
             [
              0.8888888888888888,
              "#fdca26"
             ],
             [
              1,
              "#f0f921"
             ]
            ],
            "type": "histogram2dcontour"
           }
          ],
          "mesh3d": [
           {
            "colorbar": {
             "outlinewidth": 0,
             "ticks": ""
            },
            "type": "mesh3d"
           }
          ],
          "parcoords": [
           {
            "line": {
             "colorbar": {
              "outlinewidth": 0,
              "ticks": ""
             }
            },
            "type": "parcoords"
           }
          ],
          "pie": [
           {
            "automargin": true,
            "type": "pie"
           }
          ],
          "scatter": [
           {
            "marker": {
             "colorbar": {
              "outlinewidth": 0,
              "ticks": ""
             }
            },
            "type": "scatter"
           }
          ],
          "scatter3d": [
           {
            "line": {
             "colorbar": {
              "outlinewidth": 0,
              "ticks": ""
             }
            },
            "marker": {
             "colorbar": {
              "outlinewidth": 0,
              "ticks": ""
             }
            },
            "type": "scatter3d"
           }
          ],
          "scattercarpet": [
           {
            "marker": {
             "colorbar": {
              "outlinewidth": 0,
              "ticks": ""
             }
            },
            "type": "scattercarpet"
           }
          ],
          "scattergeo": [
           {
            "marker": {
             "colorbar": {
              "outlinewidth": 0,
              "ticks": ""
             }
            },
            "type": "scattergeo"
           }
          ],
          "scattergl": [
           {
            "marker": {
             "colorbar": {
              "outlinewidth": 0,
              "ticks": ""
             }
            },
            "type": "scattergl"
           }
          ],
          "scattermapbox": [
           {
            "marker": {
             "colorbar": {
              "outlinewidth": 0,
              "ticks": ""
             }
            },
            "type": "scattermapbox"
           }
          ],
          "scatterpolar": [
           {
            "marker": {
             "colorbar": {
              "outlinewidth": 0,
              "ticks": ""
             }
            },
            "type": "scatterpolar"
           }
          ],
          "scatterpolargl": [
           {
            "marker": {
             "colorbar": {
              "outlinewidth": 0,
              "ticks": ""
             }
            },
            "type": "scatterpolargl"
           }
          ],
          "scatterternary": [
           {
            "marker": {
             "colorbar": {
              "outlinewidth": 0,
              "ticks": ""
             }
            },
            "type": "scatterternary"
           }
          ],
          "surface": [
           {
            "colorbar": {
             "outlinewidth": 0,
             "ticks": ""
            },
            "colorscale": [
             [
              0,
              "#0d0887"
             ],
             [
              0.1111111111111111,
              "#46039f"
             ],
             [
              0.2222222222222222,
              "#7201a8"
             ],
             [
              0.3333333333333333,
              "#9c179e"
             ],
             [
              0.4444444444444444,
              "#bd3786"
             ],
             [
              0.5555555555555556,
              "#d8576b"
             ],
             [
              0.6666666666666666,
              "#ed7953"
             ],
             [
              0.7777777777777778,
              "#fb9f3a"
             ],
             [
              0.8888888888888888,
              "#fdca26"
             ],
             [
              1,
              "#f0f921"
             ]
            ],
            "type": "surface"
           }
          ],
          "table": [
           {
            "cells": {
             "fill": {
              "color": "#EBF0F8"
             },
             "line": {
              "color": "white"
             }
            },
            "header": {
             "fill": {
              "color": "#C8D4E3"
             },
             "line": {
              "color": "white"
             }
            },
            "type": "table"
           }
          ]
         },
         "layout": {
          "annotationdefaults": {
           "arrowcolor": "#2a3f5f",
           "arrowhead": 0,
           "arrowwidth": 1
          },
          "coloraxis": {
           "colorbar": {
            "outlinewidth": 0,
            "ticks": ""
           }
          },
          "colorscale": {
           "diverging": [
            [
             0,
             "#8e0152"
            ],
            [
             0.1,
             "#c51b7d"
            ],
            [
             0.2,
             "#de77ae"
            ],
            [
             0.3,
             "#f1b6da"
            ],
            [
             0.4,
             "#fde0ef"
            ],
            [
             0.5,
             "#f7f7f7"
            ],
            [
             0.6,
             "#e6f5d0"
            ],
            [
             0.7,
             "#b8e186"
            ],
            [
             0.8,
             "#7fbc41"
            ],
            [
             0.9,
             "#4d9221"
            ],
            [
             1,
             "#276419"
            ]
           ],
           "sequential": [
            [
             0,
             "#0d0887"
            ],
            [
             0.1111111111111111,
             "#46039f"
            ],
            [
             0.2222222222222222,
             "#7201a8"
            ],
            [
             0.3333333333333333,
             "#9c179e"
            ],
            [
             0.4444444444444444,
             "#bd3786"
            ],
            [
             0.5555555555555556,
             "#d8576b"
            ],
            [
             0.6666666666666666,
             "#ed7953"
            ],
            [
             0.7777777777777778,
             "#fb9f3a"
            ],
            [
             0.8888888888888888,
             "#fdca26"
            ],
            [
             1,
             "#f0f921"
            ]
           ],
           "sequentialminus": [
            [
             0,
             "#0d0887"
            ],
            [
             0.1111111111111111,
             "#46039f"
            ],
            [
             0.2222222222222222,
             "#7201a8"
            ],
            [
             0.3333333333333333,
             "#9c179e"
            ],
            [
             0.4444444444444444,
             "#bd3786"
            ],
            [
             0.5555555555555556,
             "#d8576b"
            ],
            [
             0.6666666666666666,
             "#ed7953"
            ],
            [
             0.7777777777777778,
             "#fb9f3a"
            ],
            [
             0.8888888888888888,
             "#fdca26"
            ],
            [
             1,
             "#f0f921"
            ]
           ]
          },
          "colorway": [
           "#636efa",
           "#EF553B",
           "#00cc96",
           "#ab63fa",
           "#FFA15A",
           "#19d3f3",
           "#FF6692",
           "#B6E880",
           "#FF97FF",
           "#FECB52"
          ],
          "font": {
           "color": "#2a3f5f"
          },
          "geo": {
           "bgcolor": "white",
           "lakecolor": "white",
           "landcolor": "#E5ECF6",
           "showlakes": true,
           "showland": true,
           "subunitcolor": "white"
          },
          "hoverlabel": {
           "align": "left"
          },
          "hovermode": "closest",
          "mapbox": {
           "style": "light"
          },
          "paper_bgcolor": "white",
          "plot_bgcolor": "#E5ECF6",
          "polar": {
           "angularaxis": {
            "gridcolor": "white",
            "linecolor": "white",
            "ticks": ""
           },
           "bgcolor": "#E5ECF6",
           "radialaxis": {
            "gridcolor": "white",
            "linecolor": "white",
            "ticks": ""
           }
          },
          "scene": {
           "xaxis": {
            "backgroundcolor": "#E5ECF6",
            "gridcolor": "white",
            "gridwidth": 2,
            "linecolor": "white",
            "showbackground": true,
            "ticks": "",
            "zerolinecolor": "white"
           },
           "yaxis": {
            "backgroundcolor": "#E5ECF6",
            "gridcolor": "white",
            "gridwidth": 2,
            "linecolor": "white",
            "showbackground": true,
            "ticks": "",
            "zerolinecolor": "white"
           },
           "zaxis": {
            "backgroundcolor": "#E5ECF6",
            "gridcolor": "white",
            "gridwidth": 2,
            "linecolor": "white",
            "showbackground": true,
            "ticks": "",
            "zerolinecolor": "white"
           }
          },
          "shapedefaults": {
           "line": {
            "color": "#2a3f5f"
           }
          },
          "ternary": {
           "aaxis": {
            "gridcolor": "white",
            "linecolor": "white",
            "ticks": ""
           },
           "baxis": {
            "gridcolor": "white",
            "linecolor": "white",
            "ticks": ""
           },
           "bgcolor": "#E5ECF6",
           "caxis": {
            "gridcolor": "white",
            "linecolor": "white",
            "ticks": ""
           }
          },
          "title": {
           "x": 0.05
          },
          "xaxis": {
           "automargin": true,
           "gridcolor": "white",
           "linecolor": "white",
           "ticks": "",
           "title": {
            "standoff": 15
           },
           "zerolinecolor": "white",
           "zerolinewidth": 2
          },
          "yaxis": {
           "automargin": true,
           "gridcolor": "white",
           "linecolor": "white",
           "ticks": "",
           "title": {
            "standoff": 15
           },
           "zerolinecolor": "white",
           "zerolinewidth": 2
          }
         }
        },
        "title": {
         "text": "<b>Percentage of Dust Devils Detected versus Number of Robots</b>",
         "x": 0.5
        },
        "xaxis": {
         "linecolor": "black",
         "linewidth": 1,
         "range": [
          0,
          105
         ],
         "showgrid": false,
         "showline": true,
         "ticks": "outside",
         "tickvals": [
          0,
          10,
          20,
          30,
          40,
          50,
          60,
          70,
          80,
          90,
          100
         ],
         "title": {
          "text": "Number of Robots"
         }
        },
        "yaxis": {
         "dtick": 10,
         "linecolor": "black",
         "linewidth": 1,
         "range": [
          0,
          115.99999999999999
         ],
         "showgrid": false,
         "showline": true,
         "tick0": 0,
         "tickmode": "linear",
         "ticks": "outside",
         "title": {
          "text": "Percentage of Dust Devils Detected"
         }
        }
       }
      },
      "text/html": [
       "<div>                            <div id=\"170e21a8-d627-46f5-84fc-262df8c61a3e\" class=\"plotly-graph-div\" style=\"height:525px; width:100%;\"></div>            <script type=\"text/javascript\">                require([\"plotly\"], function(Plotly) {                    window.PLOTLYENV=window.PLOTLYENV || {};                                    if (document.getElementById(\"170e21a8-d627-46f5-84fc-262df8c61a3e\")) {                    Plotly.newPlot(                        \"170e21a8-d627-46f5-84fc-262df8c61a3e\",                        [{\"error_y\": {\"array\": [8.346927463074055, 11.324774167057006, 8.20305902392596, 9.740550736529194, 10.167228196959195, 16.881024122768405, 14.208943825740777, 14.58416459496866, 9.41089831623165, 10.56905159890892], \"type\": \"data\", \"visible\": true}, \"mode\": \"markers\", \"name\": \"Static Method\", \"type\": \"scatter\", \"x\": [10, 20, 30, 40, 50, 60, 70, 80, 90, 100], \"y\": [61.30653266331658, 78.75383043922368, 75.22211253701876, 84.61538461538461, 92.19562955254943, 97.51552795031057, 98.5901309164149, 87.53861997940268, 89.9497487437186, 94.50317124735732]}],                        {\"margin\": {\"l\": 10, \"r\": 10, \"t\": 50}, \"plot_bgcolor\": \"rgba(0,0,0,0)\", \"template\": {\"data\": {\"bar\": [{\"error_x\": {\"color\": \"#2a3f5f\"}, \"error_y\": {\"color\": \"#2a3f5f\"}, \"marker\": {\"line\": {\"color\": \"#E5ECF6\", \"width\": 0.5}}, \"type\": \"bar\"}], \"barpolar\": [{\"marker\": {\"line\": {\"color\": \"#E5ECF6\", \"width\": 0.5}}, \"type\": \"barpolar\"}], \"carpet\": [{\"aaxis\": {\"endlinecolor\": \"#2a3f5f\", \"gridcolor\": \"white\", \"linecolor\": \"white\", \"minorgridcolor\": \"white\", \"startlinecolor\": \"#2a3f5f\"}, \"baxis\": {\"endlinecolor\": \"#2a3f5f\", \"gridcolor\": \"white\", \"linecolor\": \"white\", \"minorgridcolor\": \"white\", \"startlinecolor\": \"#2a3f5f\"}, \"type\": \"carpet\"}], \"choropleth\": [{\"colorbar\": {\"outlinewidth\": 0, \"ticks\": \"\"}, \"type\": \"choropleth\"}], \"contour\": [{\"colorbar\": {\"outlinewidth\": 0, \"ticks\": \"\"}, \"colorscale\": [[0.0, \"#0d0887\"], [0.1111111111111111, \"#46039f\"], [0.2222222222222222, \"#7201a8\"], [0.3333333333333333, \"#9c179e\"], [0.4444444444444444, \"#bd3786\"], [0.5555555555555556, \"#d8576b\"], [0.6666666666666666, \"#ed7953\"], [0.7777777777777778, \"#fb9f3a\"], [0.8888888888888888, \"#fdca26\"], [1.0, \"#f0f921\"]], \"type\": \"contour\"}], \"contourcarpet\": [{\"colorbar\": {\"outlinewidth\": 0, \"ticks\": \"\"}, \"type\": \"contourcarpet\"}], \"heatmap\": [{\"colorbar\": {\"outlinewidth\": 0, \"ticks\": \"\"}, \"colorscale\": [[0.0, \"#0d0887\"], [0.1111111111111111, \"#46039f\"], [0.2222222222222222, \"#7201a8\"], [0.3333333333333333, \"#9c179e\"], [0.4444444444444444, \"#bd3786\"], [0.5555555555555556, \"#d8576b\"], [0.6666666666666666, \"#ed7953\"], [0.7777777777777778, \"#fb9f3a\"], [0.8888888888888888, \"#fdca26\"], [1.0, \"#f0f921\"]], \"type\": \"heatmap\"}], \"heatmapgl\": [{\"colorbar\": {\"outlinewidth\": 0, \"ticks\": \"\"}, \"colorscale\": [[0.0, \"#0d0887\"], [0.1111111111111111, \"#46039f\"], [0.2222222222222222, \"#7201a8\"], [0.3333333333333333, \"#9c179e\"], [0.4444444444444444, \"#bd3786\"], [0.5555555555555556, \"#d8576b\"], [0.6666666666666666, \"#ed7953\"], [0.7777777777777778, \"#fb9f3a\"], [0.8888888888888888, \"#fdca26\"], [1.0, \"#f0f921\"]], \"type\": \"heatmapgl\"}], \"histogram\": [{\"marker\": {\"colorbar\": {\"outlinewidth\": 0, \"ticks\": \"\"}}, \"type\": \"histogram\"}], \"histogram2d\": [{\"colorbar\": {\"outlinewidth\": 0, \"ticks\": \"\"}, \"colorscale\": [[0.0, \"#0d0887\"], [0.1111111111111111, \"#46039f\"], [0.2222222222222222, \"#7201a8\"], [0.3333333333333333, \"#9c179e\"], [0.4444444444444444, \"#bd3786\"], [0.5555555555555556, \"#d8576b\"], [0.6666666666666666, \"#ed7953\"], [0.7777777777777778, \"#fb9f3a\"], [0.8888888888888888, \"#fdca26\"], [1.0, \"#f0f921\"]], \"type\": \"histogram2d\"}], \"histogram2dcontour\": [{\"colorbar\": {\"outlinewidth\": 0, \"ticks\": \"\"}, \"colorscale\": [[0.0, \"#0d0887\"], [0.1111111111111111, \"#46039f\"], [0.2222222222222222, \"#7201a8\"], [0.3333333333333333, \"#9c179e\"], [0.4444444444444444, \"#bd3786\"], [0.5555555555555556, \"#d8576b\"], [0.6666666666666666, \"#ed7953\"], [0.7777777777777778, \"#fb9f3a\"], [0.8888888888888888, \"#fdca26\"], [1.0, \"#f0f921\"]], \"type\": \"histogram2dcontour\"}], \"mesh3d\": [{\"colorbar\": {\"outlinewidth\": 0, \"ticks\": \"\"}, \"type\": \"mesh3d\"}], \"parcoords\": [{\"line\": {\"colorbar\": {\"outlinewidth\": 0, \"ticks\": \"\"}}, \"type\": \"parcoords\"}], \"pie\": [{\"automargin\": true, \"type\": \"pie\"}], \"scatter\": [{\"marker\": {\"colorbar\": {\"outlinewidth\": 0, \"ticks\": \"\"}}, \"type\": \"scatter\"}], \"scatter3d\": [{\"line\": {\"colorbar\": {\"outlinewidth\": 0, \"ticks\": \"\"}}, \"marker\": {\"colorbar\": {\"outlinewidth\": 0, \"ticks\": \"\"}}, \"type\": \"scatter3d\"}], \"scattercarpet\": [{\"marker\": {\"colorbar\": {\"outlinewidth\": 0, \"ticks\": \"\"}}, \"type\": \"scattercarpet\"}], \"scattergeo\": [{\"marker\": {\"colorbar\": {\"outlinewidth\": 0, \"ticks\": \"\"}}, \"type\": \"scattergeo\"}], \"scattergl\": [{\"marker\": {\"colorbar\": {\"outlinewidth\": 0, \"ticks\": \"\"}}, \"type\": \"scattergl\"}], \"scattermapbox\": [{\"marker\": {\"colorbar\": {\"outlinewidth\": 0, \"ticks\": \"\"}}, \"type\": \"scattermapbox\"}], \"scatterpolar\": [{\"marker\": {\"colorbar\": {\"outlinewidth\": 0, \"ticks\": \"\"}}, \"type\": \"scatterpolar\"}], \"scatterpolargl\": [{\"marker\": {\"colorbar\": {\"outlinewidth\": 0, \"ticks\": \"\"}}, \"type\": \"scatterpolargl\"}], \"scatterternary\": [{\"marker\": {\"colorbar\": {\"outlinewidth\": 0, \"ticks\": \"\"}}, \"type\": \"scatterternary\"}], \"surface\": [{\"colorbar\": {\"outlinewidth\": 0, \"ticks\": \"\"}, \"colorscale\": [[0.0, \"#0d0887\"], [0.1111111111111111, \"#46039f\"], [0.2222222222222222, \"#7201a8\"], [0.3333333333333333, \"#9c179e\"], [0.4444444444444444, \"#bd3786\"], [0.5555555555555556, \"#d8576b\"], [0.6666666666666666, \"#ed7953\"], [0.7777777777777778, \"#fb9f3a\"], [0.8888888888888888, \"#fdca26\"], [1.0, \"#f0f921\"]], \"type\": \"surface\"}], \"table\": [{\"cells\": {\"fill\": {\"color\": \"#EBF0F8\"}, \"line\": {\"color\": \"white\"}}, \"header\": {\"fill\": {\"color\": \"#C8D4E3\"}, \"line\": {\"color\": \"white\"}}, \"type\": \"table\"}]}, \"layout\": {\"annotationdefaults\": {\"arrowcolor\": \"#2a3f5f\", \"arrowhead\": 0, \"arrowwidth\": 1}, \"coloraxis\": {\"colorbar\": {\"outlinewidth\": 0, \"ticks\": \"\"}}, \"colorscale\": {\"diverging\": [[0, \"#8e0152\"], [0.1, \"#c51b7d\"], [0.2, \"#de77ae\"], [0.3, \"#f1b6da\"], [0.4, \"#fde0ef\"], [0.5, \"#f7f7f7\"], [0.6, \"#e6f5d0\"], [0.7, \"#b8e186\"], [0.8, \"#7fbc41\"], [0.9, \"#4d9221\"], [1, \"#276419\"]], \"sequential\": [[0.0, \"#0d0887\"], [0.1111111111111111, \"#46039f\"], [0.2222222222222222, \"#7201a8\"], [0.3333333333333333, \"#9c179e\"], [0.4444444444444444, \"#bd3786\"], [0.5555555555555556, \"#d8576b\"], [0.6666666666666666, \"#ed7953\"], [0.7777777777777778, \"#fb9f3a\"], [0.8888888888888888, \"#fdca26\"], [1.0, \"#f0f921\"]], \"sequentialminus\": [[0.0, \"#0d0887\"], [0.1111111111111111, \"#46039f\"], [0.2222222222222222, \"#7201a8\"], [0.3333333333333333, \"#9c179e\"], [0.4444444444444444, \"#bd3786\"], [0.5555555555555556, \"#d8576b\"], [0.6666666666666666, \"#ed7953\"], [0.7777777777777778, \"#fb9f3a\"], [0.8888888888888888, \"#fdca26\"], [1.0, \"#f0f921\"]]}, \"colorway\": [\"#636efa\", \"#EF553B\", \"#00cc96\", \"#ab63fa\", \"#FFA15A\", \"#19d3f3\", \"#FF6692\", \"#B6E880\", \"#FF97FF\", \"#FECB52\"], \"font\": {\"color\": \"#2a3f5f\"}, \"geo\": {\"bgcolor\": \"white\", \"lakecolor\": \"white\", \"landcolor\": \"#E5ECF6\", \"showlakes\": true, \"showland\": true, \"subunitcolor\": \"white\"}, \"hoverlabel\": {\"align\": \"left\"}, \"hovermode\": \"closest\", \"mapbox\": {\"style\": \"light\"}, \"paper_bgcolor\": \"white\", \"plot_bgcolor\": \"#E5ECF6\", \"polar\": {\"angularaxis\": {\"gridcolor\": \"white\", \"linecolor\": \"white\", \"ticks\": \"\"}, \"bgcolor\": \"#E5ECF6\", \"radialaxis\": {\"gridcolor\": \"white\", \"linecolor\": \"white\", \"ticks\": \"\"}}, \"scene\": {\"xaxis\": {\"backgroundcolor\": \"#E5ECF6\", \"gridcolor\": \"white\", \"gridwidth\": 2, \"linecolor\": \"white\", \"showbackground\": true, \"ticks\": \"\", \"zerolinecolor\": \"white\"}, \"yaxis\": {\"backgroundcolor\": \"#E5ECF6\", \"gridcolor\": \"white\", \"gridwidth\": 2, \"linecolor\": \"white\", \"showbackground\": true, \"ticks\": \"\", \"zerolinecolor\": \"white\"}, \"zaxis\": {\"backgroundcolor\": \"#E5ECF6\", \"gridcolor\": \"white\", \"gridwidth\": 2, \"linecolor\": \"white\", \"showbackground\": true, \"ticks\": \"\", \"zerolinecolor\": \"white\"}}, \"shapedefaults\": {\"line\": {\"color\": \"#2a3f5f\"}}, \"ternary\": {\"aaxis\": {\"gridcolor\": \"white\", \"linecolor\": \"white\", \"ticks\": \"\"}, \"baxis\": {\"gridcolor\": \"white\", \"linecolor\": \"white\", \"ticks\": \"\"}, \"bgcolor\": \"#E5ECF6\", \"caxis\": {\"gridcolor\": \"white\", \"linecolor\": \"white\", \"ticks\": \"\"}}, \"title\": {\"x\": 0.05}, \"xaxis\": {\"automargin\": true, \"gridcolor\": \"white\", \"linecolor\": \"white\", \"ticks\": \"\", \"title\": {\"standoff\": 15}, \"zerolinecolor\": \"white\", \"zerolinewidth\": 2}, \"yaxis\": {\"automargin\": true, \"gridcolor\": \"white\", \"linecolor\": \"white\", \"ticks\": \"\", \"title\": {\"standoff\": 15}, \"zerolinecolor\": \"white\", \"zerolinewidth\": 2}}}, \"title\": {\"text\": \"<b>Percentage of Dust Devils Detected versus Number of Robots</b>\", \"x\": 0.5}, \"xaxis\": {\"linecolor\": \"black\", \"linewidth\": 1, \"range\": [0, 105.0], \"showgrid\": false, \"showline\": true, \"ticks\": \"outside\", \"tickvals\": [0, 10, 20, 30, 40, 50, 60, 70, 80, 90, 100], \"title\": {\"text\": \"Number of Robots\"}}, \"yaxis\": {\"dtick\": 10, \"linecolor\": \"black\", \"linewidth\": 1, \"range\": [0, 115.99999999999999], \"showgrid\": false, \"showline\": true, \"tick0\": 0, \"tickmode\": \"linear\", \"ticks\": \"outside\", \"title\": {\"text\": \"Percentage of Dust Devils Detected\"}}},                        {\"responsive\": true}                    ).then(function(){\n",
       "                            \n",
       "var gd = document.getElementById('170e21a8-d627-46f5-84fc-262df8c61a3e');\n",
       "var x = new MutationObserver(function (mutations, observer) {{\n",
       "        var display = window.getComputedStyle(gd).display;\n",
       "        if (!display || display === 'none') {{\n",
       "            console.log([gd, 'removed!']);\n",
       "            Plotly.purge(gd);\n",
       "            observer.disconnect();\n",
       "        }}\n",
       "}});\n",
       "\n",
       "// Listen for the removal of the full notebook cells\n",
       "var notebookContainer = gd.closest('#notebook-container');\n",
       "if (notebookContainer) {{\n",
       "    x.observe(notebookContainer, {childList: true});\n",
       "}}\n",
       "\n",
       "// Listen for the clearing of the current output cell\n",
       "var outputEl = gd.closest('.output');\n",
       "if (outputEl) {{\n",
       "    x.observe(outputEl, {childList: true});\n",
       "}}\n",
       "\n",
       "                        })                };                });            </script>        </div>"
      ]
     },
     "metadata": {},
     "output_type": "display_data"
    },
    {
     "name": "stdout",
     "output_type": "stream",
     "text": [
      "Check:  ../Blue Pebble/Files/Tracking_Day_No_G_Broadcast/: 28400.4±3601.31\n",
      "[1756.928709990301+/-414.02348665603205\n",
      " 4609.646821392533+/-966.6966541857101\n",
      " 6857.349857006673+/-1357.1531166831905\n",
      " 9745.392893401015+/-1914.6117335044396 11920.134375+/-2286.6572556149295\n",
      " 14718.701725888324+/-2908.938613047899\n",
      " 17317.313526570048+/-3330.078035756324\n",
      " 20266.91851851852+/-4784.625164809752\n",
      " 22127.695687885007+/-3264.884237889712\n",
      " 27080.10445103858+/-4771.411841915281]\n",
      "Values of Nmeasurements:  [ 1756.92870999  4609.64682139  6857.34985701  9745.3928934\n",
      " 11920.134375   14718.70172589 17317.31352657 20266.91851852\n",
      " 22127.69568789 27080.10445104]\n",
      "<class 'numpy.ndarray'>\n",
      "Tracking Method 1: 27080.1±4771.41\n",
      "Check:  ../Blue Pebble/Files/Tracking_Day_Increased_Decay/: 26521.6±3973.18\n",
      "[1609.3882105263158+/-332.7201461384914\n",
      " 4315.502073050346+/-590.3834253678427\n",
      " 5951.157333333333+/-1314.7598723114734\n",
      " 9111.05594262295+/-1517.156483496547\n",
      " 12296.615815815816+/-2412.611558091189\n",
      " 13899.023734177215+/-3230.1778805995505\n",
      " 16687.012844036697+/-1735.7531757393533\n",
      " 20527.89077669903+/-3160.419443706069\n",
      " 23581.73618090452+/-3978.141149969711\n",
      " 25370.8694214876+/-5007.431386403673]\n",
      "Values of Nmeasurements:  [ 1609.38821053  4315.50207305  5951.15733333  9111.05594262\n",
      " 12296.61581582 13899.02373418 16687.01284404 20527.8907767\n",
      " 23581.7361809  25370.86942149]\n",
      "<class 'numpy.ndarray'>\n",
      "Tracking Method 2: 25370.87±5007.43\n"
     ]
    },
    {
     "data": {
      "application/vnd.plotly.v1+json": {
       "config": {
        "plotlyServerURL": "https://plot.ly"
       },
       "data": [
        {
         "error_y": {
          "array": [
           496.54616099613537,
           652.0182206043017,
           684.8270146540657,
           1632.5126308852866,
           1158.0141147671732,
           2363.0239715246225,
           2134.9806579920114,
           2441.348528989665,
           2207.432818909785,
           4237.744623027678
          ],
          "type": "data",
          "visible": true
         },
         "marker": {
          "color": "blue",
          "line": {
           "color": "Blue",
           "width": 2
          },
          "size": 8,
          "symbol": "x-thin"
         },
         "mode": "markers",
         "showlegend": false,
         "type": "scatter",
         "x": [
          10,
          20,
          30,
          40,
          50,
          60,
          70,
          80,
          90,
          100
         ],
         "y": [
          2688.9,
          5641.2,
          9426.6,
          11158.9,
          13470.9,
          15222.1,
          17752.7,
          22063.6,
          25656.5,
          26765.9
         ]
        },
        {
         "fill": "tonexty",
         "fillcolor": "rgba(0,0,255,0.4)",
         "line": {
          "width": 0
         },
         "marker": {
          "color": "#444"
         },
         "mode": "lines",
         "name": "Upper Bound",
         "opacity": 0.5,
         "showlegend": false,
         "type": "scatter",
         "x": [
          10,
          20,
          30,
          40,
          50,
          60,
          70,
          80,
          90,
          100
         ],
         "y": [
          3185.4461609961354,
          6293.218220604302,
          10111.427014654066,
          12791.412630885286,
          14628.914114767173,
          17585.123971524623,
          19887.680657992012,
          24504.948528989662,
          27863.932818909787,
          31003.644623027678
         ]
        },
        {
         "fill": "tonexty",
         "fillcolor": "rgba(0,0,255,0.3)",
         "line": {
          "width": 0
         },
         "marker": {
          "color": "#444"
         },
         "mode": "lines",
         "name": "Lower Bound",
         "opacity": 0.5,
         "showlegend": false,
         "type": "scatter",
         "x": [
          10,
          20,
          30,
          40,
          50,
          60,
          70,
          80,
          90,
          100
         ],
         "y": [
          2192.353839003865,
          4989.181779395698,
          8741.772985345935,
          9526.387369114713,
          12312.885885232827,
          12859.076028475378,
          15617.71934200799,
          19622.251471010335,
          23449.067181090213,
          22528.155376972325
         ]
        },
        {
         "error_y": {
          "array": [
           496.54616099613537,
           652.0182206043017,
           684.8270146540657,
           1632.5126308852866,
           1158.0141147671732,
           2363.0239715246225,
           2134.9806579920114,
           2441.348528989665,
           2207.432818909785,
           4237.744623027678
          ],
          "type": "data",
          "visible": true
         },
         "marker": {
          "color": "blue",
          "line": {
           "color": "Blue",
           "width": 2
          },
          "size": 8,
          "symbol": "x-thin"
         },
         "mode": "markers",
         "name": "Static Method",
         "showlegend": true,
         "type": "scatter",
         "x": [
          10,
          20,
          30,
          40,
          50,
          60,
          70,
          80,
          90,
          100
         ],
         "y": [
          2688.9,
          5641.2,
          9426.6,
          11158.9,
          13470.9,
          15222.1,
          17752.7,
          22063.6,
          25656.5,
          26765.9
         ]
        },
        {
         "error_y": {
          "array": [
           455.94746407892217,
           846.7858997408968,
           1224.0302324697702,
           1379.2516086631908,
           1759.4987809032434,
           2109.010848715577,
           2122.428620707891,
           3148.734755421612,
           2358.841953162611,
           3601.3126273624175
          ],
          "type": "data",
          "visible": true
         },
         "marker": {
          "color": "Red",
          "line": {
           "color": "Red",
           "width": 2
          },
          "size": 8,
          "symbol": "square-open"
         },
         "mode": "markers",
         "name": "Tracking Method 1",
         "type": "scatter",
         "x": [
          10,
          20,
          30,
          40,
          50,
          60,
          70,
          80,
          90,
          100
         ],
         "y": [
          2723.9,
          5710.2,
          8991.7,
          11059,
          13096.8,
          15008.2,
          17384.5,
          22411.2,
          24435.8,
          28400.4
         ]
        },
        {
         "fill": "tonexty",
         "fillcolor": "rgba(221,85,39,0.1)",
         "line": {
          "width": 0
         },
         "marker": {
          "color": "#444"
         },
         "mode": "lines",
         "name": "Upper Bound",
         "opacity": 0.5,
         "showlegend": false,
         "type": "scatter",
         "x": [
          10,
          20,
          30,
          40,
          50,
          60,
          70,
          80,
          90,
          100
         ],
         "y": [
          3179.8474640789223,
          6556.9858997408965,
          10215.73023246977,
          12438.251608663191,
          14856.298780903242,
          17117.21084871558,
          19506.92862070789,
          25559.934755421615,
          26794.64195316261,
          32001.71262736242
         ]
        },
        {
         "fill": "tonexty",
         "fillcolor": "rgba(221,85,39,0.1)",
         "line": {
          "width": 0
         },
         "marker": {
          "color": "#444"
         },
         "mode": "lines",
         "name": "Lower Bound",
         "opacity": 0.5,
         "showlegend": false,
         "type": "scatter",
         "x": [
          10,
          20,
          30,
          40,
          50,
          60,
          70,
          80,
          90,
          100
         ],
         "y": [
          2267.952535921078,
          4863.414100259103,
          7767.66976753023,
          9679.748391336809,
          11337.301219096757,
          12899.189151284423,
          15262.071379292109,
          19262.465244578387,
          22076.95804683739,
          24799.087372637583
         ]
        },
        {
         "error_y": {
          "array": [
           321.9500116477712,
           562.165954145215,
           1081.108417319928,
           999.5261327249028,
           1855.1685745505717,
           2262.3934693151855,
           1400.4161381532276,
           2699.276208541838,
           3345.055755888084,
           3973.177625025088
          ],
          "type": "data",
          "visible": true
         },
         "marker": {
          "color": "Green",
          "line": {
           "color": "Green",
           "width": 2
          },
          "size": 8,
          "symbol": "circle-open"
         },
         "mode": "markers",
         "name": "Tracking Method 2",
         "type": "scatter",
         "x": [
          10,
          20,
          30,
          40,
          50,
          60,
          70,
          80,
          90,
          100
         ],
         "y": [
          2565.3,
          5478.2,
          7970.3,
          10511.1,
          13180.6,
          14400.3,
          16738.2,
          23057.5,
          25366.3,
          26521.6
         ]
        },
        {
         "fill": "tonexty",
         "fillcolor": "rgba(69,139,0,0.1)",
         "line": {
          "width": 0
         },
         "marker": {
          "color": "#444"
         },
         "mode": "lines",
         "name": "Upper Bound",
         "opacity": 0.5,
         "showlegend": false,
         "type": "scatter",
         "x": [
          10,
          20,
          30,
          40,
          50,
          60,
          70,
          80,
          90,
          100
         ],
         "y": [
          2887.2500116477713,
          6040.365954145214,
          9051.408417319928,
          11510.626132724903,
          15035.768574550571,
          16662.693469315185,
          18138.61613815323,
          25756.776208541836,
          28711.355755888082,
          30494.777625025086
         ]
        },
        {
         "fill": "tonexty",
         "fillcolor": "rgba(69,139,0,0.1)",
         "line": {
          "width": 0
         },
         "marker": {
          "color": "#444"
         },
         "mode": "lines",
         "name": "Lower Bound",
         "opacity": 0.5,
         "showlegend": false,
         "type": "scatter",
         "x": [
          10,
          20,
          30,
          40,
          50,
          60,
          70,
          80,
          90,
          100
         ],
         "y": [
          2243.349988352229,
          4916.034045854785,
          6889.191582680072,
          9511.573867275098,
          11325.43142544943,
          12137.906530684813,
          15337.783861846772,
          20358.223791458164,
          22021.244244111916,
          22548.42237497491
         ]
        }
       ],
       "layout": {
        "margin": {
         "l": 10,
         "r": 10,
         "t": 50
        },
        "plot_bgcolor": "rgba(0,0,0,0)",
        "template": {
         "data": {
          "bar": [
           {
            "error_x": {
             "color": "#2a3f5f"
            },
            "error_y": {
             "color": "#2a3f5f"
            },
            "marker": {
             "line": {
              "color": "#E5ECF6",
              "width": 0.5
             }
            },
            "type": "bar"
           }
          ],
          "barpolar": [
           {
            "marker": {
             "line": {
              "color": "#E5ECF6",
              "width": 0.5
             }
            },
            "type": "barpolar"
           }
          ],
          "carpet": [
           {
            "aaxis": {
             "endlinecolor": "#2a3f5f",
             "gridcolor": "white",
             "linecolor": "white",
             "minorgridcolor": "white",
             "startlinecolor": "#2a3f5f"
            },
            "baxis": {
             "endlinecolor": "#2a3f5f",
             "gridcolor": "white",
             "linecolor": "white",
             "minorgridcolor": "white",
             "startlinecolor": "#2a3f5f"
            },
            "type": "carpet"
           }
          ],
          "choropleth": [
           {
            "colorbar": {
             "outlinewidth": 0,
             "ticks": ""
            },
            "type": "choropleth"
           }
          ],
          "contour": [
           {
            "colorbar": {
             "outlinewidth": 0,
             "ticks": ""
            },
            "colorscale": [
             [
              0,
              "#0d0887"
             ],
             [
              0.1111111111111111,
              "#46039f"
             ],
             [
              0.2222222222222222,
              "#7201a8"
             ],
             [
              0.3333333333333333,
              "#9c179e"
             ],
             [
              0.4444444444444444,
              "#bd3786"
             ],
             [
              0.5555555555555556,
              "#d8576b"
             ],
             [
              0.6666666666666666,
              "#ed7953"
             ],
             [
              0.7777777777777778,
              "#fb9f3a"
             ],
             [
              0.8888888888888888,
              "#fdca26"
             ],
             [
              1,
              "#f0f921"
             ]
            ],
            "type": "contour"
           }
          ],
          "contourcarpet": [
           {
            "colorbar": {
             "outlinewidth": 0,
             "ticks": ""
            },
            "type": "contourcarpet"
           }
          ],
          "heatmap": [
           {
            "colorbar": {
             "outlinewidth": 0,
             "ticks": ""
            },
            "colorscale": [
             [
              0,
              "#0d0887"
             ],
             [
              0.1111111111111111,
              "#46039f"
             ],
             [
              0.2222222222222222,
              "#7201a8"
             ],
             [
              0.3333333333333333,
              "#9c179e"
             ],
             [
              0.4444444444444444,
              "#bd3786"
             ],
             [
              0.5555555555555556,
              "#d8576b"
             ],
             [
              0.6666666666666666,
              "#ed7953"
             ],
             [
              0.7777777777777778,
              "#fb9f3a"
             ],
             [
              0.8888888888888888,
              "#fdca26"
             ],
             [
              1,
              "#f0f921"
             ]
            ],
            "type": "heatmap"
           }
          ],
          "heatmapgl": [
           {
            "colorbar": {
             "outlinewidth": 0,
             "ticks": ""
            },
            "colorscale": [
             [
              0,
              "#0d0887"
             ],
             [
              0.1111111111111111,
              "#46039f"
             ],
             [
              0.2222222222222222,
              "#7201a8"
             ],
             [
              0.3333333333333333,
              "#9c179e"
             ],
             [
              0.4444444444444444,
              "#bd3786"
             ],
             [
              0.5555555555555556,
              "#d8576b"
             ],
             [
              0.6666666666666666,
              "#ed7953"
             ],
             [
              0.7777777777777778,
              "#fb9f3a"
             ],
             [
              0.8888888888888888,
              "#fdca26"
             ],
             [
              1,
              "#f0f921"
             ]
            ],
            "type": "heatmapgl"
           }
          ],
          "histogram": [
           {
            "marker": {
             "colorbar": {
              "outlinewidth": 0,
              "ticks": ""
             }
            },
            "type": "histogram"
           }
          ],
          "histogram2d": [
           {
            "colorbar": {
             "outlinewidth": 0,
             "ticks": ""
            },
            "colorscale": [
             [
              0,
              "#0d0887"
             ],
             [
              0.1111111111111111,
              "#46039f"
             ],
             [
              0.2222222222222222,
              "#7201a8"
             ],
             [
              0.3333333333333333,
              "#9c179e"
             ],
             [
              0.4444444444444444,
              "#bd3786"
             ],
             [
              0.5555555555555556,
              "#d8576b"
             ],
             [
              0.6666666666666666,
              "#ed7953"
             ],
             [
              0.7777777777777778,
              "#fb9f3a"
             ],
             [
              0.8888888888888888,
              "#fdca26"
             ],
             [
              1,
              "#f0f921"
             ]
            ],
            "type": "histogram2d"
           }
          ],
          "histogram2dcontour": [
           {
            "colorbar": {
             "outlinewidth": 0,
             "ticks": ""
            },
            "colorscale": [
             [
              0,
              "#0d0887"
             ],
             [
              0.1111111111111111,
              "#46039f"
             ],
             [
              0.2222222222222222,
              "#7201a8"
             ],
             [
              0.3333333333333333,
              "#9c179e"
             ],
             [
              0.4444444444444444,
              "#bd3786"
             ],
             [
              0.5555555555555556,
              "#d8576b"
             ],
             [
              0.6666666666666666,
              "#ed7953"
             ],
             [
              0.7777777777777778,
              "#fb9f3a"
             ],
             [
              0.8888888888888888,
              "#fdca26"
             ],
             [
              1,
              "#f0f921"
             ]
            ],
            "type": "histogram2dcontour"
           }
          ],
          "mesh3d": [
           {
            "colorbar": {
             "outlinewidth": 0,
             "ticks": ""
            },
            "type": "mesh3d"
           }
          ],
          "parcoords": [
           {
            "line": {
             "colorbar": {
              "outlinewidth": 0,
              "ticks": ""
             }
            },
            "type": "parcoords"
           }
          ],
          "pie": [
           {
            "automargin": true,
            "type": "pie"
           }
          ],
          "scatter": [
           {
            "marker": {
             "colorbar": {
              "outlinewidth": 0,
              "ticks": ""
             }
            },
            "type": "scatter"
           }
          ],
          "scatter3d": [
           {
            "line": {
             "colorbar": {
              "outlinewidth": 0,
              "ticks": ""
             }
            },
            "marker": {
             "colorbar": {
              "outlinewidth": 0,
              "ticks": ""
             }
            },
            "type": "scatter3d"
           }
          ],
          "scattercarpet": [
           {
            "marker": {
             "colorbar": {
              "outlinewidth": 0,
              "ticks": ""
             }
            },
            "type": "scattercarpet"
           }
          ],
          "scattergeo": [
           {
            "marker": {
             "colorbar": {
              "outlinewidth": 0,
              "ticks": ""
             }
            },
            "type": "scattergeo"
           }
          ],
          "scattergl": [
           {
            "marker": {
             "colorbar": {
              "outlinewidth": 0,
              "ticks": ""
             }
            },
            "type": "scattergl"
           }
          ],
          "scattermapbox": [
           {
            "marker": {
             "colorbar": {
              "outlinewidth": 0,
              "ticks": ""
             }
            },
            "type": "scattermapbox"
           }
          ],
          "scatterpolar": [
           {
            "marker": {
             "colorbar": {
              "outlinewidth": 0,
              "ticks": ""
             }
            },
            "type": "scatterpolar"
           }
          ],
          "scatterpolargl": [
           {
            "marker": {
             "colorbar": {
              "outlinewidth": 0,
              "ticks": ""
             }
            },
            "type": "scatterpolargl"
           }
          ],
          "scatterternary": [
           {
            "marker": {
             "colorbar": {
              "outlinewidth": 0,
              "ticks": ""
             }
            },
            "type": "scatterternary"
           }
          ],
          "surface": [
           {
            "colorbar": {
             "outlinewidth": 0,
             "ticks": ""
            },
            "colorscale": [
             [
              0,
              "#0d0887"
             ],
             [
              0.1111111111111111,
              "#46039f"
             ],
             [
              0.2222222222222222,
              "#7201a8"
             ],
             [
              0.3333333333333333,
              "#9c179e"
             ],
             [
              0.4444444444444444,
              "#bd3786"
             ],
             [
              0.5555555555555556,
              "#d8576b"
             ],
             [
              0.6666666666666666,
              "#ed7953"
             ],
             [
              0.7777777777777778,
              "#fb9f3a"
             ],
             [
              0.8888888888888888,
              "#fdca26"
             ],
             [
              1,
              "#f0f921"
             ]
            ],
            "type": "surface"
           }
          ],
          "table": [
           {
            "cells": {
             "fill": {
              "color": "#EBF0F8"
             },
             "line": {
              "color": "white"
             }
            },
            "header": {
             "fill": {
              "color": "#C8D4E3"
             },
             "line": {
              "color": "white"
             }
            },
            "type": "table"
           }
          ]
         },
         "layout": {
          "annotationdefaults": {
           "arrowcolor": "#2a3f5f",
           "arrowhead": 0,
           "arrowwidth": 1
          },
          "coloraxis": {
           "colorbar": {
            "outlinewidth": 0,
            "ticks": ""
           }
          },
          "colorscale": {
           "diverging": [
            [
             0,
             "#8e0152"
            ],
            [
             0.1,
             "#c51b7d"
            ],
            [
             0.2,
             "#de77ae"
            ],
            [
             0.3,
             "#f1b6da"
            ],
            [
             0.4,
             "#fde0ef"
            ],
            [
             0.5,
             "#f7f7f7"
            ],
            [
             0.6,
             "#e6f5d0"
            ],
            [
             0.7,
             "#b8e186"
            ],
            [
             0.8,
             "#7fbc41"
            ],
            [
             0.9,
             "#4d9221"
            ],
            [
             1,
             "#276419"
            ]
           ],
           "sequential": [
            [
             0,
             "#0d0887"
            ],
            [
             0.1111111111111111,
             "#46039f"
            ],
            [
             0.2222222222222222,
             "#7201a8"
            ],
            [
             0.3333333333333333,
             "#9c179e"
            ],
            [
             0.4444444444444444,
             "#bd3786"
            ],
            [
             0.5555555555555556,
             "#d8576b"
            ],
            [
             0.6666666666666666,
             "#ed7953"
            ],
            [
             0.7777777777777778,
             "#fb9f3a"
            ],
            [
             0.8888888888888888,
             "#fdca26"
            ],
            [
             1,
             "#f0f921"
            ]
           ],
           "sequentialminus": [
            [
             0,
             "#0d0887"
            ],
            [
             0.1111111111111111,
             "#46039f"
            ],
            [
             0.2222222222222222,
             "#7201a8"
            ],
            [
             0.3333333333333333,
             "#9c179e"
            ],
            [
             0.4444444444444444,
             "#bd3786"
            ],
            [
             0.5555555555555556,
             "#d8576b"
            ],
            [
             0.6666666666666666,
             "#ed7953"
            ],
            [
             0.7777777777777778,
             "#fb9f3a"
            ],
            [
             0.8888888888888888,
             "#fdca26"
            ],
            [
             1,
             "#f0f921"
            ]
           ]
          },
          "colorway": [
           "#636efa",
           "#EF553B",
           "#00cc96",
           "#ab63fa",
           "#FFA15A",
           "#19d3f3",
           "#FF6692",
           "#B6E880",
           "#FF97FF",
           "#FECB52"
          ],
          "font": {
           "color": "#2a3f5f"
          },
          "geo": {
           "bgcolor": "white",
           "lakecolor": "white",
           "landcolor": "#E5ECF6",
           "showlakes": true,
           "showland": true,
           "subunitcolor": "white"
          },
          "hoverlabel": {
           "align": "left"
          },
          "hovermode": "closest",
          "mapbox": {
           "style": "light"
          },
          "paper_bgcolor": "white",
          "plot_bgcolor": "#E5ECF6",
          "polar": {
           "angularaxis": {
            "gridcolor": "white",
            "linecolor": "white",
            "ticks": ""
           },
           "bgcolor": "#E5ECF6",
           "radialaxis": {
            "gridcolor": "white",
            "linecolor": "white",
            "ticks": ""
           }
          },
          "scene": {
           "xaxis": {
            "backgroundcolor": "#E5ECF6",
            "gridcolor": "white",
            "gridwidth": 2,
            "linecolor": "white",
            "showbackground": true,
            "ticks": "",
            "zerolinecolor": "white"
           },
           "yaxis": {
            "backgroundcolor": "#E5ECF6",
            "gridcolor": "white",
            "gridwidth": 2,
            "linecolor": "white",
            "showbackground": true,
            "ticks": "",
            "zerolinecolor": "white"
           },
           "zaxis": {
            "backgroundcolor": "#E5ECF6",
            "gridcolor": "white",
            "gridwidth": 2,
            "linecolor": "white",
            "showbackground": true,
            "ticks": "",
            "zerolinecolor": "white"
           }
          },
          "shapedefaults": {
           "line": {
            "color": "#2a3f5f"
           }
          },
          "ternary": {
           "aaxis": {
            "gridcolor": "white",
            "linecolor": "white",
            "ticks": ""
           },
           "baxis": {
            "gridcolor": "white",
            "linecolor": "white",
            "ticks": ""
           },
           "bgcolor": "#E5ECF6",
           "caxis": {
            "gridcolor": "white",
            "linecolor": "white",
            "ticks": ""
           }
          },
          "title": {
           "x": 0.05
          },
          "xaxis": {
           "automargin": true,
           "gridcolor": "white",
           "linecolor": "white",
           "ticks": "",
           "title": {
            "standoff": 15
           },
           "zerolinecolor": "white",
           "zerolinewidth": 2
          },
          "yaxis": {
           "automargin": true,
           "gridcolor": "white",
           "linecolor": "white",
           "ticks": "",
           "title": {
            "standoff": 15
           },
           "zerolinecolor": "white",
           "zerolinewidth": 2
          }
         }
        },
        "title": {
         "text": "<b>Number of Dust Devil Measurements versus Number of Robots</b>",
         "x": 0.5
        },
        "xaxis": {
         "linecolor": "black",
         "linewidth": 1,
         "range": [
          0,
          105
         ],
         "showgrid": false,
         "showline": true,
         "ticks": "outside",
         "tickvals": [
          0,
          10,
          20,
          30,
          40,
          50,
          60,
          70,
          80,
          90,
          100
         ],
         "title": {
          "text": "Number of Robots"
         }
        },
        "yaxis": {
         "dtick": 2000,
         "linecolor": "black",
         "linewidth": 1,
         "range": [
          0,
          40000
         ],
         "showgrid": false,
         "showline": true,
         "tick0": 0,
         "tickmode": "linear",
         "ticks": "outside",
         "title": {
          "text": "Number of Dust Devil Measurements"
         }
        }
       }
      },
      "text/html": [
       "<div>                            <div id=\"94ddd565-beac-43e2-8e18-3a31a1316e59\" class=\"plotly-graph-div\" style=\"height:525px; width:100%;\"></div>            <script type=\"text/javascript\">                require([\"plotly\"], function(Plotly) {                    window.PLOTLYENV=window.PLOTLYENV || {};                                    if (document.getElementById(\"94ddd565-beac-43e2-8e18-3a31a1316e59\")) {                    Plotly.newPlot(                        \"94ddd565-beac-43e2-8e18-3a31a1316e59\",                        [{\"error_y\": {\"array\": [496.54616099613537, 652.0182206043017, 684.8270146540657, 1632.5126308852866, 1158.0141147671732, 2363.0239715246225, 2134.9806579920114, 2441.348528989665, 2207.432818909785, 4237.744623027678], \"type\": \"data\", \"visible\": true}, \"marker\": {\"color\": \"blue\", \"line\": {\"color\": \"Blue\", \"width\": 2}, \"size\": 8, \"symbol\": \"x-thin\"}, \"mode\": \"markers\", \"showlegend\": false, \"type\": \"scatter\", \"x\": [10.0, 20.0, 30.0, 40.0, 50.0, 60.0, 70.0, 80.0, 90.0, 100.0], \"y\": [2688.9, 5641.2, 9426.6, 11158.9, 13470.9, 15222.1, 17752.7, 22063.6, 25656.5, 26765.9]}, {\"fill\": \"tonexty\", \"fillcolor\": \"rgba(0,0,255,0.4)\", \"line\": {\"width\": 0}, \"marker\": {\"color\": \"#444\"}, \"mode\": \"lines\", \"name\": \"Upper Bound\", \"opacity\": 0.5, \"showlegend\": false, \"type\": \"scatter\", \"x\": [10.0, 20.0, 30.0, 40.0, 50.0, 60.0, 70.0, 80.0, 90.0, 100.0], \"y\": [3185.4461609961354, 6293.218220604302, 10111.427014654066, 12791.412630885286, 14628.914114767173, 17585.123971524623, 19887.680657992012, 24504.948528989662, 27863.932818909787, 31003.644623027678]}, {\"fill\": \"tonexty\", \"fillcolor\": \"rgba(0,0,255,0.3)\", \"line\": {\"width\": 0}, \"marker\": {\"color\": \"#444\"}, \"mode\": \"lines\", \"name\": \"Lower Bound\", \"opacity\": 0.5, \"showlegend\": false, \"type\": \"scatter\", \"x\": [10.0, 20.0, 30.0, 40.0, 50.0, 60.0, 70.0, 80.0, 90.0, 100.0], \"y\": [2192.353839003865, 4989.181779395698, 8741.772985345935, 9526.387369114713, 12312.885885232827, 12859.076028475378, 15617.71934200799, 19622.251471010335, 23449.067181090213, 22528.155376972325]}, {\"error_y\": {\"array\": [496.54616099613537, 652.0182206043017, 684.8270146540657, 1632.5126308852866, 1158.0141147671732, 2363.0239715246225, 2134.9806579920114, 2441.348528989665, 2207.432818909785, 4237.744623027678], \"type\": \"data\", \"visible\": true}, \"marker\": {\"color\": \"blue\", \"line\": {\"color\": \"Blue\", \"width\": 2}, \"size\": 8, \"symbol\": \"x-thin\"}, \"mode\": \"markers\", \"name\": \"Static Method\", \"showlegend\": true, \"type\": \"scatter\", \"x\": [10.0, 20.0, 30.0, 40.0, 50.0, 60.0, 70.0, 80.0, 90.0, 100.0], \"y\": [2688.9, 5641.2, 9426.6, 11158.9, 13470.9, 15222.1, 17752.7, 22063.6, 25656.5, 26765.9]}, {\"error_y\": {\"array\": [455.94746407892217, 846.7858997408968, 1224.0302324697702, 1379.2516086631908, 1759.4987809032434, 2109.010848715577, 2122.428620707891, 3148.734755421612, 2358.841953162611, 3601.3126273624175], \"type\": \"data\", \"visible\": true}, \"marker\": {\"color\": \"Red\", \"line\": {\"color\": \"Red\", \"width\": 2}, \"size\": 8, \"symbol\": \"square-open\"}, \"mode\": \"markers\", \"name\": \"Tracking Method 1\", \"type\": \"scatter\", \"x\": [10.0, 20.0, 30.0, 40.0, 50.0, 60.0, 70.0, 80.0, 90.0, 100.0], \"y\": [2723.9, 5710.2, 8991.7, 11059.0, 13096.8, 15008.2, 17384.5, 22411.2, 24435.8, 28400.4]}, {\"fill\": \"tonexty\", \"fillcolor\": \"rgba(221,85,39,0.1)\", \"line\": {\"width\": 0}, \"marker\": {\"color\": \"#444\"}, \"mode\": \"lines\", \"name\": \"Upper Bound\", \"opacity\": 0.5, \"showlegend\": false, \"type\": \"scatter\", \"x\": [10, 20, 30, 40, 50, 60, 70, 80, 90, 100], \"y\": [3179.8474640789223, 6556.9858997408965, 10215.73023246977, 12438.251608663191, 14856.298780903242, 17117.21084871558, 19506.92862070789, 25559.934755421615, 26794.64195316261, 32001.71262736242]}, {\"fill\": \"tonexty\", \"fillcolor\": \"rgba(221,85,39,0.1)\", \"line\": {\"width\": 0}, \"marker\": {\"color\": \"#444\"}, \"mode\": \"lines\", \"name\": \"Lower Bound\", \"opacity\": 0.5, \"showlegend\": false, \"type\": \"scatter\", \"x\": [10, 20, 30, 40, 50, 60, 70, 80, 90, 100], \"y\": [2267.952535921078, 4863.414100259103, 7767.66976753023, 9679.748391336809, 11337.301219096757, 12899.189151284423, 15262.071379292109, 19262.465244578387, 22076.95804683739, 24799.087372637583]}, {\"error_y\": {\"array\": [321.9500116477712, 562.165954145215, 1081.108417319928, 999.5261327249028, 1855.1685745505717, 2262.3934693151855, 1400.4161381532276, 2699.276208541838, 3345.055755888084, 3973.177625025088], \"type\": \"data\", \"visible\": true}, \"marker\": {\"color\": \"Green\", \"line\": {\"color\": \"Green\", \"width\": 2}, \"size\": 8, \"symbol\": \"circle-open\"}, \"mode\": \"markers\", \"name\": \"Tracking Method 2\", \"type\": \"scatter\", \"x\": [10.0, 20.0, 30.0, 40.0, 50.0, 60.0, 70.0, 80.0, 90.0, 100.0], \"y\": [2565.3, 5478.2, 7970.3, 10511.1, 13180.6, 14400.3, 16738.2, 23057.5, 25366.3, 26521.6]}, {\"fill\": \"tonexty\", \"fillcolor\": \"rgba(69,139,0,0.1)\", \"line\": {\"width\": 0}, \"marker\": {\"color\": \"#444\"}, \"mode\": \"lines\", \"name\": \"Upper Bound\", \"opacity\": 0.5, \"showlegend\": false, \"type\": \"scatter\", \"x\": [10, 20, 30, 40, 50, 60, 70, 80, 90, 100], \"y\": [2887.2500116477713, 6040.365954145214, 9051.408417319928, 11510.626132724903, 15035.768574550571, 16662.693469315185, 18138.61613815323, 25756.776208541836, 28711.355755888082, 30494.777625025086]}, {\"fill\": \"tonexty\", \"fillcolor\": \"rgba(69,139,0,0.1)\", \"line\": {\"width\": 0}, \"marker\": {\"color\": \"#444\"}, \"mode\": \"lines\", \"name\": \"Lower Bound\", \"opacity\": 0.5, \"showlegend\": false, \"type\": \"scatter\", \"x\": [10, 20, 30, 40, 50, 60, 70, 80, 90, 100], \"y\": [2243.349988352229, 4916.034045854785, 6889.191582680072, 9511.573867275098, 11325.43142544943, 12137.906530684813, 15337.783861846772, 20358.223791458164, 22021.244244111916, 22548.42237497491]}],                        {\"margin\": {\"l\": 10, \"r\": 10, \"t\": 50}, \"plot_bgcolor\": \"rgba(0,0,0,0)\", \"template\": {\"data\": {\"bar\": [{\"error_x\": {\"color\": \"#2a3f5f\"}, \"error_y\": {\"color\": \"#2a3f5f\"}, \"marker\": {\"line\": {\"color\": \"#E5ECF6\", \"width\": 0.5}}, \"type\": \"bar\"}], \"barpolar\": [{\"marker\": {\"line\": {\"color\": \"#E5ECF6\", \"width\": 0.5}}, \"type\": \"barpolar\"}], \"carpet\": [{\"aaxis\": {\"endlinecolor\": \"#2a3f5f\", \"gridcolor\": \"white\", \"linecolor\": \"white\", \"minorgridcolor\": \"white\", \"startlinecolor\": \"#2a3f5f\"}, \"baxis\": {\"endlinecolor\": \"#2a3f5f\", \"gridcolor\": \"white\", \"linecolor\": \"white\", \"minorgridcolor\": \"white\", \"startlinecolor\": \"#2a3f5f\"}, \"type\": \"carpet\"}], \"choropleth\": [{\"colorbar\": {\"outlinewidth\": 0, \"ticks\": \"\"}, \"type\": \"choropleth\"}], \"contour\": [{\"colorbar\": {\"outlinewidth\": 0, \"ticks\": \"\"}, \"colorscale\": [[0.0, \"#0d0887\"], [0.1111111111111111, \"#46039f\"], [0.2222222222222222, \"#7201a8\"], [0.3333333333333333, \"#9c179e\"], [0.4444444444444444, \"#bd3786\"], [0.5555555555555556, \"#d8576b\"], [0.6666666666666666, \"#ed7953\"], [0.7777777777777778, \"#fb9f3a\"], [0.8888888888888888, \"#fdca26\"], [1.0, \"#f0f921\"]], \"type\": \"contour\"}], \"contourcarpet\": [{\"colorbar\": {\"outlinewidth\": 0, \"ticks\": \"\"}, \"type\": \"contourcarpet\"}], \"heatmap\": [{\"colorbar\": {\"outlinewidth\": 0, \"ticks\": \"\"}, \"colorscale\": [[0.0, \"#0d0887\"], [0.1111111111111111, \"#46039f\"], [0.2222222222222222, \"#7201a8\"], [0.3333333333333333, \"#9c179e\"], [0.4444444444444444, \"#bd3786\"], [0.5555555555555556, \"#d8576b\"], [0.6666666666666666, \"#ed7953\"], [0.7777777777777778, \"#fb9f3a\"], [0.8888888888888888, \"#fdca26\"], [1.0, \"#f0f921\"]], \"type\": \"heatmap\"}], \"heatmapgl\": [{\"colorbar\": {\"outlinewidth\": 0, \"ticks\": \"\"}, \"colorscale\": [[0.0, \"#0d0887\"], [0.1111111111111111, \"#46039f\"], [0.2222222222222222, \"#7201a8\"], [0.3333333333333333, \"#9c179e\"], [0.4444444444444444, \"#bd3786\"], [0.5555555555555556, \"#d8576b\"], [0.6666666666666666, \"#ed7953\"], [0.7777777777777778, \"#fb9f3a\"], [0.8888888888888888, \"#fdca26\"], [1.0, \"#f0f921\"]], \"type\": \"heatmapgl\"}], \"histogram\": [{\"marker\": {\"colorbar\": {\"outlinewidth\": 0, \"ticks\": \"\"}}, \"type\": \"histogram\"}], \"histogram2d\": [{\"colorbar\": {\"outlinewidth\": 0, \"ticks\": \"\"}, \"colorscale\": [[0.0, \"#0d0887\"], [0.1111111111111111, \"#46039f\"], [0.2222222222222222, \"#7201a8\"], [0.3333333333333333, \"#9c179e\"], [0.4444444444444444, \"#bd3786\"], [0.5555555555555556, \"#d8576b\"], [0.6666666666666666, \"#ed7953\"], [0.7777777777777778, \"#fb9f3a\"], [0.8888888888888888, \"#fdca26\"], [1.0, \"#f0f921\"]], \"type\": \"histogram2d\"}], \"histogram2dcontour\": [{\"colorbar\": {\"outlinewidth\": 0, \"ticks\": \"\"}, \"colorscale\": [[0.0, \"#0d0887\"], [0.1111111111111111, \"#46039f\"], [0.2222222222222222, \"#7201a8\"], [0.3333333333333333, \"#9c179e\"], [0.4444444444444444, \"#bd3786\"], [0.5555555555555556, \"#d8576b\"], [0.6666666666666666, \"#ed7953\"], [0.7777777777777778, \"#fb9f3a\"], [0.8888888888888888, \"#fdca26\"], [1.0, \"#f0f921\"]], \"type\": \"histogram2dcontour\"}], \"mesh3d\": [{\"colorbar\": {\"outlinewidth\": 0, \"ticks\": \"\"}, \"type\": \"mesh3d\"}], \"parcoords\": [{\"line\": {\"colorbar\": {\"outlinewidth\": 0, \"ticks\": \"\"}}, \"type\": \"parcoords\"}], \"pie\": [{\"automargin\": true, \"type\": \"pie\"}], \"scatter\": [{\"marker\": {\"colorbar\": {\"outlinewidth\": 0, \"ticks\": \"\"}}, \"type\": \"scatter\"}], \"scatter3d\": [{\"line\": {\"colorbar\": {\"outlinewidth\": 0, \"ticks\": \"\"}}, \"marker\": {\"colorbar\": {\"outlinewidth\": 0, \"ticks\": \"\"}}, \"type\": \"scatter3d\"}], \"scattercarpet\": [{\"marker\": {\"colorbar\": {\"outlinewidth\": 0, \"ticks\": \"\"}}, \"type\": \"scattercarpet\"}], \"scattergeo\": [{\"marker\": {\"colorbar\": {\"outlinewidth\": 0, \"ticks\": \"\"}}, \"type\": \"scattergeo\"}], \"scattergl\": [{\"marker\": {\"colorbar\": {\"outlinewidth\": 0, \"ticks\": \"\"}}, \"type\": \"scattergl\"}], \"scattermapbox\": [{\"marker\": {\"colorbar\": {\"outlinewidth\": 0, \"ticks\": \"\"}}, \"type\": \"scattermapbox\"}], \"scatterpolar\": [{\"marker\": {\"colorbar\": {\"outlinewidth\": 0, \"ticks\": \"\"}}, \"type\": \"scatterpolar\"}], \"scatterpolargl\": [{\"marker\": {\"colorbar\": {\"outlinewidth\": 0, \"ticks\": \"\"}}, \"type\": \"scatterpolargl\"}], \"scatterternary\": [{\"marker\": {\"colorbar\": {\"outlinewidth\": 0, \"ticks\": \"\"}}, \"type\": \"scatterternary\"}], \"surface\": [{\"colorbar\": {\"outlinewidth\": 0, \"ticks\": \"\"}, \"colorscale\": [[0.0, \"#0d0887\"], [0.1111111111111111, \"#46039f\"], [0.2222222222222222, \"#7201a8\"], [0.3333333333333333, \"#9c179e\"], [0.4444444444444444, \"#bd3786\"], [0.5555555555555556, \"#d8576b\"], [0.6666666666666666, \"#ed7953\"], [0.7777777777777778, \"#fb9f3a\"], [0.8888888888888888, \"#fdca26\"], [1.0, \"#f0f921\"]], \"type\": \"surface\"}], \"table\": [{\"cells\": {\"fill\": {\"color\": \"#EBF0F8\"}, \"line\": {\"color\": \"white\"}}, \"header\": {\"fill\": {\"color\": \"#C8D4E3\"}, \"line\": {\"color\": \"white\"}}, \"type\": \"table\"}]}, \"layout\": {\"annotationdefaults\": {\"arrowcolor\": \"#2a3f5f\", \"arrowhead\": 0, \"arrowwidth\": 1}, \"coloraxis\": {\"colorbar\": {\"outlinewidth\": 0, \"ticks\": \"\"}}, \"colorscale\": {\"diverging\": [[0, \"#8e0152\"], [0.1, \"#c51b7d\"], [0.2, \"#de77ae\"], [0.3, \"#f1b6da\"], [0.4, \"#fde0ef\"], [0.5, \"#f7f7f7\"], [0.6, \"#e6f5d0\"], [0.7, \"#b8e186\"], [0.8, \"#7fbc41\"], [0.9, \"#4d9221\"], [1, \"#276419\"]], \"sequential\": [[0.0, \"#0d0887\"], [0.1111111111111111, \"#46039f\"], [0.2222222222222222, \"#7201a8\"], [0.3333333333333333, \"#9c179e\"], [0.4444444444444444, \"#bd3786\"], [0.5555555555555556, \"#d8576b\"], [0.6666666666666666, \"#ed7953\"], [0.7777777777777778, \"#fb9f3a\"], [0.8888888888888888, \"#fdca26\"], [1.0, \"#f0f921\"]], \"sequentialminus\": [[0.0, \"#0d0887\"], [0.1111111111111111, \"#46039f\"], [0.2222222222222222, \"#7201a8\"], [0.3333333333333333, \"#9c179e\"], [0.4444444444444444, \"#bd3786\"], [0.5555555555555556, \"#d8576b\"], [0.6666666666666666, \"#ed7953\"], [0.7777777777777778, \"#fb9f3a\"], [0.8888888888888888, \"#fdca26\"], [1.0, \"#f0f921\"]]}, \"colorway\": [\"#636efa\", \"#EF553B\", \"#00cc96\", \"#ab63fa\", \"#FFA15A\", \"#19d3f3\", \"#FF6692\", \"#B6E880\", \"#FF97FF\", \"#FECB52\"], \"font\": {\"color\": \"#2a3f5f\"}, \"geo\": {\"bgcolor\": \"white\", \"lakecolor\": \"white\", \"landcolor\": \"#E5ECF6\", \"showlakes\": true, \"showland\": true, \"subunitcolor\": \"white\"}, \"hoverlabel\": {\"align\": \"left\"}, \"hovermode\": \"closest\", \"mapbox\": {\"style\": \"light\"}, \"paper_bgcolor\": \"white\", \"plot_bgcolor\": \"#E5ECF6\", \"polar\": {\"angularaxis\": {\"gridcolor\": \"white\", \"linecolor\": \"white\", \"ticks\": \"\"}, \"bgcolor\": \"#E5ECF6\", \"radialaxis\": {\"gridcolor\": \"white\", \"linecolor\": \"white\", \"ticks\": \"\"}}, \"scene\": {\"xaxis\": {\"backgroundcolor\": \"#E5ECF6\", \"gridcolor\": \"white\", \"gridwidth\": 2, \"linecolor\": \"white\", \"showbackground\": true, \"ticks\": \"\", \"zerolinecolor\": \"white\"}, \"yaxis\": {\"backgroundcolor\": \"#E5ECF6\", \"gridcolor\": \"white\", \"gridwidth\": 2, \"linecolor\": \"white\", \"showbackground\": true, \"ticks\": \"\", \"zerolinecolor\": \"white\"}, \"zaxis\": {\"backgroundcolor\": \"#E5ECF6\", \"gridcolor\": \"white\", \"gridwidth\": 2, \"linecolor\": \"white\", \"showbackground\": true, \"ticks\": \"\", \"zerolinecolor\": \"white\"}}, \"shapedefaults\": {\"line\": {\"color\": \"#2a3f5f\"}}, \"ternary\": {\"aaxis\": {\"gridcolor\": \"white\", \"linecolor\": \"white\", \"ticks\": \"\"}, \"baxis\": {\"gridcolor\": \"white\", \"linecolor\": \"white\", \"ticks\": \"\"}, \"bgcolor\": \"#E5ECF6\", \"caxis\": {\"gridcolor\": \"white\", \"linecolor\": \"white\", \"ticks\": \"\"}}, \"title\": {\"x\": 0.05}, \"xaxis\": {\"automargin\": true, \"gridcolor\": \"white\", \"linecolor\": \"white\", \"ticks\": \"\", \"title\": {\"standoff\": 15}, \"zerolinecolor\": \"white\", \"zerolinewidth\": 2}, \"yaxis\": {\"automargin\": true, \"gridcolor\": \"white\", \"linecolor\": \"white\", \"ticks\": \"\", \"title\": {\"standoff\": 15}, \"zerolinecolor\": \"white\", \"zerolinewidth\": 2}}}, \"title\": {\"text\": \"<b>Number of Dust Devil Measurements versus Number of Robots</b>\", \"x\": 0.5}, \"xaxis\": {\"linecolor\": \"black\", \"linewidth\": 1, \"range\": [0, 105.0], \"showgrid\": false, \"showline\": true, \"ticks\": \"outside\", \"tickvals\": [0, 10, 20, 30, 40, 50, 60, 70, 80, 90, 100], \"title\": {\"text\": \"Number of Robots\"}}, \"yaxis\": {\"dtick\": 2000, \"linecolor\": \"black\", \"linewidth\": 1, \"range\": [0, 40000], \"showgrid\": false, \"showline\": true, \"tick0\": 0, \"tickmode\": \"linear\", \"ticks\": \"outside\", \"title\": {\"text\": \"Number of Dust Devil Measurements\"}}},                        {\"responsive\": true}                    ).then(function(){\n",
       "                            \n",
       "var gd = document.getElementById('94ddd565-beac-43e2-8e18-3a31a1316e59');\n",
       "var x = new MutationObserver(function (mutations, observer) {{\n",
       "        var display = window.getComputedStyle(gd).display;\n",
       "        if (!display || display === 'none') {{\n",
       "            console.log([gd, 'removed!']);\n",
       "            Plotly.purge(gd);\n",
       "            observer.disconnect();\n",
       "        }}\n",
       "}});\n",
       "\n",
       "// Listen for the removal of the full notebook cells\n",
       "var notebookContainer = gd.closest('#notebook-container');\n",
       "if (notebookContainer) {{\n",
       "    x.observe(notebookContainer, {childList: true});\n",
       "}}\n",
       "\n",
       "// Listen for the clearing of the current output cell\n",
       "var outputEl = gd.closest('.output');\n",
       "if (outputEl) {{\n",
       "    x.observe(outputEl, {childList: true});\n",
       "}}\n",
       "\n",
       "                        })                };                });            </script>        </div>"
      ]
     },
     "metadata": {},
     "output_type": "display_data"
    },
    {
     "data": {
      "application/vnd.plotly.v1+json": {
       "config": {
        "plotlyServerURL": "https://plot.ly"
       },
       "data": [
        {
         "error_y": {
          "array": [
           8.346927463074055,
           11.324774167057006,
           8.20305902392596,
           9.740550736529194,
           10.167228196959195,
           16.881024122768405,
           14.208943825740777,
           14.58416459496866,
           9.41089831623165,
           10.56905159890892
          ],
          "type": "data",
          "visible": true
         },
         "mode": "markers",
         "name": "Static Method",
         "type": "scatter",
         "x": [
          10,
          20,
          30,
          40,
          50,
          60,
          70,
          80,
          90,
          100
         ],
         "y": [
          61.30653266331658,
          78.75383043922368,
          75.22211253701876,
          84.61538461538461,
          92.19562955254943,
          97.51552795031057,
          98.5901309164149,
          87.53861997940268,
          89.9497487437186,
          94.50317124735732
         ]
        },
        {
         "error_y": {
          "array": [
           10.698749554411124,
           11.970413819757315,
           10.955947762754615,
           13.376923375425484,
           12.463012796418024,
           13.628999425589456,
           14.799578417422415,
           17.15691654920907,
           10.104740657579063,
           11.66468239377151
          ],
          "type": "data",
          "visible": true
         },
         "marker": {
          "color": "Red",
          "line": {
           "color": "Red",
           "width": 1
          },
          "size": 8,
          "symbol": "square-open"
         },
         "mode": "markers",
         "name": "Tracking Method 1",
         "type": "scatter",
         "x": [
          10,
          20,
          30,
          40,
          50,
          60,
          70,
          80,
          90,
          100
         ],
         "y": [
          64.50048496605238,
          80.72653884964683,
          76.26310772163966,
          88.1218274111675,
          91.015625,
          98.07106598984771,
          99.61352657004831,
          90.4320987654321,
          90.55441478439424,
          95.35113748763602
         ]
        },
        {
         "error_y": {
          "array": [
           10.306705790538983,
           7.126968386933942,
           13.02052707112975,
           11.848834139596555,
           12.752340742578161,
           16.529430106485275,
           6.161559928338051,
           8.902084903117432,
           9.780578230553076,
           12.292320011165375
          ],
          "type": "data",
          "visible": true
         },
         "marker": {
          "color": "Green",
          "line": {
           "color": "Green",
           "width": 1
          },
          "size": 8,
          "symbol": "circle-open"
         },
         "mode": "markers",
         "name": "Tracking Method 2",
         "type": "scatter",
         "x": [
          10,
          20,
          30,
          40,
          50,
          60,
          70,
          80,
          90,
          100
         ],
         "y": [
          62.73684210526316,
          78.77591312931885,
          74.66666666666666,
          86.68032786885246,
          93.29329329329329,
          96.51898734177216,
          99.69418960244649,
          89.02912621359224,
          92.96482412060301,
          95.66115702479338
         ]
        }
       ],
       "layout": {
        "margin": {
         "l": 10,
         "r": 10,
         "t": 50
        },
        "plot_bgcolor": "rgba(0,0,0,0)",
        "template": {
         "data": {
          "bar": [
           {
            "error_x": {
             "color": "#2a3f5f"
            },
            "error_y": {
             "color": "#2a3f5f"
            },
            "marker": {
             "line": {
              "color": "#E5ECF6",
              "width": 0.5
             }
            },
            "type": "bar"
           }
          ],
          "barpolar": [
           {
            "marker": {
             "line": {
              "color": "#E5ECF6",
              "width": 0.5
             }
            },
            "type": "barpolar"
           }
          ],
          "carpet": [
           {
            "aaxis": {
             "endlinecolor": "#2a3f5f",
             "gridcolor": "white",
             "linecolor": "white",
             "minorgridcolor": "white",
             "startlinecolor": "#2a3f5f"
            },
            "baxis": {
             "endlinecolor": "#2a3f5f",
             "gridcolor": "white",
             "linecolor": "white",
             "minorgridcolor": "white",
             "startlinecolor": "#2a3f5f"
            },
            "type": "carpet"
           }
          ],
          "choropleth": [
           {
            "colorbar": {
             "outlinewidth": 0,
             "ticks": ""
            },
            "type": "choropleth"
           }
          ],
          "contour": [
           {
            "colorbar": {
             "outlinewidth": 0,
             "ticks": ""
            },
            "colorscale": [
             [
              0,
              "#0d0887"
             ],
             [
              0.1111111111111111,
              "#46039f"
             ],
             [
              0.2222222222222222,
              "#7201a8"
             ],
             [
              0.3333333333333333,
              "#9c179e"
             ],
             [
              0.4444444444444444,
              "#bd3786"
             ],
             [
              0.5555555555555556,
              "#d8576b"
             ],
             [
              0.6666666666666666,
              "#ed7953"
             ],
             [
              0.7777777777777778,
              "#fb9f3a"
             ],
             [
              0.8888888888888888,
              "#fdca26"
             ],
             [
              1,
              "#f0f921"
             ]
            ],
            "type": "contour"
           }
          ],
          "contourcarpet": [
           {
            "colorbar": {
             "outlinewidth": 0,
             "ticks": ""
            },
            "type": "contourcarpet"
           }
          ],
          "heatmap": [
           {
            "colorbar": {
             "outlinewidth": 0,
             "ticks": ""
            },
            "colorscale": [
             [
              0,
              "#0d0887"
             ],
             [
              0.1111111111111111,
              "#46039f"
             ],
             [
              0.2222222222222222,
              "#7201a8"
             ],
             [
              0.3333333333333333,
              "#9c179e"
             ],
             [
              0.4444444444444444,
              "#bd3786"
             ],
             [
              0.5555555555555556,
              "#d8576b"
             ],
             [
              0.6666666666666666,
              "#ed7953"
             ],
             [
              0.7777777777777778,
              "#fb9f3a"
             ],
             [
              0.8888888888888888,
              "#fdca26"
             ],
             [
              1,
              "#f0f921"
             ]
            ],
            "type": "heatmap"
           }
          ],
          "heatmapgl": [
           {
            "colorbar": {
             "outlinewidth": 0,
             "ticks": ""
            },
            "colorscale": [
             [
              0,
              "#0d0887"
             ],
             [
              0.1111111111111111,
              "#46039f"
             ],
             [
              0.2222222222222222,
              "#7201a8"
             ],
             [
              0.3333333333333333,
              "#9c179e"
             ],
             [
              0.4444444444444444,
              "#bd3786"
             ],
             [
              0.5555555555555556,
              "#d8576b"
             ],
             [
              0.6666666666666666,
              "#ed7953"
             ],
             [
              0.7777777777777778,
              "#fb9f3a"
             ],
             [
              0.8888888888888888,
              "#fdca26"
             ],
             [
              1,
              "#f0f921"
             ]
            ],
            "type": "heatmapgl"
           }
          ],
          "histogram": [
           {
            "marker": {
             "colorbar": {
              "outlinewidth": 0,
              "ticks": ""
             }
            },
            "type": "histogram"
           }
          ],
          "histogram2d": [
           {
            "colorbar": {
             "outlinewidth": 0,
             "ticks": ""
            },
            "colorscale": [
             [
              0,
              "#0d0887"
             ],
             [
              0.1111111111111111,
              "#46039f"
             ],
             [
              0.2222222222222222,
              "#7201a8"
             ],
             [
              0.3333333333333333,
              "#9c179e"
             ],
             [
              0.4444444444444444,
              "#bd3786"
             ],
             [
              0.5555555555555556,
              "#d8576b"
             ],
             [
              0.6666666666666666,
              "#ed7953"
             ],
             [
              0.7777777777777778,
              "#fb9f3a"
             ],
             [
              0.8888888888888888,
              "#fdca26"
             ],
             [
              1,
              "#f0f921"
             ]
            ],
            "type": "histogram2d"
           }
          ],
          "histogram2dcontour": [
           {
            "colorbar": {
             "outlinewidth": 0,
             "ticks": ""
            },
            "colorscale": [
             [
              0,
              "#0d0887"
             ],
             [
              0.1111111111111111,
              "#46039f"
             ],
             [
              0.2222222222222222,
              "#7201a8"
             ],
             [
              0.3333333333333333,
              "#9c179e"
             ],
             [
              0.4444444444444444,
              "#bd3786"
             ],
             [
              0.5555555555555556,
              "#d8576b"
             ],
             [
              0.6666666666666666,
              "#ed7953"
             ],
             [
              0.7777777777777778,
              "#fb9f3a"
             ],
             [
              0.8888888888888888,
              "#fdca26"
             ],
             [
              1,
              "#f0f921"
             ]
            ],
            "type": "histogram2dcontour"
           }
          ],
          "mesh3d": [
           {
            "colorbar": {
             "outlinewidth": 0,
             "ticks": ""
            },
            "type": "mesh3d"
           }
          ],
          "parcoords": [
           {
            "line": {
             "colorbar": {
              "outlinewidth": 0,
              "ticks": ""
             }
            },
            "type": "parcoords"
           }
          ],
          "pie": [
           {
            "automargin": true,
            "type": "pie"
           }
          ],
          "scatter": [
           {
            "marker": {
             "colorbar": {
              "outlinewidth": 0,
              "ticks": ""
             }
            },
            "type": "scatter"
           }
          ],
          "scatter3d": [
           {
            "line": {
             "colorbar": {
              "outlinewidth": 0,
              "ticks": ""
             }
            },
            "marker": {
             "colorbar": {
              "outlinewidth": 0,
              "ticks": ""
             }
            },
            "type": "scatter3d"
           }
          ],
          "scattercarpet": [
           {
            "marker": {
             "colorbar": {
              "outlinewidth": 0,
              "ticks": ""
             }
            },
            "type": "scattercarpet"
           }
          ],
          "scattergeo": [
           {
            "marker": {
             "colorbar": {
              "outlinewidth": 0,
              "ticks": ""
             }
            },
            "type": "scattergeo"
           }
          ],
          "scattergl": [
           {
            "marker": {
             "colorbar": {
              "outlinewidth": 0,
              "ticks": ""
             }
            },
            "type": "scattergl"
           }
          ],
          "scattermapbox": [
           {
            "marker": {
             "colorbar": {
              "outlinewidth": 0,
              "ticks": ""
             }
            },
            "type": "scattermapbox"
           }
          ],
          "scatterpolar": [
           {
            "marker": {
             "colorbar": {
              "outlinewidth": 0,
              "ticks": ""
             }
            },
            "type": "scatterpolar"
           }
          ],
          "scatterpolargl": [
           {
            "marker": {
             "colorbar": {
              "outlinewidth": 0,
              "ticks": ""
             }
            },
            "type": "scatterpolargl"
           }
          ],
          "scatterternary": [
           {
            "marker": {
             "colorbar": {
              "outlinewidth": 0,
              "ticks": ""
             }
            },
            "type": "scatterternary"
           }
          ],
          "surface": [
           {
            "colorbar": {
             "outlinewidth": 0,
             "ticks": ""
            },
            "colorscale": [
             [
              0,
              "#0d0887"
             ],
             [
              0.1111111111111111,
              "#46039f"
             ],
             [
              0.2222222222222222,
              "#7201a8"
             ],
             [
              0.3333333333333333,
              "#9c179e"
             ],
             [
              0.4444444444444444,
              "#bd3786"
             ],
             [
              0.5555555555555556,
              "#d8576b"
             ],
             [
              0.6666666666666666,
              "#ed7953"
             ],
             [
              0.7777777777777778,
              "#fb9f3a"
             ],
             [
              0.8888888888888888,
              "#fdca26"
             ],
             [
              1,
              "#f0f921"
             ]
            ],
            "type": "surface"
           }
          ],
          "table": [
           {
            "cells": {
             "fill": {
              "color": "#EBF0F8"
             },
             "line": {
              "color": "white"
             }
            },
            "header": {
             "fill": {
              "color": "#C8D4E3"
             },
             "line": {
              "color": "white"
             }
            },
            "type": "table"
           }
          ]
         },
         "layout": {
          "annotationdefaults": {
           "arrowcolor": "#2a3f5f",
           "arrowhead": 0,
           "arrowwidth": 1
          },
          "coloraxis": {
           "colorbar": {
            "outlinewidth": 0,
            "ticks": ""
           }
          },
          "colorscale": {
           "diverging": [
            [
             0,
             "#8e0152"
            ],
            [
             0.1,
             "#c51b7d"
            ],
            [
             0.2,
             "#de77ae"
            ],
            [
             0.3,
             "#f1b6da"
            ],
            [
             0.4,
             "#fde0ef"
            ],
            [
             0.5,
             "#f7f7f7"
            ],
            [
             0.6,
             "#e6f5d0"
            ],
            [
             0.7,
             "#b8e186"
            ],
            [
             0.8,
             "#7fbc41"
            ],
            [
             0.9,
             "#4d9221"
            ],
            [
             1,
             "#276419"
            ]
           ],
           "sequential": [
            [
             0,
             "#0d0887"
            ],
            [
             0.1111111111111111,
             "#46039f"
            ],
            [
             0.2222222222222222,
             "#7201a8"
            ],
            [
             0.3333333333333333,
             "#9c179e"
            ],
            [
             0.4444444444444444,
             "#bd3786"
            ],
            [
             0.5555555555555556,
             "#d8576b"
            ],
            [
             0.6666666666666666,
             "#ed7953"
            ],
            [
             0.7777777777777778,
             "#fb9f3a"
            ],
            [
             0.8888888888888888,
             "#fdca26"
            ],
            [
             1,
             "#f0f921"
            ]
           ],
           "sequentialminus": [
            [
             0,
             "#0d0887"
            ],
            [
             0.1111111111111111,
             "#46039f"
            ],
            [
             0.2222222222222222,
             "#7201a8"
            ],
            [
             0.3333333333333333,
             "#9c179e"
            ],
            [
             0.4444444444444444,
             "#bd3786"
            ],
            [
             0.5555555555555556,
             "#d8576b"
            ],
            [
             0.6666666666666666,
             "#ed7953"
            ],
            [
             0.7777777777777778,
             "#fb9f3a"
            ],
            [
             0.8888888888888888,
             "#fdca26"
            ],
            [
             1,
             "#f0f921"
            ]
           ]
          },
          "colorway": [
           "#636efa",
           "#EF553B",
           "#00cc96",
           "#ab63fa",
           "#FFA15A",
           "#19d3f3",
           "#FF6692",
           "#B6E880",
           "#FF97FF",
           "#FECB52"
          ],
          "font": {
           "color": "#2a3f5f"
          },
          "geo": {
           "bgcolor": "white",
           "lakecolor": "white",
           "landcolor": "#E5ECF6",
           "showlakes": true,
           "showland": true,
           "subunitcolor": "white"
          },
          "hoverlabel": {
           "align": "left"
          },
          "hovermode": "closest",
          "mapbox": {
           "style": "light"
          },
          "paper_bgcolor": "white",
          "plot_bgcolor": "#E5ECF6",
          "polar": {
           "angularaxis": {
            "gridcolor": "white",
            "linecolor": "white",
            "ticks": ""
           },
           "bgcolor": "#E5ECF6",
           "radialaxis": {
            "gridcolor": "white",
            "linecolor": "white",
            "ticks": ""
           }
          },
          "scene": {
           "xaxis": {
            "backgroundcolor": "#E5ECF6",
            "gridcolor": "white",
            "gridwidth": 2,
            "linecolor": "white",
            "showbackground": true,
            "ticks": "",
            "zerolinecolor": "white"
           },
           "yaxis": {
            "backgroundcolor": "#E5ECF6",
            "gridcolor": "white",
            "gridwidth": 2,
            "linecolor": "white",
            "showbackground": true,
            "ticks": "",
            "zerolinecolor": "white"
           },
           "zaxis": {
            "backgroundcolor": "#E5ECF6",
            "gridcolor": "white",
            "gridwidth": 2,
            "linecolor": "white",
            "showbackground": true,
            "ticks": "",
            "zerolinecolor": "white"
           }
          },
          "shapedefaults": {
           "line": {
            "color": "#2a3f5f"
           }
          },
          "ternary": {
           "aaxis": {
            "gridcolor": "white",
            "linecolor": "white",
            "ticks": ""
           },
           "baxis": {
            "gridcolor": "white",
            "linecolor": "white",
            "ticks": ""
           },
           "bgcolor": "#E5ECF6",
           "caxis": {
            "gridcolor": "white",
            "linecolor": "white",
            "ticks": ""
           }
          },
          "title": {
           "x": 0.05
          },
          "xaxis": {
           "automargin": true,
           "gridcolor": "white",
           "linecolor": "white",
           "ticks": "",
           "title": {
            "standoff": 15
           },
           "zerolinecolor": "white",
           "zerolinewidth": 2
          },
          "yaxis": {
           "automargin": true,
           "gridcolor": "white",
           "linecolor": "white",
           "ticks": "",
           "title": {
            "standoff": 15
           },
           "zerolinecolor": "white",
           "zerolinewidth": 2
          }
         }
        },
        "title": {
         "text": "<b>Percentage of Dust Devils Detected versus Number of Robots</b>",
         "x": 0.5
        },
        "xaxis": {
         "linecolor": "black",
         "linewidth": 1,
         "range": [
          0,
          105
         ],
         "showgrid": false,
         "showline": true,
         "ticks": "outside",
         "tickvals": [
          0,
          10,
          20,
          30,
          40,
          50,
          60,
          70,
          80,
          90,
          100
         ],
         "title": {
          "text": "Number of Robots"
         }
        },
        "yaxis": {
         "dtick": 10,
         "linecolor": "black",
         "linewidth": 1,
         "range": [
          0,
          115.99999999999999
         ],
         "showgrid": false,
         "showline": true,
         "tick0": 0,
         "tickmode": "linear",
         "ticks": "outside",
         "title": {
          "text": "Percentage of Dust Devils Detected"
         }
        }
       }
      },
      "text/html": [
       "<div>                            <div id=\"ffce90af-acc6-484b-b79e-644cb08370ae\" class=\"plotly-graph-div\" style=\"height:525px; width:100%;\"></div>            <script type=\"text/javascript\">                require([\"plotly\"], function(Plotly) {                    window.PLOTLYENV=window.PLOTLYENV || {};                                    if (document.getElementById(\"ffce90af-acc6-484b-b79e-644cb08370ae\")) {                    Plotly.newPlot(                        \"ffce90af-acc6-484b-b79e-644cb08370ae\",                        [{\"error_y\": {\"array\": [8.346927463074055, 11.324774167057006, 8.20305902392596, 9.740550736529194, 10.167228196959195, 16.881024122768405, 14.208943825740777, 14.58416459496866, 9.41089831623165, 10.56905159890892], \"type\": \"data\", \"visible\": true}, \"mode\": \"markers\", \"name\": \"Static Method\", \"type\": \"scatter\", \"x\": [10, 20, 30, 40, 50, 60, 70, 80, 90, 100], \"y\": [61.30653266331658, 78.75383043922368, 75.22211253701876, 84.61538461538461, 92.19562955254943, 97.51552795031057, 98.5901309164149, 87.53861997940268, 89.9497487437186, 94.50317124735732]}, {\"error_y\": {\"array\": [10.698749554411124, 11.970413819757315, 10.955947762754615, 13.376923375425484, 12.463012796418024, 13.628999425589456, 14.799578417422415, 17.15691654920907, 10.104740657579063, 11.66468239377151], \"type\": \"data\", \"visible\": true}, \"marker\": {\"color\": \"Red\", \"line\": {\"color\": \"Red\", \"width\": 1}, \"size\": 8, \"symbol\": \"square-open\"}, \"mode\": \"markers\", \"name\": \"Tracking Method 1\", \"type\": \"scatter\", \"x\": [10, 20, 30, 40, 50, 60, 70, 80, 90, 100], \"y\": [64.50048496605238, 80.72653884964683, 76.26310772163966, 88.1218274111675, 91.015625, 98.07106598984771, 99.61352657004831, 90.4320987654321, 90.55441478439424, 95.35113748763602]}, {\"error_y\": {\"array\": [10.306705790538983, 7.126968386933942, 13.02052707112975, 11.848834139596555, 12.752340742578161, 16.529430106485275, 6.161559928338051, 8.902084903117432, 9.780578230553076, 12.292320011165375], \"type\": \"data\", \"visible\": true}, \"marker\": {\"color\": \"Green\", \"line\": {\"color\": \"Green\", \"width\": 1}, \"size\": 8, \"symbol\": \"circle-open\"}, \"mode\": \"markers\", \"name\": \"Tracking Method 2\", \"type\": \"scatter\", \"x\": [10, 20, 30, 40, 50, 60, 70, 80, 90, 100], \"y\": [62.73684210526316, 78.77591312931885, 74.66666666666666, 86.68032786885246, 93.29329329329329, 96.51898734177216, 99.69418960244649, 89.02912621359224, 92.96482412060301, 95.66115702479338]}],                        {\"margin\": {\"l\": 10, \"r\": 10, \"t\": 50}, \"plot_bgcolor\": \"rgba(0,0,0,0)\", \"template\": {\"data\": {\"bar\": [{\"error_x\": {\"color\": \"#2a3f5f\"}, \"error_y\": {\"color\": \"#2a3f5f\"}, \"marker\": {\"line\": {\"color\": \"#E5ECF6\", \"width\": 0.5}}, \"type\": \"bar\"}], \"barpolar\": [{\"marker\": {\"line\": {\"color\": \"#E5ECF6\", \"width\": 0.5}}, \"type\": \"barpolar\"}], \"carpet\": [{\"aaxis\": {\"endlinecolor\": \"#2a3f5f\", \"gridcolor\": \"white\", \"linecolor\": \"white\", \"minorgridcolor\": \"white\", \"startlinecolor\": \"#2a3f5f\"}, \"baxis\": {\"endlinecolor\": \"#2a3f5f\", \"gridcolor\": \"white\", \"linecolor\": \"white\", \"minorgridcolor\": \"white\", \"startlinecolor\": \"#2a3f5f\"}, \"type\": \"carpet\"}], \"choropleth\": [{\"colorbar\": {\"outlinewidth\": 0, \"ticks\": \"\"}, \"type\": \"choropleth\"}], \"contour\": [{\"colorbar\": {\"outlinewidth\": 0, \"ticks\": \"\"}, \"colorscale\": [[0.0, \"#0d0887\"], [0.1111111111111111, \"#46039f\"], [0.2222222222222222, \"#7201a8\"], [0.3333333333333333, \"#9c179e\"], [0.4444444444444444, \"#bd3786\"], [0.5555555555555556, \"#d8576b\"], [0.6666666666666666, \"#ed7953\"], [0.7777777777777778, \"#fb9f3a\"], [0.8888888888888888, \"#fdca26\"], [1.0, \"#f0f921\"]], \"type\": \"contour\"}], \"contourcarpet\": [{\"colorbar\": {\"outlinewidth\": 0, \"ticks\": \"\"}, \"type\": \"contourcarpet\"}], \"heatmap\": [{\"colorbar\": {\"outlinewidth\": 0, \"ticks\": \"\"}, \"colorscale\": [[0.0, \"#0d0887\"], [0.1111111111111111, \"#46039f\"], [0.2222222222222222, \"#7201a8\"], [0.3333333333333333, \"#9c179e\"], [0.4444444444444444, \"#bd3786\"], [0.5555555555555556, \"#d8576b\"], [0.6666666666666666, \"#ed7953\"], [0.7777777777777778, \"#fb9f3a\"], [0.8888888888888888, \"#fdca26\"], [1.0, \"#f0f921\"]], \"type\": \"heatmap\"}], \"heatmapgl\": [{\"colorbar\": {\"outlinewidth\": 0, \"ticks\": \"\"}, \"colorscale\": [[0.0, \"#0d0887\"], [0.1111111111111111, \"#46039f\"], [0.2222222222222222, \"#7201a8\"], [0.3333333333333333, \"#9c179e\"], [0.4444444444444444, \"#bd3786\"], [0.5555555555555556, \"#d8576b\"], [0.6666666666666666, \"#ed7953\"], [0.7777777777777778, \"#fb9f3a\"], [0.8888888888888888, \"#fdca26\"], [1.0, \"#f0f921\"]], \"type\": \"heatmapgl\"}], \"histogram\": [{\"marker\": {\"colorbar\": {\"outlinewidth\": 0, \"ticks\": \"\"}}, \"type\": \"histogram\"}], \"histogram2d\": [{\"colorbar\": {\"outlinewidth\": 0, \"ticks\": \"\"}, \"colorscale\": [[0.0, \"#0d0887\"], [0.1111111111111111, \"#46039f\"], [0.2222222222222222, \"#7201a8\"], [0.3333333333333333, \"#9c179e\"], [0.4444444444444444, \"#bd3786\"], [0.5555555555555556, \"#d8576b\"], [0.6666666666666666, \"#ed7953\"], [0.7777777777777778, \"#fb9f3a\"], [0.8888888888888888, \"#fdca26\"], [1.0, \"#f0f921\"]], \"type\": \"histogram2d\"}], \"histogram2dcontour\": [{\"colorbar\": {\"outlinewidth\": 0, \"ticks\": \"\"}, \"colorscale\": [[0.0, \"#0d0887\"], [0.1111111111111111, \"#46039f\"], [0.2222222222222222, \"#7201a8\"], [0.3333333333333333, \"#9c179e\"], [0.4444444444444444, \"#bd3786\"], [0.5555555555555556, \"#d8576b\"], [0.6666666666666666, \"#ed7953\"], [0.7777777777777778, \"#fb9f3a\"], [0.8888888888888888, \"#fdca26\"], [1.0, \"#f0f921\"]], \"type\": \"histogram2dcontour\"}], \"mesh3d\": [{\"colorbar\": {\"outlinewidth\": 0, \"ticks\": \"\"}, \"type\": \"mesh3d\"}], \"parcoords\": [{\"line\": {\"colorbar\": {\"outlinewidth\": 0, \"ticks\": \"\"}}, \"type\": \"parcoords\"}], \"pie\": [{\"automargin\": true, \"type\": \"pie\"}], \"scatter\": [{\"marker\": {\"colorbar\": {\"outlinewidth\": 0, \"ticks\": \"\"}}, \"type\": \"scatter\"}], \"scatter3d\": [{\"line\": {\"colorbar\": {\"outlinewidth\": 0, \"ticks\": \"\"}}, \"marker\": {\"colorbar\": {\"outlinewidth\": 0, \"ticks\": \"\"}}, \"type\": \"scatter3d\"}], \"scattercarpet\": [{\"marker\": {\"colorbar\": {\"outlinewidth\": 0, \"ticks\": \"\"}}, \"type\": \"scattercarpet\"}], \"scattergeo\": [{\"marker\": {\"colorbar\": {\"outlinewidth\": 0, \"ticks\": \"\"}}, \"type\": \"scattergeo\"}], \"scattergl\": [{\"marker\": {\"colorbar\": {\"outlinewidth\": 0, \"ticks\": \"\"}}, \"type\": \"scattergl\"}], \"scattermapbox\": [{\"marker\": {\"colorbar\": {\"outlinewidth\": 0, \"ticks\": \"\"}}, \"type\": \"scattermapbox\"}], \"scatterpolar\": [{\"marker\": {\"colorbar\": {\"outlinewidth\": 0, \"ticks\": \"\"}}, \"type\": \"scatterpolar\"}], \"scatterpolargl\": [{\"marker\": {\"colorbar\": {\"outlinewidth\": 0, \"ticks\": \"\"}}, \"type\": \"scatterpolargl\"}], \"scatterternary\": [{\"marker\": {\"colorbar\": {\"outlinewidth\": 0, \"ticks\": \"\"}}, \"type\": \"scatterternary\"}], \"surface\": [{\"colorbar\": {\"outlinewidth\": 0, \"ticks\": \"\"}, \"colorscale\": [[0.0, \"#0d0887\"], [0.1111111111111111, \"#46039f\"], [0.2222222222222222, \"#7201a8\"], [0.3333333333333333, \"#9c179e\"], [0.4444444444444444, \"#bd3786\"], [0.5555555555555556, \"#d8576b\"], [0.6666666666666666, \"#ed7953\"], [0.7777777777777778, \"#fb9f3a\"], [0.8888888888888888, \"#fdca26\"], [1.0, \"#f0f921\"]], \"type\": \"surface\"}], \"table\": [{\"cells\": {\"fill\": {\"color\": \"#EBF0F8\"}, \"line\": {\"color\": \"white\"}}, \"header\": {\"fill\": {\"color\": \"#C8D4E3\"}, \"line\": {\"color\": \"white\"}}, \"type\": \"table\"}]}, \"layout\": {\"annotationdefaults\": {\"arrowcolor\": \"#2a3f5f\", \"arrowhead\": 0, \"arrowwidth\": 1}, \"coloraxis\": {\"colorbar\": {\"outlinewidth\": 0, \"ticks\": \"\"}}, \"colorscale\": {\"diverging\": [[0, \"#8e0152\"], [0.1, \"#c51b7d\"], [0.2, \"#de77ae\"], [0.3, \"#f1b6da\"], [0.4, \"#fde0ef\"], [0.5, \"#f7f7f7\"], [0.6, \"#e6f5d0\"], [0.7, \"#b8e186\"], [0.8, \"#7fbc41\"], [0.9, \"#4d9221\"], [1, \"#276419\"]], \"sequential\": [[0.0, \"#0d0887\"], [0.1111111111111111, \"#46039f\"], [0.2222222222222222, \"#7201a8\"], [0.3333333333333333, \"#9c179e\"], [0.4444444444444444, \"#bd3786\"], [0.5555555555555556, \"#d8576b\"], [0.6666666666666666, \"#ed7953\"], [0.7777777777777778, \"#fb9f3a\"], [0.8888888888888888, \"#fdca26\"], [1.0, \"#f0f921\"]], \"sequentialminus\": [[0.0, \"#0d0887\"], [0.1111111111111111, \"#46039f\"], [0.2222222222222222, \"#7201a8\"], [0.3333333333333333, \"#9c179e\"], [0.4444444444444444, \"#bd3786\"], [0.5555555555555556, \"#d8576b\"], [0.6666666666666666, \"#ed7953\"], [0.7777777777777778, \"#fb9f3a\"], [0.8888888888888888, \"#fdca26\"], [1.0, \"#f0f921\"]]}, \"colorway\": [\"#636efa\", \"#EF553B\", \"#00cc96\", \"#ab63fa\", \"#FFA15A\", \"#19d3f3\", \"#FF6692\", \"#B6E880\", \"#FF97FF\", \"#FECB52\"], \"font\": {\"color\": \"#2a3f5f\"}, \"geo\": {\"bgcolor\": \"white\", \"lakecolor\": \"white\", \"landcolor\": \"#E5ECF6\", \"showlakes\": true, \"showland\": true, \"subunitcolor\": \"white\"}, \"hoverlabel\": {\"align\": \"left\"}, \"hovermode\": \"closest\", \"mapbox\": {\"style\": \"light\"}, \"paper_bgcolor\": \"white\", \"plot_bgcolor\": \"#E5ECF6\", \"polar\": {\"angularaxis\": {\"gridcolor\": \"white\", \"linecolor\": \"white\", \"ticks\": \"\"}, \"bgcolor\": \"#E5ECF6\", \"radialaxis\": {\"gridcolor\": \"white\", \"linecolor\": \"white\", \"ticks\": \"\"}}, \"scene\": {\"xaxis\": {\"backgroundcolor\": \"#E5ECF6\", \"gridcolor\": \"white\", \"gridwidth\": 2, \"linecolor\": \"white\", \"showbackground\": true, \"ticks\": \"\", \"zerolinecolor\": \"white\"}, \"yaxis\": {\"backgroundcolor\": \"#E5ECF6\", \"gridcolor\": \"white\", \"gridwidth\": 2, \"linecolor\": \"white\", \"showbackground\": true, \"ticks\": \"\", \"zerolinecolor\": \"white\"}, \"zaxis\": {\"backgroundcolor\": \"#E5ECF6\", \"gridcolor\": \"white\", \"gridwidth\": 2, \"linecolor\": \"white\", \"showbackground\": true, \"ticks\": \"\", \"zerolinecolor\": \"white\"}}, \"shapedefaults\": {\"line\": {\"color\": \"#2a3f5f\"}}, \"ternary\": {\"aaxis\": {\"gridcolor\": \"white\", \"linecolor\": \"white\", \"ticks\": \"\"}, \"baxis\": {\"gridcolor\": \"white\", \"linecolor\": \"white\", \"ticks\": \"\"}, \"bgcolor\": \"#E5ECF6\", \"caxis\": {\"gridcolor\": \"white\", \"linecolor\": \"white\", \"ticks\": \"\"}}, \"title\": {\"x\": 0.05}, \"xaxis\": {\"automargin\": true, \"gridcolor\": \"white\", \"linecolor\": \"white\", \"ticks\": \"\", \"title\": {\"standoff\": 15}, \"zerolinecolor\": \"white\", \"zerolinewidth\": 2}, \"yaxis\": {\"automargin\": true, \"gridcolor\": \"white\", \"linecolor\": \"white\", \"ticks\": \"\", \"title\": {\"standoff\": 15}, \"zerolinecolor\": \"white\", \"zerolinewidth\": 2}}}, \"title\": {\"text\": \"<b>Percentage of Dust Devils Detected versus Number of Robots</b>\", \"x\": 0.5}, \"xaxis\": {\"linecolor\": \"black\", \"linewidth\": 1, \"range\": [0, 105.0], \"showgrid\": false, \"showline\": true, \"ticks\": \"outside\", \"tickvals\": [0, 10, 20, 30, 40, 50, 60, 70, 80, 90, 100], \"title\": {\"text\": \"Number of Robots\"}}, \"yaxis\": {\"dtick\": 10, \"linecolor\": \"black\", \"linewidth\": 1, \"range\": [0, 115.99999999999999], \"showgrid\": false, \"showline\": true, \"tick0\": 0, \"tickmode\": \"linear\", \"ticks\": \"outside\", \"title\": {\"text\": \"Percentage of Dust Devils Detected\"}}},                        {\"responsive\": true}                    ).then(function(){\n",
       "                            \n",
       "var gd = document.getElementById('ffce90af-acc6-484b-b79e-644cb08370ae');\n",
       "var x = new MutationObserver(function (mutations, observer) {{\n",
       "        var display = window.getComputedStyle(gd).display;\n",
       "        if (!display || display === 'none') {{\n",
       "            console.log([gd, 'removed!']);\n",
       "            Plotly.purge(gd);\n",
       "            observer.disconnect();\n",
       "        }}\n",
       "}});\n",
       "\n",
       "// Listen for the removal of the full notebook cells\n",
       "var notebookContainer = gd.closest('#notebook-container');\n",
       "if (notebookContainer) {{\n",
       "    x.observe(notebookContainer, {childList: true});\n",
       "}}\n",
       "\n",
       "// Listen for the clearing of the current output cell\n",
       "var outputEl = gd.closest('.output');\n",
       "if (outputEl) {{\n",
       "    x.observe(outputEl, {childList: true});\n",
       "}}\n",
       "\n",
       "                        })                };                });            </script>        </div>"
      ]
     },
     "metadata": {},
     "output_type": "display_data"
    },
    {
     "data": {
      "application/vnd.plotly.v1+json": {
       "config": {
        "plotlyServerURL": "https://plot.ly"
       },
       "data": [
        {
         "error_y": {
          "array": [
           378.20918494365276,
           819.6368989907384,
           929.148224716045,
           1757.720576968816,
           1736.5779220509332,
           3451.514376416571,
           3285.3282288136074,
           3862.832845112787,
           3126.079603850613,
           4903.175789840548
          ],
          "type": "data",
          "visible": true
         },
         "marker": {
          "color": "blue",
          "line": {
           "color": "Blue",
           "width": 2
          },
          "size": 8,
          "symbol": "x-thin"
         },
         "mode": "markers",
         "showlegend": false,
         "type": "scatter",
         "x": [
          10,
          20,
          30,
          40,
          50,
          60,
          70,
          80,
          90,
          100
         ],
         "y": [
          1648.4713567839196,
          4442.661082737486,
          7090.887660414611,
          9442.146153846154,
          12419.581061394381,
          14843.911180124225,
          17502.41017119839,
          19314.170957775492,
          23077.95728643216,
          25294.624312896412
         ]
        },
        {
         "fill": "tonexty",
         "fillcolor": "rgba(0,0,255,0.4)",
         "line": {
          "width": 0
         },
         "marker": {
          "color": "#444"
         },
         "mode": "lines",
         "name": "Upper Bound",
         "opacity": 0.5,
         "showlegend": false,
         "type": "scatter",
         "x": [
          10,
          20,
          30,
          40,
          50,
          60,
          70,
          80,
          90,
          100
         ],
         "y": [
          2026.6805417275723,
          5262.297981728225,
          8020.0358851306555,
          11199.866730814969,
          14156.158983445315,
          18295.425556540795,
          20787.738400011996,
          23177.003802888277,
          26204.036890282772,
          30197.80010273696
         ]
        },
        {
         "fill": "tonexty",
         "fillcolor": "rgba(0,0,255,0.3)",
         "line": {
          "width": 0
         },
         "marker": {
          "color": "#444"
         },
         "mode": "lines",
         "name": "Lower Bound",
         "opacity": 0.5,
         "showlegend": false,
         "type": "scatter",
         "x": [
          10,
          20,
          30,
          40,
          50,
          60,
          70,
          80,
          90,
          100
         ],
         "y": [
          1270.262171840267,
          3623.024183746748,
          6161.739435698566,
          7684.425576877337,
          10683.003139343447,
          11392.396803707654,
          14217.081942384782,
          15451.338112662705,
          19951.877682581548,
          20391.448523055864
         ]
        },
        {
         "error_y": {
          "array": [
           378.20918494365276,
           819.6368989907384,
           929.148224716045,
           1757.720576968816,
           1736.5779220509332,
           3451.514376416571,
           3285.3282288136074,
           3862.832845112787,
           3126.079603850613,
           4903.175789840548
          ],
          "type": "data",
          "visible": true
         },
         "marker": {
          "color": "blue",
          "line": {
           "color": "Blue",
           "width": 2
          },
          "size": 8,
          "symbol": "x-thin"
         },
         "mode": "markers",
         "name": "Static Method",
         "showlegend": true,
         "type": "scatter",
         "x": [
          10,
          20,
          30,
          40,
          50,
          60,
          70,
          80,
          90,
          100
         ],
         "y": [
          1648.4713567839196,
          4442.661082737486,
          7090.887660414611,
          9442.146153846154,
          12419.581061394381,
          14843.911180124225,
          17502.41017119839,
          19314.170957775492,
          23077.95728643216,
          25294.624312896412
         ]
        },
        {
         "fill": "tonexty",
         "fillcolor": "rgba(221,85,39,0.1)",
         "line": {
          "width": 0
         },
         "marker": {
          "color": "#444"
         },
         "mode": "lines",
         "name": "Upper Bound",
         "opacity": 0.5,
         "showlegend": false,
         "type": "scatter",
         "x": [
          10,
          20,
          30,
          40,
          50,
          60,
          70,
          80,
          90,
          100
         ],
         "y": [
          2170.952196646333,
          5576.343475578243,
          8214.502973689863,
          11660.004626905455,
          14206.791630614929,
          17627.640338936224,
          20647.39156232637,
          25051.543683328273,
          25392.57992577472,
          31851.51629295386
         ]
        },
        {
         "fill": "tonexty",
         "fillcolor": "rgba(221,85,39,0.1)",
         "line": {
          "width": 0
         },
         "marker": {
          "color": "#444"
         },
         "mode": "lines",
         "name": "Lower Bound",
         "opacity": 0.5,
         "showlegend": false,
         "type": "scatter",
         "x": [
          10,
          20,
          30,
          40,
          50,
          60,
          70,
          80,
          90,
          100
         ],
         "y": [
          1342.905223334269,
          3642.9501672068227,
          5500.196740323483,
          7830.7811598965745,
          9633.47711938507,
          11809.763112840425,
          13987.235490813724,
          15482.293353708767,
          18862.811449995294,
          22308.6926091233
         ]
        },
        {
         "error_y": {
          "array": [
           414.02348665603205,
           966.6966541857101,
           1357.1531166831905,
           1914.6117335044396,
           2286.6572556149295,
           2908.938613047899,
           3330.078035756324,
           4784.625164809752,
           3264.884237889712,
           4771.411841915281
          ],
          "type": "data",
          "visible": true
         },
         "marker": {
          "color": "Red",
          "line": {
           "color": "Red",
           "width": 2
          },
          "size": 8,
          "symbol": "square-open"
         },
         "mode": "markers",
         "name": "Tracking Method 1",
         "type": "scatter",
         "x": [
          10,
          20,
          30,
          40,
          50,
          60,
          70,
          80,
          90,
          100
         ],
         "y": [
          1756.928709990301,
          4609.646821392533,
          6857.349857006673,
          9745.392893401015,
          11920.134375,
          14718.701725888324,
          17317.313526570048,
          20266.91851851852,
          22127.695687885007,
          27080.10445103858
         ]
        },
        {
         "fill": "tonexty",
         "fillcolor": "rgba(69,139,0,0.1)",
         "line": {
          "width": 0
         },
         "marker": {
          "color": "#444"
         },
         "mode": "lines",
         "name": "Upper Bound",
         "opacity": 0.5,
         "showlegend": false,
         "type": "scatter",
         "x": [
          10,
          20,
          30,
          40,
          50,
          60,
          70,
          80,
          90,
          100
         ],
         "y": [
          1942.1083566648072,
          4905.885498418188,
          7265.917205644806,
          10628.212426119497,
          14709.227373907004,
          17129.201614776764,
          18422.76601977605,
          23688.3102204051,
          27559.87733087423,
          30378.300807891275
         ]
        },
        {
         "fill": "tonexty",
         "fillcolor": "rgba(69,139,0,0.1)",
         "line": {
          "width": 0
         },
         "marker": {
          "color": "#444"
         },
         "mode": "lines",
         "name": "Lower Bound",
         "opacity": 0.5,
         "showlegend": false,
         "type": "scatter",
         "x": [
          10,
          20,
          30,
          40,
          50,
          60,
          70,
          80,
          90,
          100
         ],
         "y": [
          1276.6680643878244,
          3725.118647682503,
          4636.397461021859,
          7593.899459126404,
          9884.004257724628,
          10668.845853577664,
          14951.259668297344,
          17367.471332992962,
          19603.59503093481,
          20363.438035083927
         ]
        },
        {
         "error_y": {
          "array": [
           332.7201461384914,
           590.3834253678427,
           1314.7598723114734,
           1517.156483496547,
           2412.611558091189,
           3230.1778805995505,
           1735.7531757393533,
           3160.419443706069,
           3978.141149969711,
           5007.431386403673
          ],
          "type": "data",
          "visible": true
         },
         "marker": {
          "color": "Green",
          "line": {
           "color": "Green",
           "width": 2
          },
          "size": 8,
          "symbol": "circle-open"
         },
         "mode": "markers",
         "name": "Tracking Method 2",
         "type": "scatter",
         "x": [
          10,
          20,
          30,
          40,
          50,
          60,
          70,
          80,
          90,
          100
         ],
         "y": [
          1609.3882105263158,
          4315.502073050346,
          5951.157333333333,
          9111.05594262295,
          12296.615815815816,
          13899.023734177215,
          16687.012844036697,
          20527.89077669903,
          23581.73618090452,
          25370.8694214876
         ]
        }
       ],
       "layout": {
        "margin": {
         "l": 10,
         "r": 10,
         "t": 50
        },
        "plot_bgcolor": "rgba(0,0,0,0)",
        "template": {
         "data": {
          "bar": [
           {
            "error_x": {
             "color": "#2a3f5f"
            },
            "error_y": {
             "color": "#2a3f5f"
            },
            "marker": {
             "line": {
              "color": "#E5ECF6",
              "width": 0.5
             }
            },
            "type": "bar"
           }
          ],
          "barpolar": [
           {
            "marker": {
             "line": {
              "color": "#E5ECF6",
              "width": 0.5
             }
            },
            "type": "barpolar"
           }
          ],
          "carpet": [
           {
            "aaxis": {
             "endlinecolor": "#2a3f5f",
             "gridcolor": "white",
             "linecolor": "white",
             "minorgridcolor": "white",
             "startlinecolor": "#2a3f5f"
            },
            "baxis": {
             "endlinecolor": "#2a3f5f",
             "gridcolor": "white",
             "linecolor": "white",
             "minorgridcolor": "white",
             "startlinecolor": "#2a3f5f"
            },
            "type": "carpet"
           }
          ],
          "choropleth": [
           {
            "colorbar": {
             "outlinewidth": 0,
             "ticks": ""
            },
            "type": "choropleth"
           }
          ],
          "contour": [
           {
            "colorbar": {
             "outlinewidth": 0,
             "ticks": ""
            },
            "colorscale": [
             [
              0,
              "#0d0887"
             ],
             [
              0.1111111111111111,
              "#46039f"
             ],
             [
              0.2222222222222222,
              "#7201a8"
             ],
             [
              0.3333333333333333,
              "#9c179e"
             ],
             [
              0.4444444444444444,
              "#bd3786"
             ],
             [
              0.5555555555555556,
              "#d8576b"
             ],
             [
              0.6666666666666666,
              "#ed7953"
             ],
             [
              0.7777777777777778,
              "#fb9f3a"
             ],
             [
              0.8888888888888888,
              "#fdca26"
             ],
             [
              1,
              "#f0f921"
             ]
            ],
            "type": "contour"
           }
          ],
          "contourcarpet": [
           {
            "colorbar": {
             "outlinewidth": 0,
             "ticks": ""
            },
            "type": "contourcarpet"
           }
          ],
          "heatmap": [
           {
            "colorbar": {
             "outlinewidth": 0,
             "ticks": ""
            },
            "colorscale": [
             [
              0,
              "#0d0887"
             ],
             [
              0.1111111111111111,
              "#46039f"
             ],
             [
              0.2222222222222222,
              "#7201a8"
             ],
             [
              0.3333333333333333,
              "#9c179e"
             ],
             [
              0.4444444444444444,
              "#bd3786"
             ],
             [
              0.5555555555555556,
              "#d8576b"
             ],
             [
              0.6666666666666666,
              "#ed7953"
             ],
             [
              0.7777777777777778,
              "#fb9f3a"
             ],
             [
              0.8888888888888888,
              "#fdca26"
             ],
             [
              1,
              "#f0f921"
             ]
            ],
            "type": "heatmap"
           }
          ],
          "heatmapgl": [
           {
            "colorbar": {
             "outlinewidth": 0,
             "ticks": ""
            },
            "colorscale": [
             [
              0,
              "#0d0887"
             ],
             [
              0.1111111111111111,
              "#46039f"
             ],
             [
              0.2222222222222222,
              "#7201a8"
             ],
             [
              0.3333333333333333,
              "#9c179e"
             ],
             [
              0.4444444444444444,
              "#bd3786"
             ],
             [
              0.5555555555555556,
              "#d8576b"
             ],
             [
              0.6666666666666666,
              "#ed7953"
             ],
             [
              0.7777777777777778,
              "#fb9f3a"
             ],
             [
              0.8888888888888888,
              "#fdca26"
             ],
             [
              1,
              "#f0f921"
             ]
            ],
            "type": "heatmapgl"
           }
          ],
          "histogram": [
           {
            "marker": {
             "colorbar": {
              "outlinewidth": 0,
              "ticks": ""
             }
            },
            "type": "histogram"
           }
          ],
          "histogram2d": [
           {
            "colorbar": {
             "outlinewidth": 0,
             "ticks": ""
            },
            "colorscale": [
             [
              0,
              "#0d0887"
             ],
             [
              0.1111111111111111,
              "#46039f"
             ],
             [
              0.2222222222222222,
              "#7201a8"
             ],
             [
              0.3333333333333333,
              "#9c179e"
             ],
             [
              0.4444444444444444,
              "#bd3786"
             ],
             [
              0.5555555555555556,
              "#d8576b"
             ],
             [
              0.6666666666666666,
              "#ed7953"
             ],
             [
              0.7777777777777778,
              "#fb9f3a"
             ],
             [
              0.8888888888888888,
              "#fdca26"
             ],
             [
              1,
              "#f0f921"
             ]
            ],
            "type": "histogram2d"
           }
          ],
          "histogram2dcontour": [
           {
            "colorbar": {
             "outlinewidth": 0,
             "ticks": ""
            },
            "colorscale": [
             [
              0,
              "#0d0887"
             ],
             [
              0.1111111111111111,
              "#46039f"
             ],
             [
              0.2222222222222222,
              "#7201a8"
             ],
             [
              0.3333333333333333,
              "#9c179e"
             ],
             [
              0.4444444444444444,
              "#bd3786"
             ],
             [
              0.5555555555555556,
              "#d8576b"
             ],
             [
              0.6666666666666666,
              "#ed7953"
             ],
             [
              0.7777777777777778,
              "#fb9f3a"
             ],
             [
              0.8888888888888888,
              "#fdca26"
             ],
             [
              1,
              "#f0f921"
             ]
            ],
            "type": "histogram2dcontour"
           }
          ],
          "mesh3d": [
           {
            "colorbar": {
             "outlinewidth": 0,
             "ticks": ""
            },
            "type": "mesh3d"
           }
          ],
          "parcoords": [
           {
            "line": {
             "colorbar": {
              "outlinewidth": 0,
              "ticks": ""
             }
            },
            "type": "parcoords"
           }
          ],
          "pie": [
           {
            "automargin": true,
            "type": "pie"
           }
          ],
          "scatter": [
           {
            "marker": {
             "colorbar": {
              "outlinewidth": 0,
              "ticks": ""
             }
            },
            "type": "scatter"
           }
          ],
          "scatter3d": [
           {
            "line": {
             "colorbar": {
              "outlinewidth": 0,
              "ticks": ""
             }
            },
            "marker": {
             "colorbar": {
              "outlinewidth": 0,
              "ticks": ""
             }
            },
            "type": "scatter3d"
           }
          ],
          "scattercarpet": [
           {
            "marker": {
             "colorbar": {
              "outlinewidth": 0,
              "ticks": ""
             }
            },
            "type": "scattercarpet"
           }
          ],
          "scattergeo": [
           {
            "marker": {
             "colorbar": {
              "outlinewidth": 0,
              "ticks": ""
             }
            },
            "type": "scattergeo"
           }
          ],
          "scattergl": [
           {
            "marker": {
             "colorbar": {
              "outlinewidth": 0,
              "ticks": ""
             }
            },
            "type": "scattergl"
           }
          ],
          "scattermapbox": [
           {
            "marker": {
             "colorbar": {
              "outlinewidth": 0,
              "ticks": ""
             }
            },
            "type": "scattermapbox"
           }
          ],
          "scatterpolar": [
           {
            "marker": {
             "colorbar": {
              "outlinewidth": 0,
              "ticks": ""
             }
            },
            "type": "scatterpolar"
           }
          ],
          "scatterpolargl": [
           {
            "marker": {
             "colorbar": {
              "outlinewidth": 0,
              "ticks": ""
             }
            },
            "type": "scatterpolargl"
           }
          ],
          "scatterternary": [
           {
            "marker": {
             "colorbar": {
              "outlinewidth": 0,
              "ticks": ""
             }
            },
            "type": "scatterternary"
           }
          ],
          "surface": [
           {
            "colorbar": {
             "outlinewidth": 0,
             "ticks": ""
            },
            "colorscale": [
             [
              0,
              "#0d0887"
             ],
             [
              0.1111111111111111,
              "#46039f"
             ],
             [
              0.2222222222222222,
              "#7201a8"
             ],
             [
              0.3333333333333333,
              "#9c179e"
             ],
             [
              0.4444444444444444,
              "#bd3786"
             ],
             [
              0.5555555555555556,
              "#d8576b"
             ],
             [
              0.6666666666666666,
              "#ed7953"
             ],
             [
              0.7777777777777778,
              "#fb9f3a"
             ],
             [
              0.8888888888888888,
              "#fdca26"
             ],
             [
              1,
              "#f0f921"
             ]
            ],
            "type": "surface"
           }
          ],
          "table": [
           {
            "cells": {
             "fill": {
              "color": "#EBF0F8"
             },
             "line": {
              "color": "white"
             }
            },
            "header": {
             "fill": {
              "color": "#C8D4E3"
             },
             "line": {
              "color": "white"
             }
            },
            "type": "table"
           }
          ]
         },
         "layout": {
          "annotationdefaults": {
           "arrowcolor": "#2a3f5f",
           "arrowhead": 0,
           "arrowwidth": 1
          },
          "coloraxis": {
           "colorbar": {
            "outlinewidth": 0,
            "ticks": ""
           }
          },
          "colorscale": {
           "diverging": [
            [
             0,
             "#8e0152"
            ],
            [
             0.1,
             "#c51b7d"
            ],
            [
             0.2,
             "#de77ae"
            ],
            [
             0.3,
             "#f1b6da"
            ],
            [
             0.4,
             "#fde0ef"
            ],
            [
             0.5,
             "#f7f7f7"
            ],
            [
             0.6,
             "#e6f5d0"
            ],
            [
             0.7,
             "#b8e186"
            ],
            [
             0.8,
             "#7fbc41"
            ],
            [
             0.9,
             "#4d9221"
            ],
            [
             1,
             "#276419"
            ]
           ],
           "sequential": [
            [
             0,
             "#0d0887"
            ],
            [
             0.1111111111111111,
             "#46039f"
            ],
            [
             0.2222222222222222,
             "#7201a8"
            ],
            [
             0.3333333333333333,
             "#9c179e"
            ],
            [
             0.4444444444444444,
             "#bd3786"
            ],
            [
             0.5555555555555556,
             "#d8576b"
            ],
            [
             0.6666666666666666,
             "#ed7953"
            ],
            [
             0.7777777777777778,
             "#fb9f3a"
            ],
            [
             0.8888888888888888,
             "#fdca26"
            ],
            [
             1,
             "#f0f921"
            ]
           ],
           "sequentialminus": [
            [
             0,
             "#0d0887"
            ],
            [
             0.1111111111111111,
             "#46039f"
            ],
            [
             0.2222222222222222,
             "#7201a8"
            ],
            [
             0.3333333333333333,
             "#9c179e"
            ],
            [
             0.4444444444444444,
             "#bd3786"
            ],
            [
             0.5555555555555556,
             "#d8576b"
            ],
            [
             0.6666666666666666,
             "#ed7953"
            ],
            [
             0.7777777777777778,
             "#fb9f3a"
            ],
            [
             0.8888888888888888,
             "#fdca26"
            ],
            [
             1,
             "#f0f921"
            ]
           ]
          },
          "colorway": [
           "#636efa",
           "#EF553B",
           "#00cc96",
           "#ab63fa",
           "#FFA15A",
           "#19d3f3",
           "#FF6692",
           "#B6E880",
           "#FF97FF",
           "#FECB52"
          ],
          "font": {
           "color": "#2a3f5f"
          },
          "geo": {
           "bgcolor": "white",
           "lakecolor": "white",
           "landcolor": "#E5ECF6",
           "showlakes": true,
           "showland": true,
           "subunitcolor": "white"
          },
          "hoverlabel": {
           "align": "left"
          },
          "hovermode": "closest",
          "mapbox": {
           "style": "light"
          },
          "paper_bgcolor": "white",
          "plot_bgcolor": "#E5ECF6",
          "polar": {
           "angularaxis": {
            "gridcolor": "white",
            "linecolor": "white",
            "ticks": ""
           },
           "bgcolor": "#E5ECF6",
           "radialaxis": {
            "gridcolor": "white",
            "linecolor": "white",
            "ticks": ""
           }
          },
          "scene": {
           "xaxis": {
            "backgroundcolor": "#E5ECF6",
            "gridcolor": "white",
            "gridwidth": 2,
            "linecolor": "white",
            "showbackground": true,
            "ticks": "",
            "zerolinecolor": "white"
           },
           "yaxis": {
            "backgroundcolor": "#E5ECF6",
            "gridcolor": "white",
            "gridwidth": 2,
            "linecolor": "white",
            "showbackground": true,
            "ticks": "",
            "zerolinecolor": "white"
           },
           "zaxis": {
            "backgroundcolor": "#E5ECF6",
            "gridcolor": "white",
            "gridwidth": 2,
            "linecolor": "white",
            "showbackground": true,
            "ticks": "",
            "zerolinecolor": "white"
           }
          },
          "shapedefaults": {
           "line": {
            "color": "#2a3f5f"
           }
          },
          "ternary": {
           "aaxis": {
            "gridcolor": "white",
            "linecolor": "white",
            "ticks": ""
           },
           "baxis": {
            "gridcolor": "white",
            "linecolor": "white",
            "ticks": ""
           },
           "bgcolor": "#E5ECF6",
           "caxis": {
            "gridcolor": "white",
            "linecolor": "white",
            "ticks": ""
           }
          },
          "title": {
           "x": 0.05
          },
          "xaxis": {
           "automargin": true,
           "gridcolor": "white",
           "linecolor": "white",
           "ticks": "",
           "title": {
            "standoff": 15
           },
           "zerolinecolor": "white",
           "zerolinewidth": 2
          },
          "yaxis": {
           "automargin": true,
           "gridcolor": "white",
           "linecolor": "white",
           "ticks": "",
           "title": {
            "standoff": 15
           },
           "zerolinecolor": "white",
           "zerolinewidth": 2
          }
         }
        },
        "title": {
         "text": "<b>Normalised Number of Dust Devil Measurements versus Number of Robots</b>",
         "x": 0.5
        },
        "xaxis": {
         "linecolor": "black",
         "linewidth": 1,
         "range": [
          0,
          105
         ],
         "showgrid": false,
         "showline": true,
         "ticks": "outside",
         "tickvals": [
          0,
          10,
          20,
          30,
          40,
          50,
          60,
          70,
          80,
          90,
          100
         ],
         "title": {
          "text": "Number of Robots"
         }
        },
        "yaxis": {
         "dtick": 2000,
         "linecolor": "black",
         "linewidth": 1,
         "range": [
          0,
          40000
         ],
         "showgrid": false,
         "showline": true,
         "tick0": 0,
         "tickmode": "linear",
         "ticks": "outside",
         "title": {
          "text": "Normalised Number of Dust Devil Measurements"
         }
        }
       }
      },
      "text/html": [
       "<div>                            <div id=\"982f2740-51bd-430f-9e88-9b7b08cdb4b8\" class=\"plotly-graph-div\" style=\"height:525px; width:100%;\"></div>            <script type=\"text/javascript\">                require([\"plotly\"], function(Plotly) {                    window.PLOTLYENV=window.PLOTLYENV || {};                                    if (document.getElementById(\"982f2740-51bd-430f-9e88-9b7b08cdb4b8\")) {                    Plotly.newPlot(                        \"982f2740-51bd-430f-9e88-9b7b08cdb4b8\",                        [{\"error_y\": {\"array\": [378.20918494365276, 819.6368989907384, 929.148224716045, 1757.720576968816, 1736.5779220509332, 3451.514376416571, 3285.3282288136074, 3862.832845112787, 3126.079603850613, 4903.175789840548], \"type\": \"data\", \"visible\": true}, \"marker\": {\"color\": \"blue\", \"line\": {\"color\": \"Blue\", \"width\": 2}, \"size\": 8, \"symbol\": \"x-thin\"}, \"mode\": \"markers\", \"showlegend\": false, \"type\": \"scatter\", \"x\": [10, 20, 30, 40, 50, 60, 70, 80, 90, 100], \"y\": [1648.4713567839196, 4442.661082737486, 7090.887660414611, 9442.146153846154, 12419.581061394381, 14843.911180124225, 17502.41017119839, 19314.170957775492, 23077.95728643216, 25294.624312896412]}, {\"fill\": \"tonexty\", \"fillcolor\": \"rgba(0,0,255,0.4)\", \"line\": {\"width\": 0}, \"marker\": {\"color\": \"#444\"}, \"mode\": \"lines\", \"name\": \"Upper Bound\", \"opacity\": 0.5, \"showlegend\": false, \"type\": \"scatter\", \"x\": [10, 20, 30, 40, 50, 60, 70, 80, 90, 100], \"y\": [2026.6805417275723, 5262.297981728225, 8020.0358851306555, 11199.866730814969, 14156.158983445315, 18295.425556540795, 20787.738400011996, 23177.003802888277, 26204.036890282772, 30197.80010273696]}, {\"fill\": \"tonexty\", \"fillcolor\": \"rgba(0,0,255,0.3)\", \"line\": {\"width\": 0}, \"marker\": {\"color\": \"#444\"}, \"mode\": \"lines\", \"name\": \"Lower Bound\", \"opacity\": 0.5, \"showlegend\": false, \"type\": \"scatter\", \"x\": [10, 20, 30, 40, 50, 60, 70, 80, 90, 100], \"y\": [1270.262171840267, 3623.024183746748, 6161.739435698566, 7684.425576877337, 10683.003139343447, 11392.396803707654, 14217.081942384782, 15451.338112662705, 19951.877682581548, 20391.448523055864]}, {\"error_y\": {\"array\": [378.20918494365276, 819.6368989907384, 929.148224716045, 1757.720576968816, 1736.5779220509332, 3451.514376416571, 3285.3282288136074, 3862.832845112787, 3126.079603850613, 4903.175789840548], \"type\": \"data\", \"visible\": true}, \"marker\": {\"color\": \"blue\", \"line\": {\"color\": \"Blue\", \"width\": 2}, \"size\": 8, \"symbol\": \"x-thin\"}, \"mode\": \"markers\", \"name\": \"Static Method\", \"showlegend\": true, \"type\": \"scatter\", \"x\": [10, 20, 30, 40, 50, 60, 70, 80, 90, 100], \"y\": [1648.4713567839196, 4442.661082737486, 7090.887660414611, 9442.146153846154, 12419.581061394381, 14843.911180124225, 17502.41017119839, 19314.170957775492, 23077.95728643216, 25294.624312896412]}, {\"fill\": \"tonexty\", \"fillcolor\": \"rgba(221,85,39,0.1)\", \"line\": {\"width\": 0}, \"marker\": {\"color\": \"#444\"}, \"mode\": \"lines\", \"name\": \"Upper Bound\", \"opacity\": 0.5, \"showlegend\": false, \"type\": \"scatter\", \"x\": [10, 20, 30, 40, 50, 60, 70, 80, 90, 100], \"y\": [2170.952196646333, 5576.343475578243, 8214.502973689863, 11660.004626905455, 14206.791630614929, 17627.640338936224, 20647.39156232637, 25051.543683328273, 25392.57992577472, 31851.51629295386]}, {\"fill\": \"tonexty\", \"fillcolor\": \"rgba(221,85,39,0.1)\", \"line\": {\"width\": 0}, \"marker\": {\"color\": \"#444\"}, \"mode\": \"lines\", \"name\": \"Lower Bound\", \"opacity\": 0.5, \"showlegend\": false, \"type\": \"scatter\", \"x\": [10, 20, 30, 40, 50, 60, 70, 80, 90, 100], \"y\": [1342.905223334269, 3642.9501672068227, 5500.196740323483, 7830.7811598965745, 9633.47711938507, 11809.763112840425, 13987.235490813724, 15482.293353708767, 18862.811449995294, 22308.6926091233]}, {\"error_y\": {\"array\": [414.02348665603205, 966.6966541857101, 1357.1531166831905, 1914.6117335044396, 2286.6572556149295, 2908.938613047899, 3330.078035756324, 4784.625164809752, 3264.884237889712, 4771.411841915281], \"type\": \"data\", \"visible\": true}, \"marker\": {\"color\": \"Red\", \"line\": {\"color\": \"Red\", \"width\": 2}, \"size\": 8, \"symbol\": \"square-open\"}, \"mode\": \"markers\", \"name\": \"Tracking Method 1\", \"type\": \"scatter\", \"x\": [10, 20, 30, 40, 50, 60, 70, 80, 90, 100], \"y\": [1756.928709990301, 4609.646821392533, 6857.349857006673, 9745.392893401015, 11920.134375, 14718.701725888324, 17317.313526570048, 20266.91851851852, 22127.695687885007, 27080.10445103858]}, {\"fill\": \"tonexty\", \"fillcolor\": \"rgba(69,139,0,0.1)\", \"line\": {\"width\": 0}, \"marker\": {\"color\": \"#444\"}, \"mode\": \"lines\", \"name\": \"Upper Bound\", \"opacity\": 0.5, \"showlegend\": false, \"type\": \"scatter\", \"x\": [10, 20, 30, 40, 50, 60, 70, 80, 90, 100], \"y\": [1942.1083566648072, 4905.885498418188, 7265.917205644806, 10628.212426119497, 14709.227373907004, 17129.201614776764, 18422.76601977605, 23688.3102204051, 27559.87733087423, 30378.300807891275]}, {\"fill\": \"tonexty\", \"fillcolor\": \"rgba(69,139,0,0.1)\", \"line\": {\"width\": 0}, \"marker\": {\"color\": \"#444\"}, \"mode\": \"lines\", \"name\": \"Lower Bound\", \"opacity\": 0.5, \"showlegend\": false, \"type\": \"scatter\", \"x\": [10, 20, 30, 40, 50, 60, 70, 80, 90, 100], \"y\": [1276.6680643878244, 3725.118647682503, 4636.397461021859, 7593.899459126404, 9884.004257724628, 10668.845853577664, 14951.259668297344, 17367.471332992962, 19603.59503093481, 20363.438035083927]}, {\"error_y\": {\"array\": [332.7201461384914, 590.3834253678427, 1314.7598723114734, 1517.156483496547, 2412.611558091189, 3230.1778805995505, 1735.7531757393533, 3160.419443706069, 3978.141149969711, 5007.431386403673], \"type\": \"data\", \"visible\": true}, \"marker\": {\"color\": \"Green\", \"line\": {\"color\": \"Green\", \"width\": 2}, \"size\": 8, \"symbol\": \"circle-open\"}, \"mode\": \"markers\", \"name\": \"Tracking Method 2\", \"type\": \"scatter\", \"x\": [10, 20, 30, 40, 50, 60, 70, 80, 90, 100], \"y\": [1609.3882105263158, 4315.502073050346, 5951.157333333333, 9111.05594262295, 12296.615815815816, 13899.023734177215, 16687.012844036697, 20527.89077669903, 23581.73618090452, 25370.8694214876]}],                        {\"margin\": {\"l\": 10, \"r\": 10, \"t\": 50}, \"plot_bgcolor\": \"rgba(0,0,0,0)\", \"template\": {\"data\": {\"bar\": [{\"error_x\": {\"color\": \"#2a3f5f\"}, \"error_y\": {\"color\": \"#2a3f5f\"}, \"marker\": {\"line\": {\"color\": \"#E5ECF6\", \"width\": 0.5}}, \"type\": \"bar\"}], \"barpolar\": [{\"marker\": {\"line\": {\"color\": \"#E5ECF6\", \"width\": 0.5}}, \"type\": \"barpolar\"}], \"carpet\": [{\"aaxis\": {\"endlinecolor\": \"#2a3f5f\", \"gridcolor\": \"white\", \"linecolor\": \"white\", \"minorgridcolor\": \"white\", \"startlinecolor\": \"#2a3f5f\"}, \"baxis\": {\"endlinecolor\": \"#2a3f5f\", \"gridcolor\": \"white\", \"linecolor\": \"white\", \"minorgridcolor\": \"white\", \"startlinecolor\": \"#2a3f5f\"}, \"type\": \"carpet\"}], \"choropleth\": [{\"colorbar\": {\"outlinewidth\": 0, \"ticks\": \"\"}, \"type\": \"choropleth\"}], \"contour\": [{\"colorbar\": {\"outlinewidth\": 0, \"ticks\": \"\"}, \"colorscale\": [[0.0, \"#0d0887\"], [0.1111111111111111, \"#46039f\"], [0.2222222222222222, \"#7201a8\"], [0.3333333333333333, \"#9c179e\"], [0.4444444444444444, \"#bd3786\"], [0.5555555555555556, \"#d8576b\"], [0.6666666666666666, \"#ed7953\"], [0.7777777777777778, \"#fb9f3a\"], [0.8888888888888888, \"#fdca26\"], [1.0, \"#f0f921\"]], \"type\": \"contour\"}], \"contourcarpet\": [{\"colorbar\": {\"outlinewidth\": 0, \"ticks\": \"\"}, \"type\": \"contourcarpet\"}], \"heatmap\": [{\"colorbar\": {\"outlinewidth\": 0, \"ticks\": \"\"}, \"colorscale\": [[0.0, \"#0d0887\"], [0.1111111111111111, \"#46039f\"], [0.2222222222222222, \"#7201a8\"], [0.3333333333333333, \"#9c179e\"], [0.4444444444444444, \"#bd3786\"], [0.5555555555555556, \"#d8576b\"], [0.6666666666666666, \"#ed7953\"], [0.7777777777777778, \"#fb9f3a\"], [0.8888888888888888, \"#fdca26\"], [1.0, \"#f0f921\"]], \"type\": \"heatmap\"}], \"heatmapgl\": [{\"colorbar\": {\"outlinewidth\": 0, \"ticks\": \"\"}, \"colorscale\": [[0.0, \"#0d0887\"], [0.1111111111111111, \"#46039f\"], [0.2222222222222222, \"#7201a8\"], [0.3333333333333333, \"#9c179e\"], [0.4444444444444444, \"#bd3786\"], [0.5555555555555556, \"#d8576b\"], [0.6666666666666666, \"#ed7953\"], [0.7777777777777778, \"#fb9f3a\"], [0.8888888888888888, \"#fdca26\"], [1.0, \"#f0f921\"]], \"type\": \"heatmapgl\"}], \"histogram\": [{\"marker\": {\"colorbar\": {\"outlinewidth\": 0, \"ticks\": \"\"}}, \"type\": \"histogram\"}], \"histogram2d\": [{\"colorbar\": {\"outlinewidth\": 0, \"ticks\": \"\"}, \"colorscale\": [[0.0, \"#0d0887\"], [0.1111111111111111, \"#46039f\"], [0.2222222222222222, \"#7201a8\"], [0.3333333333333333, \"#9c179e\"], [0.4444444444444444, \"#bd3786\"], [0.5555555555555556, \"#d8576b\"], [0.6666666666666666, \"#ed7953\"], [0.7777777777777778, \"#fb9f3a\"], [0.8888888888888888, \"#fdca26\"], [1.0, \"#f0f921\"]], \"type\": \"histogram2d\"}], \"histogram2dcontour\": [{\"colorbar\": {\"outlinewidth\": 0, \"ticks\": \"\"}, \"colorscale\": [[0.0, \"#0d0887\"], [0.1111111111111111, \"#46039f\"], [0.2222222222222222, \"#7201a8\"], [0.3333333333333333, \"#9c179e\"], [0.4444444444444444, \"#bd3786\"], [0.5555555555555556, \"#d8576b\"], [0.6666666666666666, \"#ed7953\"], [0.7777777777777778, \"#fb9f3a\"], [0.8888888888888888, \"#fdca26\"], [1.0, \"#f0f921\"]], \"type\": \"histogram2dcontour\"}], \"mesh3d\": [{\"colorbar\": {\"outlinewidth\": 0, \"ticks\": \"\"}, \"type\": \"mesh3d\"}], \"parcoords\": [{\"line\": {\"colorbar\": {\"outlinewidth\": 0, \"ticks\": \"\"}}, \"type\": \"parcoords\"}], \"pie\": [{\"automargin\": true, \"type\": \"pie\"}], \"scatter\": [{\"marker\": {\"colorbar\": {\"outlinewidth\": 0, \"ticks\": \"\"}}, \"type\": \"scatter\"}], \"scatter3d\": [{\"line\": {\"colorbar\": {\"outlinewidth\": 0, \"ticks\": \"\"}}, \"marker\": {\"colorbar\": {\"outlinewidth\": 0, \"ticks\": \"\"}}, \"type\": \"scatter3d\"}], \"scattercarpet\": [{\"marker\": {\"colorbar\": {\"outlinewidth\": 0, \"ticks\": \"\"}}, \"type\": \"scattercarpet\"}], \"scattergeo\": [{\"marker\": {\"colorbar\": {\"outlinewidth\": 0, \"ticks\": \"\"}}, \"type\": \"scattergeo\"}], \"scattergl\": [{\"marker\": {\"colorbar\": {\"outlinewidth\": 0, \"ticks\": \"\"}}, \"type\": \"scattergl\"}], \"scattermapbox\": [{\"marker\": {\"colorbar\": {\"outlinewidth\": 0, \"ticks\": \"\"}}, \"type\": \"scattermapbox\"}], \"scatterpolar\": [{\"marker\": {\"colorbar\": {\"outlinewidth\": 0, \"ticks\": \"\"}}, \"type\": \"scatterpolar\"}], \"scatterpolargl\": [{\"marker\": {\"colorbar\": {\"outlinewidth\": 0, \"ticks\": \"\"}}, \"type\": \"scatterpolargl\"}], \"scatterternary\": [{\"marker\": {\"colorbar\": {\"outlinewidth\": 0, \"ticks\": \"\"}}, \"type\": \"scatterternary\"}], \"surface\": [{\"colorbar\": {\"outlinewidth\": 0, \"ticks\": \"\"}, \"colorscale\": [[0.0, \"#0d0887\"], [0.1111111111111111, \"#46039f\"], [0.2222222222222222, \"#7201a8\"], [0.3333333333333333, \"#9c179e\"], [0.4444444444444444, \"#bd3786\"], [0.5555555555555556, \"#d8576b\"], [0.6666666666666666, \"#ed7953\"], [0.7777777777777778, \"#fb9f3a\"], [0.8888888888888888, \"#fdca26\"], [1.0, \"#f0f921\"]], \"type\": \"surface\"}], \"table\": [{\"cells\": {\"fill\": {\"color\": \"#EBF0F8\"}, \"line\": {\"color\": \"white\"}}, \"header\": {\"fill\": {\"color\": \"#C8D4E3\"}, \"line\": {\"color\": \"white\"}}, \"type\": \"table\"}]}, \"layout\": {\"annotationdefaults\": {\"arrowcolor\": \"#2a3f5f\", \"arrowhead\": 0, \"arrowwidth\": 1}, \"coloraxis\": {\"colorbar\": {\"outlinewidth\": 0, \"ticks\": \"\"}}, \"colorscale\": {\"diverging\": [[0, \"#8e0152\"], [0.1, \"#c51b7d\"], [0.2, \"#de77ae\"], [0.3, \"#f1b6da\"], [0.4, \"#fde0ef\"], [0.5, \"#f7f7f7\"], [0.6, \"#e6f5d0\"], [0.7, \"#b8e186\"], [0.8, \"#7fbc41\"], [0.9, \"#4d9221\"], [1, \"#276419\"]], \"sequential\": [[0.0, \"#0d0887\"], [0.1111111111111111, \"#46039f\"], [0.2222222222222222, \"#7201a8\"], [0.3333333333333333, \"#9c179e\"], [0.4444444444444444, \"#bd3786\"], [0.5555555555555556, \"#d8576b\"], [0.6666666666666666, \"#ed7953\"], [0.7777777777777778, \"#fb9f3a\"], [0.8888888888888888, \"#fdca26\"], [1.0, \"#f0f921\"]], \"sequentialminus\": [[0.0, \"#0d0887\"], [0.1111111111111111, \"#46039f\"], [0.2222222222222222, \"#7201a8\"], [0.3333333333333333, \"#9c179e\"], [0.4444444444444444, \"#bd3786\"], [0.5555555555555556, \"#d8576b\"], [0.6666666666666666, \"#ed7953\"], [0.7777777777777778, \"#fb9f3a\"], [0.8888888888888888, \"#fdca26\"], [1.0, \"#f0f921\"]]}, \"colorway\": [\"#636efa\", \"#EF553B\", \"#00cc96\", \"#ab63fa\", \"#FFA15A\", \"#19d3f3\", \"#FF6692\", \"#B6E880\", \"#FF97FF\", \"#FECB52\"], \"font\": {\"color\": \"#2a3f5f\"}, \"geo\": {\"bgcolor\": \"white\", \"lakecolor\": \"white\", \"landcolor\": \"#E5ECF6\", \"showlakes\": true, \"showland\": true, \"subunitcolor\": \"white\"}, \"hoverlabel\": {\"align\": \"left\"}, \"hovermode\": \"closest\", \"mapbox\": {\"style\": \"light\"}, \"paper_bgcolor\": \"white\", \"plot_bgcolor\": \"#E5ECF6\", \"polar\": {\"angularaxis\": {\"gridcolor\": \"white\", \"linecolor\": \"white\", \"ticks\": \"\"}, \"bgcolor\": \"#E5ECF6\", \"radialaxis\": {\"gridcolor\": \"white\", \"linecolor\": \"white\", \"ticks\": \"\"}}, \"scene\": {\"xaxis\": {\"backgroundcolor\": \"#E5ECF6\", \"gridcolor\": \"white\", \"gridwidth\": 2, \"linecolor\": \"white\", \"showbackground\": true, \"ticks\": \"\", \"zerolinecolor\": \"white\"}, \"yaxis\": {\"backgroundcolor\": \"#E5ECF6\", \"gridcolor\": \"white\", \"gridwidth\": 2, \"linecolor\": \"white\", \"showbackground\": true, \"ticks\": \"\", \"zerolinecolor\": \"white\"}, \"zaxis\": {\"backgroundcolor\": \"#E5ECF6\", \"gridcolor\": \"white\", \"gridwidth\": 2, \"linecolor\": \"white\", \"showbackground\": true, \"ticks\": \"\", \"zerolinecolor\": \"white\"}}, \"shapedefaults\": {\"line\": {\"color\": \"#2a3f5f\"}}, \"ternary\": {\"aaxis\": {\"gridcolor\": \"white\", \"linecolor\": \"white\", \"ticks\": \"\"}, \"baxis\": {\"gridcolor\": \"white\", \"linecolor\": \"white\", \"ticks\": \"\"}, \"bgcolor\": \"#E5ECF6\", \"caxis\": {\"gridcolor\": \"white\", \"linecolor\": \"white\", \"ticks\": \"\"}}, \"title\": {\"x\": 0.05}, \"xaxis\": {\"automargin\": true, \"gridcolor\": \"white\", \"linecolor\": \"white\", \"ticks\": \"\", \"title\": {\"standoff\": 15}, \"zerolinecolor\": \"white\", \"zerolinewidth\": 2}, \"yaxis\": {\"automargin\": true, \"gridcolor\": \"white\", \"linecolor\": \"white\", \"ticks\": \"\", \"title\": {\"standoff\": 15}, \"zerolinecolor\": \"white\", \"zerolinewidth\": 2}}}, \"title\": {\"text\": \"<b>Normalised Number of Dust Devil Measurements versus Number of Robots</b>\", \"x\": 0.5}, \"xaxis\": {\"linecolor\": \"black\", \"linewidth\": 1, \"range\": [0, 105.0], \"showgrid\": false, \"showline\": true, \"ticks\": \"outside\", \"tickvals\": [0, 10, 20, 30, 40, 50, 60, 70, 80, 90, 100], \"title\": {\"text\": \"Number of Robots\"}}, \"yaxis\": {\"dtick\": 2000, \"linecolor\": \"black\", \"linewidth\": 1, \"range\": [0, 40000], \"showgrid\": false, \"showline\": true, \"tick0\": 0, \"tickmode\": \"linear\", \"ticks\": \"outside\", \"title\": {\"text\": \"Normalised Number of Dust Devil Measurements\"}}},                        {\"responsive\": true}                    ).then(function(){\n",
       "                            \n",
       "var gd = document.getElementById('982f2740-51bd-430f-9e88-9b7b08cdb4b8');\n",
       "var x = new MutationObserver(function (mutations, observer) {{\n",
       "        var display = window.getComputedStyle(gd).display;\n",
       "        if (!display || display === 'none') {{\n",
       "            console.log([gd, 'removed!']);\n",
       "            Plotly.purge(gd);\n",
       "            observer.disconnect();\n",
       "        }}\n",
       "}});\n",
       "\n",
       "// Listen for the removal of the full notebook cells\n",
       "var notebookContainer = gd.closest('#notebook-container');\n",
       "if (notebookContainer) {{\n",
       "    x.observe(notebookContainer, {childList: true});\n",
       "}}\n",
       "\n",
       "// Listen for the clearing of the current output cell\n",
       "var outputEl = gd.closest('.output');\n",
       "if (outputEl) {{\n",
       "    x.observe(outputEl, {childList: true});\n",
       "}}\n",
       "\n",
       "                        })                };                });            </script>        </div>"
      ]
     },
     "metadata": {},
     "output_type": "display_data"
    }
   ],
   "source": [
    "\n",
    "\n",
    "robot_array = [10,20,30,40,50,60,70,80,90,100]\n",
    "\n",
    "##### paths to 3 different datasets\n",
    "static = \"Full Day Static 10-50/\"\n",
    "tracking = \"Tracking_Day_Long/\"\n",
    "tracking_no_G = \"Tracking_Day_No_G_Broadcast/\"\n",
    "base = \"../Blue Pebble/Files/\"\n",
    "tracking_increased_decay = \"Tracking_Day_Increased_Decay/\"\n",
    "\n",
    "outside_path = base\n",
    "\n",
    "#dust detection figure\n",
    "code = \"\"\n",
    "x_title_detection = \"Number of Robots\" \n",
    "y_title_detection = \"Number of Dust Devils Detected\"\n",
    "\n",
    "\n",
    "x_title_measurement = \"Number of Robots\" \n",
    "y_title_measurement = \"Number of Dust Devil Measurements\"\n",
    "static_name= \"Static Method\"\n",
    "#first making static figure\n",
    "\n",
    "array_path = [tracking_no_G,tracking_increased_decay]\n",
    "\n",
    "names = [\"Tracking Method 1\",\"Tracking Method 2\"]\n",
    "symbols = [\"square-open\",\"circle-open\"]\n",
    "figure_percentage.show()\n",
    "cnt = [\"Orange\",\"Green\"]\n",
    "fill = ['rgba(221,85,39,0.1)','rgba(69,139,0,0.1)']\n",
    "width = [2,2]\n",
    "for i in range(len(names)):\n",
    "    \n",
    "\n",
    "    current_path = base+array_path[i]\n",
    "    \n",
    "    final_measurement = np.load(current_path + 'Dust Measurement Metric vs Number of Robots.npy')\n",
    "        \n",
    "\n",
    "    x_measurement,y_measurement,y_error_measurement = processing_data(final_measurement)\n",
    "\n",
    "    measured_figure.add_trace(go.Scatter(marker_symbol = symbols[i],\n",
    "        x=x_measurement,                                                                                                                 \n",
    "        y=y_measurement,\n",
    "        mode = 'markers',\n",
    "        name = names[i],\n",
    "        #color = cnt,\n",
    "        marker=dict(size = 8,\n",
    "            color = cnt[i],\n",
    "                              line=dict(width=width[i],\n",
    "                                        color=cnt[i])),\n",
    "        error_y=dict(\n",
    "            type='data', # value of error bar given in data coordinates\n",
    "            array=y_error_measurement,\n",
    "            visible=True\n",
    "    )))\n",
    "    measured_figure.add_trace(go.Scatter(\n",
    "        name='Upper Bound',\n",
    "        x=robot_array,\n",
    "        y=list(np.array(y_measurement)+np.array(y_error_measurement)),\n",
    "        marker=dict(color=\"#444\"),\n",
    "        line=dict(width=0),\n",
    "        mode='lines',\n",
    "        fillcolor=fill[i],\n",
    "        fill='tonexty',\n",
    "        showlegend=False,\n",
    "        opacity = 0.5\n",
    "    ))\n",
    "    measured_figure.add_trace(go.Scatter(\n",
    "        name='Lower Bound',\n",
    "        x=robot_array,\n",
    "        y=list(np.array(y_measurement)-np.array(y_error_measurement)),\n",
    "        marker=dict(color=\"#444\"),\n",
    "        line=dict(width=0),\n",
    "        mode='lines',\n",
    "        fillcolor=fill[i],\n",
    "        fill='tonexty',\n",
    "        showlegend=False,\n",
    "        opacity = 0.5\n",
    "    ))\n",
    "    \n",
    "    print(\"Check: \",current_path + \": \" + str(round(y_measurement[-1],2)) + \"±\" + str(round(y_error_measurement[-1],2)))\n",
    "\n",
    "    #print(current_path)\n",
    "    percentage_uncertainty = np.load(current_path + \"Percentage of Dust Devils Detected vs Number of Robots.npy\",allow_pickle = True)\n",
    "\n",
    "    normalised_measurement = np.load(current_path + \"Normalised Number of Dust Devil Measurements vs Number of Robots.npy\",allow_pickle = True)\n",
    "    #print(\"Array Percentage: \" ,percentage_uncertainty)\n",
    "    #print(\"Array NMeasurement:\",normalised_measurement)\n",
    "    print(normalised_measurement)\n",
    "    \n",
    "    percentage_values = unumpy.nominal_values(percentage_uncertainty)*100\n",
    "    #print(\"Values of Result: \",percentage_values)\n",
    "    #print(type(percentage_values))\n",
    "\n",
    "    percentage_errors = unumpy.std_devs(percentage_uncertainty)*100\n",
    "    #print(\"Uncertainties of Result: \",percentage_errors)\n",
    "    #print(type(percentage_errors))\n",
    "\n",
    "\n",
    "    nmeasurement_values = unumpy.nominal_values(normalised_measurement)\n",
    "    print(\"Values of Nmeasurements: \",nmeasurement_values)\n",
    "    print(type(nmeasurement_values))\n",
    "\n",
    "    nmeasurement_errors = unumpy.std_devs(normalised_measurement)\n",
    "    #print(\"Uncertainties of NMeasurements: \",nmeasurement_errors)\n",
    "    #print(type(percentage_errors))\n",
    "    #print(\"Values of Nmeasurements: \",nmeasurement_values)\n",
    "    \n",
    "    figure_nmeasurement.add_trace(go.Scatter(\n",
    "        name='Upper Bound',\n",
    "        x=robot_array,\n",
    "        y=list(nmeasurement_values+nmeasurement_errors),\n",
    "        marker=dict(color=\"#444\"),\n",
    "        line=dict(width=0),\n",
    "        mode='lines',\n",
    "        fillcolor=fill[i],\n",
    "        fill='tonexty',\n",
    "        showlegend=False,\n",
    "        opacity = 0.5\n",
    "    ))\n",
    "    figure_nmeasurement.add_trace(go.Scatter(\n",
    "        name='Lower Bound',\n",
    "        x=robot_array,\n",
    "        y=list(nmeasurement_values-nmeasurement_errors),\n",
    "        marker=dict(color=\"#444\"),\n",
    "        line=dict(width=0),\n",
    "        mode='lines',\n",
    "        fillcolor=fill[i],\n",
    "        fill='tonexty',\n",
    "        showlegend=False,\n",
    "        opacity = 0.5\n",
    "    ))\n",
    "    figure_nmeasurement.add_trace(go.Scatter(\n",
    "        marker_symbol = symbols[i],\n",
    "        x=robot_array,                                                                                                                 \n",
    "        y=nmeasurement_values,\n",
    "        mode = 'markers',\n",
    "        name = names[i],\n",
    "        #color = cnt,\n",
    "        marker=dict(size = 8,\n",
    "             color = cnt[i],\n",
    "                      line=dict(width=width[i],\n",
    "                                color=cnt[i])),\n",
    "        error_y=dict(\n",
    "            type='data', # value of error bar given in data coordinates\n",
    "            array=nmeasurement_errors,\n",
    "            visible=True\n",
    "    )))\n",
    "    \n",
    "    figure_percentage.add_trace(go.Scatter(marker_symbol = symbols[i],\n",
    "        x=robot_array,\n",
    "        y=percentage_values,\n",
    "        #color = cnt,\n",
    "        mode = 'markers',\n",
    "        name = names[i],\n",
    "        marker=dict(size = 8,\n",
    "             color = cnt[i],\n",
    "                              line=dict(width=1,\n",
    "                                        color=cnt[i])),\n",
    "        error_y=dict(\n",
    "            type='data', # value of error bar given in data coordinates\n",
    "            array=percentage_errors,\n",
    "            visible=True\n",
    "    )))\n",
    "    \n",
    "                                  \n",
    "    \n",
    "    annotation_text_normalised = names[i] + \": \" + str(round(nmeasurement_values[-1],2)) + u\"\\u00B1\" + str(round(nmeasurement_errors[-1],2))\n",
    "                                                                                            \n",
    "\n",
    "    print(annotation_text_normalised)\n",
    "\"\"\"\n",
    "for i in range(0,3):\n",
    "    \"\"\"\n",
    "measured_figure.show()\n",
    "measured_figure.write_image(outside_path + \"Comparing Number of Dust Devil Measurements vs Number of Robots.png\")\n",
    "figure_percentage.show()\n",
    "figure_percentage.write_image(outside_path + \"Comparing Percentage of Dust Devils Detected vs Number of Robots.png\")\n",
    "figure_nmeasurement.show()\n",
    "figure_nmeasurement.write_image(outside_path + \"Comparing Normalised Number of Dust Devil Measurements vs Number of Robots.png\")\n"
   ]
  },
  {
   "cell_type": "code",
   "execution_count": 12,
   "metadata": {},
   "outputs": [
    {
     "ename": "IndentationError",
     "evalue": "unexpected indent (<ipython-input-12-d2d7c46aab18>, line 23)",
     "output_type": "error",
     "traceback": [
      "\u001b[1;36m  File \u001b[1;32m\"<ipython-input-12-d2d7c46aab18>\"\u001b[1;36m, line \u001b[1;32m23\u001b[0m\n\u001b[1;33m    \"\"\"   error_y=dict(\u001b[0m\n\u001b[1;37m    ^\u001b[0m\n\u001b[1;31mIndentationError\u001b[0m\u001b[1;31m:\u001b[0m unexpected indent\n"
     ]
    }
   ],
   "source": [
    " \"\"\",go.Scatter(\n",
    "        name='Upper Bound',\n",
    "        x=robot_array,\n",
    "        y=list(nmeasurement_values+nmeasurement_errors),\n",
    "        marker=dict(color=\"#444\"),\n",
    "        line=dict(width=0),\n",
    "        mode='lines',\n",
    "        fillcolor='rgba(68, 68, 68, 0.3)',\n",
    "        fill='tonexty',\n",
    "        showlegend=False\n",
    "    ),\n",
    "    go.Scatter(\n",
    "        name='Lower Bound',\n",
    "        x=robot_array,\n",
    "        y=list(nmeasurement_values-nmeasurement_errors),\n",
    "        marker=dict(color=\"#444\"),\n",
    "        line=dict(width=0),\n",
    "        mode='lines',\n",
    "        fillcolor='rgba(68, 68, 68, 0.3)',\n",
    "        fill='tonexty',\n",
    "        showlegend=False\n",
    ")\"\"\"\n",
    "    \"\"\"   error_y=dict(\n",
    "            type='data', # value of error bar given in data coordinates\n",
    "            array=nmeasurement_errors,\n",
    "            visible=True)\"\"\""
   ]
  },
  {
   "cell_type": "markdown",
   "metadata": {},
   "source": [
    "\n",
    "\n",
    "##### paths to 3 different datasets\n",
    "static = \"Full Day Static 10-50/\"\n",
    "tracking = \"Tracking_Day_Long/\"\n",
    "tracking_no_G = \"Tracking_Day_No_G_Broadcast/\"\n",
    "base = \"../Blue Pebble/Files/\"\n",
    "tracking_increased_decay = \"Tracking_Day_Increased_Decay/\"\n",
    "\n",
    "current_path = \n",
    "\n",
    "array_path = [tracking_no_G,tracking_increased_decay]\n",
    "names = [\"Tracking Method 1\",\"Tracking Method 2\"]\n",
    "\n",
    "path = array_path[i]\n",
    "\n",
    "x_title_generated = \"Number of Robots\" \n",
    "y_title_generated = \"Ground Truth Count of Dust Devils\"\n",
    "\n",
    "code = \"\"\n",
    "final_generated = np.load(base + path + 'Number of Dust Devils Generated vs Number of Robots.npy')\n",
    "\n",
    "x_generated,y_generated,y_generated_error = processing_data(final_generated)\n",
    "y_average = np.mean(np.array(y))\n",
    "propogated_uncertainty = np.mean(np.array(y_error))\n",
    "\n",
    "calculation_result = [y_average,propogated_uncertainty]\n",
    "#np.savetxt(path+ \"Average Number of Dust Devils Generated with the Propogated Uncertainty.txt\",calculation_result)\n",
    "\n",
    "print(\"Generated Number of Dust Devils: \",y_generated)\n",
    "print(\"Test\")\n",
    "\n",
    "path = array_path[i]\n",
    "\n",
    "x_title_detection = \"Number of Robots\" \n",
    "y_title_detection = \"Number of Dust Devils Detected\"\n",
    "\n",
    "x_title_measurement = \"Number of Robots\" \n",
    "y_title_measurement = \"Number of Dust Devil Measurements\"\n",
    "\n",
    "code = \"\"\n",
    "final_detected = np.load(base + path + 'Dust Detection Metric vs Number of Robots.npy')\n",
    "print(final_detected)\n",
    "final_measurement = np.load(base +path + 'Dust Measurement Metric vs Number of Robots.npy')\n",
    "\n",
    "x_detected,y_detected,y_error_detected = processing_data(final_detected)\n",
    "x_measurement,y_measurement,y_error_measurement = processing_data(final_measurement)\n",
    "print(\"Detected Number of Dust Devils: \",y_detected)\n",
    "print(\"Percentages: \",np.divide(y_detected,y_generated))\n",
    "\n",
    "detected_figure.add_trace(go.Scatter(\n",
    "    x=x_detected,\n",
    "    y=y_detected,\n",
    "    mode = 'lines',\n",
    "    name = names[i],\n",
    "    error_y=dict(\n",
    "        type='data', # value of error bar given in data coordinates\n",
    "        array=y_error_detected,\n",
    "        visible=True\n",
    ")))\n",
    "measured_figure.add_trace(go.Scatter(\n",
    "    x=x_measurement,                                                                                                                 \n",
    "    y=y_measurement,\n",
    "    mode = 'lines',\n",
    "    name = names[i],\n",
    "    error_y=dict(\n",
    "        type='data', # value of error bar given in data coordinates\n",
    "        array=y_error_measurement,\n",
    "        visible=True\n",
    ")))\n",
    "\n",
    "\n",
    "detected_figure.show()\n",
    "#detected_figure.write_image(base + \"Comparing Numbers of Dust Devils Generated vs Number of Robots for Different Algorithms.png\")\n",
    "\n",
    "measured_figure.show()\n",
    "array_path = [tracking_no_G,tracking_increased_decay]\n",
    "names = [\"Tracking Method 1\",\"Tracking Method 2\"]\n",
    "#measured_figure.write_image(base + \"Comparing Measurement Count of Dust Devils vs Number of Robots.png\")\n",
    "#names = [\"Tracking Method with the Broadcast of R\", \"Tracking Method with the Broadcast of R, G and an Increased Decay Time\"]\n",
    "for i in range(len(array_path)):\n",
    "    path = array_path[i]\n",
    "\n",
    "    x_title_generated = \"Number of Robots\" \n",
    "    y_title_generated = \"Ground Truth Count of Dust Devils\"\n",
    "\n",
    "    code = \"\"\n",
    "    final_generated = np.load(base + path + 'Number of Dust Devils Generated vs Number of Robots.npy')\n",
    "\n",
    "    x_generated,y_generated,y_generated_error = processing_data(final_generated)\n",
    "    y_average = np.mean(np.array(y))\n",
    "    propogated_uncertainty = np.mean(np.array(y_error))\n",
    "    \n",
    "    calculation_result = [y_average,propogated_uncertainty]\n",
    "    #np.savetxt(path+ \"Average Number of Dust Devils Generated with the Propogated Uncertainty.txt\",calculation_result)\n",
    "\n",
    "    print(\"Generated Number of Dust Devils: \",y_generated)\n",
    "    print(\"Test\")\n",
    "    \n",
    "    path = array_path[i]\n",
    "    \n",
    "    x_title_detection = \"Number of Robots\" \n",
    "    y_title_detection = \"Number of Dust Devils Detected\"\n",
    "    \n",
    "    x_title_measurement = \"Number of Robots\" \n",
    "    y_title_measurement = \"Number of Dust Devil Measurements\"\n",
    "\n",
    "    code = \"\"\n",
    "    final_detected = np.load(base + path + 'Dust Detection Metric vs Number of Robots.npy')\n",
    "    print(final_detected)\n",
    "    final_measurement = np.load(base +path + 'Dust Measurement Metric vs Number of Robots.npy')\n",
    "    \n",
    "    x_detected,y_detected,y_error_detected = processing_data(final_detected)\n",
    "    x_measurement,y_measurement,y_error_measurement = processing_data(final_measurement)\n",
    "    print(\"Detected Number of Dust Devils: \",y_detected)\n",
    "    print(\"Percentages: \",np.divide(y_detected,y_generated))\n",
    "    \n",
    "    detected_figure.add_trace(go.Scatter(\n",
    "        x=x_detected,\n",
    "        y=y_detected,\n",
    "        mode = 'lines',\n",
    "        name = names[i],\n",
    "        error_y=dict(\n",
    "            type='data', # value of error bar given in data coordinates\n",
    "            array=y_error_detected,\n",
    "            visible=True\n",
    "    )))\n",
    "    measured_figure.add_trace(go.Scatter(\n",
    "        x=x_measurement,                                                                                                                 \n",
    "        y=y_measurement,\n",
    "        mode = 'lines',\n",
    "        name = names[i],\n",
    "        error_y=dict(\n",
    "            type='data', # value of error bar given in data coordinates\n",
    "            array=y_error_measurement,\n",
    "            visible=True\n",
    "    )))\n",
    "    \n",
    "\n",
    "detected_figure.show()\n",
    "#detected_figure.write_image(base + \"Comparing Numbers of Dust Devils Generated vs Number of Robots for Different Algorithms.png\")\n",
    "\n",
    "measured_figure.show()\n",
    "#measured_figure.write_image(base + \"Comparing Measurement Count of Dust Devils vs Number of Robots.png\")"
   ]
  },
  {
   "cell_type": "markdown",
   "metadata": {},
   "source": [
    "generated_figure = final_processing(final_measurement,x_title_measurement,y_title_measurement,code,2000)\n",
    "generated_figure.write_image(directory_unique + 'Graph - Dust Measurement Metric Detection Metric vs Number of Robots.png')\n"
   ]
  },
  {
   "cell_type": "markdown",
   "metadata": {},
   "source": [
    "\n",
    "\n",
    "path =  \"../Blue Pebble/Files/Full Day Static 10-50/\"\n",
    "\n",
    "x_title_detection = \"Number of Robots\" \n",
    "y_title_detection = \"Number of Dust Devils Detected\"\n",
    "\n",
    "x_title_measurement = \"Number of Robots\" \n",
    "y_title_measurement = \"Number of Dust Devil Measurements\"\n",
    "\n",
    "code = \"\"\n",
    "final_detected = np.load(path + 'Number of Dust Devils Generated vs Number of Robots.npy')\n",
    "final_measurement = np.load(path + 'Dust Measurement Metric vs Number of Robots.npy')\n",
    "print(y_title_measurement)\n",
    "detected_figure = final_processing(final_detected,x_title_detection,y_title_detection,code,10)\n",
    "detected_figure.write_image(path + 'Graph - Dust Detection Metric vs Number of Robots.png')\n",
    "measured_figure = final_processing(final_measurement,x_title_measurement,y_title_measurement,code,2000)\n",
    "measured_figure.write_image(path + 'Graph - Dust Measurement Metric Detection Metric vs Number of Robots.png')\n"
   ]
  },
  {
   "cell_type": "code",
   "execution_count": null,
   "metadata": {},
   "outputs": [],
   "source": [
    "\"\"\"\n",
    "    \n",
    "\n",
    "    figure = Processing_Functions_Tracking.graph_figure_fitness_error(x_fitness,y_fitness,y_error,x_title,y_title,code,10,10,10)\n",
    "    return figure\n",
    "x_title_detection = \"Number of Robots\"\n",
    "y_title_detection = \"Number of Dust Devils Detected\"\n",
    "\n",
    "x_title_measurement = \"Number of Robots\"\n",
    "y_title_measurement = \"Number of Dust Devil Measurements\"\n",
    "\n",
    "code = \" for the Static Swarm Deployment\"\n",
    "\n",
    "directory_unique = \"../Blue Pebble/Files/Full Day Static 10-50/\"\n",
    "\n",
    "data_detected = (np.load(directory_unique+\"Dust Detection Metric vs Number of Robots.npy\",allow_pickle=True))\n",
    "data_measurement = (np.load(directory_unique+\"Dust Measurement Metric vs Number of Robots.npy\",allow_pickle=True))\n",
    "detected_figure = final_processing(data_detected,x_title_detection,y_title_detection,code)\n",
    "detected_figure.show()\n",
    "generated_figure = final_processing(data_measurement,x_title_measurement,y_title_measurement,code)\n",
    "detected_figure.show()\"\"\""
   ]
  },
  {
   "cell_type": "code",
   "execution_count": null,
   "metadata": {},
   "outputs": [],
   "source": [
    "\"\"\"directory = \"../Blue Pebble/Files/Full Day Static 10-50/\"\n",
    "\n",
    "path = \"../Experiments/Detecting Dust Devils - Testing Tracking Functionality by using Clustering Algorithm And No Broadcasting G. Checking Healing of 100 Robots/100 Robots/\"\n",
    "store_robots = np.load(path + \"Robots.npy\")\n",
    "time = 5000\n",
    "with open(path + \"dust.txt\", \"r\") as f:\n",
    "     dust = json.load(f)\n",
    "\n",
    "\n",
    "constants = pd.read_excel(path + \"Constants.xlsx\", index_col=0)\n",
    "min_neighbours = np.load(path + \"Minimum Distance to Neighbours.npy\")\n",
    "cluster_average = np.load(path + \"Cluster Average.npy\")\n",
    "total_collision = np.load(path + \"Measurement Events Count.npy\")\n",
    "total_detection = np.load(path + \"Number of Dust Devils Detected.npy\")\n",
    "total_dust = np.load(path + \"Number of Dust Devils Generated.npy\")\n",
    "\n",
    "x_title_detection = \"Time (s)\"\n",
    "y_title_detection = \"Number of Dust Devils Detected\"\n",
    "code = \"the Static Swarm Method\"\n",
    "\n",
    "x_title_measurements = \"Time (s)\"\n",
    "y_title_measurements = \"Number of Dust Devil Measurements\"\n",
    "code = \"the Static Swarm Method\"\n",
    "\n",
    "\n",
    "figs = Processing_Functions_Tracking.graph_figure_fitness(np.linspace(0,4999,num=5000),total_detection,x_title_detection,y_title_detection,code,100,20)\n",
    "figs.show()\n",
    "\n",
    "#np.load()\"\"\""
   ]
  },
  {
   "cell_type": "code",
   "execution_count": null,
   "metadata": {},
   "outputs": [],
   "source": [
    "directory = \"../Blue Pebble/Files/Full Day Static 10-50/\"\n",
    "print(np.load)"
   ]
  },
  {
   "cell_type": "code",
   "execution_count": null,
   "metadata": {},
   "outputs": [],
   "source": [
    "\"\"\"import numpy as np\n",
    "import os\n",
    "word = \"Robots\"\n",
    "word_run = \"Run_\"\n",
    "array = [10,20,30,40,50,60,70,80,90,100]\n",
    "runs = range(10)#1\n",
    "max_force_array = [25]\n",
    "directory_unique = \"../Experiments/Area Coverage 2. Optimising for Grid Coverage Metric with Bug Fix/\"\n",
    "\n",
    "\n",
    "final = []\n",
    "results_overall = []\n",
    "time = 100#5000\n",
    "R = []\n",
    "for i in (array):\n",
    "    outer_path = directory_unique + str(i) + \" \" + word + \"/\"\n",
    "    performance_buffer = []\n",
    "    actual_grid = []\n",
    "    for j in runs:\n",
    "\n",
    "        path = outer_path + word_run + str(j) + \"/\"\n",
    "        print(path)\n",
    "        temp_area_coverage = np.load(path+\"Area_Coverage_Results.npy\")\n",
    "        print(temp_area_coverage)\n",
    "        area_x = d_array(temp_area_coverage,0)\n",
    "        print(\"X coordinate:\",area_x)\n",
    "        print(np.unique(temp_area_coverage, axis=0))\n",
    "        check = temp_area_coverage[-7]\n",
    "        print(check)\n",
    "        directories = os.listdir(path)\n",
    "        print(directories)\n",
    "        \n",
    "        \n",
    "        for directory in directories:\n",
    "            if(directory.startswith(\"FMAX\")):\n",
    "                print(directory)\n",
    "                robot_path_code = path + directory + \"/\"\n",
    "                print(robot_path_code)\n",
    "                splitting_by_R = directory.split(\"R\")\n",
    "                R_string = \" R\"+splitting_by_R[1]\n",
    "                performance = np.load(robot_path_code+R_string + \" Grid Performance Metric.npy\")\n",
    "                performance_process = performance[0]\n",
    "                print(performance_process[0])\n",
    "                print(performance_process[1])\n",
    "                store_robots = np.load(robot_path_code + \"/Robots.npy\")\n",
    "                final_positions = store_robots[:,:,time-1]\n",
    "                x = final_positions[0]\n",
    "                y = final_positions[1]\n",
    "                \n",
    "                x_max = np.amax(np.abs(x))\n",
    "                y_max = np.amax(np.abs(y))\n",
    "                print(\"X_maximum:\",x_max)\n",
    "                print(\"Y_maximum:\",y_max)\n",
    "                check = x_max>500 or y_max>500\n",
    "                if(not check):\n",
    "                    performance_buffer.append(performance_process[1])\n",
    "                    actual_grid.append(performance_process[0])\n",
    "                    \n",
    "                    print(\"ADDING\")\n",
    "                print(check)\n",
    "                print(performance_buffer)\n",
    "        print(path)\n",
    "        image_path =  path_unique + \"Images/\"\n",
    "        print(image_path)\n",
    "        image_directory = os.listdir(image_path)\n",
    "        for images in image_directory:\n",
    "            if(\"Table\" in images):\n",
    "                os.remove(image_path)\n",
    "            #print(performance_buffer)\n",
    "        print(\"Area Coverage:\" ,actual_grid)\n",
    "        print(\"End:\", performance_buffer)\n",
    "    \n",
    "        \n",
    "    average_array = np.array(performance_buffer)\n",
    "    average_area_coverage = np.mean(np.array(actual_grid))\n",
    "    std_area = np.std(np.array(actual_grid))\n",
    "    area_results = np.array([average_area_coverage,std_area])\n",
    "    average = np.mean(average_array)\n",
    "    std_R = np.std(average_array)\n",
    "    average_result = np.array([average,std_R])\n",
    "    np.save(outer_path+\"Averaged R Value.npy\",average_result)\n",
    "    print(\"Average R Results: \",average_result)\n",
    "    np.savetxt(outer_path + str(i) + ' Robots R Average Result.txt', average_result)\n",
    "    np.savetxt(outer_path + str(i) + ' Robots % Coverage Average Result.txt', area_results)\n",
    "    #os.remove(outer_path + \"Optimised Area Coverage Result.npy\")\n",
    "\n",
    "    results_overall.append([i,[average_result[0],average_result[1]],[area_results[0],area_results[1]]])\n",
    "    R.append(average_result[0])\n",
    "print(results_overall)\n",
    "with open(directory_unique + 'Final Results.txt', 'w') as f:\n",
    "    for item in results_overall:\n",
    "        f.write(\"%s\\n\" % item)\n",
    "with open(directory_unique + 'Average R Values.txt', 'w') as f:\n",
    "    for item in R:\n",
    "        f.write(\"%s\\n\" % item)\"\"\""
   ]
  },
  {
   "cell_type": "code",
   "execution_count": null,
   "metadata": {},
   "outputs": [],
   "source": [
    "\"\"\"word = \"Robots\"\n",
    "word_run = \"Run_\"\n",
    "array = [10,20,30,40,50,60,70,80,90,100]\n",
    "runs = 10\n",
    "directory = \"Blue_Pebble/Fixed/\"\n",
    "image = directory + \"Images/\"\n",
    "time = 86400\n",
    "final = []\n",
    "frequency = 1\n",
    "for i in array:\n",
    "    outer_path = directory + str(i) + \" \" + word + \"/\"\n",
    "    for j in range(runs):\n",
    "\n",
    "        path = outer_path + word_run + str(j) + \"/\"\n",
    "        code = str(i) + \" \" + word + \" \"\n",
    "        store_robots = np.load(path + \"Robots.npy\")\n",
    "        with open(path + \"dust.txt\", \"r\") as f:\n",
    "            store_dust = json.load(f)\n",
    "        print(len(list(store_robots)))\n",
    "        constants = pd.read_excel(path + \"Constants.xlsx\", index_col=0)\n",
    "        min_neighbours = np.load(path + 'Minimum Distance to Neighbours.npy')\n",
    "        cluster_average = np.load(path + 'Cluster Average.npy')\n",
    "        total_collision = np.load(path + 'Measurement Events Count.npy')\n",
    "        total_detection = np.load(path + 'Number of Dust Devils Detected.npy')\n",
    "        total_dust = np.load(path + 'Number of Dust Devils Generated.npy')\n",
    "        #setting the start paths for the graphs and the tables\n",
    "       #setting the start paths for the graphs and the tables\n",
    "        graph_start_path = image + code + \"- Graph_Beginning.png\"\n",
    "        table_start_path = image +code + \"- Table_Beginning.png\"\n",
    "\n",
    "        #using the processing functions to create plotly graphs and tables for the figures in the first timestep\n",
    "        graph_start = Processing_Functions_Tracking.graph_figure(store_robots,0,frequency,code)\n",
    "        graph_start.write_image(graph_start_path)\n",
    "        table_start = Processing_Functions_Tracking.table_figure_area(store_robots,0,frequency,constants,min_neighbours,cluster_average)\n",
    "        table_start.write_image(table_start_path)\n",
    "\n",
    "        #combining the tables and the graphs using pillow\n",
    "        Processing_Functions_Tracking.combine(graph_start_path,table_start_path)\n",
    "        #setting the end paths for the graphs and the tables\n",
    "        graph_end_path = image + code + \"- Graph_End.png\"\n",
    "        table_end_path =image + code + \"- Table_End.png\"\n",
    "\n",
    "        #using the processing functions to create plotly graphs and tables for the figures in the last timestep\n",
    "        graph_end = Processing_Functions_Tracking.graph_figure(store_robots,time-1,frequency,code)\n",
    "        graph_end.write_image(image + code + \"- Graph_End.png\")\n",
    "        table_end = Processing_Functions_Tracking.table_figure_area(store_robots,time-1,frequency,constants,min_neighbours,cluster_average)\n",
    "        table_end.write_image(image + code + \"- Table_End.png\")\n",
    "\n",
    "        #using the processing functions to create plotly graphs and tables for the figures in the last timestep\n",
    "        graph_end_types = Processing_Functions_Tracking.graph_types(x_0,y_0,x_1,y_1,500,10,\"Deployed Swarm Formation \", \" <b>Timestep = \" + str(time) + \" s<br>R = \" + str(round(R,2)) + \"</b> <br> \")\n",
    "        graph_end_types.write_image(image + code + \"- Graph_End_Types.png\")\n",
    "\n",
    "\n",
    "        #using the processing functions to create plotly graphs and tables for the figures in the last timestep\n",
    "        graph_end_area_coverage = Processing_Functions_Tracking.graph_area_coverage(x_0,y_0,x_1,y_1,500,10, \"Area Coverage Over a Grid for a Deployed Swarm Formation\",\" <b>Timestep = \" + str(time) + \" s<br>R = \" + str(round(R,2)) + \"<br>Area Coverage = \" + str(current_grid_metric) + \"%</b><br> \")\n",
    "        graph_end_area_coverage.write_image(image + code + \"- Graph_End_Area_Coverage.png\")\n",
    "        #table_end_types = Processing_Functions_Tracking.table_figure(store_robots,time-1,frequency,constants,min_neighbours,cluster_average,total_collision,total_detection,total_dust)\n",
    "        #table_end.write_image(image + \"/\" + code + \"- Table_Types_End.png\")\n",
    "\n",
    "        #combining the tables and the graphs using pillow\n",
    "        Processing_Functions_Tracking.combine(graph_end_path,table_end_path)\n",
    "\n",
    "        #plotting performance of the average of minimum neighbouring distance metric\n",
    "        performance = Processing_Functions_Tracking.performance_graph(min_neighbours,np.linspace(0,len(min_neighbours),len(min_neighbours)*frequency,endpoint = False),frequency,code,\"Time (s)\",\"Minimum Average Neighbour Distance (m)\")\n",
    "        performance.write_image(image + code + \"- Minimum Neighbour Average.png\")\n",
    "\n",
    "        #plotting performance of the dust devil measurement metric\n",
    "        performance_intercept = Processing_Functions_Tracking.performance_graph(total_collision,np.linspace(0,len(total_collision),len(total_collision)*frequency,endpoint = False),frequency,code,\"Time (s)\",\"Count of Measurement Events\")\n",
    "        performance_intercept.write_image(image + \"/\" + code + \"- Intercept Performance.png\")\n",
    "\n",
    "        #plotting performance of the cluster average of the swarm\n",
    "        cluster = Processing_Functions_Tracking.performance_graph(cluster_average,np.linspace(0,len(cluster_average),len(cluster_average)*frequency,endpoint = False),frequency,code,\"Time (s)\",\"Average Cluster Size\")\n",
    "        cluster.write_image(image + code +  \"- Average Cluster Size.png\")\n",
    "\n",
    "        final_np = np.load(path+'Final Dust Devil Count.npy')\n",
    "        final.append([list(final_np[-1])])\n",
    "        \n",
    "        print(final)\n",
    "        print(total_dust)\n",
    "        print((total_dust[-1]))\n",
    "    print(final)\n",
    "    np.save(directory + \"Performance vs Robot Number.npy\",final)\"\"\""
   ]
  },
  {
   "cell_type": "markdown",
   "metadata": {
    "scrolled": false
   },
   "source": [
    "path = \"../Experiments/Area Coverage 1. Comparison Post Bugfix - 100 Robots with no Combined Force nor Scaling Coefficient/R_100 Max_Force_1/\"\n",
    "path_after_1 = \"../Experiments/Postbug/Area Coverage 1. FMAX Sweep with Bug Fix/100 Robots/FMAX_1/R_100 Max_Force_1/\"\n",
    "path_after_2 = \"../Experiments/Postbug/Area Coverage 1. FMAX Sweep with Bug Fix/100 Robots/FMAX_100/R_100 Max_Force_100/\"\n",
    "\n",
    "#minimum_neighbour_before = np.load()\n",
    "\n",
    "#minimum_neighbour_before = np.load()\n",
    "x_title_neighbour = \"Time (s)\"\n",
    "y_title_neighbour = \"Average of the Minimum Neighbour Distance (m)\"\n",
    "code_neighbour = \"\"#\"for Run \" + str(j) + \" with \" + str(i) + \" Robots\" \n",
    "code_measurements = code_neighbour\n",
    "code_cluster = code_neighbour\n",
    "min_neighbours_after_1 = np.load(path + \"Minimum Distance to Neighbours.npy\")\n",
    "print(min_neighbours_after_1)\n",
    "performance = Processing_Functions_Tracking.graph_figure_fitness_max(np.linspace(0,len(min_neighbours_after_1),len(min_neighbours_after_1),endpoint = False),min_neighbours_after_1,x_title_neighbour,y_title_neighbour,code_neighbour,10,100,\"Before Technique\")\n",
    "performance.update_layout(legend_title=\"Test\")\n",
    "\n",
    "    \n",
    "performance.show()\n",
    "#performance.write_image(image + code + \"Graphing - Minimum Neighbour Average.png\")\n",
    "x_title_neighbour = \"Time (s)\"\n",
    "y_title_neighbour = \"Average of the Minimum Neighbour Distance (m)\"\n",
    "code_neighbour = \"\"#\"for Run \" + str(j) + \" with \" + str(i) + \" Robots\" \n",
    "code_measurements = code_neighbour\n",
    "code_cluster = code_neighbour\n",
    "min_neighbours_after = np.load(path_after_1 + \"Minimum Distance to Neighbours.npy\")\n",
    "print(\"Min Neighbours: \",min_neighbours_after)\n",
    "performance.add_trace(go.Scatter(\n",
    "        x=np.linspace(0,len(min_neighbours_after),len(min_neighbours_after),endpoint = False),                                                                                                                 \n",
    "        y=min_neighbours_after,\n",
    "        mode = 'lines',\n",
    "        name = \"After Technique, Fmax = 1\"\n",
    "        #color = cnt,\n",
    "        ))\n",
    "performance.show()\n",
    "min_neighbours_after = np.load(path_after_2 + \"Minimum Distance to Neighbours.npy\")\n",
    "#performance.write_image(image + code + \"Graphing - Minimum Neighbour Average.png\")\n",
    "x_title_neighbour = \"Time (s)\"\n",
    "y_title_neighbour = \"Average of the Minimum Neighbour Distance (m)\"\n",
    "code_neighbour = \"\"#\"for Run \" + str(j) + \" with \" + str(i) + \" Robots\" \n",
    "code_measurements = code_neighbour\n",
    "code_cluster = code_neighbour\n",
    "min_neighbours = np.load(path_after_2 + \"Minimum Distance to Neighbours.npy\")\n",
    "print(min_neighbours[-1])\n",
    "performance.add_trace(go.Scatter(\n",
    "        x=np.linspace(0,len(min_neighbours_after),len(min_neighbours_after),endpoint = False),                                                                                                                 \n",
    "        y=min_neighbours,\n",
    "        mode = 'lines',\n",
    "        #color = cnt,\n",
    "        name = \"After Technique, Fmax = 100\"\n",
    "        ))\n",
    "performance.show()\n",
    "performance.write_image(\"../\" + \"Graphing - Minimum Neighbour Average.png\")"
   ]
  },
  {
   "cell_type": "code",
   "execution_count": null,
   "metadata": {},
   "outputs": [],
   "source": []
  }
 ],
 "metadata": {
  "kernelspec": {
   "display_name": "Python 3",
   "language": "python",
   "name": "python3"
  },
  "language_info": {
   "codemirror_mode": {
    "name": "ipython",
    "version": 3
   },
   "file_extension": ".py",
   "mimetype": "text/x-python",
   "name": "python",
   "nbconvert_exporter": "python",
   "pygments_lexer": "ipython3",
   "version": "3.7.6"
  }
 },
 "nbformat": 4,
 "nbformat_minor": 4
}
