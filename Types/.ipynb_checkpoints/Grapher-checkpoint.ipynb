{
 "cells": [
  {
   "cell_type": "markdown",
   "metadata": {},
   "source": [
    "# Graphing Code to Load Data and Plot It Live\n",
    "\n",
    "## Imports"
   ]
  },
  {
   "cell_type": "code",
   "execution_count": null,
   "metadata": {},
   "outputs": [],
   "source": [
    "import plotly as py\n",
    "import plotly.tools as tls\n",
    "from plotly import graph_objs as go\n",
    "from plotly.offline import download_plotlyjs, init_notebook_mode, plot, iplot\n",
    "from plotly.subplots import make_subplots\n",
    "import plotly.express as px\n",
    "import numpy as np\n",
    "import pandas as pd\n",
    "import datetime\n",
    "import json\n",
    "import dash\n",
    "from dash.dependencies import Output, Input\n",
    "import dash_core_components as dcc\n",
    "import dash_html_components as html\n",
    "import Processing_Functions_Tracking\n",
    "from ast import literal_eval"
   ]
  },
  {
   "cell_type": "markdown",
   "metadata": {},
   "source": [
    "## Initialising Dash and Plotly"
   ]
  },
  {
   "cell_type": "code",
   "execution_count": null,
   "metadata": {},
   "outputs": [],
   "source": [
    "app = dash.Dash(__name__)\n",
    "\n",
    "#Plotly offline mode\n",
    "init_notebook_mode(connected=True)\n",
    "\n",
    "timer = 0"
   ]
  },
  {
   "cell_type": "code",
   "execution_count": null,
   "metadata": {},
   "outputs": [],
   "source": [
    "#Function to check if any of the items contain an array\n",
    "def array_check(item,timer):\n",
    "    item = item[0]\n",
    "    print(item)\n",
    "    if(isinstance(item, str)):\n",
    "        print(item)\n",
    "        item = literal_eval(item)\n",
    "        return round(item[timer],2)\n",
    "    elif(isinstance(item, list)):\n",
    "\n",
    "        return round(item[-1],2)\n",
    "    else:\n",
    "\n",
    "        return round(float(item),2)"
   ]
  },
  {
   "cell_type": "markdown",
   "metadata": {},
   "source": [
    "# Loading Data"
   ]
  },
  {
   "cell_type": "code",
   "execution_count": null,
   "metadata": {},
   "outputs": [],
   "source": [
    "#code = \"G10392.0\"\n",
    "#path = \"Experiments/100 Centre\" + \"/100 Robots/\" + code + \"/\"\n",
    "#path = path = \"../Experiments/Detecting Dust Devils - Passive Survey 1. Final Deployment Sweep with Dust Devils/50 Robots/\"\n",
    "\"\"\"global count\n",
    "global path\"\"\"\n",
    "\n",
    "path = \"../Experiments/Detecting Dust Devils - Testing Tracking Functionality by using Clustering Algorithm And No Broadcasting G. Checking Healing of 100 Robots/100 Robots/\"\n",
    "\n",
    "\n",
    "store_robots = np.load(path + \"Robots.npy\")\n",
    "\n",
    "with open(path + \"dust.txt\", \"r\") as f:\n",
    "    dust = json.load(f)\n",
    "\n",
    "\n",
    "constants = pd.read_excel(path + \"Constants.xlsx\", index_col=0)\n",
    "min_neighbours = np.load(path + \"Minimum Distance to Neighbours.npy\")\n",
    "cluster_average = np.load(path + \"Cluster Average.npy\")\n",
    "total_collision = np.load(path + \"Measurement Events Count.npy\")\n",
    "total_detection = np.load(path + \"Number of Dust Devils Detected.npy\")\n",
    "total_dust = np.load(path + \"Number of Dust Devils Generated.npy\")\n",
    "robot_number = constants.loc[\"Number of Robots\"]\n",
    "R = constants.loc[\"Communication Range\"]\n",
    "max_speed = constants.loc[\"Max Speed\"]\n",
    "G = constants.loc[\"G\"]\n",
    "power = constants.loc[\"Power\"]\n",
    "max_force = constants.loc[\"Max Force\"]\n"
   ]
  },
  {
   "cell_type": "code",
   "execution_count": null,
   "metadata": {},
   "outputs": [],
   "source": [
    "\"\"\"path1 = \"../Experiments/Detecting Dust Devils - Testing Tracking Functionality by using Clustering Algorithm And No Broadcasting G. Checking Healing of 100 Robots/100 Robots/\"\n",
    "path2  = \"../Experiments/Detecting Dust Devils - Testing Tracking Functionality by using Clustering Algorithm And Broadcasting G. Checking Healing of 100 Robots/100 Robots/\"\"\n",
    "load(path)\"\"\""
   ]
  },
  {
   "cell_type": "code",
   "execution_count": null,
   "metadata": {},
   "outputs": [],
   "source": [
    "\n",
    "#the update layout function\n",
    "def update_layout():\n",
    "    #contains the graph, the interval timing and the live updating table\n",
    "    app.layout = html.Div(children=[html.Div(\n",
    "    [\n",
    "    dcc.Graph(id = 'live_graph'),\n",
    "    dcc.Interval(\n",
    "        id = 'graph-update',\n",
    "        interval = 100, #milliseconds\n",
    "        n_intervals = 0\n",
    "        ),\n",
    "    ],style = {'display': 'inline-block'} ),\n",
    "        html.Div(\n",
    "            [\n",
    "                dcc.Graph(id = 'live_table'),\n",
    "                dcc.Interval(\n",
    "                id = 'variable-update',\n",
    "                interval = 100, #milliseconds\n",
    "                n_intervals = 0\n",
    "                )    \n",
    "                 ],\n",
    "        style = {'display': 'inline-block','vertical-align': 'top' }    \n",
    "    )],style={'width': '100%', 'display': 'inline-block'})\n",
    "\n",
    "update_layout()"
   ]
  },
  {
   "cell_type": "code",
   "execution_count": null,
   "metadata": {},
   "outputs": [],
   "source": [
    "#callback is the updating process\n",
    "@app.callback(Output('live_graph','figure'),\n",
    "              [Input('graph-update', 'n_intervals')])\n",
    "\n",
    "#the actual update for the graph\n",
    "def update_graph(n):\n",
    "    #initialising global variables\n",
    "    global timer\n",
    "    \n",
    "    if(timer>4999):\n",
    "        timer = 0\n",
    "    position_robot = store_robots[:,:,timer]\n",
    "    position_dust = dust[timer]\n",
    "    x_dust = position_dust[0]\n",
    "    y_dust = position_dust[1]\n",
    "    if(not x_dust or not y_dust):\n",
    "        x_dust = [null] \n",
    "        y_dust = [null] \n",
    "    #creating scatter plot of robots\n",
    "    data = go.Scatter(\n",
    "        x=list(position_robot[0]),\n",
    "        y=list(position_robot[1]),\n",
    "        name = 'Robots',\n",
    "        mode = 'markers',\n",
    "    )\n",
    "    \n",
    "    #creating the plotly figure with the robot data\n",
    "    fig = go.Figure(\n",
    "        { \"data\": data, \"layout\": go.Layout(yaxis=dict(range=[-500, 500]),xaxis = dict(range=[-500,500]))\n",
    "        }\n",
    "    )\n",
    "\n",
    "    fig.add_trace(go.Scatter(\n",
    "          x= position_dust[0],\n",
    "          y= position_dust[1],\n",
    "          name='Dust Devil',\n",
    "          mode = 'markers',\n",
    "          marker_color='rgba(255, 182, 193, .9)',\n",
    "      ))\n",
    "    \n",
    "    #updating layout with circles and different formatting'''\n",
    "    fig.update_layout(title=\"<b>Tracking Algorithm Demonstrating Self Healing Swarm Properties with No G Broadcast</b>\",\n",
    "    title_x=0.5,\n",
    "    xaxis_title=\"X Position (m)\",\n",
    "    yaxis_title=\"Y Position (m)\",\n",
    "    margin=dict(\n",
    "        t=50, # top margin: 30px, you want to leave around 30 pixels to\n",
    "              # display the modebar above the graph.\n",
    "         # bottom margin: 10px\n",
    "        l=10, # left margin: 10px\n",
    "        r=10, # right margin: 10px\n",
    "    ),\n",
    "    height=900,width=1150,\n",
    "    xaxis = dict(\n",
    "        tickmode = 'linear',\n",
    "        tick0 = 0,\n",
    "        dtick = 50\n",
    "    ),\n",
    "                      yaxis = dict(\n",
    "        tickmode = 'linear',\n",
    "        tick0 = 0,\n",
    "        dtick = 50\n",
    "    )\n",
    "                     )\n",
    "    fig.update_xaxes(showline=True, linewidth=2, linecolor='black',mirror=True)\n",
    "    fig.update_yaxes(showline=True, linewidth=2, linecolor='black',mirror=True)\n",
    "    #incrementing timer\n",
    "    timer = timer + 5\n",
    "    \n",
    "    #updating the layout\n",
    "    update_layout()\n",
    "    return fig\n",
    "\n",
    "#app callback for the table\n",
    "@app.callback(Output('live_table','figure'),\n",
    "              [Input('variable-update', 'n_intervals')])\n",
    "\n",
    "def update_variables(n):\n",
    "    fig=Processing_Functions_Tracking.table_figure_dash(timer,robot_number,R,G,power,max_force,max_speed,min_neighbours[timer],cluster_average[timer])\n",
    "         #fig.layout['template']['data']['table'][0]['header']['fill']['color']='#636EFA'\n",
    "    fig.update_layout(width = 650, height = 1500,margin=dict(\n",
    "    t=260, # top margin: 30px, you want to leave around 30 pixels to\n",
    "              # display the modebar above the graph.\n",
    "        b=10, # bottom margin: 10px\n",
    "        l=10, # left margin: 10px\n",
    "        r=10,\n",
    "    ))\n",
    "    fig.update_yaxes(showline=True, linewidth=2, linecolor='black', mirror=True)\n",
    "    fig.update_xaxes(showline=True, linewidth=2, linecolor='black', mirror=True)\n",
    "    return fig"
   ]
  },
  {
   "cell_type": "code",
   "execution_count": null,
   "metadata": {},
   "outputs": [],
   "source": [
    "#runs by default\n",
    "if __name__ == '__main__':\n",
    "    #running the app server for the simulator\n",
    "    app.run_server(debug=False, host = '127.0.0.1')\n",
    "    #app.run_server(debug=False,port=8080,host='0.0.0.0')"
   ]
  },
  {
   "cell_type": "code",
   "execution_count": null,
   "metadata": {},
   "outputs": [],
   "source": []
  },
  {
   "cell_type": "code",
   "execution_count": null,
   "metadata": {},
   "outputs": [],
   "source": []
  },
  {
   "cell_type": "code",
   "execution_count": null,
   "metadata": {},
   "outputs": [],
   "source": []
  },
  {
   "cell_type": "code",
   "execution_count": null,
   "metadata": {},
   "outputs": [],
   "source": []
  }
 ],
 "metadata": {
  "kernelspec": {
   "display_name": "Python 3",
   "language": "python",
   "name": "python3"
  },
  "language_info": {
   "codemirror_mode": {
    "name": "ipython",
    "version": 3
   },
   "file_extension": ".py",
   "mimetype": "text/x-python",
   "name": "python",
   "nbconvert_exporter": "python",
   "pygments_lexer": "ipython3",
   "version": "3.7.6"
  }
 },
 "nbformat": 4,
 "nbformat_minor": 4
}
