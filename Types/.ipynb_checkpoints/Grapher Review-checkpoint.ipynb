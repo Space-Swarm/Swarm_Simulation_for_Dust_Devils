{
 "cells": [
  {
   "cell_type": "markdown",
   "metadata": {},
   "source": [
    "# Graphing Code to Load Data and Plot It Live\n",
    "\n",
    "## Imports"
   ]
  },
  {
   "cell_type": "code",
   "execution_count": null,
   "metadata": {},
   "outputs": [],
   "source": [
    "import plotly as py\n",
    "import plotly.tools as tls\n",
    "from plotly import graph_objs as go\n",
    "from plotly.offline import download_plotlyjs, init_notebook_mode, plot, iplot\n",
    "from plotly.subplots import make_subplots\n",
    "import plotly.express as px\n",
    "import numpy as np\n",
    "import pandas as pd\n",
    "import datetime\n",
    "import Processing_Functions_Tracking\n",
    "import json\n",
    "import dash\n",
    "from dash.dependencies import Output, Input\n",
    "import dash_core_components as dcc\n",
    "import dash_html_components as html\n",
    "\n",
    "from ast import literal_eval"
   ]
  },
  {
   "cell_type": "markdown",
   "metadata": {},
   "source": [
    "## Initialising Dash and Plotly"
   ]
  },
  {
   "cell_type": "code",
   "execution_count": null,
   "metadata": {},
   "outputs": [],
   "source": [
    "app = dash.Dash(__name__)\n",
    "\n",
    "#Plotly offline mode\n",
    "init_notebook_mode(connected=True)\n",
    "\n",
    "timer = 0"
   ]
  },
  {
   "cell_type": "code",
   "execution_count": null,
   "metadata": {},
   "outputs": [],
   "source": [
    "#Function to check if any of the items contain an array\n",
    "def array_check(item,timer):\n",
    "    item = item[0]\n",
    "    print(item)\n",
    "    if(isinstance(item, str)):\n",
    "        print(item)\n",
    "        item = literal_eval(item)\n",
    "        return round(item[timer],2)\n",
    "    elif(isinstance(item, list)):\n",
    "\n",
    "        return round(item[-1],2)\n",
    "    else:\n",
    "\n",
    "        return round(float(item),2)"
   ]
  },
  {
   "cell_type": "markdown",
   "metadata": {},
   "source": [
    "# Loading Data"
   ]
  },
  {
   "cell_type": "code",
   "execution_count": null,
   "metadata": {},
   "outputs": [],
   "source": [
    "\n",
    "path = path = \"../Experiments/Testing Different R -  First Test/R_20/\"\n",
    "store_robots = np.load(path + \"Robots.npy\")\n",
    "\n",
    "with open(path + \"dust.txt\", \"r\") as f:\n",
    "     store_dust = json.load(f)\n",
    "\n",
    "\n",
    "constants = pd.read_excel(path + \"Constants.xlsx\", index_col=0)\n",
    "min_neighbours = np.load(path + \"Minimum Distance to Neighbours.npy\")\n",
    "cluster_average = np.load(path + \"Cluster Average.npy\")\n",
    "total_collision = np.load(path + \"Measurement Events Count.npy\")\n",
    "total_detection = np.load(path + \"Number of Dust Devils Detected.npy\")\n",
    "total_dust = np.load(path + \"Number of Dust Devils Generated.npy\")"
   ]
  },
  {
   "cell_type": "code",
   "execution_count": null,
   "metadata": {},
   "outputs": [],
   "source": [
    "temp = store_robots[0]\n",
    "print(temp)\n",
    "print(temp)"
   ]
  },
  {
   "cell_type": "code",
   "execution_count": null,
   "metadata": {},
   "outputs": [],
   "source": [
    "#the update layout function\n",
    "def update_layout():\n",
    "    #contains the graph, the interval timing and the live updating table\n",
    "    app.layout = html.Div(children=[html.Div(\n",
    "    [\n",
    "    dcc.Graph(id = 'live_graph'),\n",
    "    dcc.Interval(\n",
    "        id = 'graph-update',\n",
    "        interval = 100, #milliseconds\n",
    "        n_intervals = 0\n",
    "        ),\n",
    "    ],style = {'display': 'inline-block'} ),\n",
    "        html.Div(\n",
    "            [\n",
    "                dcc.Graph(id = 'live_table'),\n",
    "                dcc.Interval(\n",
    "                id = 'variable-update',\n",
    "                interval = 100, #milliseconds\n",
    "                n_intervals = 0\n",
    "                )    \n",
    "                 ],\n",
    "        style = {'display': 'inline-block','vertical-align': 'top' }    \n",
    "    )],style={'width': '100%', 'display': 'inline-block'})\n",
    "\n",
    "update_layout()"
   ]
  },
  {
   "cell_type": "code",
   "execution_count": null,
   "metadata": {},
   "outputs": [],
   "source": [
    "#callback is the updating process\n",
    "@app.callback(Output('live_graph','figure'),\n",
    "              [Input('graph-update', 'n_intervals')])\n",
    "\n",
    "#the actual update for the graph\n",
    "def update_graph(n):\n",
    "    #initialising global variables\n",
    "    global timer\n",
    "\n",
    "    position_robot = store_robots[:,:,:]\n",
    "    position_dust = store_dust[timer]\n",
    "    #creating scatter plot of robots\n",
    "    data = go.Scatter(\n",
    "        x=list(position_robot[0]),\n",
    "        y=list(position_robot[1]),\n",
    "        name = 'Robots',\n",
    "        mode = 'markers',\n",
    "    )\n",
    "    \n",
    "    #creating the plotly figure with the robot data\n",
    "    fig = go.Figure(\n",
    "        { \"data\": data, \"layout\": go.Layout(yaxis=dict(range=[-1000, 1000]),xaxis = dict(range=[-1000,1000]))\n",
    "        }\n",
    "    )\n",
    "\n",
    "    fig.add_trace(go.Scatter(\n",
    "          x= position_dust[0],\n",
    "          y= position_dust[1],\n",
    "          name='Dust Devil',\n",
    "          mode = 'markers',\n",
    "          marker_color='rgba(255, 182, 193, .9)',\n",
    "      ))\n",
    "    \n",
    "    #updating layout with circles and different formatting'''\n",
    "    fig.update_layout(title=\"<b>Physics Based Swarm Experiment </b>\",\n",
    "    title_x=0.5,\n",
    "    xaxis_title=\"X Position (m)\",\n",
    "    yaxis_title=\"Y Position (m)\",\n",
    "    margin=dict(\n",
    "        t=50, # top margin: 30px, you want to leave around 30 pixels to\n",
    "              # display the modebar above the graph.\n",
    "         # bottom margin: 10px\n",
    "        l=10, # left margin: 10px\n",
    "        r=10, # right margin: 10px\n",
    "    ),\n",
    "    height=900,width=1150,\n",
    "    xaxis = dict(\n",
    "        tickmode = 'linear',\n",
    "        tick0 = 0,\n",
    "        dtick = 50\n",
    "    ),\n",
    "                      yaxis = dict(\n",
    "        tickmode = 'linear',\n",
    "        tick0 = 0,\n",
    "        dtick = 50\n",
    "    )\n",
    "                     )\n",
    "    fig.update_xaxes(showline=True, linewidth=2, linecolor='black',mirror=True)\n",
    "    fig.update_yaxes(showline=True, linewidth=2, linecolor='black',mirror=True)\n",
    "    #incrementing timer\n",
    "    timer = timer + 1\n",
    "    \n",
    "    #updating the layout\n",
    "    update_layout()\n",
    "    return fig\n",
    "\n",
    "#app callback for the table\n",
    "@app.callback(Output('live_table','figure'),\n",
    "              [Input('variable-update', 'n_intervals')])\n",
    "\n",
    "def update_variables(n):\n",
    "    fig = Processing_Functions_Tracking.table_figure(store_robots,timer,1,constants,min_neighbours,cluster_average,total_collision,total_detection,total_dust)\n",
    "                \n",
    "    fig.update_layout(width = 650, height = 800,margin=dict(\n",
    "    t=200, # top margin: 30px, you want to leave around 30 pixels to\n",
    "              # display the modebar above the graph.\n",
    "        b=10, # bottom margin: 10px\n",
    "        l=10, # left margin: 10px\n",
    "        r=10,\n",
    "    ))\n",
    "    fig.update_yaxes(showline=True, linewidth=2, linecolor='black', mirror=True)\n",
    "    fig.update_xaxes(showline=True, linewidth=2, linecolor='black', mirror=True)\n",
    "    return fig"
   ]
  },
  {
   "cell_type": "code",
   "execution_count": null,
   "metadata": {},
   "outputs": [],
   "source": [
    "#runs by default\n",
    "if __name__ == '__main__':\n",
    "    #running the app server for the simulator\n",
    "    app.run_server(debug=False, use_reloader=False,host = '127.0.0.1')\n",
    "    #app.run_server(debug=True)"
   ]
  },
  {
   "cell_type": "code",
   "execution_count": null,
   "metadata": {},
   "outputs": [],
   "source": []
  },
  {
   "cell_type": "code",
   "execution_count": null,
   "metadata": {},
   "outputs": [],
   "source": []
  }
 ],
 "metadata": {
  "kernelspec": {
   "display_name": "Python 3",
   "language": "python",
   "name": "python3"
  },
  "language_info": {
   "codemirror_mode": {
    "name": "ipython",
    "version": 3
   },
   "file_extension": ".py",
   "mimetype": "text/x-python",
   "name": "python",
   "nbconvert_exporter": "python",
   "pygments_lexer": "ipython3",
   "version": "3.7.6"
  }
 },
 "nbformat": 4,
 "nbformat_minor": 4
}
