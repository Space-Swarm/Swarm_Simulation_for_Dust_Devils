{
 "cells": [
  {
   "cell_type": "markdown",
   "metadata": {},
   "source": [
    "# Swarm Simulator for Outer Space\n",
    "\n",
    "This swarm simulator will explore different swarm algorithms for an application in outer space. This approach will divide a plot into grid squares, which can then be analysed to determine and control the behaviour of each individual agent in the swarm."
   ]
  },
  {
   "cell_type": "code",
   "execution_count": 42,
   "metadata": {},
   "outputs": [],
   "source": [
    "#imports\n",
    "import sympy as sym\n",
    "import plotly as py\n",
    "import plotly.tools as tls\n",
    "from plotly import graph_objs as go\n",
    "import plotly.express as px\n",
    "from plotly.subplots import make_subplots\n",
    "from IPython.display import Image\n",
    "\n",
    "import dash\n",
    "from dash.dependencies import Output, Input\n",
    "import dash_core_components as dcc\n",
    "import dash_html_components as html\n",
    "\n",
    "import numpy as np\n",
    "import pandas as pd\n",
    "import ipywidgets as widgets\n",
    "import time\n",
    "import math\n",
    "\n",
    "from scipy import special\n",
    "from plotly.offline import download_plotlyjs, init_notebook_mode, plot, iplot\n",
    "from collections import deque\n",
    "from scipy.spatial.distance import cdist, pdist, euclidean\n",
    "from sympy import sin, cos, symbols, lambdify\n",
    "\n",
    "from robot import Robot\n",
    "from dust_devil import DustDevil\n",
    "from live_functions_tracking import update_decay, initialise,random_position, grid_center,positions,bounce,magnitude,unit,division_check,physics_walk,dust_check,update_timestep,cluster_function,G_transition,dist,random_walk,dust,trajectory_dust,update_dust,load_positions,pre_initialise\n",
    "\n",
    "import random\n",
    "import datetime\n",
    "import os\n",
    "import math\n",
    "import sys\n",
    "\n",
    "import Processing_Functions_Tracking\n",
    "\n",
    "\n",
    "import dash\n",
    "from dash.dependencies import Output, Input\n",
    "import dash_core_components as dcc\n",
    "import dash_html_components as html\n",
    "\n",
    "import json\n",
    "import pickle\n",
    "\n",
    "from ast import literal_eval\n",
    "\n",
    "app = dash.Dash(__name__)"
   ]
  },
  {
   "cell_type": "code",
   "execution_count": 43,
   "metadata": {},
   "outputs": [
    {
     "name": "stdout",
     "output_type": "stream",
     "text": [
      "Kernel Check\n"
     ]
    }
   ],
   "source": [
    "print(\"Kernel Check\")"
   ]
  },
  {
   "cell_type": "code",
   "execution_count": 44,
   "metadata": {},
   "outputs": [
    {
     "data": {
      "text/html": [
       "        <script type=\"text/javascript\">\n",
       "        window.PlotlyConfig = {MathJaxConfig: 'local'};\n",
       "        if (window.MathJax) {MathJax.Hub.Config({SVG: {font: \"STIX-Web\"}});}\n",
       "        if (typeof require !== 'undefined') {\n",
       "        require.undef(\"plotly\");\n",
       "        requirejs.config({\n",
       "            paths: {\n",
       "                'plotly': ['https://cdn.plot.ly/plotly-latest.min']\n",
       "            }\n",
       "        });\n",
       "        require(['plotly'], function(Plotly) {\n",
       "            window._Plotly = Plotly;\n",
       "        });\n",
       "        }\n",
       "        </script>\n",
       "        "
      ]
     },
     "metadata": {},
     "output_type": "display_data"
    }
   ],
   "source": [
    "#Plotly offline mode\n",
    "init_notebook_mode(connected=True)"
   ]
  },
  {
   "cell_type": "code",
   "execution_count": 45,
   "metadata": {},
   "outputs": [],
   "source": [
    "#function to calculate area coverage using grid metric\n",
    "def grid_coverage(grid,positions,length):\n",
    "    #creating the grid bins for area coverage\n",
    "    x_bins = np.linspace(grid[0],grid[1],length+1)\n",
    "    y_bins = np.linspace(grid[0],grid[1],length+1)\n",
    "    \n",
    "    x_positions = positions[0]\n",
    "    y_positions = positions[1]\n",
    "    #initialising empty coordinates array for use in the grid metric\n",
    "    coordinates = []\n",
    "    for i in range(len(x_positions)):\n",
    "        #setting current position\n",
    "        x_current = x_positions[i]\n",
    "        y_current = y_positions[i]\n",
    "        #searching for the x anf y coordinates using the numpy search sorted function combined with the previously defined bins\n",
    "        x = np.searchsorted(x_bins, x_current)\n",
    "        y = np.searchsorted(y_bins, y_current)\n",
    "        if((0<=x<length+1) and (0<=y<length+1)):\n",
    "            coordinates.append((x,y))\n",
    "        #print(coordinates)\n",
    "\n",
    "\n",
    "    rm_duplicates = list(set(coordinates)) #set is used to remove duplicates, as sets require distinct elements\n",
    "    area_coverage = len(rm_duplicates)*0.01 #converting it to a percentage\n",
    "    total = length*length\n",
    "    return area_coverage"
   ]
  },
  {
   "cell_type": "code",
   "execution_count": 46,
   "metadata": {},
   "outputs": [],
   "source": [
    "#Function to call physics based area coverage algorithm\n",
    "def physics_walk_tracking(swarm,G,power,R,max_force,multiply,timestep):\n",
    "    '''\n",
    "    Updates the robots velocities based on a physicomimetics artificial gravity algorithm\n",
    "\n",
    "            Parameters:\n",
    "                   Swarm (list): a list of robot objects\n",
    "                   G (float): the chosen G constant float value\n",
    "                   power (float): the chosen power for the artificial gravity equation\n",
    "                   R (float): the chosen R seperation float value\n",
    "                   max_force (float): the maximum float limit on the force\n",
    "                   multiply (float): the range multiplication float\n",
    "            Returns:\n",
    "                   None\n",
    "\n",
    "    '''\n",
    "    #setting initial constants\n",
    "    force_x = 0\n",
    "    force_y = 0 \n",
    "    velocity_x = 0\n",
    "    velocity_y = 0\n",
    "    \n",
    "    #retrieving x and y positions\n",
    "    x,y = positions(swarm)\n",
    "    \n",
    "    #looping through swarm with each individual robot\n",
    "    for i in range(len(swarm)):\n",
    "        \n",
    "        #selecting robots one by one\n",
    "        robot = swarm[i]\n",
    "        #print(\"Robot Position: \", [robot.x,robot.y])\n",
    "        \n",
    "        x_copy,y_copy = x.copy(),y.copy()\n",
    "        \n",
    "        #initialising the forces as 0\n",
    "        force = np.array([0,0])\n",
    "\n",
    "        #finding the distance between the current robot and the other robots\n",
    "        x_dist_unsorted = np.array(x_copy)-robot.x\n",
    "        y_dist_unsorted = np.array(y_copy)-robot.y\n",
    "        \n",
    "        #calculating the distance from the robots to the current robot\n",
    "        distance = np.sqrt(np.square(x_dist_unsorted)+np.square(y_dist_unsorted))\n",
    "\n",
    "        #print(\"Distance: \",distance)\n",
    "        #print(\"Non Zero Distance:\", np.nonzero(distance))\n",
    "        #determining the robots within 1.5R distance\n",
    "        distance_local = np.logical_and(distance>0,distance<multiply*R)\n",
    "        neighbourhood = np.where(distance_local)\n",
    "        list_neighbours = list(neighbourhood[0])\n",
    "        #print(\"Indices of local: \",list_neighbours)\n",
    "        #print(len(np.where(distance_local)))\n",
    "        #print(\"Booleans Local: \",distance_local)\n",
    "        #print(type(distance_local))\n",
    "        #creating the x and y distance matrices for robots within the local 1.5R distance\n",
    "        neighbours = [swarm[i] for i in list_neighbours]\n",
    "        #print(\"Neighbours:\",positions(neighbours))\n",
    "        x_dist = x_dist_unsorted[distance_local]\n",
    "        y_dist = y_dist_unsorted[distance_local]\n",
    "        position = np.array([x_dist,y_dist])\n",
    "        \n",
    "        #initialising force changes\n",
    "        force_change_dir = 0\n",
    "        \n",
    "        #number of robots within the neighbourhood\n",
    "        robot_number = len(distance_local)\n",
    "        \n",
    "\n",
    "        #looping through the current robots neighbourhood\n",
    "        for j in range(len(neighbours)):\n",
    "            \n",
    "            neighbour = neighbours[j]\n",
    "            \n",
    "            #storing current position \n",
    "            current_position = np.array([position[0,j],position[1,j]])\n",
    "                \n",
    "\n",
    "            #calculating magnitude of positions\n",
    "            mag = magnitude(current_position[0],current_position[1])\n",
    "\n",
    "\n",
    "            #calculating the force\n",
    "            numerator = (G*(robot.mass*neighbour.mass))\n",
    "            denominator = mag**2\n",
    "\n",
    "\n",
    "            #calling function to account for division by zero, if there is a zero denominator, then the force component with zero is returned as zero\n",
    "            force_change = division_check(numerator,denominator)\n",
    "\n",
    "            #calculating the unit vector of the position\n",
    "            distance_unit = unit(current_position)\n",
    "\n",
    "            #if the magnitude is bigger than R, then a force is added to draw the robots together             \n",
    "            if(mag>robot.R):\n",
    "                force_change_dir = distance_unit\n",
    "\n",
    "            #if the magnitude is smaller than R, then a force is added to push the robots apart \n",
    "            elif(mag<robot.R):\n",
    "                force_change_dir = -distance_unit\n",
    "            else:\n",
    "                force_change_dir = np.array([0,0])\n",
    "\n",
    "            #calculating new force change based on direction and magnitude\n",
    "            force_delta = force_change_dir*force_change\n",
    "\n",
    "            #constraining force to the maximum\n",
    "            if((force_delta[0]**2+force_delta[1]**2)>((max_force)**2)):\n",
    "                #calculating unit vector of the force\n",
    "                unit_force = unit([force_delta[0],force_delta[1]])\n",
    "                \n",
    "                #multiplying it by the maximum force\n",
    "                updating_force = unit_force*max_force\n",
    "                \n",
    "                #setting the new force equal to the respective updated maximum force components\n",
    "                force_delta[0] = updating_force[0]\n",
    "                force_delta[1] = updating_force[1]\n",
    "\n",
    "            #calculating new force\n",
    "            force = force+force_delta\n",
    "            \n",
    "\n",
    "        #calculating the change in velocity\n",
    "        delta_vx = (force[0])*timestep/robot.mass\n",
    "        delta_vy = (force[1])*timestep/robot.mass\n",
    "\n",
    "        #calculating the new velocity\n",
    "        velocity_x = robot.x_velocity + delta_vx\n",
    "        velocity_y = robot.y_velocity + delta_vy\n",
    "\n",
    "       #keeping the velocity within the maximum velocity of the robot\n",
    "        if((velocity_x**2+velocity_y**2)>((robot.max_velocity)**2)):\n",
    "            #calculating unit vector of the velocity\n",
    "            unit_velocity = unit([velocity_x,velocity_y])\n",
    "            \n",
    "            #multiplying it by the maximum velocity\n",
    "            velocity = unit_velocity*robot.max_velocity\n",
    "            \n",
    "            #setting the new velocity equal to the respective updated maximum velocity components\n",
    "            velocity_x = velocity[0]\n",
    "            velocity_y = velocity[1]\n",
    "\n",
    "        #updating the robots velocity\n",
    "        robot.update_velocity(velocity_x,velocity_y)    \n"
   ]
  },
  {
   "cell_type": "code",
   "execution_count": 47,
   "metadata": {},
   "outputs": [],
   "source": [
    "\n",
    "#Function to call physics based area coverage algorithm\n",
    "def physics_walk_honey(swarm,G,power,R,max_force,multiply,timestep,lattice_constants,velocity_coefficient):\n",
    "    '''\n",
    "    Updates the robot position based on a physicomimetics algorithm\n",
    "\n",
    "            Parameters:\n",
    "                   Swarm (list): a list of robot objects\n",
    "            \n",
    "            Returns:\n",
    "                   None\n",
    "\n",
    "    '''\n",
    "\n",
    "    #print(\"Physics Called \\n===============\")\n",
    "    #setting initial constants\n",
    "    #setting initial constants\n",
    "    force_x = 0\n",
    "    force_y = 0 \n",
    "    velocity_x = 0\n",
    "    velocity_y = 0\n",
    "    x,y = np.array(positions(swarm))\n",
    "    type_0,type_1 = split(swarm)\n",
    "    x_0,y_0 = np.array(positions(type_0))\n",
    "    x_1,y_1 = np.array(positions(type_1))\n",
    "    #print(\"Length 0:\",len(x_0))\n",
    "    #print(\"Length 1: \",len(x_1))\n",
    "    \n",
    "    #looping through each robot in the swarm\n",
    "    for i in range(len(swarm)):\n",
    "        force_0 = np.array([0,0])\n",
    "        force_1 = np.array([0,0])\n",
    "        #selecting robots one by one\n",
    "        robot = swarm[i]\n",
    "        \n",
    "        robot.update_velocity(velocity_coefficient*velocity_x,velocity_coefficient*velocity_y)    \n",
    "        #initialising the forces as 0\n",
    "        force = np.array([0,0])\n",
    "        \n",
    "        R_0 = R\n",
    "        R_1 = R\n",
    "        #x_dist_unsorted,y_dist_unsorted = dist(robot,swarm)\n",
    "        \n",
    "        #finding the distance between the current robot and the other robots\n",
    "        delta_x0,delta_y0 = dist(robot,x_0,y_0)\n",
    "        #print([delta_x0,delta_y0])\n",
    "        delta_x1,delta_y1 = dist(robot,x_1,y_1)\n",
    "        \"\"\"#finding the distance between the current robot and the other robots\n",
    "        delta_x0,delta_y0 = dist(robot,x,y)\n",
    "        delta_x1,delta_y1 = dist(robot,x,y)\"\"\"\n",
    "        \n",
    "        #calculating the distance from the robots to the current robot, split up according to robot type\n",
    "        distance_0 = np.sqrt(np.square(delta_x0)+np.square(delta_y0))\n",
    "        distance_1 = np.sqrt(np.square(delta_x1)+np.square(delta_y1))\n",
    "        \n",
    "        #finding the corresponding booleans\n",
    "        multiply_like = 1.3\n",
    "        multiply_unlike = 1.7\n",
    "        robot.update_counter()\n",
    "        constant = 1/robot.lattice\n",
    "        if(robot.identifier == 0):\n",
    "            R_0 = R\n",
    "            R_1 = R\n",
    "            distance_local_0 = np.logical_and(distance_0>0,(distance_0*constant)<multiply_like*R)\n",
    "            distance_local_1 = np.logical_and(distance_1>0,distance_1<multiply_unlike*R)\n",
    "            like_0 = True\n",
    "            like_1 = False\n",
    "            neighbourhood_0 = np.where(distance_local_0)\n",
    "            #print(\"Raw Indices: \", neighbourhood_0)\n",
    "            list_neighbours_0 = list(neighbourhood_0[0])\n",
    "            neighbours_0 = [type_0[k] for k in list_neighbours_0]\n",
    "            #print(list_neighbours_0)\n",
    "            \n",
    "            \n",
    "            neighbourhood_1 = np.where(distance_local_1)\n",
    "            #print(\"Raw Indices: \", neighbourhood_1)\n",
    "            list_neighbours_1 = list(neighbourhood_1[0])\n",
    "            neighbours_1 = [type_1[l] for l in list_neighbours_1]\n",
    "            #print(list_neighbours_1)\n",
    "            \n",
    "        if(robot.identifier == 1):\n",
    "            like_0 = False\n",
    "            like_1 = True\n",
    "            R_0 = R\n",
    "            R_1 = R\n",
    "            distance_local_0 = np.logical_and(distance_0>0,distance_0<multiply_unlike*R)\n",
    "            distance_local_1 = np.logical_and(distance_1>0,(distance_1*constant)<multiply_like*R)\n",
    "    \n",
    "            neighbourhood_0 = np.where(distance_local_0)\n",
    "            #print(\"Raw Indices: \", neighbourhood_0)\n",
    "            list_neighbours_0 = list(neighbourhood_0[0])\n",
    "            neighbours_0 = [type_0[m] for m in list_neighbours_0]\n",
    "            #print(list_neighbours_0)\n",
    "            \n",
    "            neighbourhood_1 = np.where(distance_local_1)\n",
    "            #print(\"Raw Indices: \", neighbourhood_1)\n",
    "            list_neighbours_1 = list(neighbourhood_1[0])\n",
    "            neighbours_1 = [type_1[n] for n in list_neighbours_1]\n",
    "            #print(list_neighbours_1)\n",
    "            \n",
    "        #print(like_0)\n",
    "        #print(like_1)\n",
    "        \n",
    "        x_dist_0 = delta_x0[distance_local_0]\n",
    "        y_dist_0 = delta_y0[distance_local_0]    \n",
    "        positions_0 = np.array([x_dist_0,y_dist_0])\n",
    "        \n",
    "        x_dist_1 = delta_x1[distance_local_1]\n",
    "        y_dist_1 = delta_y1[distance_local_1]\n",
    "        positions_1 = np.array([x_dist_1,y_dist_1])\n",
    "        \n",
    "        #print(\"Neighbourhood Distances 0: \", positions_0)\n",
    "        #print(\"Neighbourhood Distances 1: \", positions_1)\n",
    "        #print(\"Neighbourhood Distance Magnitude 0: \", np.sqrt(np.square(positions_0[0])+np.square(positions_0[1])))\n",
    "        #print(\"Neighbourhood Distance Magnitude 1: \", np.sqrt(np.square(positions_1[0])+np.square(positions_1[1])))\n",
    "        force_0 = artificial_gravity(neighbours_0,positions_0,robot,max_force,R_0,G,like_0)\n",
    "        force_1 = artificial_gravity(neighbours_1,positions_1,robot,max_force,R_1,G,like_1)\n",
    "        \n",
    "        friction = random.uniform(-0.1,0.1)\n",
    "        force = force_0 + force_1 #+ friction\n",
    "\n",
    "        #calculating the change in velocity\n",
    "        delta_vx = force[0]*timestep/robot.mass\n",
    "        delta_vy = force[1]*timestep/robot.mass\n",
    "\n",
    "        #calculating the new velocity\n",
    "        velocity_x = robot.x_velocity + delta_vx#velocity_coefficient*\n",
    "        velocity_y = robot.y_velocity + delta_vy#velocity_coefficient*        \n",
    "    \n",
    "        #keeping the velocity within the maximum velocity of the robot\n",
    "        if((velocity_x**2+velocity_y**2)>((robot.max_velocity)**2)):\n",
    "            #calculating unit vector of the velocity\n",
    "            unit_velocity = unit([velocity_x,velocity_y])\n",
    "            \n",
    "            #multiplying it by the maximum velocity\n",
    "            velocity = unit_velocity*robot.max_velocity\n",
    "            \n",
    "            #setting the new velocity equal to the respective updated maximum velocity components\n",
    "            velocity_x = velocity[0]\n",
    "            velocity_y = velocity[1]\n",
    "        \n",
    "        #updating the robots velocity\n",
    "        robot.update_velocity(velocity_x,velocity_y)    \n",
    "\n",
    "        #calculating the change in position for x and y\n",
    "        x_change = velocity_x*timestep\n",
    "        y_change = velocity_y*timestep\n",
    "\n",
    "        #calculating the new position\n",
    "        x_updated = robot.x+x_change\n",
    "        y_updated = robot.y+y_change\n",
    "        \n",
    "        #updating the position\n",
    "        robot.update_position(x_updated,y_updated)\n",
    "        #print(\"Finished 1 Loop within Physics Walk\")\n",
    "    #print(\"Finished the overall Physics Walk Calculation\")"
   ]
  },
  {
   "cell_type": "code",
   "execution_count": 48,
   "metadata": {},
   "outputs": [],
   "source": [
    "#Function to calculate artificial gravity forces\n",
    "def artificial_gravity(neighbourhood,positions, robot, max_force,R,G,like):\n",
    "        # print(\"R: \",R)\n",
    "        # print(\"Constant: \", constant)\n",
    "        force = np.array([0,0])\n",
    "        force_change_dir = 0\n",
    "        #print(neighbours)\n",
    "        #print(\"Artificial Gravity Neighbours: \", neighbours)\n",
    "        #print(\"Artificial Gravity Neighbours Magnitudes: \", (np.sqrt(np.square(neighbours[0])+np.square(neighbours[1]))))\n",
    "        # print(R*1.7)\n",
    "        loop_counter = 0\n",
    "        \n",
    "        for x,y in zip(positions[0],positions[1]):\n",
    "            \n",
    "            constant = 1/robot.lattice\n",
    "                \n",
    "            object_position = np.array([(neighbourhood[loop_counter].x-robot.x),(neighbourhood[loop_counter].y-robot.y)])\n",
    "            \n",
    "            #print(\"Object Distance: \", np.array([delta_x,delta_y]))\n",
    "            #distance_0 = np.sqrt(np.square(delta_x)+np.square(delta_y))\n",
    "            \n",
    "            #neighbour = neighbours[i]\n",
    "            #print(i)\n",
    "            #storing current position \n",
    "            current_position = np.array([x,y])\n",
    "            \"\"\"if(not np.array_equal(current_position,object_position)): \n",
    "                print(\"Object Distance: \", object_position)\n",
    "                print(\"Neighbourhood Distance: \", current_position)\n",
    "            \"\"\"\n",
    "            #calculating magnitude of positions\n",
    "            mag_unshifted = (magnitude(current_position[0],current_position[1]))\n",
    "            \"\"\"#print(mag_unshifted)\n",
    "            if(mag_unshifted > R):\n",
    "                #print(\"Larger Distance Value: \", mag_unshifted)\n",
    "                if(mag_unshifted>1.7*R):\n",
    "                    #print(\"Error! Distance is too large. Value is \",mag_unshifted)\"\"\"\n",
    "            if(like):\n",
    "                mag = mag_unshifted*constant\n",
    "            else:\n",
    "                mag = mag_unshifted\n",
    "\n",
    "            \n",
    "            #calculating the force\n",
    "            numerator = (G*(robot.mass**2))\n",
    "            denominator = mag**2\n",
    "\n",
    "            \n",
    "            #calling function to account for division by zero, if there is a zero denominator, then the force component with zero is returned as zero\n",
    "            force_change = division_check(numerator,denominator)\n",
    "            \n",
    "            #calculating the unit vector of the position\n",
    "            distance_unit = unit(current_position)\n",
    "            \n",
    "            #if the magnitude is bigger than R, then a force is added to draw the robots together             \n",
    "            if(mag>R):\n",
    "                force_change_dir = distance_unit\n",
    "            \n",
    "            #if the magnitude is smaller than R, then a force is added to push the robots apart \n",
    "            elif(mag<R):\n",
    "                force_change_dir = -distance_unit\n",
    "            else:\n",
    "                force_change_dir = np.array([0,0])\n",
    "       \n",
    "            #calculating new force change based on direction and magnitude\n",
    "            force_delta = force_change_dir*force_change\n",
    "\n",
    "            #constraining force to the maximum\n",
    "            if((force_delta[0]**2+force_delta[1]**2)>((max_force)**2)):\n",
    "                #calculating unit vector of the force\n",
    "                unit_force = unit([force_delta[0],force_delta[1]])\n",
    "                \n",
    "                #multiplying it by the maximum force\n",
    "                updating_force = unit_force*max_force\n",
    "                \n",
    "                #setting the new force equal to the respective updated maximum force components\n",
    "                force_delta[0] = updating_force[0]\n",
    "                force_delta[1] = updating_force[1]\n",
    "            force = force+force_delta\n",
    "            loop_counter = loop_counter + 1\n",
    "            \n",
    "        #setting force maximum for sum of force contributions\n",
    "        \"\"\"if((force[0]**2+force[1]**2)>((max_force)**2)):\n",
    "                #calculating unit vector of the force\n",
    "                unit_force = unit([force[0],force[1]])\n",
    "                \n",
    "                #multiplying it by the maximum force\n",
    "                updating_force = unit_force*max_force\n",
    "                \n",
    "                #setting the new force equal to the respective updated maximum force components\n",
    "                force[0] = updating_force[0]\n",
    "                force[1] = updating_force[1]\"\"\"\n",
    "        #print(\"Finished\")\n",
    "        return force\n",
    "    "
   ]
  },
  {
   "cell_type": "code",
   "execution_count": 49,
   "metadata": {},
   "outputs": [],
   "source": [
    "#Function to calculate distance between a robot and the swarm\n",
    "def dist(robot, x,y):\n",
    "    #finding the distance between the current robot and the other robots\n",
    "    x_dist = x-robot.x\n",
    "    y_dist = y-robot.y\n",
    "    return x_dist,y_dist"
   ]
  },
  {
   "cell_type": "code",
   "execution_count": 50,
   "metadata": {},
   "outputs": [],
   "source": [
    "#Function to split swarm into different types\n",
    "def split(swarm):\n",
    "    type_0 = []\n",
    "    type_1 = []\n",
    "    for robot in swarm:\n",
    "        if(robot.identifier == 0):\n",
    "            type_0.append(robot)\n",
    "        if(robot.identifier == 1):\n",
    "            type_1.append(robot)\n",
    "\n",
    "            \n",
    "    return type_0,type_1\n",
    "    "
   ]
  },
  {
   "cell_type": "code",
   "execution_count": 51,
   "metadata": {},
   "outputs": [],
   "source": [
    "def broadcast(swarm, detection_list, set_R):\n",
    "    #retrieving x and y positions\n",
    "    x,y = positions(swarm)\n",
    "   \n",
    "    detecting = np.where(detection_list)\n",
    "    list_detected = list(detecting[0])\n",
    "    for i in list_detected:\n",
    "        robot = swarm[i]\n",
    "        x_copy,y_copy = x.copy(),y.copy()\n",
    "        #finding the distance between the current robot and the other robots\n",
    "        x_dist_unsorted = np.array(x_copy)-robot.x\n",
    "        y_dist_unsorted = np.array(y_copy)-robot.y\n",
    "        \n",
    "        #calculating the distance from the robots to the current robot\n",
    "        distance = np.sqrt(np.square(x_dist_unsorted)+np.square(y_dist_unsorted))\n",
    "       \n",
    "        #determining the robots within 1.5R distance\n",
    "        distance_local = np.logical_and(distance>0,distance<multiply*R)   \n",
    "        \n",
    "        #creating the x and y distance matrices for robots within the local 1.5R distance\n",
    "        x_dist = x_dist_unsorted[distance_local]\n",
    "        y_dist = y_dist_unsorted[distance_local]\n",
    "        \n",
    "        neighbourhood = np.where(distance_local)\n",
    "        list_neighbours = list(neighbourhood[0])\n",
    "\n",
    "        neighbours = [swarm[i] for i in list_neighbours]\n",
    "        #looping through the current robots neighbourhood\n",
    "        for j in list_neighbours:\n",
    "            swarm[j].R = set_R\n",
    "    \n",
    "            "
   ]
  },
  {
   "cell_type": "code",
   "execution_count": 52,
   "metadata": {},
   "outputs": [],
   "source": [
    "#Function to calculate the G transition parameter\n",
    "def G_square(max_force,R,power):\n",
    "    '''\n",
    "    Calculates the transition value between liquid and solid states for the G parameter\n",
    "\n",
    "            Parameters:\n",
    "                   max_force (float): the maximum float limit on the force\n",
    "                   R (float): the chosen R seperation float value\n",
    "                   power (float): the chosen power for the artificial gravity equation\n",
    "                   \n",
    "            Returns:\n",
    "                   G_transition (float): the G transition value for the current swarm setup\n",
    "\n",
    "    '''\n",
    "    G_transition = (max_force*(R**power))/(2+2*math.sqrt(2))\n",
    "    return G_transition"
   ]
  },
  {
   "cell_type": "markdown",
   "metadata": {},
   "source": [
    "## Physics Constants"
   ]
  },
  {
   "cell_type": "code",
   "execution_count": 53,
   "metadata": {},
   "outputs": [],
   "source": [
    "#setting physics constants\n",
    "power = 2\n",
    "R = 20\n",
    "#max_force = 1\n",
    "multiply = 1.5"
   ]
  },
  {
   "cell_type": "code",
   "execution_count": 54,
   "metadata": {},
   "outputs": [],
   "source": [
    "#initialising parameters\n",
    "conversion_ms = 1/3.6 #km/h to m/s conversion actor\n",
    "timer = 0\n",
    "\n",
    "\n",
    "#Robot Parameters\n",
    "robot_number = 100\n",
    "robot_speed = 2 #m/s\n",
    "robot_radius = 1 \n",
    "robot_mass = 1 #kgfro\n",
    "x_robot = []\n",
    "y_robot = []\n",
    "min_neighbour = []\n",
    "gen_random = 0 #the random angle\n",
    "\n",
    "#dust devil parameters\n",
    "dust_time = 170 #time in seconds the dust devil will survive \n",
    "dust_speed = 5 #m/s\n",
    "dust_radius = 6\n",
    "dust_devils = []\n",
    "detection = 100\n",
    "\n",
    "#Area Parameters\n",
    "area = 2 #area in km^2 \n",
    "side = 1 #each side length in m\n",
    "per_square_km = 100/(60*60*24)\n",
    "probability_dust = per_square_km*4#(per_square_km*area) #number of dust devils per second\n",
    "\n",
    "\n",
    "\n",
    "\n"
   ]
  },
  {
   "cell_type": "code",
   "execution_count": 90,
   "metadata": {
    "scrolled": false
   },
   "outputs": [
    {
     "name": "stdout",
     "output_type": "stream",
     "text": [
      "Success: Directory creation of ../Experiments/Testing_Graphing/ succeeded\n",
      "Success: Directory creation of ../Experiments/Testing_Graphing/R_20/ succeeded\n",
      "Success: Directory creation of ../Experiments/Testing_Graphing/Images/ succeeded\n",
      "Initialising..\n",
      "[5.214442293951629, -42.2645018383244, 22.224983062631317, -24.711912252323316, -5.1822991713000475, -15.925239559816308, -47.95052168321164, -8.024089930344369, 4.870554263668499, 9.853212234287204, -9.883038598192615, 19.083180491549232, 5.452187916874306, 14.44973241171381, -22.863917772226998, -49.386624406985995, 3.2080007358309133, 10.734695575428134, 8.838194263704661, -22.604268487297844, -18.482005843525762, -46.70475454913175, -37.81201086816948, 46.13564172180665, 12.489023643822888, -17.566099668601012, -36.63356529734965, -28.342992373319138, -28.337275671592476, -6.603509137537076, 15.947332742141068, -4.298837224814974, 5.047740195319939, -19.949133749024533, 9.347828743591679, -8.901432023145322, -10.940582753563788, -14.310128871867454, -12.060638478343648, 2.5232214812648674, 29.043760651839882, 9.34650016497421, 25.35162033915129, -0.20915941673996807, -15.123462553859262, -20.46351473163069, -13.643525566984314, 7.954459911123113, -9.19667290651453, -6.817358804465026, 14.07247067521417, -9.566090241215296, -11.608761582449231, 0.8904754417237742, 66.86110979586563, -7.954022919071876, 15.077752846932224, 16.69587920905028, -4.9794312299469095, -29.63027497165397, -4.998268269839949, 2.4798450977663724, 28.033218461140393, 3.767210647847994, 36.24899806305069, -7.427358742215949, -13.090962845734527, 0.12534595471042623, 4.440776604650402, -14.239834402825899, 2.301886800880952, 1.5365491181867472, -28.885076811380046, -6.211144980590014, 18.35435494164207, 2.5913558228256695, -2.8790438474652063, -40.02237555315995, -1.9946152102756027, -44.26489659357924, -11.94015739358662, 4.364531425147672, 37.63696402775362, -12.030186437866261, 12.284161609144169, -38.22176496396739, -3.481172174223442, 1.7474967878790113, -29.880686801803293, -38.04457461994988, -17.687023505149483, -26.171891546529807, -33.11379510284205, 10.414696934457988, -4.008852383764545, 11.92886659552881, -3.383394455374615, -22.4456670055805, -12.25928624457673, 26.963197298729252]\n",
      "[-5.441274596082417, -47.556937230338164, -1.5971326964858372, 4.586878252884033, 30.503954286713373, -1.5804420350929673, 8.266717215700176, -12.506791077432599, -3.7262945418058107, -32.395045014180155, -21.206823187931782, -29.830172771424785, 30.15377858032818, -6.08154883905327, 15.93805121833756, 14.55896894733172, -9.1150754813134, 15.544255307360434, 15.172364941985721, -0.5106139782093095, -17.090089664711407, -21.493102237105507, -7.743217655717824, 14.22830715801756, 6.436337602325968, 7.117409477216339, 3.522444612655231, 7.246995244348813, -12.61870882635244, 24.348177193954438, -38.12232999012601, -15.861236246812087, 23.908691292929085, -26.575381298175436, 12.661645816461577, -32.26513466472225, 29.200188329650018, 1.4493507545788389, -3.243301717517717, -42.68491279180406, 23.528257799995373, -45.36891095123388, -7.144690007070794, -7.513093907167749, -5.003417228918259, -24.685557074592595, 24.106721404434744, 17.42356950566971, -24.09086306945655, -10.060253834786492, -1.9042325449417, -14.929497890353717, -47.95716668319538, 25.217898125025688, 12.264038057287436, 17.25405084716746, 24.57447700832587, 5.978880196951532, -3.572710378994034, -7.563704926194069, -15.8653003786897, -13.6291087880813, 22.686935467409274, 2.983920404307649, -22.20554557900034, 11.44635098394633, 5.05093137745476, 16.389071941626938, 10.280043483593284, -14.996441484120783, -40.00093897318881, 10.82349193032166, 2.2169789730507365, 9.021546890772056, -0.38833390073397095, 3.842229746597371, 14.10198318537878, 14.077885559199242, -2.561100901701722, -1.9559752718104526, -11.556116255761316, -10.793215667927164, -6.639765016677107, 24.952972131284778, -11.837165977252964, -3.6334913649842453, 6.758628796231209, -26.38215554569227, 11.171100452827304, 19.62854012014858, 11.866327012285717, 21.788017116069245, 29.069400967784663, 10.619499007434941, 16.885243061467406, -16.436178276923318, -27.700868958668096, -3.379502477571812, 33.570746997565, -7.462914635470811]\n",
      "0\n",
      "1\n",
      "0\n",
      "1\n",
      "0\n",
      "1\n",
      "0\n",
      "1\n",
      "0\n",
      "1\n",
      "0\n",
      "1\n",
      "0\n",
      "1\n",
      "0\n",
      "1\n",
      "0\n",
      "1\n",
      "0\n",
      "1\n",
      "0\n",
      "1\n",
      "0\n",
      "1\n",
      "0\n",
      "1\n",
      "0\n",
      "1\n",
      "0\n",
      "1\n",
      "0\n",
      "1\n",
      "0\n",
      "1\n",
      "0\n",
      "1\n",
      "0\n",
      "1\n",
      "0\n",
      "1\n",
      "0\n",
      "1\n",
      "0\n",
      "1\n",
      "0\n",
      "1\n",
      "0\n",
      "1\n",
      "0\n",
      "1\n",
      "0\n",
      "1\n",
      "0\n",
      "1\n",
      "0\n",
      "1\n",
      "0\n",
      "1\n",
      "0\n",
      "1\n",
      "0\n",
      "1\n",
      "0\n",
      "1\n",
      "0\n",
      "1\n",
      "0\n",
      "1\n",
      "0\n",
      "1\n",
      "0\n",
      "1\n",
      "0\n",
      "1\n",
      "0\n",
      "1\n",
      "0\n",
      "1\n",
      "0\n",
      "1\n",
      "0\n",
      "1\n",
      "0\n",
      "1\n",
      "0\n",
      "1\n",
      "0\n",
      "1\n",
      "0\n",
      "1\n",
      "0\n",
      "1\n",
      "0\n",
      "1\n",
      "0\n",
      "1\n",
      "0\n",
      "1\n",
      "0\n",
      "1\n",
      "Success: Directory creation of ../Experiments/Testing_Graphing/R_20/G_Parameter_115.47005383792516/ succeeded\n",
      "0\n",
      "1\n",
      "2\n",
      "3\n",
      "4\n",
      "5\n",
      "6\n",
      "7\n",
      "8\n",
      "9\n",
      "10\n",
      "11\n",
      "12\n",
      "13\n",
      "14\n",
      "15\n",
      "16\n",
      "17\n",
      "18\n",
      "19\n",
      "20\n",
      "21\n",
      "22\n",
      "23\n",
      "24\n",
      "25\n",
      "26\n",
      "27\n",
      "28\n",
      "29\n",
      "30\n",
      "31\n",
      "32\n",
      "33\n",
      "34\n",
      "35\n",
      "36\n",
      "37\n",
      "38\n",
      "39\n",
      "40\n",
      "41\n",
      "42\n",
      "43\n",
      "44\n",
      "45\n",
      "46\n",
      "47\n",
      "48\n",
      "49\n",
      "([10.62751141440957, 68.55113057931085, -7.920585855412574, -94.46340191710627, 13.71103898169605, -18.748764310304875, 28.735567310473634, -37.91285518557995, 10.504895131210084, 32.98409185256434, -53.99415764467936, -81.84934887560189, 56.32793085808488, -63.00488369791947, -78.31899338586688, 25.312725112077466, 20.120739466287286, 22.92281445279817, -0.07816007464156344, -32.70922387933288, 60.899094378331284, 45.00420005540239, -38.85147298647097, -36.59090594644544, -12.37836535450812, 31.546313669438256, -41.636403798687674, 92.8273691748927, 58.02755719439551, -0.9538908557781605, -19.030722485352314, 83.79433597040023, 50.73178834076286, 0.30964181620735465, 30.067621368650684, -1.7858022856467817, -62.945420588351254, 37.026944360454046, -9.66577131032463, -6.670616244719481, -50.864698600538716, 80.09727451064396, 31.00578581635763, -20.696875413875844, -33.610359668250666, -37.13998567996953, -68.77541641038206, 11.708184874259322, 28.93874131816421, -28.53736559101167], [-37.47059315922161, 3.7562702144750415, 51.456848750305376, 7.456960832965365, -11.611355964453516, -45.960087087182956, 84.84366503021985, 48.15277545165853, -33.648803189416896, 45.75512603264785, -44.339548940763876, -27.091025379624554, 16.151290263228915, -11.204462988122142, -66.93512747818662, -47.990895148583704, 62.37183191374969, 24.598797119491234, 58.57428188943106, -20.377024926109176, 38.20986859273866, -37.8327009807615, -19.83405123275086, 14.867197836042346, -39.47498467434153, -4.822751372129808, -76.4108885398064, 16.66081220491915, 71.59167362014087, -0.476835596800939, -54.073297150419755, 45.871138548887885, -25.1598453049615, 21.0098214072396, 42.390161415507315, -73.62220420239399, 11.651786414263832, 11.860696216262554, 31.402557043167832, -1.632154168977797, -42.84208544028829, -18.97514857056452, -6.4730444135589815, -7.162491367712045, 15.89922255014086, 53.27123639554149, 41.00270924396463, 21.29305467643055, -68.46322817979522, 80.36980123109878])\n",
      "[[  5.21444229   8.79470969  11.35438985  14.62168743  15.82190635\n",
      "   13.5182019   14.16484989  12.7935756   13.85847656  17.56413789\n",
      "   16.94458671  18.39374643  15.37033502  16.02083194  14.31015003\n",
      "   15.94138218  15.08954737  12.42495893  12.26901075  11.28248428\n",
      "   11.78867697  10.43990845  10.45136622   9.2557917    8.77114546\n",
      "    6.94242053   7.18819041   6.6010858    8.51119252   5.67511153\n",
      "    7.77040563   7.82809024   8.61552116   6.98800372   8.64641731\n",
      "    8.01092146   9.82028178   9.52428709   9.78545659  11.57572151\n",
      "    9.92988611  11.53276883   9.13100379   9.68443054  10.75077692\n",
      "    9.45288663  10.5675628   10.32228251  11.77732471  11.26597566]\n",
      " [ -5.4412746   -7.22500254  -8.98124206  -9.86450561 -11.6782676\n",
      "  -12.33603937 -15.34357439 -11.92358894 -15.77923233 -14.27321966\n",
      "  -18.22494793 -18.07742537 -20.69639147 -16.74963917 -20.36537802\n",
      "  -16.71310726 -20.62135207 -20.60478974 -23.13374598 -24.62678734\n",
      "  -26.95079405 -26.79846955 -27.41231837 -30.22067019 -31.12846666\n",
      "  -32.02194631 -33.29372316 -31.5726108  -33.43472168 -33.36685502\n",
      "  -34.10483966 -32.73505838 -34.12782768 -32.31066469 -35.95067353\n",
      "  -33.58712729 -36.24254108 -34.38330487 -37.42468079 -33.84767765\n",
      "  -37.18139273 -33.51659164 -35.49906945 -35.51372519 -38.2891767\n",
      "  -36.58125733 -36.9389123  -35.88945945 -37.23913343 -35.63925602]]\n",
      "G_state:  115.47005383792516\n",
      "G_parameter:  115.47005383792516\n",
      "([10.62751141440957, 68.55113057931085, -7.920585855412574, -94.46340191710627, 13.71103898169605, -18.748764310304875, 28.735567310473634, -37.91285518557995, 10.504895131210084, 32.98409185256434, -53.99415764467936, -81.84934887560189, 56.32793085808488, -63.00488369791947, -78.31899338586688, 25.312725112077466, 20.120739466287286, 22.92281445279817, -0.07816007464156344, -32.70922387933288, 60.899094378331284, 45.00420005540239, -38.85147298647097, -36.59090594644544, -12.37836535450812, 31.546313669438256, -41.636403798687674, 92.8273691748927, 58.02755719439551, -0.9538908557781605, -19.030722485352314, 83.79433597040023, 50.73178834076286, 0.30964181620735465, 30.067621368650684, -1.7858022856467817, -62.945420588351254, 37.026944360454046, -9.66577131032463, -6.670616244719481, -50.864698600538716, 80.09727451064396, 31.00578581635763, -20.696875413875844, -33.610359668250666, -37.13998567996953, -68.77541641038206, 11.708184874259322, 28.93874131816421, -28.53736559101167], [-37.47059315922161, 3.7562702144750415, 51.456848750305376, 7.456960832965365, -11.611355964453516, -45.960087087182956, 84.84366503021985, 48.15277545165853, -33.648803189416896, 45.75512603264785, -44.339548940763876, -27.091025379624554, 16.151290263228915, -11.204462988122142, -66.93512747818662, -47.990895148583704, 62.37183191374969, 24.598797119491234, 58.57428188943106, -20.377024926109176, 38.20986859273866, -37.8327009807615, -19.83405123275086, 14.867197836042346, -39.47498467434153, -4.822751372129808, -76.4108885398064, 16.66081220491915, 71.59167362014087, -0.476835596800939, -54.073297150419755, 45.871138548887885, -25.1598453049615, 21.0098214072396, 42.390161415507315, -73.62220420239399, 11.651786414263832, 11.860696216262554, 31.402557043167832, -1.632154168977797, -42.84208544028829, -18.97514857056452, -6.4730444135589815, -7.162491367712045, 15.89922255014086, 53.27123639554149, 41.00270924396463, 21.29305467643055, -68.46322817979522, 80.36980123109878])\n",
      "([10.62751141440957, 68.55113057931085, -7.920585855412574, -94.46340191710627, 13.71103898169605, -18.748764310304875, 28.735567310473634, -37.91285518557995, 10.504895131210084, 32.98409185256434, -53.99415764467936, -81.84934887560189, 56.32793085808488, -63.00488369791947, -78.31899338586688, 25.312725112077466, 20.120739466287286, 22.92281445279817, -0.07816007464156344, -32.70922387933288, 60.899094378331284, 45.00420005540239, -38.85147298647097, -36.59090594644544, -12.37836535450812, 31.546313669438256, -41.636403798687674, 92.8273691748927, 58.02755719439551, -0.9538908557781605, -19.030722485352314, 83.79433597040023, 50.73178834076286, 0.30964181620735465, 30.067621368650684, -1.7858022856467817, -62.945420588351254, 37.026944360454046, -9.66577131032463, -6.670616244719481, -50.864698600538716, 80.09727451064396, 31.00578581635763, -20.696875413875844, -33.610359668250666, -37.13998567996953, -68.77541641038206, 11.708184874259322, 28.93874131816421, -28.53736559101167], [-37.47059315922161, 3.7562702144750415, 51.456848750305376, 7.456960832965365, -11.611355964453516, -45.960087087182956, 84.84366503021985, 48.15277545165853, -33.648803189416896, 45.75512603264785, -44.339548940763876, -27.091025379624554, 16.151290263228915, -11.204462988122142, -66.93512747818662, -47.990895148583704, 62.37183191374969, 24.598797119491234, 58.57428188943106, -20.377024926109176, 38.20986859273866, -37.8327009807615, -19.83405123275086, 14.867197836042346, -39.47498467434153, -4.822751372129808, -76.4108885398064, 16.66081220491915, 71.59167362014087, -0.476835596800939, -54.073297150419755, 45.871138548887885, -25.1598453049615, 21.0098214072396, 42.390161415507315, -73.62220420239399, 11.651786414263832, 11.860696216262554, 31.402557043167832, -1.632154168977797, -42.84208544028829, -18.97514857056452, -6.4730444135589815, -7.162491367712045, 15.89922255014086, 53.27123639554149, 41.00270924396463, 21.29305467643055, -68.46322817979522, 80.36980123109878])\n",
      "([10.62751141440957, 68.55113057931085, -7.920585855412574, -94.46340191710627, 13.71103898169605, -18.748764310304875, 28.735567310473634, -37.91285518557995, 10.504895131210084, 32.98409185256434, -53.99415764467936, -81.84934887560189, 56.32793085808488, -63.00488369791947, -78.31899338586688, 25.312725112077466, 20.120739466287286, 22.92281445279817, -0.07816007464156344, -32.70922387933288, 60.899094378331284, 45.00420005540239, -38.85147298647097, -36.59090594644544, -12.37836535450812, 31.546313669438256, -41.636403798687674, 92.8273691748927, 58.02755719439551, -0.9538908557781605, -19.030722485352314, 83.79433597040023, 50.73178834076286, 0.30964181620735465, 30.067621368650684, -1.7858022856467817, -62.945420588351254, 37.026944360454046, -9.66577131032463, -6.670616244719481, -50.864698600538716, 80.09727451064396, 31.00578581635763, -20.696875413875844, -33.610359668250666, -37.13998567996953, -68.77541641038206, 11.708184874259322, 28.93874131816421, -28.53736559101167], [-37.47059315922161, 3.7562702144750415, 51.456848750305376, 7.456960832965365, -11.611355964453516, -45.960087087182956, 84.84366503021985, 48.15277545165853, -33.648803189416896, 45.75512603264785, -44.339548940763876, -27.091025379624554, 16.151290263228915, -11.204462988122142, -66.93512747818662, -47.990895148583704, 62.37183191374969, 24.598797119491234, 58.57428188943106, -20.377024926109176, 38.20986859273866, -37.8327009807615, -19.83405123275086, 14.867197836042346, -39.47498467434153, -4.822751372129808, -76.4108885398064, 16.66081220491915, 71.59167362014087, -0.476835596800939, -54.073297150419755, 45.871138548887885, -25.1598453049615, 21.0098214072396, 42.390161415507315, -73.62220420239399, 11.651786414263832, 11.860696216262554, 31.402557043167832, -1.632154168977797, -42.84208544028829, -18.97514857056452, -6.4730444135589815, -7.162491367712045, 15.89922255014086, 53.27123639554149, 41.00270924396463, 21.29305467643055, -68.46322817979522, 80.36980123109878])\n"
     ]
    },
    {
     "name": "stdout",
     "output_type": "stream",
     "text": [
      "G_Parameter_115.47005383792516\n",
      "G_Parameter_115.47005383792516\n",
      "G_Parameter_115.47005383792516\n",
      "G_Parameter_115.47005383792516\n"
     ]
    }
   ],
   "source": [
    "lattice_constants = [math.sqrt(3),math.sqrt(2)]\n",
    "G_scale = [0.9,0.95,1,1.05,1.1]\n",
    "initialise_array = [20]\n",
    "lattice = lattice_constants[0]\n",
    "honeycomb = True\n",
    "robot = 100#100\n",
    "time = 50\n",
    "#robot_speed_array = [1,2,3,4,5,6,7,8,9,10]\n",
    "max_force_array = [1]\n",
    "velocity_coefficient_array = [0.5]\n",
    "original_path = \"../Experiments/Testing_Graphing/\"\n",
    "try:\n",
    "    os.mkdir(original_path)\n",
    "except OSError:\n",
    "    print (\"Failure: Directory creation of %s failed\" % original_path)\n",
    "else:\n",
    "    print (\"Success: Directory creation of %s succeeded\" % original_path)\n",
    "\n",
    "values = []\n",
    "timestep = 1\n",
    "frequency = 1\n",
    "\n",
    "R_array = [20]#[10,20,50,100,150,200,250]\n",
    "\n",
    "grid = np.array([-500,500])\n",
    "grid_length = 1000\n",
    "grid_performance = []\n",
    "\n",
    "for R_index in range(len(R_array)):\n",
    "    velocity_coefficient = velocity_coefficient_array[0]\n",
    "    max_force = max_force_array[0]\n",
    "    R = R_array[R_index]\n",
    "    G_state = G_transition(max_force,R,power)\n",
    "\n",
    "\n",
    "    random_seed = random.randint(0,10000)\n",
    "    random.seed(random_seed)\n",
    "\n",
    "    performance_metric = []\n",
    "    code = \"R_\" + str(R)\n",
    "    path = (original_path + code + \"/\")\n",
    "    try:\n",
    "        os.mkdir(path)\n",
    "    except OSError:\n",
    "        print (\"Failure: Directory creation of %s failed\" % path)\n",
    "    else:\n",
    "        print (\"Success: Directory creation of %s succeeded\" % path)\n",
    "\n",
    "\n",
    "    image = (original_path + \"Images/\")\n",
    "    try:\n",
    "        os.mkdir(image)\n",
    "    except OSError:\n",
    "        print (\"Failure: Directory creation of %s failed\" % image)\n",
    "    else:\n",
    "        print (\"Success: Directory creation of %s succeeded\" % image)\n",
    "\n",
    "    #for initial in initial_array:\n",
    "\n",
    "    #only set seed if eliminating bias\n",
    "    #random_seed = os.urandom(8)\n",
    "    #random.seed(random_seed)\n",
    "    #setting up the robot setup\n",
    "    swarm = initialise(robot, side, initialise_array[0],robot_speed,R,random_seed, lattice_constants)\n",
    "\n",
    "    store_robots = np.zeros((2,robot,(time*timestep)))\n",
    "    store_dust = np.zeros((2,robot,(time*timestep)))\n",
    "    min_neighbours = []\n",
    "    cluster_average = []\n",
    "    store_dust = []\n",
    "    dust_devils = []\n",
    "    measurement_events = 0\n",
    "    detection_metric = 0\n",
    "    dust_count = 0 \n",
    "    total_detection = []\n",
    "    total_collision = []\n",
    "    total_dust = []\n",
    "\n",
    "    code = \"G_Parameter_\" + str(G_state)\n",
    "    path = (path + code + \"/\")\n",
    "    try:\n",
    "        os.mkdir(path)\n",
    "    except OSError:\n",
    "        print (\"Failure: Directory creation of %s failed\" % path)\n",
    "    else:\n",
    "        print (\"Success: Directory creation of %s succeeded\" % path)\n",
    "    for j in range(0,time*frequency):\n",
    "        \"\"\"if(j%100==0 and j>0):\n",
    "            honeycomb = not honeycomb\n",
    "\n",
    "        if(honeycomb):\n",
    "            lattice = lattice_options[0]\n",
    "        else:\n",
    "            lattice = lattice_options[1]\"\"\"\n",
    "        print(j)\n",
    "        update_decay(swarm,R)\n",
    "        #updating robots and storing robot/dust devil positions\n",
    "        store_robots[:,:,j] = positions(swarm)\n",
    "        store_dust.append(positions(dust_devils))\n",
    "\n",
    "        #checking if 1 second has passed and updating velocities of the robots via the physics walk algorithm and updating status of dust devils\n",
    "        if(j%frequency==0):\n",
    "        #    dust_count = dust_count + dust(dust_devils,1,side,j,dust_speed,dust_time,timestep,frequency)\n",
    "           physics_walk_honey(swarm,G_state,power,R,max_force,multiply,1,lattice,velocity_coefficient)    \n",
    "\n",
    "        #calling update timestep method which updates positions of robots, and returns performance metrics\n",
    "        measurement_events_change,detection_metric_change = update_timestep(swarm,dust_devils,timestep,frequency,min_neighbours,cluster_average,detection,R,multiply,20,5)\n",
    "        measurement_events = measurement_events + measurement_events_change\n",
    "        detection_metric = detection_metric + detection_metric_change\n",
    "\n",
    "        #appending performance metrics into list for storage/post processing\n",
    "        total_detection.append(detection_metric)\n",
    "        total_collision.append(measurement_events)\n",
    "\n",
    "        #updates dust devils positions\n",
    "        update_dust(dust_devils)\n",
    "\n",
    "        #storing the number of dust devils generated\n",
    "        total_dust.append(dust_count)\n",
    "    \n",
    "    type_0_object,type_1_object = split(swarm)\n",
    "    type_0 = positions(type_0_object)\n",
    "    type_1 = positions(type_1_object)\n",
    "    print(type_0)\n",
    "    print(store_robots[:,0])\n",
    "    current_grid_metric = grid_coverage(grid,store_robots[:,time*frequency-1],grid_length)\n",
    "    #saving robot positions\n",
    "    np.save(path + \"Robots.npy\",store_robots)\n",
    "\n",
    "    #saving dust devil positions\n",
    "    with open( path + \"dust.txt\", \"w\") as f:\n",
    "        json.dump(store_dust, f)\n",
    "\n",
    "    #saving performance metrics - these could not be stored in excel due to storage limits\n",
    "    np.save(path + \"Minimum Distance to Neighbours.npy\",np.array(min_neighbours))\n",
    "    np.save(path + \"Cluster Average.npy\", np.array(cluster_average))\n",
    "    np.save(path + \"Measurement Events Count.npy\", np.array(total_collision))\n",
    "    np.save(path + \"Number of Dust Devils Detected.npy\", np.array(total_detection))\n",
    "    np.save(path + \"Number of Dust Devils Generated.npy\", np.array(total_dust))\n",
    "\n",
    "\n",
    "    #adding values tested for a values excel spreadsheet for easy viewing\n",
    "    values.append([len(swarm),timestep,G_state,power,R,multiply,max_force,robot_speed,min_neighbours[time*frequency-1],cluster_average[time*frequency-1],random_seed, G_state,measurement_events,detection_metric,dust_count])\n",
    "\n",
    "    #the titles of the variables in the values array\n",
    "    values_title = ['Number of Robots',\n",
    "                            'Timestep',\n",
    "                            'G', \n",
    "                            'Power', \n",
    "                            'Communication Range', \n",
    "                            'Multiplier',\n",
    "                            'Max Force',\n",
    "                            'Max Speed',\n",
    "                            'Minimum Distance to Neighbours',\n",
    "                            'Average Cluster Size',\n",
    "                            'Seed',\n",
    "                            'G Transition',\n",
    "                            'Measurement Events Count',\n",
    "                            'Number of Dust Devils Detected',\n",
    "                            'Total Number of Dust Devils',\n",
    "        ]\n",
    "\n",
    "    #storing the constants used in the simulation\n",
    "    data = {'Values':[len(swarm),timestep,G_state,power,R,multiply,max_force,robot_speed,random_seed, G_state]}\n",
    "    titles =['Number of Robots',\n",
    "                            'G',\n",
    "                            'Timestep', \n",
    "                            'Power',\n",
    "                            'Communication Range', \n",
    "                            'Multiplier',\n",
    "                            'Max Force',\n",
    "                            'Max Speed',\n",
    "                            'Seed',\n",
    "                            'G Transition',\n",
    "        ]\n",
    "    #setting the constants as a panda dataframe\n",
    "    constants = pd.DataFrame(data, index = titles\n",
    "                           ) \n",
    "\n",
    "    constants.to_excel(path + \"Constants.xlsx\")\n",
    "    print(\"G_state: \",G_state)\n",
    "    print(\"G_parameter: \" ,G_state)\n",
    "    #setting the start paths for the graphs and the tables\n",
    "    graph_start_path = image + code + \"- Graph_Beginning.png\"\n",
    "    table_start_path = image + \"/\" + code + \"- Table_Beginning.png\"\n",
    "\n",
    "    #using the processing functions to create plotly graphs and tables for the figures in the first timestep\n",
    "    graph_start = Processing_Functions_Tracking.graph_figure(store_robots,0,frequency,code)\n",
    "    graph_start.write_image(graph_start_path)\n",
    "    table_start = Processing_Functions_Tracking.table_figure(store_robots,0,frequency,constants,min_neighbours,cluster_average,total_collision,total_detection,total_dust)\n",
    "    table_start.write_image(table_start_path)\n",
    "\n",
    "    #combining the tables and the graphs using pillow\n",
    "    Processing_Functions_Tracking.combine(graph_start_path,table_start_path)\n",
    "\n",
    "    #setting the end paths for the graphs and the tables\n",
    "    graph_end_path = image + code + \"- Graph_End.png\"\n",
    "    table_end_path = image + \"/\" + code + \"- Table_End.png\"\n",
    "\n",
    "    #using the processing functions to create plotly graphs and tables for the figures in the last timestep\n",
    "    graph_end = Processing_Functions_Tracking.graph_figure(store_robots,time-1,frequency,code)\n",
    "    graph_end.write_image(image + \"/\" + code + \"- Graph_End.png\")\n",
    "    table_end = Processing_Functions_Tracking.table_figure(store_robots,time-1,frequency,constants,min_neighbours,cluster_average,total_collision,total_detection,total_dust)\n",
    "    table_end.write_image(image + \"/\" + code + \"- Table_End.png\")\n",
    "    print(type_0)\n",
    "    #using the processing functions to create plotly graphs and tables for the figures in the last timestep\n",
    "    graph_end_types = Processing_Functions_Tracking.graph_figure_split(type_0,type_1,frequency,code)\n",
    "    graph_end_types.write_image(image + \"/\" + code + \"- Graph_End_Types.png\")\n",
    "    table_end_types = Processing_Functions_Tracking.table_figure(store_robots,time-1,frequency,constants,min_neighbours,cluster_average,total_collision,total_detection,total_dust)\n",
    "    table_end_types.write_image(image + \"/\" + code + \"- Table_Types_End.png\")\n",
    "    \n",
    "    #using the processing functions to create plotly graphs and tables for the figures in the last timestep\n",
    "    graph_end_area_coverage = Processing_Functions_Tracking.graph_figure_area_coverage(type_0,type_1,frequency,code)\n",
    "    graph_end_area_coverage.write_image(image + \"/\" + code + \"- Graph_End_Area_Coverage.png\")\n",
    "    #table_end_types = Processing_Functions_Tracking.table_figure(store_robots,time-1,frequency,constants,min_neighbours,cluster_average,total_collision,total_detection,total_dust)\n",
    "    #table_end.write_image(image + \"/\" + code + \"- Table_Types_End.png\")\n",
    "    \n",
    "    #combining the tables and the graphs using pillow\n",
    "    Processing_Functions_Tracking.combine(graph_end_path,table_end_path)\n",
    "\n",
    "    #plotting performance of the average of minimum neighbouring distance metric\n",
    "    performance = Processing_Functions_Tracking.performance_graph(min_neighbours,np.linspace(0,len(min_neighbours),len(min_neighbours)*frequency,endpoint = False),frequency,code,\"Time (s)\",\"Minimum Average Neighbour Distance (m)\")\n",
    "    performance.write_image(image + \"/\" + code + \"- Performance.png\")\n",
    "\n",
    "    #plotting performance of the dust devil measurement metric\n",
    "    performance_intercept = Processing_Functions_Tracking.performance_graph(total_collision,np.linspace(0,len(total_collision),len(total_collision)*frequency,endpoint = False),frequency,code,\"Time (s)\",\"Count of Measurement Events\")\n",
    "    performance_intercept.write_image(image + \"/\" + code + \"- Intercept Performance.png\")\n",
    "\n",
    "    #plotting performance of the cluster average of the swarm\n",
    "    cluster = Processing_Functions_Tracking.performance_graph(cluster_average,np.linspace(0,len(cluster_average),len(cluster_average)*frequency,endpoint = False),frequency,code,\"Time (s)\",\"Average Cluster Size\")\n",
    "    cluster.write_image(image + \"/\" + code + \"- Average Cluster Size.png\")\n",
    "\n",
    "\n",
    "\n",
    "\n",
    "    #setting panda dataframe for the values tested\n",
    "    df = pd.DataFrame(values, columns = values_title)\n",
    "\n",
    "    #saving at as an excel spreadsheet\n",
    "    df.to_excel(path + \"Results.xlsx\")\n",
    "\n",
    "\n",
    "    #performance_metric_np = np.array(performance_metric)\n",
    "\n",
    "    #saving performance metrics\n",
    "    #np.save(original_path + \"Performance Metric \" + str(timestep) + \".npy\", performance_metric_np)\n",
    "\n",
    "    #plotting performance of the different timesteps\n",
    "    #performance_overall = Processing_Functions_BP.performance_graph(performance_metric_np[:,1],performance_metric_np[:,0],1,code,\"Number of Timesteps in 1 Second\",\"Number of Dust Devils Detected\")\n",
    "    #performance_overall.write_image(new_path + \"Overall Performance.png\")\n",
    "    grid_performance.append([current_grid_metric,R])\n",
    "\n",
    "\"\"\"\n",
    "    performance_metric.append([robot,total_detection[-1]])\n",
    "\"\"\"\n",
    "\n",
    "performance_metric_np = np.array(grid_performance)\n",
    "np.save(original_path + \"Grid Performance Metric.npy\", performance_metric_np)\n",
    "performance_overall = Processing_Functions_Tracking.performance_graph(performance_metric_np[:,0],performance_metric_np[:,1],1,code,\"Desired Seperation Distance, R (m) \",\"Grid Coverage Percentage\")\n",
    "performance_overall.write_image(original_path + \"Overall Performance.png\")\n"
   ]
  },
  {
   "cell_type": "code",
   "execution_count": 121,
   "metadata": {},
   "outputs": [
    {
     "ename": "AttributeError",
     "evalue": "'function' object has no attribute 'grid'",
     "output_type": "error",
     "traceback": [
      "\u001b[1;31m---------------------------------------------------------------------------\u001b[0m",
      "\u001b[1;31mAttributeError\u001b[0m                            Traceback (most recent call last)",
      "\u001b[1;32m<ipython-input-121-727721968029>\u001b[0m in \u001b[0;36m<module>\u001b[1;34m\u001b[0m\n\u001b[0;32m      3\u001b[0m \u001b[0mx_0\u001b[0m\u001b[1;33m,\u001b[0m\u001b[0my_0\u001b[0m \u001b[1;33m=\u001b[0m \u001b[0mnp\u001b[0m\u001b[1;33m.\u001b[0m\u001b[0marray\u001b[0m\u001b[1;33m(\u001b[0m\u001b[0mpositions\u001b[0m\u001b[1;33m(\u001b[0m\u001b[0mtype_0\u001b[0m\u001b[1;33m)\u001b[0m\u001b[1;33m)\u001b[0m\u001b[1;33m\u001b[0m\u001b[1;33m\u001b[0m\u001b[0m\n\u001b[0;32m      4\u001b[0m \u001b[0mx_1\u001b[0m\u001b[1;33m,\u001b[0m\u001b[0my_1\u001b[0m \u001b[1;33m=\u001b[0m \u001b[0mnp\u001b[0m\u001b[1;33m.\u001b[0m\u001b[0marray\u001b[0m\u001b[1;33m(\u001b[0m\u001b[0mpositions\u001b[0m\u001b[1;33m(\u001b[0m\u001b[0mtype_1\u001b[0m\u001b[1;33m)\u001b[0m\u001b[1;33m)\u001b[0m\u001b[1;33m\u001b[0m\u001b[1;33m\u001b[0m\u001b[0m\n\u001b[1;32m----> 5\u001b[1;33m \u001b[0mplot\u001b[0m\u001b[1;33m.\u001b[0m\u001b[0mgrid\u001b[0m\u001b[1;33m(\u001b[0m\u001b[1;33m)\u001b[0m\u001b[1;33m\u001b[0m\u001b[1;33m\u001b[0m\u001b[0m\n\u001b[0m\u001b[0;32m      6\u001b[0m \u001b[0mplot\u001b[0m\u001b[1;33m(\u001b[0m\u001b[0mx_0\u001b[0m\u001b[1;33m,\u001b[0m \u001b[0my_0\u001b[0m\u001b[1;33m,\u001b[0m \u001b[1;34m'bo'\u001b[0m\u001b[1;33m)\u001b[0m\u001b[1;33m\u001b[0m\u001b[1;33m\u001b[0m\u001b[0m\n\u001b[0;32m      7\u001b[0m \u001b[0mplot\u001b[0m\u001b[1;33m(\u001b[0m\u001b[0mx_1\u001b[0m\u001b[1;33m,\u001b[0m \u001b[0my_1\u001b[0m\u001b[1;33m,\u001b[0m \u001b[1;34m'go'\u001b[0m\u001b[1;33m)\u001b[0m\u001b[1;33m\u001b[0m\u001b[1;33m\u001b[0m\u001b[0m\n",
      "\u001b[1;31mAttributeError\u001b[0m: 'function' object has no attribute 'grid'"
     ]
    }
   ],
   "source": [
    "from matplotlib.pyplot import plot\n",
    "type_0,type_1 = split(swarm)\n",
    "x_0,y_0 = np.array(positions(type_0))\n",
    "x_1,y_1 = np.array(positions(type_1))\n",
    "plot.grid()\n",
    "plot(x_0, y_0, 'bo')\n",
    "plot(x_1, y_1, 'go')"
   ]
  },
  {
   "cell_type": "code",
   "execution_count": 176,
   "metadata": {},
   "outputs": [
    {
     "data": {
      "application/vnd.plotly.v1+json": {
       "config": {
        "plotlyServerURL": "https://plot.ly"
       },
       "data": [
        {
         "marker": {
          "color": "red",
          "line": {
           "width": 1
          },
          "opacity": 1,
          "size": 8,
          "symbol": "circle"
         },
         "mode": "markers",
         "showlegend": false,
         "type": "scatter",
         "x": [
          10.62751141440957,
          68.55113057931085,
          -7.920585855412574,
          -94.46340191710627,
          13.71103898169605,
          -18.748764310304875,
          28.735567310473634,
          -37.91285518557995,
          10.504895131210084,
          32.98409185256434,
          -53.99415764467936,
          -81.84934887560189,
          56.32793085808488,
          -63.00488369791947,
          -78.31899338586688,
          25.312725112077466,
          20.120739466287286,
          22.92281445279817,
          -0.07816007464156344,
          -32.70922387933288,
          60.899094378331284,
          45.00420005540239,
          -38.85147298647097,
          -36.59090594644544,
          -12.37836535450812,
          31.546313669438256,
          -41.636403798687674,
          92.8273691748927,
          58.02755719439551,
          -0.9538908557781605,
          -19.030722485352314,
          83.79433597040023,
          50.73178834076286,
          0.30964181620735465,
          30.067621368650684,
          -1.7858022856467817,
          -62.945420588351254,
          37.026944360454046,
          -9.66577131032463,
          -6.670616244719481,
          -50.864698600538716,
          80.09727451064396,
          31.00578581635763,
          -20.696875413875844,
          -33.610359668250666,
          -37.13998567996953,
          -68.77541641038206,
          11.708184874259322,
          28.93874131816421,
          -28.53736559101167
         ],
         "y": [
          -37.47059315922161,
          3.7562702144750415,
          51.456848750305376,
          7.456960832965365,
          -11.611355964453516,
          -45.960087087182956,
          84.84366503021985,
          48.15277545165853,
          -33.648803189416896,
          45.75512603264785,
          -44.339548940763876,
          -27.091025379624554,
          16.151290263228915,
          -11.204462988122142,
          -66.93512747818662,
          -47.990895148583704,
          62.37183191374969,
          24.598797119491234,
          58.57428188943106,
          -20.377024926109176,
          38.20986859273866,
          -37.8327009807615,
          -19.83405123275086,
          14.867197836042346,
          -39.47498467434153,
          -4.822751372129808,
          -76.4108885398064,
          16.66081220491915,
          71.59167362014087,
          -0.476835596800939,
          -54.073297150419755,
          45.871138548887885,
          -25.1598453049615,
          21.0098214072396,
          42.390161415507315,
          -73.62220420239399,
          11.651786414263832,
          11.860696216262554,
          31.402557043167832,
          -1.632154168977797,
          -42.84208544028829,
          -18.97514857056452,
          -6.4730444135589815,
          -7.162491367712045,
          15.89922255014086,
          53.27123639554149,
          41.00270924396463,
          21.29305467643055,
          -68.46322817979522,
          80.36980123109878
         ]
        },
        {
         "marker": {
          "color": "blue",
          "line": {
           "width": 1
          },
          "opacity": 1,
          "size": 8,
          "symbol": "circle"
         },
         "mode": "markers",
         "showlegend": false,
         "type": "scatter",
         "x": [
          -52.45875739812651,
          -30.81613744389991,
          -44.4105600008581,
          -4.058357893974842,
          43.19005471175672,
          65.81150672763937,
          52.071055944225584,
          -85.94236741807269,
          46.794182939255876,
          -42.915986297465935,
          -85.59648712951986,
          86.66227759692282,
          -13.305587548492657,
          -78.51793958009522,
          -27.38363792902269,
          6.565816773419646,
          -36.176604059411446,
          -20.813854434587263,
          -15.695067120730261,
          -14.949014066700702,
          18.337302711517843,
          -1.0370879573504161,
          -56.33606922891316,
          38.93773513247034,
          10.478586523370769,
          -33.26861232382831,
          9.691285342797404,
          11.665657168474468,
          76.02410454278974,
          -63.891565260217064,
          0.5690233425281965,
          40.320002289710544,
          13.396068585896224,
          9.706159775845665,
          -34.42087516037765,
          17.523997578473566,
          -25.25855580111447,
          15.735340045034198,
          -54.549989737353926,
          -100.83123205765276,
          -10.718856528729066,
          -18.667171691569337,
          -80.70826548707305,
          28.285182763142842,
          -52.4588741455469,
          -52.26162846206534,
          42.272183045434645,
          28.822561937867505,
          -58.33607401251634,
          56.16871329647152
         ],
         "y": [
          -93.09340705015194,
          -0.3667810245972211,
          0.8558172834695887,
          -21.29432026150544,
          -55.21750086147878,
          -33.46462896381628,
          -4.7428375870454715,
          38.590428860499074,
          33.60953093152316,
          -2.4641778816103423,
          -47.391295979698,
          -3.9629303200808943,
          12.860504994247695,
          10.260851099384746,
          34.35804970090212,
          -51.34964680943139,
          -58.286356697157956,
          -72.6974946653519,
          11.258342264689926,
          -90.7040538960736,
          -83.46246133887756,
          -20.58891521745157,
          -64.33307870757872,
          61.085795415584556,
          3.4341484263891875,
          -36.69899639076487,
          78.29707383910305,
          41.91541861940735,
          24.62953025197117,
          -29.005901055756212,
          -55.04343754725858,
          22.664915212880253,
          41.6613371840933,
          38.576393479255515,
          -34.27409862107025,
          6.951810686990919,
          46.315845342397324,
          3.308252667587473,
          27.14554102582413,
          -15.183330409832003,
          -18.202788932869332,
          67.81078675308072,
          -4.67942874984557,
          -30.279571239902268,
          33.087006019155595,
          64.03673342658345,
          29.12340716514587,
          -26.75051013688386,
          -29.70115069440248,
          -3.0243589634652963
         ]
        },
        {
         "autobinx": false,
         "autobiny": false,
         "colorscale": [
          [
           0,
           "white"
          ],
          [
           1,
           "black"
          ]
         ],
         "opacity": 0.4,
         "showscale": false,
         "type": "histogram2d",
         "x": [
          10.62751141440957,
          68.55113057931085,
          -7.920585855412574,
          -94.46340191710627,
          13.71103898169605,
          -18.748764310304875,
          28.735567310473634,
          -37.91285518557995,
          10.504895131210084,
          32.98409185256434,
          -53.99415764467936,
          -81.84934887560189,
          56.32793085808488,
          -63.00488369791947,
          -78.31899338586688,
          25.312725112077466,
          20.120739466287286,
          22.92281445279817,
          -0.07816007464156344,
          -32.70922387933288,
          60.899094378331284,
          45.00420005540239,
          -38.85147298647097,
          -36.59090594644544,
          -12.37836535450812,
          31.546313669438256,
          -41.636403798687674,
          92.8273691748927,
          58.02755719439551,
          -0.9538908557781605,
          -19.030722485352314,
          83.79433597040023,
          50.73178834076286,
          0.30964181620735465,
          30.067621368650684,
          -1.7858022856467817,
          -62.945420588351254,
          37.026944360454046,
          -9.66577131032463,
          -6.670616244719481,
          -50.864698600538716,
          80.09727451064396,
          31.00578581635763,
          -20.696875413875844,
          -33.610359668250666,
          -37.13998567996953,
          -68.77541641038206,
          11.708184874259322,
          28.93874131816421,
          -28.53736559101167,
          -52.45875739812651,
          -30.81613744389991,
          -44.4105600008581,
          -4.058357893974842,
          43.19005471175672,
          65.81150672763937,
          52.071055944225584,
          -85.94236741807269,
          46.794182939255876,
          -42.915986297465935,
          -85.59648712951986,
          86.66227759692282,
          -13.305587548492657,
          -78.51793958009522,
          -27.38363792902269,
          6.565816773419646,
          -36.176604059411446,
          -20.813854434587263,
          -15.695067120730261,
          -14.949014066700702,
          18.337302711517843,
          -1.0370879573504161,
          -56.33606922891316,
          38.93773513247034,
          10.478586523370769,
          -33.26861232382831,
          9.691285342797404,
          11.665657168474468,
          76.02410454278974,
          -63.891565260217064,
          0.5690233425281965,
          40.320002289710544,
          13.396068585896224,
          9.706159775845665,
          -34.42087516037765,
          17.523997578473566,
          -25.25855580111447,
          15.735340045034198,
          -54.549989737353926,
          -100.83123205765276,
          -10.718856528729066,
          -18.667171691569337,
          -80.70826548707305,
          28.285182763142842,
          -52.4588741455469,
          -52.26162846206534,
          42.272183045434645,
          28.822561937867505,
          -58.33607401251634,
          56.16871329647152
         ],
         "xbins": {
          "end": 200,
          "size": 20,
          "start": -200
         },
         "y": [
          -37.47059315922161,
          3.7562702144750415,
          51.456848750305376,
          7.456960832965365,
          -11.611355964453516,
          -45.960087087182956,
          84.84366503021985,
          48.15277545165853,
          -33.648803189416896,
          45.75512603264785,
          -44.339548940763876,
          -27.091025379624554,
          16.151290263228915,
          -11.204462988122142,
          -66.93512747818662,
          -47.990895148583704,
          62.37183191374969,
          24.598797119491234,
          58.57428188943106,
          -20.377024926109176,
          38.20986859273866,
          -37.8327009807615,
          -19.83405123275086,
          14.867197836042346,
          -39.47498467434153,
          -4.822751372129808,
          -76.4108885398064,
          16.66081220491915,
          71.59167362014087,
          -0.476835596800939,
          -54.073297150419755,
          45.871138548887885,
          -25.1598453049615,
          21.0098214072396,
          42.390161415507315,
          -73.62220420239399,
          11.651786414263832,
          11.860696216262554,
          31.402557043167832,
          -1.632154168977797,
          -42.84208544028829,
          -18.97514857056452,
          -6.4730444135589815,
          -7.162491367712045,
          15.89922255014086,
          53.27123639554149,
          41.00270924396463,
          21.29305467643055,
          -68.46322817979522,
          80.36980123109878,
          -93.09340705015194,
          -0.3667810245972211,
          0.8558172834695887,
          -21.29432026150544,
          -55.21750086147878,
          -33.46462896381628,
          -4.7428375870454715,
          38.590428860499074,
          33.60953093152316,
          -2.4641778816103423,
          -47.391295979698,
          -3.9629303200808943,
          12.860504994247695,
          10.260851099384746,
          34.35804970090212,
          -51.34964680943139,
          -58.286356697157956,
          -72.6974946653519,
          11.258342264689926,
          -90.7040538960736,
          -83.46246133887756,
          -20.58891521745157,
          -64.33307870757872,
          61.085795415584556,
          3.4341484263891875,
          -36.69899639076487,
          78.29707383910305,
          41.91541861940735,
          24.62953025197117,
          -29.005901055756212,
          -55.04343754725858,
          22.664915212880253,
          41.6613371840933,
          38.576393479255515,
          -34.27409862107025,
          6.951810686990919,
          46.315845342397324,
          3.308252667587473,
          27.14554102582413,
          -15.183330409832003,
          -18.202788932869332,
          67.81078675308072,
          -4.67942874984557,
          -30.279571239902268,
          33.087006019155595,
          64.03673342658345,
          29.12340716514587,
          -26.75051013688386,
          -29.70115069440248,
          -3.0243589634652963
         ],
         "ybins": {
          "end": 200,
          "size": 20,
          "start": -200
         },
         "zauto": false,
         "zmax": 1
        }
       ],
       "layout": {
        "template": {
         "data": {
          "bar": [
           {
            "error_x": {
             "color": "#2a3f5f"
            },
            "error_y": {
             "color": "#2a3f5f"
            },
            "marker": {
             "line": {
              "color": "#E5ECF6",
              "width": 0.5
             }
            },
            "type": "bar"
           }
          ],
          "barpolar": [
           {
            "marker": {
             "line": {
              "color": "#E5ECF6",
              "width": 0.5
             }
            },
            "type": "barpolar"
           }
          ],
          "carpet": [
           {
            "aaxis": {
             "endlinecolor": "#2a3f5f",
             "gridcolor": "white",
             "linecolor": "white",
             "minorgridcolor": "white",
             "startlinecolor": "#2a3f5f"
            },
            "baxis": {
             "endlinecolor": "#2a3f5f",
             "gridcolor": "white",
             "linecolor": "white",
             "minorgridcolor": "white",
             "startlinecolor": "#2a3f5f"
            },
            "type": "carpet"
           }
          ],
          "choropleth": [
           {
            "colorbar": {
             "outlinewidth": 0,
             "ticks": ""
            },
            "type": "choropleth"
           }
          ],
          "contour": [
           {
            "colorbar": {
             "outlinewidth": 0,
             "ticks": ""
            },
            "colorscale": [
             [
              0,
              "#0d0887"
             ],
             [
              0.1111111111111111,
              "#46039f"
             ],
             [
              0.2222222222222222,
              "#7201a8"
             ],
             [
              0.3333333333333333,
              "#9c179e"
             ],
             [
              0.4444444444444444,
              "#bd3786"
             ],
             [
              0.5555555555555556,
              "#d8576b"
             ],
             [
              0.6666666666666666,
              "#ed7953"
             ],
             [
              0.7777777777777778,
              "#fb9f3a"
             ],
             [
              0.8888888888888888,
              "#fdca26"
             ],
             [
              1,
              "#f0f921"
             ]
            ],
            "type": "contour"
           }
          ],
          "contourcarpet": [
           {
            "colorbar": {
             "outlinewidth": 0,
             "ticks": ""
            },
            "type": "contourcarpet"
           }
          ],
          "heatmap": [
           {
            "colorbar": {
             "outlinewidth": 0,
             "ticks": ""
            },
            "colorscale": [
             [
              0,
              "#0d0887"
             ],
             [
              0.1111111111111111,
              "#46039f"
             ],
             [
              0.2222222222222222,
              "#7201a8"
             ],
             [
              0.3333333333333333,
              "#9c179e"
             ],
             [
              0.4444444444444444,
              "#bd3786"
             ],
             [
              0.5555555555555556,
              "#d8576b"
             ],
             [
              0.6666666666666666,
              "#ed7953"
             ],
             [
              0.7777777777777778,
              "#fb9f3a"
             ],
             [
              0.8888888888888888,
              "#fdca26"
             ],
             [
              1,
              "#f0f921"
             ]
            ],
            "type": "heatmap"
           }
          ],
          "heatmapgl": [
           {
            "colorbar": {
             "outlinewidth": 0,
             "ticks": ""
            },
            "colorscale": [
             [
              0,
              "#0d0887"
             ],
             [
              0.1111111111111111,
              "#46039f"
             ],
             [
              0.2222222222222222,
              "#7201a8"
             ],
             [
              0.3333333333333333,
              "#9c179e"
             ],
             [
              0.4444444444444444,
              "#bd3786"
             ],
             [
              0.5555555555555556,
              "#d8576b"
             ],
             [
              0.6666666666666666,
              "#ed7953"
             ],
             [
              0.7777777777777778,
              "#fb9f3a"
             ],
             [
              0.8888888888888888,
              "#fdca26"
             ],
             [
              1,
              "#f0f921"
             ]
            ],
            "type": "heatmapgl"
           }
          ],
          "histogram": [
           {
            "marker": {
             "colorbar": {
              "outlinewidth": 0,
              "ticks": ""
             }
            },
            "type": "histogram"
           }
          ],
          "histogram2d": [
           {
            "colorbar": {
             "outlinewidth": 0,
             "ticks": ""
            },
            "colorscale": [
             [
              0,
              "#0d0887"
             ],
             [
              0.1111111111111111,
              "#46039f"
             ],
             [
              0.2222222222222222,
              "#7201a8"
             ],
             [
              0.3333333333333333,
              "#9c179e"
             ],
             [
              0.4444444444444444,
              "#bd3786"
             ],
             [
              0.5555555555555556,
              "#d8576b"
             ],
             [
              0.6666666666666666,
              "#ed7953"
             ],
             [
              0.7777777777777778,
              "#fb9f3a"
             ],
             [
              0.8888888888888888,
              "#fdca26"
             ],
             [
              1,
              "#f0f921"
             ]
            ],
            "type": "histogram2d"
           }
          ],
          "histogram2dcontour": [
           {
            "colorbar": {
             "outlinewidth": 0,
             "ticks": ""
            },
            "colorscale": [
             [
              0,
              "#0d0887"
             ],
             [
              0.1111111111111111,
              "#46039f"
             ],
             [
              0.2222222222222222,
              "#7201a8"
             ],
             [
              0.3333333333333333,
              "#9c179e"
             ],
             [
              0.4444444444444444,
              "#bd3786"
             ],
             [
              0.5555555555555556,
              "#d8576b"
             ],
             [
              0.6666666666666666,
              "#ed7953"
             ],
             [
              0.7777777777777778,
              "#fb9f3a"
             ],
             [
              0.8888888888888888,
              "#fdca26"
             ],
             [
              1,
              "#f0f921"
             ]
            ],
            "type": "histogram2dcontour"
           }
          ],
          "mesh3d": [
           {
            "colorbar": {
             "outlinewidth": 0,
             "ticks": ""
            },
            "type": "mesh3d"
           }
          ],
          "parcoords": [
           {
            "line": {
             "colorbar": {
              "outlinewidth": 0,
              "ticks": ""
             }
            },
            "type": "parcoords"
           }
          ],
          "pie": [
           {
            "automargin": true,
            "type": "pie"
           }
          ],
          "scatter": [
           {
            "marker": {
             "colorbar": {
              "outlinewidth": 0,
              "ticks": ""
             }
            },
            "type": "scatter"
           }
          ],
          "scatter3d": [
           {
            "line": {
             "colorbar": {
              "outlinewidth": 0,
              "ticks": ""
             }
            },
            "marker": {
             "colorbar": {
              "outlinewidth": 0,
              "ticks": ""
             }
            },
            "type": "scatter3d"
           }
          ],
          "scattercarpet": [
           {
            "marker": {
             "colorbar": {
              "outlinewidth": 0,
              "ticks": ""
             }
            },
            "type": "scattercarpet"
           }
          ],
          "scattergeo": [
           {
            "marker": {
             "colorbar": {
              "outlinewidth": 0,
              "ticks": ""
             }
            },
            "type": "scattergeo"
           }
          ],
          "scattergl": [
           {
            "marker": {
             "colorbar": {
              "outlinewidth": 0,
              "ticks": ""
             }
            },
            "type": "scattergl"
           }
          ],
          "scattermapbox": [
           {
            "marker": {
             "colorbar": {
              "outlinewidth": 0,
              "ticks": ""
             }
            },
            "type": "scattermapbox"
           }
          ],
          "scatterpolar": [
           {
            "marker": {
             "colorbar": {
              "outlinewidth": 0,
              "ticks": ""
             }
            },
            "type": "scatterpolar"
           }
          ],
          "scatterpolargl": [
           {
            "marker": {
             "colorbar": {
              "outlinewidth": 0,
              "ticks": ""
             }
            },
            "type": "scatterpolargl"
           }
          ],
          "scatterternary": [
           {
            "marker": {
             "colorbar": {
              "outlinewidth": 0,
              "ticks": ""
             }
            },
            "type": "scatterternary"
           }
          ],
          "surface": [
           {
            "colorbar": {
             "outlinewidth": 0,
             "ticks": ""
            },
            "colorscale": [
             [
              0,
              "#0d0887"
             ],
             [
              0.1111111111111111,
              "#46039f"
             ],
             [
              0.2222222222222222,
              "#7201a8"
             ],
             [
              0.3333333333333333,
              "#9c179e"
             ],
             [
              0.4444444444444444,
              "#bd3786"
             ],
             [
              0.5555555555555556,
              "#d8576b"
             ],
             [
              0.6666666666666666,
              "#ed7953"
             ],
             [
              0.7777777777777778,
              "#fb9f3a"
             ],
             [
              0.8888888888888888,
              "#fdca26"
             ],
             [
              1,
              "#f0f921"
             ]
            ],
            "type": "surface"
           }
          ],
          "table": [
           {
            "cells": {
             "fill": {
              "color": "#EBF0F8"
             },
             "line": {
              "color": "white"
             }
            },
            "header": {
             "fill": {
              "color": "#C8D4E3"
             },
             "line": {
              "color": "white"
             }
            },
            "type": "table"
           }
          ]
         },
         "layout": {
          "annotationdefaults": {
           "arrowcolor": "#2a3f5f",
           "arrowhead": 0,
           "arrowwidth": 1
          },
          "coloraxis": {
           "colorbar": {
            "outlinewidth": 0,
            "ticks": ""
           }
          },
          "colorscale": {
           "diverging": [
            [
             0,
             "#8e0152"
            ],
            [
             0.1,
             "#c51b7d"
            ],
            [
             0.2,
             "#de77ae"
            ],
            [
             0.3,
             "#f1b6da"
            ],
            [
             0.4,
             "#fde0ef"
            ],
            [
             0.5,
             "#f7f7f7"
            ],
            [
             0.6,
             "#e6f5d0"
            ],
            [
             0.7,
             "#b8e186"
            ],
            [
             0.8,
             "#7fbc41"
            ],
            [
             0.9,
             "#4d9221"
            ],
            [
             1,
             "#276419"
            ]
           ],
           "sequential": [
            [
             0,
             "#0d0887"
            ],
            [
             0.1111111111111111,
             "#46039f"
            ],
            [
             0.2222222222222222,
             "#7201a8"
            ],
            [
             0.3333333333333333,
             "#9c179e"
            ],
            [
             0.4444444444444444,
             "#bd3786"
            ],
            [
             0.5555555555555556,
             "#d8576b"
            ],
            [
             0.6666666666666666,
             "#ed7953"
            ],
            [
             0.7777777777777778,
             "#fb9f3a"
            ],
            [
             0.8888888888888888,
             "#fdca26"
            ],
            [
             1,
             "#f0f921"
            ]
           ],
           "sequentialminus": [
            [
             0,
             "#0d0887"
            ],
            [
             0.1111111111111111,
             "#46039f"
            ],
            [
             0.2222222222222222,
             "#7201a8"
            ],
            [
             0.3333333333333333,
             "#9c179e"
            ],
            [
             0.4444444444444444,
             "#bd3786"
            ],
            [
             0.5555555555555556,
             "#d8576b"
            ],
            [
             0.6666666666666666,
             "#ed7953"
            ],
            [
             0.7777777777777778,
             "#fb9f3a"
            ],
            [
             0.8888888888888888,
             "#fdca26"
            ],
            [
             1,
             "#f0f921"
            ]
           ]
          },
          "colorway": [
           "#636efa",
           "#EF553B",
           "#00cc96",
           "#ab63fa",
           "#FFA15A",
           "#19d3f3",
           "#FF6692",
           "#B6E880",
           "#FF97FF",
           "#FECB52"
          ],
          "font": {
           "color": "#2a3f5f"
          },
          "geo": {
           "bgcolor": "white",
           "lakecolor": "white",
           "landcolor": "#E5ECF6",
           "showlakes": true,
           "showland": true,
           "subunitcolor": "white"
          },
          "hoverlabel": {
           "align": "left"
          },
          "hovermode": "closest",
          "mapbox": {
           "style": "light"
          },
          "paper_bgcolor": "white",
          "plot_bgcolor": "#E5ECF6",
          "polar": {
           "angularaxis": {
            "gridcolor": "white",
            "linecolor": "white",
            "ticks": ""
           },
           "bgcolor": "#E5ECF6",
           "radialaxis": {
            "gridcolor": "white",
            "linecolor": "white",
            "ticks": ""
           }
          },
          "scene": {
           "xaxis": {
            "backgroundcolor": "#E5ECF6",
            "gridcolor": "white",
            "gridwidth": 2,
            "linecolor": "white",
            "showbackground": true,
            "ticks": "",
            "zerolinecolor": "white"
           },
           "yaxis": {
            "backgroundcolor": "#E5ECF6",
            "gridcolor": "white",
            "gridwidth": 2,
            "linecolor": "white",
            "showbackground": true,
            "ticks": "",
            "zerolinecolor": "white"
           },
           "zaxis": {
            "backgroundcolor": "#E5ECF6",
            "gridcolor": "white",
            "gridwidth": 2,
            "linecolor": "white",
            "showbackground": true,
            "ticks": "",
            "zerolinecolor": "white"
           }
          },
          "shapedefaults": {
           "line": {
            "color": "#2a3f5f"
           }
          },
          "ternary": {
           "aaxis": {
            "gridcolor": "white",
            "linecolor": "white",
            "ticks": ""
           },
           "baxis": {
            "gridcolor": "white",
            "linecolor": "white",
            "ticks": ""
           },
           "bgcolor": "#E5ECF6",
           "caxis": {
            "gridcolor": "white",
            "linecolor": "white",
            "ticks": ""
           }
          },
          "title": {
           "x": 0.05
          },
          "xaxis": {
           "automargin": true,
           "gridcolor": "white",
           "linecolor": "white",
           "ticks": "",
           "title": {
            "standoff": 15
           },
           "zerolinecolor": "white",
           "zerolinewidth": 2
          },
          "yaxis": {
           "automargin": true,
           "gridcolor": "white",
           "linecolor": "white",
           "ticks": "",
           "title": {
            "standoff": 15
           },
           "zerolinecolor": "white",
           "zerolinewidth": 2
          }
         }
        },
        "xaxis": {
         "dtick": 20,
         "gridcolor": "black",
         "gridwidth": 1,
         "linecolor": "black",
         "linewidth": 2,
         "mirror": true,
         "showgrid": true,
         "showline": true,
         "tick0": 0,
         "tickmode": "linear",
         "zeroline": false
        },
        "yaxis": {
         "dtick": 20,
         "gridcolor": "black",
         "gridwidth": 1,
         "linecolor": "black",
         "linewidth": 2,
         "mirror": true,
         "showgrid": true,
         "showline": true,
         "tick0": 0,
         "tickmode": "linear",
         "zeroline": false
        }
       }
      },
      "text/html": [
       "<div>                            <div id=\"1a980823-62f7-401e-b007-3ca6c74ee205\" class=\"plotly-graph-div\" style=\"height:525px; width:100%;\"></div>            <script type=\"text/javascript\">                require([\"plotly\"], function(Plotly) {                    window.PLOTLYENV=window.PLOTLYENV || {};                                    if (document.getElementById(\"1a980823-62f7-401e-b007-3ca6c74ee205\")) {                    Plotly.newPlot(                        \"1a980823-62f7-401e-b007-3ca6c74ee205\",                        [{\"marker\": {\"color\": \"red\", \"line\": {\"width\": 1}, \"opacity\": 1, \"size\": 8, \"symbol\": \"circle\"}, \"mode\": \"markers\", \"showlegend\": false, \"type\": \"scatter\", \"x\": [10.62751141440957, 68.55113057931085, -7.920585855412574, -94.46340191710627, 13.71103898169605, -18.748764310304875, 28.735567310473634, -37.91285518557995, 10.504895131210084, 32.98409185256434, -53.99415764467936, -81.84934887560189, 56.32793085808488, -63.00488369791947, -78.31899338586688, 25.312725112077466, 20.120739466287286, 22.92281445279817, -0.07816007464156344, -32.70922387933288, 60.899094378331284, 45.00420005540239, -38.85147298647097, -36.59090594644544, -12.37836535450812, 31.546313669438256, -41.636403798687674, 92.8273691748927, 58.02755719439551, -0.9538908557781605, -19.030722485352314, 83.79433597040023, 50.73178834076286, 0.30964181620735465, 30.067621368650684, -1.7858022856467817, -62.945420588351254, 37.026944360454046, -9.66577131032463, -6.670616244719481, -50.864698600538716, 80.09727451064396, 31.00578581635763, -20.696875413875844, -33.610359668250666, -37.13998567996953, -68.77541641038206, 11.708184874259322, 28.93874131816421, -28.53736559101167], \"y\": [-37.47059315922161, 3.7562702144750415, 51.456848750305376, 7.456960832965365, -11.611355964453516, -45.960087087182956, 84.84366503021985, 48.15277545165853, -33.648803189416896, 45.75512603264785, -44.339548940763876, -27.091025379624554, 16.151290263228915, -11.204462988122142, -66.93512747818662, -47.990895148583704, 62.37183191374969, 24.598797119491234, 58.57428188943106, -20.377024926109176, 38.20986859273866, -37.8327009807615, -19.83405123275086, 14.867197836042346, -39.47498467434153, -4.822751372129808, -76.4108885398064, 16.66081220491915, 71.59167362014087, -0.476835596800939, -54.073297150419755, 45.871138548887885, -25.1598453049615, 21.0098214072396, 42.390161415507315, -73.62220420239399, 11.651786414263832, 11.860696216262554, 31.402557043167832, -1.632154168977797, -42.84208544028829, -18.97514857056452, -6.4730444135589815, -7.162491367712045, 15.89922255014086, 53.27123639554149, 41.00270924396463, 21.29305467643055, -68.46322817979522, 80.36980123109878]}, {\"marker\": {\"color\": \"blue\", \"line\": {\"width\": 1}, \"opacity\": 1, \"size\": 8, \"symbol\": \"circle\"}, \"mode\": \"markers\", \"showlegend\": false, \"type\": \"scatter\", \"x\": [-52.45875739812651, -30.81613744389991, -44.4105600008581, -4.058357893974842, 43.19005471175672, 65.81150672763937, 52.071055944225584, -85.94236741807269, 46.794182939255876, -42.915986297465935, -85.59648712951986, 86.66227759692282, -13.305587548492657, -78.51793958009522, -27.38363792902269, 6.565816773419646, -36.176604059411446, -20.813854434587263, -15.695067120730261, -14.949014066700702, 18.337302711517843, -1.0370879573504161, -56.33606922891316, 38.93773513247034, 10.478586523370769, -33.26861232382831, 9.691285342797404, 11.665657168474468, 76.02410454278974, -63.891565260217064, 0.5690233425281965, 40.320002289710544, 13.396068585896224, 9.706159775845665, -34.42087516037765, 17.523997578473566, -25.25855580111447, 15.735340045034198, -54.549989737353926, -100.83123205765276, -10.718856528729066, -18.667171691569337, -80.70826548707305, 28.285182763142842, -52.4588741455469, -52.26162846206534, 42.272183045434645, 28.822561937867505, -58.33607401251634, 56.16871329647152], \"y\": [-93.09340705015194, -0.3667810245972211, 0.8558172834695887, -21.29432026150544, -55.21750086147878, -33.46462896381628, -4.7428375870454715, 38.590428860499074, 33.60953093152316, -2.4641778816103423, -47.391295979698, -3.9629303200808943, 12.860504994247695, 10.260851099384746, 34.35804970090212, -51.34964680943139, -58.286356697157956, -72.6974946653519, 11.258342264689926, -90.7040538960736, -83.46246133887756, -20.58891521745157, -64.33307870757872, 61.085795415584556, 3.4341484263891875, -36.69899639076487, 78.29707383910305, 41.91541861940735, 24.62953025197117, -29.005901055756212, -55.04343754725858, 22.664915212880253, 41.6613371840933, 38.576393479255515, -34.27409862107025, 6.951810686990919, 46.315845342397324, 3.308252667587473, 27.14554102582413, -15.183330409832003, -18.202788932869332, 67.81078675308072, -4.67942874984557, -30.279571239902268, 33.087006019155595, 64.03673342658345, 29.12340716514587, -26.75051013688386, -29.70115069440248, -3.0243589634652963]}, {\"autobinx\": false, \"autobiny\": false, \"colorscale\": [[0.0, \"white\"], [1.0, \"black\"]], \"opacity\": 0.4, \"showscale\": false, \"type\": \"histogram2d\", \"x\": [10.62751141440957, 68.55113057931085, -7.920585855412574, -94.46340191710627, 13.71103898169605, -18.748764310304875, 28.735567310473634, -37.91285518557995, 10.504895131210084, 32.98409185256434, -53.99415764467936, -81.84934887560189, 56.32793085808488, -63.00488369791947, -78.31899338586688, 25.312725112077466, 20.120739466287286, 22.92281445279817, -0.07816007464156344, -32.70922387933288, 60.899094378331284, 45.00420005540239, -38.85147298647097, -36.59090594644544, -12.37836535450812, 31.546313669438256, -41.636403798687674, 92.8273691748927, 58.02755719439551, -0.9538908557781605, -19.030722485352314, 83.79433597040023, 50.73178834076286, 0.30964181620735465, 30.067621368650684, -1.7858022856467817, -62.945420588351254, 37.026944360454046, -9.66577131032463, -6.670616244719481, -50.864698600538716, 80.09727451064396, 31.00578581635763, -20.696875413875844, -33.610359668250666, -37.13998567996953, -68.77541641038206, 11.708184874259322, 28.93874131816421, -28.53736559101167, -52.45875739812651, -30.81613744389991, -44.4105600008581, -4.058357893974842, 43.19005471175672, 65.81150672763937, 52.071055944225584, -85.94236741807269, 46.794182939255876, -42.915986297465935, -85.59648712951986, 86.66227759692282, -13.305587548492657, -78.51793958009522, -27.38363792902269, 6.565816773419646, -36.176604059411446, -20.813854434587263, -15.695067120730261, -14.949014066700702, 18.337302711517843, -1.0370879573504161, -56.33606922891316, 38.93773513247034, 10.478586523370769, -33.26861232382831, 9.691285342797404, 11.665657168474468, 76.02410454278974, -63.891565260217064, 0.5690233425281965, 40.320002289710544, 13.396068585896224, 9.706159775845665, -34.42087516037765, 17.523997578473566, -25.25855580111447, 15.735340045034198, -54.549989737353926, -100.83123205765276, -10.718856528729066, -18.667171691569337, -80.70826548707305, 28.285182763142842, -52.4588741455469, -52.26162846206534, 42.272183045434645, 28.822561937867505, -58.33607401251634, 56.16871329647152], \"xbins\": {\"end\": 200, \"size\": 20, \"start\": -200}, \"y\": [-37.47059315922161, 3.7562702144750415, 51.456848750305376, 7.456960832965365, -11.611355964453516, -45.960087087182956, 84.84366503021985, 48.15277545165853, -33.648803189416896, 45.75512603264785, -44.339548940763876, -27.091025379624554, 16.151290263228915, -11.204462988122142, -66.93512747818662, -47.990895148583704, 62.37183191374969, 24.598797119491234, 58.57428188943106, -20.377024926109176, 38.20986859273866, -37.8327009807615, -19.83405123275086, 14.867197836042346, -39.47498467434153, -4.822751372129808, -76.4108885398064, 16.66081220491915, 71.59167362014087, -0.476835596800939, -54.073297150419755, 45.871138548887885, -25.1598453049615, 21.0098214072396, 42.390161415507315, -73.62220420239399, 11.651786414263832, 11.860696216262554, 31.402557043167832, -1.632154168977797, -42.84208544028829, -18.97514857056452, -6.4730444135589815, -7.162491367712045, 15.89922255014086, 53.27123639554149, 41.00270924396463, 21.29305467643055, -68.46322817979522, 80.36980123109878, -93.09340705015194, -0.3667810245972211, 0.8558172834695887, -21.29432026150544, -55.21750086147878, -33.46462896381628, -4.7428375870454715, 38.590428860499074, 33.60953093152316, -2.4641778816103423, -47.391295979698, -3.9629303200808943, 12.860504994247695, 10.260851099384746, 34.35804970090212, -51.34964680943139, -58.286356697157956, -72.6974946653519, 11.258342264689926, -90.7040538960736, -83.46246133887756, -20.58891521745157, -64.33307870757872, 61.085795415584556, 3.4341484263891875, -36.69899639076487, 78.29707383910305, 41.91541861940735, 24.62953025197117, -29.005901055756212, -55.04343754725858, 22.664915212880253, 41.6613371840933, 38.576393479255515, -34.27409862107025, 6.951810686990919, 46.315845342397324, 3.308252667587473, 27.14554102582413, -15.183330409832003, -18.202788932869332, 67.81078675308072, -4.67942874984557, -30.279571239902268, 33.087006019155595, 64.03673342658345, 29.12340716514587, -26.75051013688386, -29.70115069440248, -3.0243589634652963], \"ybins\": {\"end\": 200, \"size\": 20, \"start\": -200}, \"zauto\": false, \"zmax\": 1}],                        {\"template\": {\"data\": {\"bar\": [{\"error_x\": {\"color\": \"#2a3f5f\"}, \"error_y\": {\"color\": \"#2a3f5f\"}, \"marker\": {\"line\": {\"color\": \"#E5ECF6\", \"width\": 0.5}}, \"type\": \"bar\"}], \"barpolar\": [{\"marker\": {\"line\": {\"color\": \"#E5ECF6\", \"width\": 0.5}}, \"type\": \"barpolar\"}], \"carpet\": [{\"aaxis\": {\"endlinecolor\": \"#2a3f5f\", \"gridcolor\": \"white\", \"linecolor\": \"white\", \"minorgridcolor\": \"white\", \"startlinecolor\": \"#2a3f5f\"}, \"baxis\": {\"endlinecolor\": \"#2a3f5f\", \"gridcolor\": \"white\", \"linecolor\": \"white\", \"minorgridcolor\": \"white\", \"startlinecolor\": \"#2a3f5f\"}, \"type\": \"carpet\"}], \"choropleth\": [{\"colorbar\": {\"outlinewidth\": 0, \"ticks\": \"\"}, \"type\": \"choropleth\"}], \"contour\": [{\"colorbar\": {\"outlinewidth\": 0, \"ticks\": \"\"}, \"colorscale\": [[0.0, \"#0d0887\"], [0.1111111111111111, \"#46039f\"], [0.2222222222222222, \"#7201a8\"], [0.3333333333333333, \"#9c179e\"], [0.4444444444444444, \"#bd3786\"], [0.5555555555555556, \"#d8576b\"], [0.6666666666666666, \"#ed7953\"], [0.7777777777777778, \"#fb9f3a\"], [0.8888888888888888, \"#fdca26\"], [1.0, \"#f0f921\"]], \"type\": \"contour\"}], \"contourcarpet\": [{\"colorbar\": {\"outlinewidth\": 0, \"ticks\": \"\"}, \"type\": \"contourcarpet\"}], \"heatmap\": [{\"colorbar\": {\"outlinewidth\": 0, \"ticks\": \"\"}, \"colorscale\": [[0.0, \"#0d0887\"], [0.1111111111111111, \"#46039f\"], [0.2222222222222222, \"#7201a8\"], [0.3333333333333333, \"#9c179e\"], [0.4444444444444444, \"#bd3786\"], [0.5555555555555556, \"#d8576b\"], [0.6666666666666666, \"#ed7953\"], [0.7777777777777778, \"#fb9f3a\"], [0.8888888888888888, \"#fdca26\"], [1.0, \"#f0f921\"]], \"type\": \"heatmap\"}], \"heatmapgl\": [{\"colorbar\": {\"outlinewidth\": 0, \"ticks\": \"\"}, \"colorscale\": [[0.0, \"#0d0887\"], [0.1111111111111111, \"#46039f\"], [0.2222222222222222, \"#7201a8\"], [0.3333333333333333, \"#9c179e\"], [0.4444444444444444, \"#bd3786\"], [0.5555555555555556, \"#d8576b\"], [0.6666666666666666, \"#ed7953\"], [0.7777777777777778, \"#fb9f3a\"], [0.8888888888888888, \"#fdca26\"], [1.0, \"#f0f921\"]], \"type\": \"heatmapgl\"}], \"histogram\": [{\"marker\": {\"colorbar\": {\"outlinewidth\": 0, \"ticks\": \"\"}}, \"type\": \"histogram\"}], \"histogram2d\": [{\"colorbar\": {\"outlinewidth\": 0, \"ticks\": \"\"}, \"colorscale\": [[0.0, \"#0d0887\"], [0.1111111111111111, \"#46039f\"], [0.2222222222222222, \"#7201a8\"], [0.3333333333333333, \"#9c179e\"], [0.4444444444444444, \"#bd3786\"], [0.5555555555555556, \"#d8576b\"], [0.6666666666666666, \"#ed7953\"], [0.7777777777777778, \"#fb9f3a\"], [0.8888888888888888, \"#fdca26\"], [1.0, \"#f0f921\"]], \"type\": \"histogram2d\"}], \"histogram2dcontour\": [{\"colorbar\": {\"outlinewidth\": 0, \"ticks\": \"\"}, \"colorscale\": [[0.0, \"#0d0887\"], [0.1111111111111111, \"#46039f\"], [0.2222222222222222, \"#7201a8\"], [0.3333333333333333, \"#9c179e\"], [0.4444444444444444, \"#bd3786\"], [0.5555555555555556, \"#d8576b\"], [0.6666666666666666, \"#ed7953\"], [0.7777777777777778, \"#fb9f3a\"], [0.8888888888888888, \"#fdca26\"], [1.0, \"#f0f921\"]], \"type\": \"histogram2dcontour\"}], \"mesh3d\": [{\"colorbar\": {\"outlinewidth\": 0, \"ticks\": \"\"}, \"type\": \"mesh3d\"}], \"parcoords\": [{\"line\": {\"colorbar\": {\"outlinewidth\": 0, \"ticks\": \"\"}}, \"type\": \"parcoords\"}], \"pie\": [{\"automargin\": true, \"type\": \"pie\"}], \"scatter\": [{\"marker\": {\"colorbar\": {\"outlinewidth\": 0, \"ticks\": \"\"}}, \"type\": \"scatter\"}], \"scatter3d\": [{\"line\": {\"colorbar\": {\"outlinewidth\": 0, \"ticks\": \"\"}}, \"marker\": {\"colorbar\": {\"outlinewidth\": 0, \"ticks\": \"\"}}, \"type\": \"scatter3d\"}], \"scattercarpet\": [{\"marker\": {\"colorbar\": {\"outlinewidth\": 0, \"ticks\": \"\"}}, \"type\": \"scattercarpet\"}], \"scattergeo\": [{\"marker\": {\"colorbar\": {\"outlinewidth\": 0, \"ticks\": \"\"}}, \"type\": \"scattergeo\"}], \"scattergl\": [{\"marker\": {\"colorbar\": {\"outlinewidth\": 0, \"ticks\": \"\"}}, \"type\": \"scattergl\"}], \"scattermapbox\": [{\"marker\": {\"colorbar\": {\"outlinewidth\": 0, \"ticks\": \"\"}}, \"type\": \"scattermapbox\"}], \"scatterpolar\": [{\"marker\": {\"colorbar\": {\"outlinewidth\": 0, \"ticks\": \"\"}}, \"type\": \"scatterpolar\"}], \"scatterpolargl\": [{\"marker\": {\"colorbar\": {\"outlinewidth\": 0, \"ticks\": \"\"}}, \"type\": \"scatterpolargl\"}], \"scatterternary\": [{\"marker\": {\"colorbar\": {\"outlinewidth\": 0, \"ticks\": \"\"}}, \"type\": \"scatterternary\"}], \"surface\": [{\"colorbar\": {\"outlinewidth\": 0, \"ticks\": \"\"}, \"colorscale\": [[0.0, \"#0d0887\"], [0.1111111111111111, \"#46039f\"], [0.2222222222222222, \"#7201a8\"], [0.3333333333333333, \"#9c179e\"], [0.4444444444444444, \"#bd3786\"], [0.5555555555555556, \"#d8576b\"], [0.6666666666666666, \"#ed7953\"], [0.7777777777777778, \"#fb9f3a\"], [0.8888888888888888, \"#fdca26\"], [1.0, \"#f0f921\"]], \"type\": \"surface\"}], \"table\": [{\"cells\": {\"fill\": {\"color\": \"#EBF0F8\"}, \"line\": {\"color\": \"white\"}}, \"header\": {\"fill\": {\"color\": \"#C8D4E3\"}, \"line\": {\"color\": \"white\"}}, \"type\": \"table\"}]}, \"layout\": {\"annotationdefaults\": {\"arrowcolor\": \"#2a3f5f\", \"arrowhead\": 0, \"arrowwidth\": 1}, \"coloraxis\": {\"colorbar\": {\"outlinewidth\": 0, \"ticks\": \"\"}}, \"colorscale\": {\"diverging\": [[0, \"#8e0152\"], [0.1, \"#c51b7d\"], [0.2, \"#de77ae\"], [0.3, \"#f1b6da\"], [0.4, \"#fde0ef\"], [0.5, \"#f7f7f7\"], [0.6, \"#e6f5d0\"], [0.7, \"#b8e186\"], [0.8, \"#7fbc41\"], [0.9, \"#4d9221\"], [1, \"#276419\"]], \"sequential\": [[0.0, \"#0d0887\"], [0.1111111111111111, \"#46039f\"], [0.2222222222222222, \"#7201a8\"], [0.3333333333333333, \"#9c179e\"], [0.4444444444444444, \"#bd3786\"], [0.5555555555555556, \"#d8576b\"], [0.6666666666666666, \"#ed7953\"], [0.7777777777777778, \"#fb9f3a\"], [0.8888888888888888, \"#fdca26\"], [1.0, \"#f0f921\"]], \"sequentialminus\": [[0.0, \"#0d0887\"], [0.1111111111111111, \"#46039f\"], [0.2222222222222222, \"#7201a8\"], [0.3333333333333333, \"#9c179e\"], [0.4444444444444444, \"#bd3786\"], [0.5555555555555556, \"#d8576b\"], [0.6666666666666666, \"#ed7953\"], [0.7777777777777778, \"#fb9f3a\"], [0.8888888888888888, \"#fdca26\"], [1.0, \"#f0f921\"]]}, \"colorway\": [\"#636efa\", \"#EF553B\", \"#00cc96\", \"#ab63fa\", \"#FFA15A\", \"#19d3f3\", \"#FF6692\", \"#B6E880\", \"#FF97FF\", \"#FECB52\"], \"font\": {\"color\": \"#2a3f5f\"}, \"geo\": {\"bgcolor\": \"white\", \"lakecolor\": \"white\", \"landcolor\": \"#E5ECF6\", \"showlakes\": true, \"showland\": true, \"subunitcolor\": \"white\"}, \"hoverlabel\": {\"align\": \"left\"}, \"hovermode\": \"closest\", \"mapbox\": {\"style\": \"light\"}, \"paper_bgcolor\": \"white\", \"plot_bgcolor\": \"#E5ECF6\", \"polar\": {\"angularaxis\": {\"gridcolor\": \"white\", \"linecolor\": \"white\", \"ticks\": \"\"}, \"bgcolor\": \"#E5ECF6\", \"radialaxis\": {\"gridcolor\": \"white\", \"linecolor\": \"white\", \"ticks\": \"\"}}, \"scene\": {\"xaxis\": {\"backgroundcolor\": \"#E5ECF6\", \"gridcolor\": \"white\", \"gridwidth\": 2, \"linecolor\": \"white\", \"showbackground\": true, \"ticks\": \"\", \"zerolinecolor\": \"white\"}, \"yaxis\": {\"backgroundcolor\": \"#E5ECF6\", \"gridcolor\": \"white\", \"gridwidth\": 2, \"linecolor\": \"white\", \"showbackground\": true, \"ticks\": \"\", \"zerolinecolor\": \"white\"}, \"zaxis\": {\"backgroundcolor\": \"#E5ECF6\", \"gridcolor\": \"white\", \"gridwidth\": 2, \"linecolor\": \"white\", \"showbackground\": true, \"ticks\": \"\", \"zerolinecolor\": \"white\"}}, \"shapedefaults\": {\"line\": {\"color\": \"#2a3f5f\"}}, \"ternary\": {\"aaxis\": {\"gridcolor\": \"white\", \"linecolor\": \"white\", \"ticks\": \"\"}, \"baxis\": {\"gridcolor\": \"white\", \"linecolor\": \"white\", \"ticks\": \"\"}, \"bgcolor\": \"#E5ECF6\", \"caxis\": {\"gridcolor\": \"white\", \"linecolor\": \"white\", \"ticks\": \"\"}}, \"title\": {\"x\": 0.05}, \"xaxis\": {\"automargin\": true, \"gridcolor\": \"white\", \"linecolor\": \"white\", \"ticks\": \"\", \"title\": {\"standoff\": 15}, \"zerolinecolor\": \"white\", \"zerolinewidth\": 2}, \"yaxis\": {\"automargin\": true, \"gridcolor\": \"white\", \"linecolor\": \"white\", \"ticks\": \"\", \"title\": {\"standoff\": 15}, \"zerolinecolor\": \"white\", \"zerolinewidth\": 2}}}, \"xaxis\": {\"dtick\": 20.0, \"gridcolor\": \"black\", \"gridwidth\": 1, \"linecolor\": \"black\", \"linewidth\": 2, \"mirror\": true, \"showgrid\": true, \"showline\": true, \"tick0\": 0, \"tickmode\": \"linear\", \"zeroline\": false}, \"yaxis\": {\"dtick\": 20.0, \"gridcolor\": \"black\", \"gridwidth\": 1, \"linecolor\": \"black\", \"linewidth\": 2, \"mirror\": true, \"showgrid\": true, \"showline\": true, \"tick0\": 0, \"tickmode\": \"linear\", \"zeroline\": false}},                        {\"responsive\": true}                    ).then(function(){\n",
       "                            \n",
       "var gd = document.getElementById('1a980823-62f7-401e-b007-3ca6c74ee205');\n",
       "var x = new MutationObserver(function (mutations, observer) {{\n",
       "        var display = window.getComputedStyle(gd).display;\n",
       "        if (!display || display === 'none') {{\n",
       "            console.log([gd, 'removed!']);\n",
       "            Plotly.purge(gd);\n",
       "            observer.disconnect();\n",
       "        }}\n",
       "}});\n",
       "\n",
       "// Listen for the removal of the full notebook cells\n",
       "var notebookContainer = gd.closest('#notebook-container');\n",
       "if (notebookContainer) {{\n",
       "    x.observe(notebookContainer, {childList: true});\n",
       "}}\n",
       "\n",
       "// Listen for the clearing of the current output cell\n",
       "var outputEl = gd.closest('.output');\n",
       "if (outputEl) {{\n",
       "    x.observe(outputEl, {childList: true});\n",
       "}}\n",
       "\n",
       "                        })                };                });            </script>        </div>"
      ]
     },
     "metadata": {},
     "output_type": "display_data"
    }
   ],
   "source": [
    "from matplotlib.pyplot import plot\n",
    "type_0,type_1 = split(swarm)\n",
    "x_0,y_0 = np.array(positions(type_0))\n",
    "x_1,y_1 = np.array(positions(type_1))\n",
    "x_overall = np.concatenate((x_0, x_1), axis=None)\n",
    "y_overall = np.concatenate((y_0,y_1),axis = None)\n",
    "fig = go.Figure()\n",
    "fig.add_trace(go.Scatter(\n",
    "    x=x_0,\n",
    "    y=y_0,\n",
    "    mode='markers',\n",
    "    showlegend=False,\n",
    "    marker=dict(\n",
    "        symbol='circle',\n",
    "        opacity=1,\n",
    "        color='red',\n",
    "        size=8,\n",
    "        line=dict(width=1),\n",
    "    )\n",
    "))\n",
    "fig.add_trace(go.Scatter(\n",
    "    x=x_1,\n",
    "    y=y_1,\n",
    "    mode='markers',\n",
    "    showlegend=False,\n",
    "    marker=dict(\n",
    "        symbol='circle',\n",
    "        opacity=1,\n",
    "        color='blue',\n",
    "        size=8,\n",
    "        line=dict(width=1),\n",
    "    )\n",
    "))\n",
    "\n",
    "fig.add_trace((go.Histogram2d(x=x_overall, y=y_overall,\n",
    "        autobinx=False,\n",
    "        xbins=dict(start=-200, end=200, size=20),\n",
    "        autobiny=False,\n",
    "        ybins=dict(start=-200, end=200, size=20),\n",
    "        zmax=1,            \n",
    "        zauto=False,\n",
    "        showscale = False,\n",
    "        colorscale=[\"white\", \"black\"]\n",
    "        )))\n",
    "fig.update_xaxes(showgrid=True,showline=True, linewidth=2, linecolor='black',mirror=True)\n",
    "fig.update_yaxes(showgrid=True,showline=True, linewidth=2, linecolor='black',mirror=True)\n",
    "fig.update_xaxes(showgrid=True,zeroline=False, gridwidth=1, gridcolor='black')\n",
    "fig.update_yaxes(showgrid=True,zeroline=False, gridwidth=1, gridcolor='black')\n",
    "fig.update_traces(opacity=0.4, selector=dict(type='histogram2d'))\n",
    "fig.update_layout(\n",
    "#     height=900,width=1150,\n",
    "     xaxis = dict(\n",
    "         tickmode = 'linear',\n",
    "         tick0 = 0,\n",
    "         dtick = 200/10\n",
    "     ),\n",
    "                       yaxis = dict(\n",
    "         tickmode = 'linear',\n",
    "         tick0 = 0,\n",
    "         dtick = 200/10\n",
    "     ))\n",
    "fig.show()"
   ]
  },
  {
   "cell_type": "code",
   "execution_count": null,
   "metadata": {},
   "outputs": [],
   "source": [
    "\"\"\"original_path = \"../Experiments/Initial_Types_Test/\"\n",
    "try:\n",
    "    os.mkdir(original_path)\n",
    "except OSError:\n",
    "    print (\"Failure: Directory creation of %s failed\" % original_path)\n",
    "else:\n",
    "    print (\"Success: Directory creation of %s succeeded\" % original_path)\n",
    "    \n",
    "code = \"Run_\" + str(initialise_array[i])\n",
    "path = (original_path + code + \"/\")\n",
    "try:\n",
    "        os.mkdir(path)\n",
    "except OSError:\n",
    "    print (\"Failure: Directory creation of %s failed\" % path)\n",
    "else:\n",
    "    print (\"Success: Directory creation of %s succeeded\" % path)\n",
    "\n",
    "\n",
    "image = (original_path + \"Images/\")\n",
    "try:\n",
    "    os.mkdir(image)\n",
    "except OSError:\n",
    "    print (\"Failure: Directory creation of %s failed\" % image)\n",
    "else:\n",
    "    print (\"Success: Directory creation of %s succeeded\" % image)\n",
    "\n",
    "#saving performance metrics - these could not be stored in excel due to storage limits\n",
    "np.save(path + \"Minimum Distance to Neighbours.npy\",np.array(min_neighbours))\n",
    "np.save(path + \"Cluster Average.npy\", np.array(cluster_average))\n",
    "np.save(path + \"Measurement Events Count.npy\", np.array(total_collision))\n",
    "np.save(path + \"Number of Dust Devils Detected.npy\", np.array(total_detection))\n",
    "np.save(path + \"Number of Dust Devils Generated.npy\", np.array(total_dust))\n",
    "\n",
    "\n",
    "#adding values tested for a values excel spreadsheet for easy viewing\n",
    "values.append([len(swarm),timestep,G_state,power,R,multiply,max_force,robot_speed,min_neighbours[time*frequency-1],cluster_average[time*frequency-1],random_seed, G_state,measurement_events,detection_metric,dust_count])\n",
    "\n",
    "#the titles of the variables in the values array\n",
    "values_title = ['Number of Robots',\n",
    "                        'Timestep',\n",
    "                        'G', \n",
    "                        'Power', \n",
    "                        'Communication Range', \n",
    "                        'Multiplier',\n",
    "                        'Max Force',\n",
    "                        'Max Speed',\n",
    "                        'Minimum Distance to Neighbours',\n",
    "                        'Average Cluster Size',\n",
    "                        'Seed',\n",
    "                        'G Transition',\n",
    "                        'Measurement Events Count',\n",
    "                        'Number of Dust Devils Detected',\n",
    "                        'Total Number of Dust Devils',\n",
    "    ]\n",
    "\n",
    "#storing the constants used in the simulation\n",
    "data = {'Values':[len(swarm),timestep,G_state,power,R,multiply,max_force,robot_speed,random_seed, G_state]}\n",
    "titles =['Number of Robots',\n",
    "                        'G',\n",
    "                        'Timestep', \n",
    "                        'Power',\n",
    "                        'Communication Range', \n",
    "                        'Multiplier',\n",
    "                        'Max Force',\n",
    "                        'Max Speed',\n",
    "                        'Seed',\n",
    "                        'G Transition',\n",
    "    ]\n",
    "#setting the constants as a panda dataframe\n",
    "constants = pd.DataFrame(data, index = titles\n",
    "                       ) \n",
    "\n",
    "constants.to_excel(path + \"Constants.xlsx\")\n",
    "\n",
    "#setting the start paths for the graphs and the tables\n",
    "graph_start_path = image + code + \"- Graph_Beginning.png\"\n",
    "table_start_path = image + \"/\" + code + \"- Table_Beginning.png\"\n",
    "\n",
    "#using the processing functions to create plotly graphs and tables for the figures in the first timestep\n",
    "graph_start = Processing_Functions_Tracking.graph_figure(store_robots,0,frequency,code)\n",
    "graph_start.write_image(graph_start_path)\n",
    "table_start = Processing_Functions_Tracking.table_figure(store_robots,0,frequency,constants,min_neighbours,cluster_average,total_collision,total_detection,total_dust)\n",
    "table_start.write_image(table_start_path)\n",
    "\n",
    "#combining the tables and the graphs using pillow\n",
    "Processing_Functions_Tracking.combine(graph_start_path,table_start_path)\n",
    "\n",
    "#setting the end paths for the graphs and the tables\n",
    "graph_end_path = image + code + \"- Graph_End.png\"\n",
    "table_end_path = image + \"/\" + code + \"- Table_End.png\"\n",
    "\n",
    "#using the processing functions to create plotly graphs and tables for the figures in the last timestep\n",
    "graph_end = Processing_Functions_Tracking.graph_figure(store_robots,time-1,frequency,code)\n",
    "graph_end.write_image(image + \"/\" + code + \"- Graph_End.png\")\n",
    "table_end = Processing_Functions_Tracking.table_figure(store_robots,time-1,frequency,constants,min_neighbours,cluster_average,total_collision,total_detection,total_dust)\n",
    "table_end.write_image(image + \"/\" + code + \"- Table_End.png\")\n",
    "\n",
    "#combining the tables and the graphs using pillow\n",
    "Processing_Functions_Tracking.combine(graph_end_path,table_end_path)\n",
    "\n",
    "#plotting performance of the average of minimum neighbouring distance metric\n",
    "performance = Processing_Functions_Tracking.performance_graph(min_neighbours,np.linspace(0,len(min_neighbours),len(min_neighbours)*frequency,endpoint = False),frequency,code,\"Time (s)\",\"Minimum Average Neighbour Distance (m)\")\n",
    "performance.write_image(image + \"/\" + code + \"- Performance.png\")\n",
    "\n",
    "#plotting performance of the dust devil measurement metric\n",
    "performance_intercept = Processing_Functions_Tracking.performance_graph(total_collision,np.linspace(0,len(total_collision),len(total_collision)*frequency,endpoint = False),frequency,code,\"Time (s)\",\"Count of Measurement Events\")\n",
    "performance_intercept.write_image(image + \"/\" + code + \"- Intercept Performance.png\")\n",
    "\n",
    "#plotting performance of the cluster average of the swarm\n",
    "cluster = Processing_Functions_Tracking.performance_graph(cluster_average,np.linspace(0,len(cluster_average),len(cluster_average)*frequency,endpoint = False),frequency,code,\"Time (s)\",\"Average Cluster Size\")\n",
    "cluster.write_image(image + \"/\" + code + \"- Average Cluster Size.png\")\n",
    "\n",
    "\n",
    "\n",
    "\n",
    "#setting panda dataframe for the values tested\n",
    "df = pd.DataFrame(values, columns = values_title)\n",
    "\n",
    "#saving at as an excel spreadsheet\n",
    "df.to_excel(path + \"Results.xlsx\")\n",
    "\n",
    "\n",
    "#performance_metric_np = np.array(performance_metric)\n",
    "\n",
    "#saving performance metrics\n",
    "#np.save(original_path + \"Performance Metric \" + str(timestep) + \".npy\", performance_metric_np)\n",
    "\n",
    "#plotting performance of the different timesteps\n",
    "#performance_overall = Processing_Functions_BP.performance_graph(performance_metric_np[:,1],performance_metric_np[:,0],1,code,\"Number of Timesteps in 1 Second\",\"Number of Dust Devils Detected\")\n",
    "#performance_overall.write_image(new_path + \"Overall Performance.png\")\n",
    "\"\"\""
   ]
  },
  {
   "cell_type": "code",
   "execution_count": null,
   "metadata": {},
   "outputs": [],
   "source": []
  },
  {
   "cell_type": "code",
   "execution_count": null,
   "metadata": {},
   "outputs": [],
   "source": [
    "path =  \"Experiments/Types_Testing/Run_1/\"\n",
    "store_robots = np.load(path + \"Robots.npy\")\n",
    "\n",
    "with open(path + \"dust.txt\", \"r\") as f:\n",
    "     dust = json.load(f)\n",
    "\n",
    "constants = pd.read_excel(path + \"Constants.xlsx\", index_col=0)"
   ]
  },
  {
   "cell_type": "code",
   "execution_count": null,
   "metadata": {},
   "outputs": [],
   "source": [
    "#the update layout function\n",
    "def update_layout():\n",
    "    #contains the graph, the interval timing and the live updating table\n",
    "    app.layout = html.Div(children=[html.Div(\n",
    "    [\n",
    "    dcc.Graph(id = 'live_graph'),\n",
    "    dcc.Interval(\n",
    "        id = 'graph-update',\n",
    "        interval = 100, #milliseconds\n",
    "        n_intervals = 0\n",
    "        ),\n",
    "    ],style = {'display': 'inline-block'} ),\n",
    "        html.Div(\n",
    "            [\n",
    "                dcc.Graph(id = 'live_table'),\n",
    "                dcc.Interval(\n",
    "                id = 'variable-update',\n",
    "                interval = 100, #milliseconds\n",
    "                n_intervals = 0\n",
    "                )    \n",
    "                 ],\n",
    "        style = {'display': 'inline-block','vertical-align': 'top' }    \n",
    "    )],style={'width': '100%', 'display': 'inline-block'})\n",
    "\n",
    "update_layout()"
   ]
  },
  {
   "cell_type": "code",
   "execution_count": null,
   "metadata": {},
   "outputs": [],
   "source": [
    "#callback is the updating process\n",
    "@app.callback(Output('live_graph','figure'),\n",
    "              [Input('graph-update', 'n_intervals')])\n",
    "\n",
    "#the actual update for the graph\n",
    "def update_graph(n):\n",
    "    #initialising global variables\n",
    "    global timer\n",
    "    \n",
    "\n",
    "    position_robot = store_robots[:,:,timer]\n",
    "    position_dust = store_dust[timer]\n",
    "    #creating scatter plot of robots\n",
    "    data = go.Scatter(\n",
    "        x=list(position_robot[0]),\n",
    "        y=list(position_robot[1]),\n",
    "        name = 'Robots',\n",
    "        mode = 'markers',\n",
    "    )\n",
    "    \n",
    "    #creating the plotly figure with the robot data\n",
    "    fig = go.Figure(\n",
    "        { \"data\": data, \"layout\": go.Layout(yaxis=dict(range=[-1000, 1000]),xaxis = dict(range=[-1000,1000]))\n",
    "        }\n",
    "    )\n",
    "\n",
    "    fig.add_trace(go.Scatter(\n",
    "          x= position_dust[0],\n",
    "          y= position_dust[1],\n",
    "          name='Dust Devil',\n",
    "          mode = 'markers',\n",
    "          marker_color='rgba(255, 182, 193, .9)',\n",
    "      ))\n",
    "    \n",
    "    #updating layout with circles and different formatting'''\n",
    "    fig.update_layout(title=\"<b>Physics Based Swarm Experiment </b>\",\n",
    "    title_x=0.5,\n",
    "    xaxis_title=\"X Position (m)\",\n",
    "    yaxis_title=\"Y Position (m)\",\n",
    "    margin=dict(\n",
    "        t=50, # top margin: 30px, you want to leave around 30 pixels to\n",
    "              # display the modebar above the graph.\n",
    "         # bottom margin: 10px\n",
    "        l=10, # left margin: 10px\n",
    "        r=10, # right margin: 10px\n",
    "    ),\n",
    "    height=900,width=1150,\n",
    "    xaxis = dict(\n",
    "        tickmode = 'linear',\n",
    "        tick0 = 0,\n",
    "        dtick = 50\n",
    "    ),\n",
    "                      yaxis = dict(\n",
    "        tickmode = 'linear',\n",
    "        tick0 = 0,\n",
    "        dtick = 50\n",
    "    )\n",
    "                     )\n",
    "    fig.update_xaxes(showline=True, linewidth=2, linecolor='black',mirror=True)\n",
    "    fig.update_yaxes(showline=True, linewidth=2, linecolor='black',mirror=True)\n",
    "    #incrementing timer\n",
    "    timer = timer + 1\n",
    "    \n",
    "    #updating the layout\n",
    "    update_layout()\n",
    "    return fig\n",
    "\n",
    "#app callback for the table\n",
    "@app.callback(Output('live_table','figure'),\n",
    "              [Input('variable-update', 'n_intervals')])\n",
    "\n",
    "def update_variables(n):\n",
    "    fig = Processing_Functions_Tracking.table_figure(store_robots,timer,timestep,constants,min_neighbours,cluster_average,total_collision,total_detection,total_dust)\n",
    "                \n",
    "    fig.update_layout(width = 650, height = 800,margin=dict(\n",
    "    t=200, # top margin: 30px, you want to leave around 30 pixels to\n",
    "              # display the modebar above the graph.\n",
    "        b=10, # bottom margin: 10px\n",
    "        l=10, # left margin: 10px\n",
    "        r=10,\n",
    "    ))\n",
    "    fig.update_yaxes(showline=True, linewidth=2, linecolor='black', mirror=True)\n",
    "    fig.update_xaxes(showline=True, linewidth=2, linecolor='black', mirror=True)\n",
    "    return fig"
   ]
  },
  {
   "cell_type": "code",
   "execution_count": null,
   "metadata": {},
   "outputs": [],
   "source": [
    "#runs by default\n",
    "if __name__ == '__main__':\n",
    "    #running the app server for the simulator\n",
    "    app.run_server(debug=False, host = '127.0.0.2')"
   ]
  },
  {
   "cell_type": "code",
   "execution_count": null,
   "metadata": {},
   "outputs": [],
   "source": [
    "def R_return(swarm):\n",
    "    R_array = []\n",
    "    for i in swarm:\n",
    "        R_array.append(i.R)\n",
    "    return R_array"
   ]
  },
  {
   "cell_type": "code",
   "execution_count": null,
   "metadata": {},
   "outputs": [],
   "source": [
    "print(R_return(swarm))\n",
    "print(positions(swarm))"
   ]
  },
  {
   "cell_type": "code",
   "execution_count": null,
   "metadata": {},
   "outputs": [],
   "source": [
    "R=20\n",
    "x_0 =np.array([  0,  -6,   9,   0, -10,   5,  -5, -13, -10,   0, -25,  10,  -1,\n",
    "         4,  -5,   6, -21, -24, -18,   2, -19,  -9, -11,  -4,  10,   1,\n",
    "         3, -14,   2, -11, -18, -12,   6,  -7, -20, -27, -20,  -6, -13,\n",
    "        -9,  12,   7, -21,   8, -14, -11, -14,   8,  11, -14])\n",
    "y_0 = np.array([ 0, 10,  3,  2, 19, 27, -3, 25, 29, 35, 31, 17, 26, 35, 21, 32, 29,\n",
    "       36, 34, -4, 19,  7, 17, -3, -4, -2, 30, 25, 17, 15, 33, 21, 34,  0,\n",
    "        1, 14, 36, 14, 20, 19, 21, 22, 21, -1, -3, 10, 35,  5,  6, 18])\n",
    "\n",
    "#calculating the distance from the robots to the current robot, split up according to robot type\n",
    "distance_0 = np.sqrt(np.square(x_0)+np.square(y_0))\n",
    "\n",
    "print(distance_0)\n",
    "\n",
    "#finding the corresponding booleans\n",
    "multiply_like = 1.3\n",
    "multiply_unlike = 1.7\n",
    "constant = 0\n",
    "\n",
    "distance_local_0 = np.logical_and(distance_0>0,distance_0<multiply_like*R)\n",
    "\n",
    "print(distance_local_0)\n",
    "print(distance_0[distance_local_0])\n",
    "\n",
    "\n",
    "\n",
    "\n",
    "x_dist_0 = x_0[distance_local_0]\n",
    "y_dist_0 = y_0[distance_local_0]\n",
    "print(\"X Positions in Neighbourhood: \", x_dist_0)\n",
    "print(\"Y Positions in Neighbourhood: \", y_dist_0)\n",
    "positions_0 = np.array([x_dist_0,y_dist_0])\n",
    "print(np.sqrt(np.square(positions_0[0])+np.square(positions_0[1])))\n",
    "for x,y in zip(positions_0[0],positions_0[1]):\n",
    "    print(magnitude(x,y))\n",
    "    current_position = np.array([x,y])\n",
    "\n",
    "\n",
    "    #calculating magnitude of positions\n",
    "    mag_unshifted = (magnitude(current_position[0],current_position[1]))\n",
    "    print(mag_unshifted)"
   ]
  },
  {
   "cell_type": "code",
   "execution_count": null,
   "metadata": {},
   "outputs": [],
   "source": [
    "#function to calculate area coverage using grid metric\n",
    "def grid_coverage(grid,positions,length):\n",
    "    #creating the grid bins for area coverage\n",
    "    x_bins = np.linspace(grid[0],grid[1],length+1)\n",
    "    y_bins = np.linspace(grid[0],grid[1],length+1)\n",
    "    \n",
    "    x_positions = positions[0]\n",
    "    y_positions = positions[1]\n",
    "    #initialising empty coordinates array for use in the grid metric\n",
    "    coordinates = []\n",
    "    for i in range(len(x_positions)):\n",
    "        #setting current position\n",
    "        x_current = x_positions[i]\n",
    "        y_current = y_positions[i]\n",
    "        #searching for the x anf y coordinates using the numpy search sorted function combined with the previously defined bins\n",
    "        x = np.searchsorted(x_bins, x_current)\n",
    "        y = np.searchsorted(y_bins, y_current)\n",
    "        if((0<=x<length+1) and (0<=y<length+1)):\n",
    "            coordinates.append((x,y))\n",
    "        print(coordinates)\n",
    "\n",
    "\n",
    "    rm_duplicates = list(set(coordinates)) #set is used to remove duplicates, as sets require distinct elements\n",
    "    area_coverage = len(rm_duplicates)*0.01 #converting it to a percentage\n",
    "    total = length*length\n",
    "    return area_coverage"
   ]
  },
  {
   "cell_type": "code",
   "execution_count": null,
   "metadata": {},
   "outputs": [],
   "source": [
    "x_0 =np.array([  0,  -6,   9,   0, -10,   5,  -5, -13, -10,   0, -25,  10,  -1,\n",
    "         4,  -5,   6, -21, -24, -18,   2, -19,  -9, -11,  -4,  10,   1,\n",
    "         3, -14,   2, -11, -18, -12,   6,  -7, -20, -27, -20,  -6, -13,\n",
    "        -9,  12,   7, -21,   8, -14, -11, -14,   8,  11, -14])\n",
    "y_0 = np.array([ 0, 10,  3,  2, 19, 27, -3, 25, 29, 35, 31, 17, 26, 35, 21, 32, 29,\n",
    "       36, 34, -4, 19,  7, 17, -3, -4, -2, 30, 25, 17, 15, 33, 21, 34,  0,\n",
    "        1, 14, 36, 14, 20, 19, 21, 22, 21, -1, -3, 10, 35,  5,  6, 18])\n",
    "(grid_coverage(np.array([-500,500]),np.array([x_0,y_0]),100))"
   ]
  },
  {
   "cell_type": "code",
   "execution_count": null,
   "metadata": {},
   "outputs": [],
   "source": [
    "grid = [-500,500]\n",
    "x = np.linspace(-500,500,11)\n",
    "y = np.linspace(-500,500,11)\n",
    "print(x)\n",
    "print(y)\n",
    "\n",
    "position_array = np.array([[-6000,6000],[-6000,6000]]) #store_robots[:,:,1999]\n",
    "print(\"Positions:\",position_array)\n",
    "print(\"Independent review: \",position_array[0])\n",
    "coordinates = []\n",
    "for i in range(len(position_array[0])):\n",
    "    position = (position_array[:,i])\n",
    "    coordinates.append(((np.searchsorted(x, position[0])),(np.searchsorted(y, position[1]))))\n",
    "    print(coordinates)\n",
    "\n",
    "\n",
    "rm_duplicates = list(set(coordinates))\n",
    "print(rm_duplicates)\n",
    "print(len(coordinates))\n",
    "print(len(rm_duplicates))"
   ]
  },
  {
   "cell_type": "code",
   "execution_count": 65,
   "metadata": {},
   "outputs": [
    {
     "data": {
      "application/vnd.plotly.v1+json": {
       "config": {
        "plotlyServerURL": "https://plot.ly"
       },
       "data": [
        {
         "autobinx": false,
         "autobiny": false,
         "showscale": false,
         "type": "histogram2d",
         "x": [
          0,
          -6,
          9,
          0,
          -10,
          5,
          -5,
          -13,
          -10,
          0,
          -25,
          10,
          -1,
          4,
          -5,
          6,
          -21,
          -24,
          -18,
          2,
          -19,
          -9,
          -11,
          -4,
          10,
          1,
          3,
          -14,
          2,
          -11,
          -18,
          -12,
          6,
          -7,
          -20,
          -27,
          -20,
          -6,
          -13,
          -9,
          12,
          7,
          -21,
          8,
          -14,
          -11,
          -14,
          8,
          11,
          -14
         ],
         "xbins": {
          "end": 500,
          "size": 50,
          "start": -500
         },
         "y": [
          0,
          10,
          3,
          2,
          19,
          27,
          -3,
          25,
          29,
          35,
          31,
          17,
          26,
          35,
          21,
          32,
          29,
          36,
          34,
          -4,
          19,
          7,
          17,
          -3,
          -4,
          -2,
          30,
          25,
          17,
          15,
          33,
          21,
          34,
          0,
          1,
          14,
          36,
          14,
          20,
          19,
          21,
          22,
          21,
          -1,
          -3,
          10,
          35,
          5,
          6,
          18
         ],
         "ybins": {
          "end": 500,
          "size": 50,
          "start": -500
         },
         "zauto": false,
         "zmax": 1
        },
        {
         "marker": {
          "color": "white",
          "line": {
           "width": 1
          },
          "opacity": 0.7,
          "size": 8,
          "symbol": "circle"
         },
         "mode": "markers",
         "showlegend": false,
         "type": "scatter",
         "x": [
          0,
          -6,
          9,
          0,
          -10,
          5,
          -5,
          -13,
          -10,
          0,
          -25,
          10,
          -1,
          4,
          -5,
          6,
          -21,
          -24,
          -18,
          2,
          -19,
          -9,
          -11,
          -4,
          10,
          1,
          3,
          -14,
          2,
          -11,
          -18,
          -12,
          6,
          -7,
          -20,
          -27,
          -20,
          -6,
          -13,
          -9,
          12,
          7,
          -21,
          8,
          -14,
          -11,
          -14,
          8,
          11,
          -14
         ],
         "y": [
          0,
          10,
          3,
          2,
          19,
          27,
          -3,
          25,
          29,
          35,
          31,
          17,
          26,
          35,
          21,
          32,
          29,
          36,
          34,
          -4,
          19,
          7,
          17,
          -3,
          -4,
          -2,
          30,
          25,
          17,
          15,
          33,
          21,
          34,
          0,
          1,
          14,
          36,
          14,
          20,
          19,
          21,
          22,
          21,
          -1,
          -3,
          10,
          35,
          5,
          6,
          18
         ]
        }
       ],
       "layout": {
        "template": {
         "data": {
          "bar": [
           {
            "error_x": {
             "color": "#2a3f5f"
            },
            "error_y": {
             "color": "#2a3f5f"
            },
            "marker": {
             "line": {
              "color": "#E5ECF6",
              "width": 0.5
             }
            },
            "type": "bar"
           }
          ],
          "barpolar": [
           {
            "marker": {
             "line": {
              "color": "#E5ECF6",
              "width": 0.5
             }
            },
            "type": "barpolar"
           }
          ],
          "carpet": [
           {
            "aaxis": {
             "endlinecolor": "#2a3f5f",
             "gridcolor": "white",
             "linecolor": "white",
             "minorgridcolor": "white",
             "startlinecolor": "#2a3f5f"
            },
            "baxis": {
             "endlinecolor": "#2a3f5f",
             "gridcolor": "white",
             "linecolor": "white",
             "minorgridcolor": "white",
             "startlinecolor": "#2a3f5f"
            },
            "type": "carpet"
           }
          ],
          "choropleth": [
           {
            "colorbar": {
             "outlinewidth": 0,
             "ticks": ""
            },
            "type": "choropleth"
           }
          ],
          "contour": [
           {
            "colorbar": {
             "outlinewidth": 0,
             "ticks": ""
            },
            "colorscale": [
             [
              0,
              "#0d0887"
             ],
             [
              0.1111111111111111,
              "#46039f"
             ],
             [
              0.2222222222222222,
              "#7201a8"
             ],
             [
              0.3333333333333333,
              "#9c179e"
             ],
             [
              0.4444444444444444,
              "#bd3786"
             ],
             [
              0.5555555555555556,
              "#d8576b"
             ],
             [
              0.6666666666666666,
              "#ed7953"
             ],
             [
              0.7777777777777778,
              "#fb9f3a"
             ],
             [
              0.8888888888888888,
              "#fdca26"
             ],
             [
              1,
              "#f0f921"
             ]
            ],
            "type": "contour"
           }
          ],
          "contourcarpet": [
           {
            "colorbar": {
             "outlinewidth": 0,
             "ticks": ""
            },
            "type": "contourcarpet"
           }
          ],
          "heatmap": [
           {
            "colorbar": {
             "outlinewidth": 0,
             "ticks": ""
            },
            "colorscale": [
             [
              0,
              "#0d0887"
             ],
             [
              0.1111111111111111,
              "#46039f"
             ],
             [
              0.2222222222222222,
              "#7201a8"
             ],
             [
              0.3333333333333333,
              "#9c179e"
             ],
             [
              0.4444444444444444,
              "#bd3786"
             ],
             [
              0.5555555555555556,
              "#d8576b"
             ],
             [
              0.6666666666666666,
              "#ed7953"
             ],
             [
              0.7777777777777778,
              "#fb9f3a"
             ],
             [
              0.8888888888888888,
              "#fdca26"
             ],
             [
              1,
              "#f0f921"
             ]
            ],
            "type": "heatmap"
           }
          ],
          "heatmapgl": [
           {
            "colorbar": {
             "outlinewidth": 0,
             "ticks": ""
            },
            "colorscale": [
             [
              0,
              "#0d0887"
             ],
             [
              0.1111111111111111,
              "#46039f"
             ],
             [
              0.2222222222222222,
              "#7201a8"
             ],
             [
              0.3333333333333333,
              "#9c179e"
             ],
             [
              0.4444444444444444,
              "#bd3786"
             ],
             [
              0.5555555555555556,
              "#d8576b"
             ],
             [
              0.6666666666666666,
              "#ed7953"
             ],
             [
              0.7777777777777778,
              "#fb9f3a"
             ],
             [
              0.8888888888888888,
              "#fdca26"
             ],
             [
              1,
              "#f0f921"
             ]
            ],
            "type": "heatmapgl"
           }
          ],
          "histogram": [
           {
            "marker": {
             "colorbar": {
              "outlinewidth": 0,
              "ticks": ""
             }
            },
            "type": "histogram"
           }
          ],
          "histogram2d": [
           {
            "colorbar": {
             "outlinewidth": 0,
             "ticks": ""
            },
            "colorscale": [
             [
              0,
              "#0d0887"
             ],
             [
              0.1111111111111111,
              "#46039f"
             ],
             [
              0.2222222222222222,
              "#7201a8"
             ],
             [
              0.3333333333333333,
              "#9c179e"
             ],
             [
              0.4444444444444444,
              "#bd3786"
             ],
             [
              0.5555555555555556,
              "#d8576b"
             ],
             [
              0.6666666666666666,
              "#ed7953"
             ],
             [
              0.7777777777777778,
              "#fb9f3a"
             ],
             [
              0.8888888888888888,
              "#fdca26"
             ],
             [
              1,
              "#f0f921"
             ]
            ],
            "type": "histogram2d"
           }
          ],
          "histogram2dcontour": [
           {
            "colorbar": {
             "outlinewidth": 0,
             "ticks": ""
            },
            "colorscale": [
             [
              0,
              "#0d0887"
             ],
             [
              0.1111111111111111,
              "#46039f"
             ],
             [
              0.2222222222222222,
              "#7201a8"
             ],
             [
              0.3333333333333333,
              "#9c179e"
             ],
             [
              0.4444444444444444,
              "#bd3786"
             ],
             [
              0.5555555555555556,
              "#d8576b"
             ],
             [
              0.6666666666666666,
              "#ed7953"
             ],
             [
              0.7777777777777778,
              "#fb9f3a"
             ],
             [
              0.8888888888888888,
              "#fdca26"
             ],
             [
              1,
              "#f0f921"
             ]
            ],
            "type": "histogram2dcontour"
           }
          ],
          "mesh3d": [
           {
            "colorbar": {
             "outlinewidth": 0,
             "ticks": ""
            },
            "type": "mesh3d"
           }
          ],
          "parcoords": [
           {
            "line": {
             "colorbar": {
              "outlinewidth": 0,
              "ticks": ""
             }
            },
            "type": "parcoords"
           }
          ],
          "pie": [
           {
            "automargin": true,
            "type": "pie"
           }
          ],
          "scatter": [
           {
            "marker": {
             "colorbar": {
              "outlinewidth": 0,
              "ticks": ""
             }
            },
            "type": "scatter"
           }
          ],
          "scatter3d": [
           {
            "line": {
             "colorbar": {
              "outlinewidth": 0,
              "ticks": ""
             }
            },
            "marker": {
             "colorbar": {
              "outlinewidth": 0,
              "ticks": ""
             }
            },
            "type": "scatter3d"
           }
          ],
          "scattercarpet": [
           {
            "marker": {
             "colorbar": {
              "outlinewidth": 0,
              "ticks": ""
             }
            },
            "type": "scattercarpet"
           }
          ],
          "scattergeo": [
           {
            "marker": {
             "colorbar": {
              "outlinewidth": 0,
              "ticks": ""
             }
            },
            "type": "scattergeo"
           }
          ],
          "scattergl": [
           {
            "marker": {
             "colorbar": {
              "outlinewidth": 0,
              "ticks": ""
             }
            },
            "type": "scattergl"
           }
          ],
          "scattermapbox": [
           {
            "marker": {
             "colorbar": {
              "outlinewidth": 0,
              "ticks": ""
             }
            },
            "type": "scattermapbox"
           }
          ],
          "scatterpolar": [
           {
            "marker": {
             "colorbar": {
              "outlinewidth": 0,
              "ticks": ""
             }
            },
            "type": "scatterpolar"
           }
          ],
          "scatterpolargl": [
           {
            "marker": {
             "colorbar": {
              "outlinewidth": 0,
              "ticks": ""
             }
            },
            "type": "scatterpolargl"
           }
          ],
          "scatterternary": [
           {
            "marker": {
             "colorbar": {
              "outlinewidth": 0,
              "ticks": ""
             }
            },
            "type": "scatterternary"
           }
          ],
          "surface": [
           {
            "colorbar": {
             "outlinewidth": 0,
             "ticks": ""
            },
            "colorscale": [
             [
              0,
              "#0d0887"
             ],
             [
              0.1111111111111111,
              "#46039f"
             ],
             [
              0.2222222222222222,
              "#7201a8"
             ],
             [
              0.3333333333333333,
              "#9c179e"
             ],
             [
              0.4444444444444444,
              "#bd3786"
             ],
             [
              0.5555555555555556,
              "#d8576b"
             ],
             [
              0.6666666666666666,
              "#ed7953"
             ],
             [
              0.7777777777777778,
              "#fb9f3a"
             ],
             [
              0.8888888888888888,
              "#fdca26"
             ],
             [
              1,
              "#f0f921"
             ]
            ],
            "type": "surface"
           }
          ],
          "table": [
           {
            "cells": {
             "fill": {
              "color": "#EBF0F8"
             },
             "line": {
              "color": "white"
             }
            },
            "header": {
             "fill": {
              "color": "#C8D4E3"
             },
             "line": {
              "color": "white"
             }
            },
            "type": "table"
           }
          ]
         },
         "layout": {
          "annotationdefaults": {
           "arrowcolor": "#2a3f5f",
           "arrowhead": 0,
           "arrowwidth": 1
          },
          "coloraxis": {
           "colorbar": {
            "outlinewidth": 0,
            "ticks": ""
           }
          },
          "colorscale": {
           "diverging": [
            [
             0,
             "#8e0152"
            ],
            [
             0.1,
             "#c51b7d"
            ],
            [
             0.2,
             "#de77ae"
            ],
            [
             0.3,
             "#f1b6da"
            ],
            [
             0.4,
             "#fde0ef"
            ],
            [
             0.5,
             "#f7f7f7"
            ],
            [
             0.6,
             "#e6f5d0"
            ],
            [
             0.7,
             "#b8e186"
            ],
            [
             0.8,
             "#7fbc41"
            ],
            [
             0.9,
             "#4d9221"
            ],
            [
             1,
             "#276419"
            ]
           ],
           "sequential": [
            [
             0,
             "#0d0887"
            ],
            [
             0.1111111111111111,
             "#46039f"
            ],
            [
             0.2222222222222222,
             "#7201a8"
            ],
            [
             0.3333333333333333,
             "#9c179e"
            ],
            [
             0.4444444444444444,
             "#bd3786"
            ],
            [
             0.5555555555555556,
             "#d8576b"
            ],
            [
             0.6666666666666666,
             "#ed7953"
            ],
            [
             0.7777777777777778,
             "#fb9f3a"
            ],
            [
             0.8888888888888888,
             "#fdca26"
            ],
            [
             1,
             "#f0f921"
            ]
           ],
           "sequentialminus": [
            [
             0,
             "#0d0887"
            ],
            [
             0.1111111111111111,
             "#46039f"
            ],
            [
             0.2222222222222222,
             "#7201a8"
            ],
            [
             0.3333333333333333,
             "#9c179e"
            ],
            [
             0.4444444444444444,
             "#bd3786"
            ],
            [
             0.5555555555555556,
             "#d8576b"
            ],
            [
             0.6666666666666666,
             "#ed7953"
            ],
            [
             0.7777777777777778,
             "#fb9f3a"
            ],
            [
             0.8888888888888888,
             "#fdca26"
            ],
            [
             1,
             "#f0f921"
            ]
           ]
          },
          "colorway": [
           "#636efa",
           "#EF553B",
           "#00cc96",
           "#ab63fa",
           "#FFA15A",
           "#19d3f3",
           "#FF6692",
           "#B6E880",
           "#FF97FF",
           "#FECB52"
          ],
          "font": {
           "color": "#2a3f5f"
          },
          "geo": {
           "bgcolor": "white",
           "lakecolor": "white",
           "landcolor": "#E5ECF6",
           "showlakes": true,
           "showland": true,
           "subunitcolor": "white"
          },
          "hoverlabel": {
           "align": "left"
          },
          "hovermode": "closest",
          "mapbox": {
           "style": "light"
          },
          "paper_bgcolor": "white",
          "plot_bgcolor": "#E5ECF6",
          "polar": {
           "angularaxis": {
            "gridcolor": "white",
            "linecolor": "white",
            "ticks": ""
           },
           "bgcolor": "#E5ECF6",
           "radialaxis": {
            "gridcolor": "white",
            "linecolor": "white",
            "ticks": ""
           }
          },
          "scene": {
           "xaxis": {
            "backgroundcolor": "#E5ECF6",
            "gridcolor": "white",
            "gridwidth": 2,
            "linecolor": "white",
            "showbackground": true,
            "ticks": "",
            "zerolinecolor": "white"
           },
           "yaxis": {
            "backgroundcolor": "#E5ECF6",
            "gridcolor": "white",
            "gridwidth": 2,
            "linecolor": "white",
            "showbackground": true,
            "ticks": "",
            "zerolinecolor": "white"
           },
           "zaxis": {
            "backgroundcolor": "#E5ECF6",
            "gridcolor": "white",
            "gridwidth": 2,
            "linecolor": "white",
            "showbackground": true,
            "ticks": "",
            "zerolinecolor": "white"
           }
          },
          "shapedefaults": {
           "line": {
            "color": "#2a3f5f"
           }
          },
          "ternary": {
           "aaxis": {
            "gridcolor": "white",
            "linecolor": "white",
            "ticks": ""
           },
           "baxis": {
            "gridcolor": "white",
            "linecolor": "white",
            "ticks": ""
           },
           "bgcolor": "#E5ECF6",
           "caxis": {
            "gridcolor": "white",
            "linecolor": "white",
            "ticks": ""
           }
          },
          "title": {
           "x": 0.05
          },
          "xaxis": {
           "automargin": true,
           "gridcolor": "white",
           "linecolor": "white",
           "ticks": "",
           "title": {
            "standoff": 15
           },
           "zerolinecolor": "white",
           "zerolinewidth": 2
          },
          "yaxis": {
           "automargin": true,
           "gridcolor": "white",
           "linecolor": "white",
           "ticks": "",
           "title": {
            "standoff": 15
           },
           "zerolinecolor": "white",
           "zerolinewidth": 2
          }
         }
        }
       }
      },
      "text/html": [
       "<div>                            <div id=\"bd451ac7-7571-4723-8a9e-1237035baa0c\" class=\"plotly-graph-div\" style=\"height:525px; width:100%;\"></div>            <script type=\"text/javascript\">                require([\"plotly\"], function(Plotly) {                    window.PLOTLYENV=window.PLOTLYENV || {};                                    if (document.getElementById(\"bd451ac7-7571-4723-8a9e-1237035baa0c\")) {                    Plotly.newPlot(                        \"bd451ac7-7571-4723-8a9e-1237035baa0c\",                        [{\"autobinx\": false, \"autobiny\": false, \"showscale\": false, \"type\": \"histogram2d\", \"x\": [0, -6, 9, 0, -10, 5, -5, -13, -10, 0, -25, 10, -1, 4, -5, 6, -21, -24, -18, 2, -19, -9, -11, -4, 10, 1, 3, -14, 2, -11, -18, -12, 6, -7, -20, -27, -20, -6, -13, -9, 12, 7, -21, 8, -14, -11, -14, 8, 11, -14], \"xbins\": {\"end\": 500, \"size\": 50, \"start\": -500}, \"y\": [0, 10, 3, 2, 19, 27, -3, 25, 29, 35, 31, 17, 26, 35, 21, 32, 29, 36, 34, -4, 19, 7, 17, -3, -4, -2, 30, 25, 17, 15, 33, 21, 34, 0, 1, 14, 36, 14, 20, 19, 21, 22, 21, -1, -3, 10, 35, 5, 6, 18], \"ybins\": {\"end\": 500, \"size\": 50, \"start\": -500}, \"zauto\": false, \"zmax\": 1}, {\"marker\": {\"color\": \"white\", \"line\": {\"width\": 1}, \"opacity\": 0.7, \"size\": 8, \"symbol\": \"circle\"}, \"mode\": \"markers\", \"showlegend\": false, \"type\": \"scatter\", \"x\": [0, -6, 9, 0, -10, 5, -5, -13, -10, 0, -25, 10, -1, 4, -5, 6, -21, -24, -18, 2, -19, -9, -11, -4, 10, 1, 3, -14, 2, -11, -18, -12, 6, -7, -20, -27, -20, -6, -13, -9, 12, 7, -21, 8, -14, -11, -14, 8, 11, -14], \"y\": [0, 10, 3, 2, 19, 27, -3, 25, 29, 35, 31, 17, 26, 35, 21, 32, 29, 36, 34, -4, 19, 7, 17, -3, -4, -2, 30, 25, 17, 15, 33, 21, 34, 0, 1, 14, 36, 14, 20, 19, 21, 22, 21, -1, -3, 10, 35, 5, 6, 18]}],                        {\"template\": {\"data\": {\"bar\": [{\"error_x\": {\"color\": \"#2a3f5f\"}, \"error_y\": {\"color\": \"#2a3f5f\"}, \"marker\": {\"line\": {\"color\": \"#E5ECF6\", \"width\": 0.5}}, \"type\": \"bar\"}], \"barpolar\": [{\"marker\": {\"line\": {\"color\": \"#E5ECF6\", \"width\": 0.5}}, \"type\": \"barpolar\"}], \"carpet\": [{\"aaxis\": {\"endlinecolor\": \"#2a3f5f\", \"gridcolor\": \"white\", \"linecolor\": \"white\", \"minorgridcolor\": \"white\", \"startlinecolor\": \"#2a3f5f\"}, \"baxis\": {\"endlinecolor\": \"#2a3f5f\", \"gridcolor\": \"white\", \"linecolor\": \"white\", \"minorgridcolor\": \"white\", \"startlinecolor\": \"#2a3f5f\"}, \"type\": \"carpet\"}], \"choropleth\": [{\"colorbar\": {\"outlinewidth\": 0, \"ticks\": \"\"}, \"type\": \"choropleth\"}], \"contour\": [{\"colorbar\": {\"outlinewidth\": 0, \"ticks\": \"\"}, \"colorscale\": [[0.0, \"#0d0887\"], [0.1111111111111111, \"#46039f\"], [0.2222222222222222, \"#7201a8\"], [0.3333333333333333, \"#9c179e\"], [0.4444444444444444, \"#bd3786\"], [0.5555555555555556, \"#d8576b\"], [0.6666666666666666, \"#ed7953\"], [0.7777777777777778, \"#fb9f3a\"], [0.8888888888888888, \"#fdca26\"], [1.0, \"#f0f921\"]], \"type\": \"contour\"}], \"contourcarpet\": [{\"colorbar\": {\"outlinewidth\": 0, \"ticks\": \"\"}, \"type\": \"contourcarpet\"}], \"heatmap\": [{\"colorbar\": {\"outlinewidth\": 0, \"ticks\": \"\"}, \"colorscale\": [[0.0, \"#0d0887\"], [0.1111111111111111, \"#46039f\"], [0.2222222222222222, \"#7201a8\"], [0.3333333333333333, \"#9c179e\"], [0.4444444444444444, \"#bd3786\"], [0.5555555555555556, \"#d8576b\"], [0.6666666666666666, \"#ed7953\"], [0.7777777777777778, \"#fb9f3a\"], [0.8888888888888888, \"#fdca26\"], [1.0, \"#f0f921\"]], \"type\": \"heatmap\"}], \"heatmapgl\": [{\"colorbar\": {\"outlinewidth\": 0, \"ticks\": \"\"}, \"colorscale\": [[0.0, \"#0d0887\"], [0.1111111111111111, \"#46039f\"], [0.2222222222222222, \"#7201a8\"], [0.3333333333333333, \"#9c179e\"], [0.4444444444444444, \"#bd3786\"], [0.5555555555555556, \"#d8576b\"], [0.6666666666666666, \"#ed7953\"], [0.7777777777777778, \"#fb9f3a\"], [0.8888888888888888, \"#fdca26\"], [1.0, \"#f0f921\"]], \"type\": \"heatmapgl\"}], \"histogram\": [{\"marker\": {\"colorbar\": {\"outlinewidth\": 0, \"ticks\": \"\"}}, \"type\": \"histogram\"}], \"histogram2d\": [{\"colorbar\": {\"outlinewidth\": 0, \"ticks\": \"\"}, \"colorscale\": [[0.0, \"#0d0887\"], [0.1111111111111111, \"#46039f\"], [0.2222222222222222, \"#7201a8\"], [0.3333333333333333, \"#9c179e\"], [0.4444444444444444, \"#bd3786\"], [0.5555555555555556, \"#d8576b\"], [0.6666666666666666, \"#ed7953\"], [0.7777777777777778, \"#fb9f3a\"], [0.8888888888888888, \"#fdca26\"], [1.0, \"#f0f921\"]], \"type\": \"histogram2d\"}], \"histogram2dcontour\": [{\"colorbar\": {\"outlinewidth\": 0, \"ticks\": \"\"}, \"colorscale\": [[0.0, \"#0d0887\"], [0.1111111111111111, \"#46039f\"], [0.2222222222222222, \"#7201a8\"], [0.3333333333333333, \"#9c179e\"], [0.4444444444444444, \"#bd3786\"], [0.5555555555555556, \"#d8576b\"], [0.6666666666666666, \"#ed7953\"], [0.7777777777777778, \"#fb9f3a\"], [0.8888888888888888, \"#fdca26\"], [1.0, \"#f0f921\"]], \"type\": \"histogram2dcontour\"}], \"mesh3d\": [{\"colorbar\": {\"outlinewidth\": 0, \"ticks\": \"\"}, \"type\": \"mesh3d\"}], \"parcoords\": [{\"line\": {\"colorbar\": {\"outlinewidth\": 0, \"ticks\": \"\"}}, \"type\": \"parcoords\"}], \"pie\": [{\"automargin\": true, \"type\": \"pie\"}], \"scatter\": [{\"marker\": {\"colorbar\": {\"outlinewidth\": 0, \"ticks\": \"\"}}, \"type\": \"scatter\"}], \"scatter3d\": [{\"line\": {\"colorbar\": {\"outlinewidth\": 0, \"ticks\": \"\"}}, \"marker\": {\"colorbar\": {\"outlinewidth\": 0, \"ticks\": \"\"}}, \"type\": \"scatter3d\"}], \"scattercarpet\": [{\"marker\": {\"colorbar\": {\"outlinewidth\": 0, \"ticks\": \"\"}}, \"type\": \"scattercarpet\"}], \"scattergeo\": [{\"marker\": {\"colorbar\": {\"outlinewidth\": 0, \"ticks\": \"\"}}, \"type\": \"scattergeo\"}], \"scattergl\": [{\"marker\": {\"colorbar\": {\"outlinewidth\": 0, \"ticks\": \"\"}}, \"type\": \"scattergl\"}], \"scattermapbox\": [{\"marker\": {\"colorbar\": {\"outlinewidth\": 0, \"ticks\": \"\"}}, \"type\": \"scattermapbox\"}], \"scatterpolar\": [{\"marker\": {\"colorbar\": {\"outlinewidth\": 0, \"ticks\": \"\"}}, \"type\": \"scatterpolar\"}], \"scatterpolargl\": [{\"marker\": {\"colorbar\": {\"outlinewidth\": 0, \"ticks\": \"\"}}, \"type\": \"scatterpolargl\"}], \"scatterternary\": [{\"marker\": {\"colorbar\": {\"outlinewidth\": 0, \"ticks\": \"\"}}, \"type\": \"scatterternary\"}], \"surface\": [{\"colorbar\": {\"outlinewidth\": 0, \"ticks\": \"\"}, \"colorscale\": [[0.0, \"#0d0887\"], [0.1111111111111111, \"#46039f\"], [0.2222222222222222, \"#7201a8\"], [0.3333333333333333, \"#9c179e\"], [0.4444444444444444, \"#bd3786\"], [0.5555555555555556, \"#d8576b\"], [0.6666666666666666, \"#ed7953\"], [0.7777777777777778, \"#fb9f3a\"], [0.8888888888888888, \"#fdca26\"], [1.0, \"#f0f921\"]], \"type\": \"surface\"}], \"table\": [{\"cells\": {\"fill\": {\"color\": \"#EBF0F8\"}, \"line\": {\"color\": \"white\"}}, \"header\": {\"fill\": {\"color\": \"#C8D4E3\"}, \"line\": {\"color\": \"white\"}}, \"type\": \"table\"}]}, \"layout\": {\"annotationdefaults\": {\"arrowcolor\": \"#2a3f5f\", \"arrowhead\": 0, \"arrowwidth\": 1}, \"coloraxis\": {\"colorbar\": {\"outlinewidth\": 0, \"ticks\": \"\"}}, \"colorscale\": {\"diverging\": [[0, \"#8e0152\"], [0.1, \"#c51b7d\"], [0.2, \"#de77ae\"], [0.3, \"#f1b6da\"], [0.4, \"#fde0ef\"], [0.5, \"#f7f7f7\"], [0.6, \"#e6f5d0\"], [0.7, \"#b8e186\"], [0.8, \"#7fbc41\"], [0.9, \"#4d9221\"], [1, \"#276419\"]], \"sequential\": [[0.0, \"#0d0887\"], [0.1111111111111111, \"#46039f\"], [0.2222222222222222, \"#7201a8\"], [0.3333333333333333, \"#9c179e\"], [0.4444444444444444, \"#bd3786\"], [0.5555555555555556, \"#d8576b\"], [0.6666666666666666, \"#ed7953\"], [0.7777777777777778, \"#fb9f3a\"], [0.8888888888888888, \"#fdca26\"], [1.0, \"#f0f921\"]], \"sequentialminus\": [[0.0, \"#0d0887\"], [0.1111111111111111, \"#46039f\"], [0.2222222222222222, \"#7201a8\"], [0.3333333333333333, \"#9c179e\"], [0.4444444444444444, \"#bd3786\"], [0.5555555555555556, \"#d8576b\"], [0.6666666666666666, \"#ed7953\"], [0.7777777777777778, \"#fb9f3a\"], [0.8888888888888888, \"#fdca26\"], [1.0, \"#f0f921\"]]}, \"colorway\": [\"#636efa\", \"#EF553B\", \"#00cc96\", \"#ab63fa\", \"#FFA15A\", \"#19d3f3\", \"#FF6692\", \"#B6E880\", \"#FF97FF\", \"#FECB52\"], \"font\": {\"color\": \"#2a3f5f\"}, \"geo\": {\"bgcolor\": \"white\", \"lakecolor\": \"white\", \"landcolor\": \"#E5ECF6\", \"showlakes\": true, \"showland\": true, \"subunitcolor\": \"white\"}, \"hoverlabel\": {\"align\": \"left\"}, \"hovermode\": \"closest\", \"mapbox\": {\"style\": \"light\"}, \"paper_bgcolor\": \"white\", \"plot_bgcolor\": \"#E5ECF6\", \"polar\": {\"angularaxis\": {\"gridcolor\": \"white\", \"linecolor\": \"white\", \"ticks\": \"\"}, \"bgcolor\": \"#E5ECF6\", \"radialaxis\": {\"gridcolor\": \"white\", \"linecolor\": \"white\", \"ticks\": \"\"}}, \"scene\": {\"xaxis\": {\"backgroundcolor\": \"#E5ECF6\", \"gridcolor\": \"white\", \"gridwidth\": 2, \"linecolor\": \"white\", \"showbackground\": true, \"ticks\": \"\", \"zerolinecolor\": \"white\"}, \"yaxis\": {\"backgroundcolor\": \"#E5ECF6\", \"gridcolor\": \"white\", \"gridwidth\": 2, \"linecolor\": \"white\", \"showbackground\": true, \"ticks\": \"\", \"zerolinecolor\": \"white\"}, \"zaxis\": {\"backgroundcolor\": \"#E5ECF6\", \"gridcolor\": \"white\", \"gridwidth\": 2, \"linecolor\": \"white\", \"showbackground\": true, \"ticks\": \"\", \"zerolinecolor\": \"white\"}}, \"shapedefaults\": {\"line\": {\"color\": \"#2a3f5f\"}}, \"ternary\": {\"aaxis\": {\"gridcolor\": \"white\", \"linecolor\": \"white\", \"ticks\": \"\"}, \"baxis\": {\"gridcolor\": \"white\", \"linecolor\": \"white\", \"ticks\": \"\"}, \"bgcolor\": \"#E5ECF6\", \"caxis\": {\"gridcolor\": \"white\", \"linecolor\": \"white\", \"ticks\": \"\"}}, \"title\": {\"x\": 0.05}, \"xaxis\": {\"automargin\": true, \"gridcolor\": \"white\", \"linecolor\": \"white\", \"ticks\": \"\", \"title\": {\"standoff\": 15}, \"zerolinecolor\": \"white\", \"zerolinewidth\": 2}, \"yaxis\": {\"automargin\": true, \"gridcolor\": \"white\", \"linecolor\": \"white\", \"ticks\": \"\", \"title\": {\"standoff\": 15}, \"zerolinecolor\": \"white\", \"zerolinewidth\": 2}}}},                        {\"responsive\": true}                    ).then(function(){\n",
       "                            \n",
       "var gd = document.getElementById('bd451ac7-7571-4723-8a9e-1237035baa0c');\n",
       "var x = new MutationObserver(function (mutations, observer) {{\n",
       "        var display = window.getComputedStyle(gd).display;\n",
       "        if (!display || display === 'none') {{\n",
       "            console.log([gd, 'removed!']);\n",
       "            Plotly.purge(gd);\n",
       "            observer.disconnect();\n",
       "        }}\n",
       "}});\n",
       "\n",
       "// Listen for the removal of the full notebook cells\n",
       "var notebookContainer = gd.closest('#notebook-container');\n",
       "if (notebookContainer) {{\n",
       "    x.observe(notebookContainer, {childList: true});\n",
       "}}\n",
       "\n",
       "// Listen for the clearing of the current output cell\n",
       "var outputEl = gd.closest('.output');\n",
       "if (outputEl) {{\n",
       "    x.observe(outputEl, {childList: true});\n",
       "}}\n",
       "\n",
       "                        })                };                });            </script>        </div>"
      ]
     },
     "metadata": {},
     "output_type": "display_data"
    }
   ],
   "source": [
    "\n",
    "x_0 =np.array([  0,  -6,   9,   0, -10,   5,  -5, -13, -10,   0, -25,  10,  -1,\n",
    "         4,  -5,   6, -21, -24, -18,   2, -19,  -9, -11,  -4,  10,   1,\n",
    "         3, -14,   2, -11, -18, -12,   6,  -7, -20, -27, -20,  -6, -13,\n",
    "        -9,  12,   7, -21,   8, -14, -11, -14,   8,  11, -14])\n",
    "y_0 = np.array([ 0, 10,  3,  2, 19, 27, -3, 25, 29, 35, 31, 17, 26, 35, 21, 32, 29,\n",
    "       36, 34, -4, 19,  7, 17, -3, -4, -2, 30, 25, 17, 15, 33, 21, 34,  0,\n",
    "        1, 14, 36, 14, 20, 19, 21, 22, 21, -1, -3, 10, 35,  5,  6, 18])\n",
    "fig = go.Figure(go.Histogram2d(x=x_0, y=y_0,\n",
    "        autobinx=False,\n",
    "        xbins=dict(start=-500, end=500, size=50),\n",
    "        autobiny=False,\n",
    "        ybins=dict(start=-500, end=500, size=50),\n",
    "        zmax=1,            \n",
    "        zauto=False,\n",
    "        showscale = False\n",
    "        ))\n",
    "fig.add_trace(go.Scatter(\n",
    "    x=x_0,\n",
    "    y=y_0,\n",
    "    mode='markers',\n",
    "    showlegend=False,\n",
    "    marker=dict(\n",
    "        symbol='circle',\n",
    "        opacity=0.7,\n",
    "        color='white',\n",
    "        size=8,\n",
    "        line=dict(width=1),\n",
    "    )\n",
    "))\n",
    "fig.show()"
   ]
  },
  {
   "cell_type": "code",
   "execution_count": null,
   "metadata": {},
   "outputs": [],
   "source": []
  }
 ],
 "metadata": {
  "kernelspec": {
   "display_name": "Python 3",
   "language": "python",
   "name": "python3"
  }
 },
 "nbformat": 4,
 "nbformat_minor": 4
}
