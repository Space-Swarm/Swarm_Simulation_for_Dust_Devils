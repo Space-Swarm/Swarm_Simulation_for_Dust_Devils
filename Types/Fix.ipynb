{
 "cells": [
  {
   "cell_type": "code",
   "execution_count": 3,
   "metadata": {},
   "outputs": [
    {
     "name": "stdout",
     "output_type": "stream",
     "text": [
      "Before:  [1, 2, 5, 3, 4]\n",
      "After:  [1, 2, 3, 4]\n"
     ]
    }
   ],
   "source": [
    "x = [1,2,5,3,4]\n",
    "print(\"Before: \", x)\n",
    "\n",
    "i = 0\n",
    "while i < len(x):\n",
    "    \n",
    "    if(x[i] == 5 ):\n",
    "        x.pop(i)\n",
    "        i-=1\n",
    "    i+=1\n",
    "    \n",
    "print(\"After: \", x)"
   ]
  },
  {
   "cell_type": "code",
   "execution_count": null,
   "metadata": {},
   "outputs": [],
   "source": []
  },
  {
   "cell_type": "code",
   "execution_count": null,
   "metadata": {},
   "outputs": [],
   "source": []
  }
 ],
 "metadata": {
  "kernelspec": {
   "display_name": "Python 3",
   "language": "python",
   "name": "python3"
  },
  "language_info": {
   "codemirror_mode": {
    "name": "ipython",
    "version": 3
   },
   "file_extension": ".py",
   "mimetype": "text/x-python",
   "name": "python",
   "nbconvert_exporter": "python",
   "pygments_lexer": "ipython3",
   "version": "3.8.3"
  }
 },
 "nbformat": 4,
 "nbformat_minor": 4
}
